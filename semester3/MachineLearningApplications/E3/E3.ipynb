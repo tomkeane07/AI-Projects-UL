{
  "nbformat": 4,
  "nbformat_minor": 0,
  "metadata": {
    "colab": {
      "name": "ET5003_KaggleCompetition.ipynb",
      "provenance": []
    },
    "kernelspec": {
      "name": "python3",
      "display_name": "Python 3"
    },
    "language_info": {
      "name": "python"
    }
  },
  "cells": [
    {
      "cell_type": "markdown",
      "metadata": {
        "id": "930vlW5BrOtq"
      },
      "source": [
        "<div>\n",
        "<img src=\"https://drive.google.com/uc?export=view&id=1vK33e_EqaHgBHcbRV_m38hx6IkG0blK_\" width=\"350\"/>\n",
        "</div> \n",
        "\n",
        "#**Artificial Intelligence - MSc**\n",
        "##ET5003 - MACHINE LEARNING APPLICATIONS \n",
        "\n",
        "###Instructor: Enrique Naredo\n",
        "###ET5003_KaggleCompetition"
      ]
    },
    {
      "cell_type": "code",
      "metadata": {
        "id": "LqXD_IwUQuBF",
        "cellView": "form"
      },
      "source": [
        "#@title Current Date\n",
        "Today = '2021-10-05' #@param {type:\"date\"}\n"
      ],
      "execution_count": 116,
      "outputs": []
    },
    {
      "cell_type": "code",
      "metadata": {
        "id": "uzDKau31OjVO"
      },
      "source": [
        "#@markdown ---\n",
        "#@markdown ### Enter your details here:\n",
        "Team_Number = \"1\" #@param {type:\"string\"}\n",
        "Student_ID_Name = \"20214537 Tom Keane\" #@param {type:\"string\"}\n",
        "Student_ID_Name = \"\" #@param {type:\"string\"}\n",
        "Student_ID_Name = \"\" #@param {type:\"string\"}\n",
        "Student_ID_Name = \"\" #@param {type:\"string\"}\n",
        "Student_ID_Name = \"\" #@param {type:\"string\"}\n",
        "#@markdown ---"
      ],
      "execution_count": 117,
      "outputs": []
    },
    {
      "cell_type": "code",
      "metadata": {
        "id": "r39xGZckTpKx"
      },
      "source": [
        "#@title Notebook information\n",
        "Notebook_type = 'Etivity' #@param [\"Example\", \"Lab\", \"Practice\", \"Etivity\", \"Assignment\", \"Exam\"]\n",
        "Version = \"Final\" #@param [\"Draft\", \"Final\"] {type:\"raw\"}\n",
        "Submission = False #@param {type:\"boolean\"}"
      ],
      "execution_count": 118,
      "outputs": []
    },
    {
      "cell_type": "markdown",
      "metadata": {
        "id": "_A0Z6S-r6DpA"
      },
      "source": [
        "# INTRODUCTION"
      ]
    },
    {
      "cell_type": "markdown",
      "metadata": {
        "id": "d2vlkUAJ7Pz7"
      },
      "source": [
        "Your introduction here."
      ]
    },
    {
      "cell_type": "markdown",
      "metadata": {
        "id": "aajlS0WCJ8pm"
      },
      "source": [
        "***The goal is to use advanced Machine Learning methods to predict House price.***"
      ]
    },
    {
      "cell_type": "markdown",
      "metadata": {
        "id": "Wg7VCbX77eAA"
      },
      "source": [
        "## Imports"
      ]
    },
    {
      "cell_type": "code",
      "metadata": {
        "id": "iFFLThrpwibd"
      },
      "source": [
        "# Suppressing Warnings:\n",
        "import warnings\n",
        "warnings.filterwarnings(\"ignore\")"
      ],
      "execution_count": 119,
      "outputs": []
    },
    {
      "cell_type": "code",
      "metadata": {
        "id": "k96-GLUGE2ux"
      },
      "source": [
        "# standard libraries\n",
        "import pandas as pd\n",
        "import numpy as np\n",
        "import matplotlib.pyplot as plt\n",
        "from scipy import stats\n",
        "%matplotlib inline"
      ],
      "execution_count": 120,
      "outputs": []
    },
    {
      "cell_type": "code",
      "metadata": {
        "id": "sYPJU_Y6O6Dq"
      },
      "source": [
        "# to plot\n",
        "import matplotlib.colors\n",
        "from mpl_toolkits.mplot3d import Axes3D\n",
        "\n",
        "# to generate classification, regression and clustering datasets\n",
        "import sklearn.datasets as dt\n",
        "\n",
        "# to create data frames\n",
        "from pandas import DataFrame\n",
        "\n",
        "# to generate data from an existing dataset\n",
        "from sklearn.neighbors import KernelDensity\n",
        "from sklearn.model_selection import GridSearchCV\n",
        "\n",
        "import seaborn as sns"
      ],
      "execution_count": 121,
      "outputs": []
    },
    {
      "cell_type": "code",
      "metadata": {
        "id": "mxMYIOx1FONV"
      },
      "source": [
        "# Scikit-learn is an open source machine learning library \n",
        "# that supports supervised and unsupervised learning\n",
        "# https://scikit-learn.org/stable/\n",
        "from sklearn.model_selection import train_test_split\n",
        "from sklearn.feature_extraction.text import CountVectorizer\n",
        "from sklearn.naive_bayes import MultinomialNB\n",
        "from sklearn.metrics import accuracy_score, confusion_matrix"
      ],
      "execution_count": 122,
      "outputs": []
    },
    {
      "cell_type": "code",
      "metadata": {
        "id": "YLlFHWx4j7W6"
      },
      "source": [
        "# Regular expression operations\n",
        "#https://docs.python.org/3/library/re.html\n",
        "import re \n",
        "\n",
        "# Natural Language Toolkit\n",
        "# https://www.nltk.org/install.html\n",
        "import nltk\n",
        "\n",
        "# Stemming maps different forms of the same word to a common “stem” \n",
        "# https://pypi.org/project/snowballstemmer/\n",
        "from nltk.stem import SnowballStemmer\n",
        "\n",
        "# https://www.nltk.org/book/ch02.html\n",
        "from nltk.corpus import stopwords\n",
        "\n",
        "# https://scikit-learn.org/stable/modules/generated/sklearn.preprocessing.StandardScaler.html\n",
        "from sklearn.preprocessing import StandardScaler"
      ],
      "execution_count": 123,
      "outputs": []
    },
    {
      "cell_type": "code",
      "metadata": {
        "colab": {
          "base_uri": "https://localhost:8080/"
        },
        "id": "5cfDHD9BXh0s",
        "outputId": "9645d799-670c-4503-d2fc-685fc2827eae"
      },
      "source": [
        "!pip install gpy"
      ],
      "execution_count": 124,
      "outputs": [
        {
          "output_type": "stream",
          "name": "stdout",
          "text": [
            "Requirement already satisfied: gpy in /usr/local/lib/python3.7/dist-packages (1.10.0)\n",
            "Requirement already satisfied: paramz>=0.9.0 in /usr/local/lib/python3.7/dist-packages (from gpy) (0.9.5)\n",
            "Requirement already satisfied: scipy>=1.3.0 in /usr/local/lib/python3.7/dist-packages (from gpy) (1.4.1)\n",
            "Requirement already satisfied: numpy>=1.7 in /usr/local/lib/python3.7/dist-packages (from gpy) (1.19.5)\n",
            "Requirement already satisfied: six in /usr/local/lib/python3.7/dist-packages (from gpy) (1.15.0)\n",
            "Requirement already satisfied: cython>=0.29 in /usr/local/lib/python3.7/dist-packages (from gpy) (0.29.24)\n",
            "Requirement already satisfied: decorator>=4.0.10 in /usr/local/lib/python3.7/dist-packages (from paramz>=0.9.0->gpy) (4.4.2)\n"
          ]
        }
      ]
    },
    {
      "cell_type": "code",
      "metadata": {
        "id": "SwGh2bagw4kg"
      },
      "source": [
        "import GPy as GPy\n",
        "import numpy as np\n",
        "import pylab as pb\n",
        "import pymc3 as pm\n",
        "import arviz as az"
      ],
      "execution_count": 125,
      "outputs": []
    },
    {
      "cell_type": "code",
      "metadata": {
        "id": "6MUJdlxSPSMM"
      },
      "source": [
        "# Define the seed so that results can be reproduced\n",
        "seed = 11\n",
        "rand_state = 11\n",
        "\n",
        "# Define the color maps for plots\n",
        "color_map = plt.cm.get_cmap('RdYlBu')\n",
        "color_map_discrete = matplotlib.colors.LinearSegmentedColormap.from_list(\"\", [\"red\",\"cyan\",\"magenta\",\"blue\"])"
      ],
      "execution_count": 126,
      "outputs": []
    },
    {
      "cell_type": "markdown",
      "metadata": {
        "id": "WL91ShB19RPw"
      },
      "source": [
        "# DATASET"
      ]
    },
    {
      "cell_type": "markdown",
      "metadata": {
        "id": "ESg5DGKWJSOf"
      },
      "source": [
        "Extract from this [paper](https://ieeexplore.ieee.org/document/9300074):\n",
        "\n",
        "* House prices are a significant impression of the economy, and its value ranges are of great concerns for the clients and property dealers. \n",
        "\n",
        "* Housing price escalate every year that eventually reinforced the need of strategy or technique that could predict house prices in future. \n",
        "\n",
        "* There are certain factors that influence house prices including physical conditions, locations, number of bedrooms and others.\n"
      ]
    },
    {
      "cell_type": "markdown",
      "metadata": {
        "id": "a8Y2pf50FlYL"
      },
      "source": [
        "1. [Download the dataset](https://github.com/UL-CS6134/CS6134_SEM1_2021-2/tree/main/Week-5). \n",
        "\n",
        "2. Upload the dataset into your folder.\n",
        "\n"
      ]
    },
    {
      "cell_type": "markdown",
      "metadata": {
        "id": "FMkdCQEmKTof"
      },
      "source": [
        "The challenge is to predict the final price of each house."
      ]
    },
    {
      "cell_type": "code",
      "metadata": {
        "id": "Dq1Afjlp5tA2"
      },
      "source": [
        "def import_datasets(git_link = 'https://raw.githubusercontent.com/tomkeane07/AI-Projects-UL/Etivity3/semester3/MachineLearningApplications/E3/'):\n",
        "  return {\n",
        "      'Test'  : pd.read_csv(git_link+'HousePrice_Test.csv'),\n",
        "      'Train' : pd.read_csv(git_link+'HousePrice_Train.csv'),\n",
        "      'true_price'  : pd.read_csv(git_link+'sample_submission.csv')}\n",
        "def sort_columns(df):\n",
        "  return df.reindex(sorted(df.columns), axis=1)\n",
        "\n",
        "def hide_one_hot_encoded_cols(df):\n",
        "  return df.loc[:, ~df.columns.str.startswith('Location') & \n",
        "                      ~df.columns.str.startswith('Type')]\n",
        "\n",
        "\n",
        "try:\n",
        "  dbs\n",
        "except:\n",
        "  dbs = import_datasets()\n",
        "\n",
        "dftest  =  dbs['Test' ]\n",
        "dftrain =  dbs['Train']\n",
        "dfcost = dbs['true_price']\n",
        "dftest['Price'] = dfcost['Price']\n",
        "\n",
        "df0 = sort_columns(dftrain.append(dftest))"
      ],
      "execution_count": 127,
      "outputs": []
    },
    {
      "cell_type": "code",
      "metadata": {
        "colab": {
          "base_uri": "https://localhost:8080/",
          "height": 522
        },
        "id": "jbUe2fG6-iC_",
        "outputId": "1e3492c6-f483-4376-aeae-86537f06b33d"
      },
      "source": [
        "display(df0.tail())"
      ],
      "execution_count": 128,
      "outputs": [
        {
          "output_type": "display_data",
          "data": {
            "text/html": [
              "<div>\n",
              "<style scoped>\n",
              "    .dataframe tbody tr th:only-of-type {\n",
              "        vertical-align: middle;\n",
              "    }\n",
              "\n",
              "    .dataframe tbody tr th {\n",
              "        vertical-align: top;\n",
              "    }\n",
              "\n",
              "    .dataframe thead th {\n",
              "        text-align: right;\n",
              "    }\n",
              "</style>\n",
              "<table border=\"1\" class=\"dataframe\">\n",
              "  <thead>\n",
              "    <tr style=\"text-align: right;\">\n",
              "      <th></th>\n",
              "      <th>BER_class</th>\n",
              "      <th>Description</th>\n",
              "      <th>Features</th>\n",
              "      <th>ID</th>\n",
              "      <th>Index</th>\n",
              "      <th>Latitude</th>\n",
              "      <th>Location</th>\n",
              "      <th>Longitude</th>\n",
              "      <th>Num_Bathrooms</th>\n",
              "      <th>Num_Beds</th>\n",
              "      <th>Price</th>\n",
              "      <th>Services</th>\n",
              "      <th>Surface</th>\n",
              "      <th>Type</th>\n",
              "    </tr>\n",
              "  </thead>\n",
              "  <tbody>\n",
              "    <tr>\n",
              "      <th>697</th>\n",
              "      <td>G</td>\n",
              "      <td>Sherry FitzGerald is delighted to present 56 B...</td>\n",
              "      <td>Secure gated and well maintained development\\n...</td>\n",
              "      <td>12392566</td>\n",
              "      <td>2336</td>\n",
              "      <td>53.343377</td>\n",
              "      <td>Kilmainham</td>\n",
              "      <td>-6.296654</td>\n",
              "      <td>1</td>\n",
              "      <td>1</td>\n",
              "      <td>3835888.0</td>\n",
              "      <td>NaN</td>\n",
              "      <td>40.0</td>\n",
              "      <td>apartment</td>\n",
              "    </tr>\n",
              "    <tr>\n",
              "      <th>698</th>\n",
              "      <td>D2</td>\n",
              "      <td>26 Viking Road is a well presented and moderni...</td>\n",
              "      <td>Well presented and modernised extended two bed...</td>\n",
              "      <td>12352487</td>\n",
              "      <td>2337</td>\n",
              "      <td>53.351074</td>\n",
              "      <td>Stoneybatter</td>\n",
              "      <td>-6.285557</td>\n",
              "      <td>1</td>\n",
              "      <td>2</td>\n",
              "      <td>1106700.0</td>\n",
              "      <td>NaN</td>\n",
              "      <td>57.0</td>\n",
              "      <td>terraced</td>\n",
              "    </tr>\n",
              "    <tr>\n",
              "      <th>699</th>\n",
              "      <td>D1</td>\n",
              "      <td>FIRST OPEN VIEW SATURDAY 8TH FEBRUARY 11 - 11....</td>\n",
              "      <td>None</td>\n",
              "      <td>12387290</td>\n",
              "      <td>2338</td>\n",
              "      <td>53.261710</td>\n",
              "      <td>Cabinteely</td>\n",
              "      <td>-6.164979</td>\n",
              "      <td>1</td>\n",
              "      <td>3</td>\n",
              "      <td>1103343.0</td>\n",
              "      <td>Parking,Gas Fired Central Heating</td>\n",
              "      <td>93.0</td>\n",
              "      <td>semi-detached</td>\n",
              "    </tr>\n",
              "    <tr>\n",
              "      <th>700</th>\n",
              "      <td>NaN</td>\n",
              "      <td>DNG are delighted to represent the sale of 109...</td>\n",
              "      <td>Gas fired central heating.\\nFully renovated an...</td>\n",
              "      <td>12382807</td>\n",
              "      <td>2339</td>\n",
              "      <td>53.360515</td>\n",
              "      <td>Clontarf</td>\n",
              "      <td>-6.189661</td>\n",
              "      <td>2</td>\n",
              "      <td>3</td>\n",
              "      <td>1273647.0</td>\n",
              "      <td>NaN</td>\n",
              "      <td>118.0</td>\n",
              "      <td>terraced</td>\n",
              "    </tr>\n",
              "    <tr>\n",
              "      <th>701</th>\n",
              "      <td>F</td>\n",
              "      <td>This is an instantly appealing Jennings built ...</td>\n",
              "      <td>Drenched in natural light\\nSuperb blank canvas...</td>\n",
              "      <td>12393769</td>\n",
              "      <td>2340</td>\n",
              "      <td>53.280408</td>\n",
              "      <td>Glenageary</td>\n",
              "      <td>-6.132925</td>\n",
              "      <td>1</td>\n",
              "      <td>3</td>\n",
              "      <td>1820012.0</td>\n",
              "      <td>NaN</td>\n",
              "      <td>122.0</td>\n",
              "      <td>semi-detached</td>\n",
              "    </tr>\n",
              "  </tbody>\n",
              "</table>\n",
              "</div>"
            ],
            "text/plain": [
              "    BER_class  ...           Type\n",
              "697         G  ...      apartment\n",
              "698        D2  ...       terraced\n",
              "699        D1  ...  semi-detached\n",
              "700       NaN  ...       terraced\n",
              "701         F  ...  semi-detached\n",
              "\n",
              "[5 rows x 14 columns]"
            ]
          },
          "metadata": {}
        }
      ]
    },
    {
      "cell_type": "code",
      "metadata": {
        "colab": {
          "base_uri": "https://localhost:8080/",
          "height": 954
        },
        "id": "mHXy4uOw-iI4",
        "outputId": "a454dd11-ae53-4e4b-edc7-3dfec4558e27"
      },
      "source": [
        "display(df0.describe())\n",
        "\n",
        "print(\"\\n\\nmissing values _ %\")\n",
        "print(df0.isna().sum()* 100 / len(df0))\n",
        "print(\"_________\\nunique values\")\n",
        "print(df0.nunique(axis=0))"
      ],
      "execution_count": 129,
      "outputs": [
        {
          "output_type": "display_data",
          "data": {
            "text/html": [
              "<div>\n",
              "<style scoped>\n",
              "    .dataframe tbody tr th:only-of-type {\n",
              "        vertical-align: middle;\n",
              "    }\n",
              "\n",
              "    .dataframe tbody tr th {\n",
              "        vertical-align: top;\n",
              "    }\n",
              "\n",
              "    .dataframe thead th {\n",
              "        text-align: right;\n",
              "    }\n",
              "</style>\n",
              "<table border=\"1\" class=\"dataframe\">\n",
              "  <thead>\n",
              "    <tr style=\"text-align: right;\">\n",
              "      <th></th>\n",
              "      <th>ID</th>\n",
              "      <th>Index</th>\n",
              "      <th>Latitude</th>\n",
              "      <th>Longitude</th>\n",
              "      <th>Num_Bathrooms</th>\n",
              "      <th>Num_Beds</th>\n",
              "      <th>Price</th>\n",
              "      <th>Surface</th>\n",
              "    </tr>\n",
              "  </thead>\n",
              "  <tbody>\n",
              "    <tr>\n",
              "      <th>count</th>\n",
              "      <td>2.340000e+03</td>\n",
              "      <td>2340.000000</td>\n",
              "      <td>2340.000000</td>\n",
              "      <td>2340.000000</td>\n",
              "      <td>2340.000000</td>\n",
              "      <td>2340.000000</td>\n",
              "      <td>2.338000e+03</td>\n",
              "      <td>2340.000000</td>\n",
              "    </tr>\n",
              "    <tr>\n",
              "      <th>mean</th>\n",
              "      <td>1.231814e+07</td>\n",
              "      <td>1170.500000</td>\n",
              "      <td>53.350464</td>\n",
              "      <td>-6.254283</td>\n",
              "      <td>2.046154</td>\n",
              "      <td>3.026496</td>\n",
              "      <td>1.168656e+06</td>\n",
              "      <td>158.459546</td>\n",
              "    </tr>\n",
              "    <tr>\n",
              "      <th>std</th>\n",
              "      <td>1.439340e+05</td>\n",
              "      <td>675.644137</td>\n",
              "      <td>0.075966</td>\n",
              "      <td>0.130826</td>\n",
              "      <td>1.192648</td>\n",
              "      <td>1.327893</td>\n",
              "      <td>1.275073e+06</td>\n",
              "      <td>1509.949934</td>\n",
              "    </tr>\n",
              "    <tr>\n",
              "      <th>min</th>\n",
              "      <td>1.118567e+07</td>\n",
              "      <td>1.000000</td>\n",
              "      <td>52.501856</td>\n",
              "      <td>-6.521183</td>\n",
              "      <td>1.000000</td>\n",
              "      <td>1.000000</td>\n",
              "      <td>1.999500e+04</td>\n",
              "      <td>3.400000</td>\n",
              "    </tr>\n",
              "    <tr>\n",
              "      <th>25%</th>\n",
              "      <td>1.228052e+07</td>\n",
              "      <td>585.750000</td>\n",
              "      <td>53.294706</td>\n",
              "      <td>-6.308530</td>\n",
              "      <td>1.000000</td>\n",
              "      <td>2.000000</td>\n",
              "      <td>3.300000e+05</td>\n",
              "      <td>73.000000</td>\n",
              "    </tr>\n",
              "    <tr>\n",
              "      <th>50%</th>\n",
              "      <td>1.238029e+07</td>\n",
              "      <td>1170.500000</td>\n",
              "      <td>53.341213</td>\n",
              "      <td>-6.247780</td>\n",
              "      <td>2.000000</td>\n",
              "      <td>3.000000</td>\n",
              "      <td>5.400000e+05</td>\n",
              "      <td>97.750000</td>\n",
              "    </tr>\n",
              "    <tr>\n",
              "      <th>75%</th>\n",
              "      <td>1.240470e+07</td>\n",
              "      <td>1755.250000</td>\n",
              "      <td>53.381988</td>\n",
              "      <td>-6.189027</td>\n",
              "      <td>3.000000</td>\n",
              "      <td>4.000000</td>\n",
              "      <td>1.573798e+06</td>\n",
              "      <td>136.002500</td>\n",
              "    </tr>\n",
              "    <tr>\n",
              "      <th>max</th>\n",
              "      <td>1.242836e+07</td>\n",
              "      <td>2340.000000</td>\n",
              "      <td>53.630588</td>\n",
              "      <td>-1.744995</td>\n",
              "      <td>18.000000</td>\n",
              "      <td>27.000000</td>\n",
              "      <td>8.900000e+06</td>\n",
              "      <td>72236.387140</td>\n",
              "    </tr>\n",
              "  </tbody>\n",
              "</table>\n",
              "</div>"
            ],
            "text/plain": [
              "                 ID        Index  ...         Price       Surface\n",
              "count  2.340000e+03  2340.000000  ...  2.338000e+03   2340.000000\n",
              "mean   1.231814e+07  1170.500000  ...  1.168656e+06    158.459546\n",
              "std    1.439340e+05   675.644137  ...  1.275073e+06   1509.949934\n",
              "min    1.118567e+07     1.000000  ...  1.999500e+04      3.400000\n",
              "25%    1.228052e+07   585.750000  ...  3.300000e+05     73.000000\n",
              "50%    1.238029e+07  1170.500000  ...  5.400000e+05     97.750000\n",
              "75%    1.240470e+07  1755.250000  ...  1.573798e+06    136.002500\n",
              "max    1.242836e+07  2340.000000  ...  8.900000e+06  72236.387140\n",
              "\n",
              "[8 rows x 8 columns]"
            ]
          },
          "metadata": {}
        },
        {
          "output_type": "stream",
          "name": "stdout",
          "text": [
            "\n",
            "\n",
            "missing values _ %\n",
            "BER_class        15.34188\n",
            "Description       0.00000\n",
            "Features          0.00000\n",
            "ID                0.00000\n",
            "Index             0.00000\n",
            "Latitude          0.00000\n",
            "Location          0.00000\n",
            "Longitude         0.00000\n",
            "Num_Bathrooms     0.00000\n",
            "Num_Beds          0.00000\n",
            "Price             0.08547\n",
            "Services         64.82906\n",
            "Surface           0.00000\n",
            "Type              0.00000\n",
            "dtype: float64\n",
            "_________\n",
            "unique values\n",
            "BER_class          16\n",
            "Description      2338\n",
            "Features         1622\n",
            "ID               2340\n",
            "Index            2340\n",
            "Latitude         2269\n",
            "Location          148\n",
            "Longitude        2277\n",
            "Num_Bathrooms      11\n",
            "Num_Beds           12\n",
            "Price             967\n",
            "Services           33\n",
            "Surface           859\n",
            "Type               10\n",
            "dtype: int64\n"
          ]
        }
      ]
    },
    {
      "cell_type": "code",
      "metadata": {
        "id": "wkf_k2a3-_d3"
      },
      "source": [
        "dropcols = ['Index', 'ID']"
      ],
      "execution_count": 130,
      "outputs": []
    },
    {
      "cell_type": "code",
      "metadata": {
        "id": "Bf72U9Z4ACMd",
        "colab": {
          "base_uri": "https://localhost:8080/"
        },
        "outputId": "f7d23354-2f5a-4779-f4ae-a5363c92120b"
      },
      "source": [
        "def inspect_data(df, dropcols):\n",
        "  df = df.drop(df[dropcols], axis=1)\n",
        "  sns.pairplot(data=df.dropna())\n",
        "  plt.show()\n",
        "  display(df.describe())\n",
        "\n",
        "def print_text_col_examples(df):\n",
        "  cols = df[['Description', 'Features', 'Services']].notna()\n",
        "  print(\"Description\")\n",
        "  print(df[['Description']][cols].tail(5).values, end='\\n\\n')\n",
        "\n",
        "  print('Features')\n",
        "  print(df[['Features']][cols].tail(5).values, end=\"\\n\\n\")\n",
        "\n",
        "  print('Services')\n",
        "  print(df[['Services']][cols].tail(5).values, end=\"\\n\\n\")\n",
        "\n",
        "print_text_col_examples(df0)"
      ],
      "execution_count": 131,
      "outputs": [
        {
          "output_type": "stream",
          "name": "stdout",
          "text": [
            "Description\n",
            "[['Sherry FitzGerald is delighted to present 56 Bow Bridge Place to the market. A wonderful opportunity to acquire this well presented one bedroom ground floor apartment ideally situated within this popular development, close to the City Centre. No. 56 is sure to appeal to a wide audience of buyers from someone looking to buy their first home, looking to trade down or indeed an astute investor looking for an investment opportunity.\\n\\nThe apartment is practically designed, the accommodation briefly comprises: entrance hall with storage room, open plan living/dining room providing direct access out to the front of the apartment block, fully fitted kitchen, one double bedroom and a main bathroom. \\n\\nBow Bridge is a fine development ideally located in the heart of Kilmainham, a cultural location within Dublin city within distance of a host of a local amenities and public transport. Local attractions include the Museum of Modern Art, Kilmainham Gaol Museum., The Royal Kilmainham Hospital and Heuston Station. The development is also within walking distance to St James Hospital and the site of the New Childrens Hospital and the red LUAS line. \\n\\nAll in all, this is an ideal city pad in a secure apartment development. Viewing comes highly recommended.\\n\\n\\nEntrance Hall Welcoming entrance hallway with laminate wood flooring and a storage room.\\n\\nLiving/Dining with laminate wood flooring, feature fireplace with marble surround and sliding door access to front car park.\\n\\nKitchen fitted with floor and eye level units, laminate wood flooring, tiled splash back, Indesit oven &amp; hob, plumbed for washing machine.\\n\\nBedroom 1 Spacious double bedroom with laminate wood flooring and built in wardrobes.\\n\\nBathroom Large bathroom, tiled flooring, partly tiled walls, wc, whb, bath with overhead shower.']\n",
            " ['26 Viking Road is a well presented and modernised extended two bedroom artisan home located in the ever popular setting of Stoneybatter. \\n\\r\\nThe neighbourhood has been ranked in the top 50 neighbourhoods in the world, according to the Time Out Magazine in 2019.  Part of the reason for achieving this accolade is because its central location to the city centre (20 mins walk) and fast becoming one of Dublins most exciting foodie areas, with neighbourhood restaurants luring gourmands from all over.\\n\\r\\nThe home comprises of an entrance hall for jackets and shoes, an open plan living room connected to a modern fully fitted extended Kitchen, two double bedrooms and a ground floor tiled bathroom with electric shower. \\n\\r\\nOutside is an enclosed rear patio garden which is laid neatly if you fancy a peaceful coffee/tea in the south-west facing sunlight. The property features an attractive brick facade, double glazed windows, gas fired central heating, an open fireplace, new Velux windows allowing more natural light to stream into the home, a newly plastered &amp; insulated rear exterior wrapping the property. \\n\\r\\nViking Road stands out as one of the most peaceful streets in Stoneybatter due to its location and a neighbourly street not being used as a short cut for motorists. \\n\\r\\nThis highly sought-after enclave of Stoneybatter will appeal to a wide variety of house hunters. You are only a short stroll to local shops, restaurants, primary and secondary schools, and many other amenities near Stoneybatter Village including the Luas Stop and various bus services from the city centre. \\n\\r\\nThe home is within easy reach of the Phoenix Park, Heuston Train Station, DIT Grangegorman Campus, The National Museum, Smithfield Village and the Law Society of Ireland in Blackhall Place.']\n",
            " [\"FIRST OPEN VIEW SATURDAY 8TH FEBRUARY 11 - 11.30AM.\\n\\n\\r\\nOn the sunny side! Welcome to 19 Highland Grove! \\r\\nEnjoying a premier address and located in an almost traffic free cul de sac location, 19 Highland Grove is a stunning example of family living at its best. This wonderful extended three bedroom semi-detached home is impeccably presented and offers a wonderful location to raise a family or enjoy pleasant and peaceful walks.\\n\\r\\nWalking into this home you will be immediately struck by a lovely sense of space and light with excellent proportions throughout. Beautifully maintained by its current owners, accommodation extends to approx.  93 sq. m. / 1,001 sq.ft. Downstairs accommodation comprises entrance hall, a spacious bright open plan living room, kitchen / dining room and a sun room overlooking the beautiful south west facing garden completes the accommodation at this level. Upstairs there are three bedrooms, two doubles and one single. A family bathroom completes accommodation at this level.\\n\\r\\nA real stand out feature of this home is the sunny and beautifully presented south west facing rear garden.. Laid out mostly in lawn with the added benefit of a paved outdoor area this wonderful home offers endless opportunities for outdoor play and sunny barbecues not to mention the obvious potential to extend further (subject to planning permission). Offering a side entrance to the rear garden and private parking to the front, this home really has it all.\\n\\r\\nThe location of this home is second to none. Cabinteely Village is within walking distance, while Cabinteely Park with its state of the art children's playground and nature walks is just minutes from this house. Local schools include St Brigid's Boys and Girls National School, Hollypark and Loreto Foxrock. Dunnes Stores Cornelscourt completes the picture by offering grocery shopping on your doorstep. The N11 and its quality bus corridor is minutes away as is the M50 and the LUAS at Carrickmines.\\n\\r\\nEarly viewing is recommended to appreciate what this wonderful home has to offer\\n\\r\\nFeatures \\r\\nImpeccably presented  extended three bed semi-detached family home\\r\\nSunny south west facing rear garden\\r\\nEnjoying a premier address\\r\\nLocated in an almost traffic free cul de sac location\\r\\nSpacious accommodation of approx. 93 sq.m. / 1,001 sq.ft. GFCH\\r\\nPotential to extend further (subject to PP.)\\r\\nGated side entrance \\r\\nPrivate parking to the front\\r\\nEasy access to leading schools and colleges\\r\\nAdjacent to the QBC &amp; N11 LUAS is a 10 minute walk through Carrickmines Wood Estate\\r\\nWalking distance of Cabinteely and Cornelscourt villages\\n\\r\\nAccommodation\\r\\nEntrance Hall: 4.67 x 1.78 \\r\\nInviting hallway with under stair storage (plumbed for washing machine) , HIVE Active Heating Thermostat. \\n\\r\\nLiving Room: 4.52 x 3.36\\r\\nLarge bright room to the front with gas fire inset and tiled surround. Double doors to the kitchen / dining room. \\n\\r\\nKitchen / Dining Room: 3.01 x 5.16 \\r\\nWith fitted wall and floor units, Belling oven/hob and extractor fan, provisions for fridge /freezer, window overlooking garden, tiled splash back and recessed lighting. \\n\\r\\nSun Room: 3.72 x 2.98 \\r\\nDouble doors to sunny rear garden and velux window. \\n\\r\\nUpstairs \\r\\nLanding: 2.97 x 1.87 \\r\\nWith access to attic and hot press\\n\\r\\nBed 1: 4.27 x 3.04\\r\\nLarge double with solid timber floors, built in wardrobes and recessed lighting. \\n\\r\\nBed 2: 3.09 x 3.21 \\r\\nDouble bedroom with solid timber floors and  overlooking  rear garden. \\n\\r\\nBed 3: Gnerous sized bedroom to the front with solid timber floors.\"]\n",
            " [\"DNG are delighted to represent the sale of 109 Conquer Hill Road, Clontarf, an impressive 3 bedroom mid-terraced family home. The property has been completely renovated and extended in 2014 incorporating an excellent two storey extension to the rear.  Viewers will appreciate the standard of accommodation and general condition of the property complimented by a private 65 ft. long rear garden with rear access to a large enclosed green area.\\n\\r\\nThe accommodation extends to a total floor area of approx. 1,270 sq. ft. and comprises: entrance hallway, living room, open plan kitchen/dining/family room, utility room and downstairs wc on ground floor. Upsatirs, first floor accommodates 3 bedrooms (master en suite), a family bathroom and spacious landing area with generous storage.\\n\\r\\nLocations really don't come much better or more central than this Clontarf home situated  just off the seafront promenade and a short stroll from Vernon Avenue providing an excellent selection of shops, a supermarket, bars, restaurants, cafes and boutiques.  There is also a variety of sports and recreational facilities closeby including Dollymount Strand, St. Annes Park and The Bull Island Nature Reserve. Dublin City Centre, the IFSC and Eastpoint Business Park are also within a short commute of this location.\"]\n",
            " ['This is an instantly appealing Jennings built home, boasting generously appointed accommodation which is drenched in natural light thanks to its elevated position and glorious south west facing orientation. The appeal of this property is further enhanced by its tranquil position within this much sought after enclave and its private 87ft. garden, offering the discerning purchaser enormous scope to extend (subject to planning permission), should they so desire. \\n\\nWell maintained, this naturally bright property has been very well cared for and now comes to the market offering itself as a superb blank canvas from which to create your dream home. The entrance hall gives access to two very well-proportioned reception rooms and a kitchen breakfast room gives access out to the garden. Upstairs, off the spacious landing, there are three bedrooms a w.c. and a shower room. The property also benefits from a large garage, which is ripe for conversion and extending over to create a fourth bedroom (subject to planning permission). \\n\\nTo the front of the house there are is a lawn and driveway bordered by mature hedging and pedestrian side access leads around to the rear garden. Laid mainly in lawn with intermittent mature flower beds, this 87ft garden is an oasis of calm and tranquility. Enjoying a great degree of privacy, its ideal south west facing orientation make this an enviable garden for enjoying the sun, al fresco entertaining and a super spot for children to play in. Its exceptional length would allow for a considerable extension (subject to planning permission) while still retaining a large garden. \\n\\nThe property is very conveniently located between Dalkey and Dun Laoghaire where both social and essential amenities are in abundance. There are all the facilities one would expect from the delightful villages of Dalkey and Glasthule, including an excellent choice of shops, specialist delicatessens and restaurants, while Dun Laoghaire town centre itself, has everything you need for everyday living. There is a wide selection of sporting and recreational amenities including golf clubs, tennis clubs (Glenageary Tennis Club is just around the corner), beautiful walks over and around Dalkey and Killiney Hills as well as the four yacht clubs and an extensive marina at Dun Laoghaire Harbour which will be of major interest to the marine and sailing enthusiast. There are also many highly regarded schools in the area including Rathdown School, St Joseph of Cluny and CBC Monkstown, along with The Harold School in Glasthule, regarded as one of the top primary schools in south County Dublin\\n\\n\\nEntrance Porch tiled floor\\n\\nHall with under stair storage\\n\\nLiving Room 3.62m x 4.41m. to the front of the property, tiled surround fireplace\\n\\nDining Room 3.62m x 4.0m. to the rear of the property, tiled surround fireplace and slding door to the garden\\n\\nKitchen/ Breakfast Room 4.53m x 3.1m. : linoleum floor, built in wall and floor units and storage larder\\n\\nLanding hot press and attic access\\n\\nW.C tiled floor and w.c.\\n\\nShower Room tiled floor and part tiled walls, w.h.b and step in shower cubicle\\n\\nBedroom 1 3.20m x 4.41m. double room to the front of the house with views of Dublin Bay and Howth Head, built in wardrobes and tiled surround fireplace\\n\\nBedroom 2 3.20m x 4.0m. double room to the rear of the house with built in wardrobes and polished timber floor\\n\\nBedroom 3 2.28m x 3.17m. single room with views of Dublin Bay and Howth Head.']]\n",
            "\n",
            "Features\n",
            "[['Secure gated and well maintained development\\nExcellent location\\nClose to local amenities\\nLift access\\nElectric Storage Heating\\nManagement Fee €1635\\n']\n",
            " ['Well presented and modernised extended two bedroom artisan home located in the ever popular setting of Stoneybatter.\\nUpgrade works completed in recent years such as new plastering,insulation and interior redecoration.\\nRear yard area that is south west facing.\\nExcellent location close to a wide range of amenities.\\nQuiet location and has on street parking.\\n']\n",
            " ['None']\n",
            " ['Gas fired central heating.\\nFully renovated and extended with no expense spared in 2014.\\nC1 Energy Rating.\\nCobble-lock front driveway.\\n65 ft. long rear garden, not overlooked.\\n']\n",
            " ['Drenched in natural light\\nSuperb blank canvas\\n87ft South west facing rear garden\\nExcellent potential to extend (subject to planning permission)\\nHighly sought-after location\\nClose to excellent amenities, both social and essential\\nOFCH\\nPhone point\\nTv Point\\nWired for alarm\\n']]\n",
            "\n",
            "Services\n",
            "[[nan]\n",
            " [nan]\n",
            " ['Parking,Gas Fired Central Heating']\n",
            " [nan]\n",
            " [nan]]\n",
            "\n"
          ]
        }
      ]
    },
    {
      "cell_type": "code",
      "metadata": {
        "id": "HOcbRwT6c3qw",
        "colab": {
          "base_uri": "https://localhost:8080/"
        },
        "outputId": "b2515556-7bad-4709-97f3-17da109fc47c"
      },
      "source": [
        "df0.drop_duplicates(subset=['BER_class'])['BER_class']"
      ],
      "execution_count": 132,
      "outputs": [
        {
          "output_type": "execute_result",
          "data": {
            "text/plain": [
              "0                       C3\n",
              "1                       D1\n",
              "2                       A3\n",
              "3                       E1\n",
              "7                      NaN\n",
              "10                       G\n",
              "11                      E2\n",
              "15                      C2\n",
              "16     SINo666of2006exempt\n",
              "19                       F\n",
              "24                      B2\n",
              "27                      C1\n",
              "36                      D2\n",
              "63                      B3\n",
              "146                     B1\n",
              "184                     A2\n",
              "800                     A1\n",
              "Name: BER_class, dtype: object"
            ]
          },
          "metadata": {},
          "execution_count": 132
        }
      ]
    },
    {
      "cell_type": "code",
      "metadata": {
        "id": "vB75ezVDACRd"
      },
      "source": [
        "def drop_cols(df, dropcols):\n",
        "  print(\"dropping\", end=\" \")\n",
        "  for col in dropcols:\n",
        "    print(col, end=\", \")\n",
        "    df.drop(col, axis=1, inplace=True)\n",
        "  print(\"...\")\n",
        "  return df\n",
        "\n",
        "def col_to_colCount(df, col, divider):\n",
        "  #this is designed for features and facilities to convert it to a rough count\n",
        "  # of features, based on how they're typically listed in the df\n",
        "  print(\"extracting \"+col +\"...\")\n",
        "  df[col] = df[col].fillna(\"\")\n",
        "  df[col+\"_count\"] = df[col].apply(lambda x: x.count(divider)+1)\n",
        "  return df\n",
        "\n",
        "def sort_Services(df, col):\n",
        "  # Courtesy of Tim Hrisikos\n",
        "  print(f\"extracting {col}...\")\n",
        "  df[col] = df[col].fillna(\"\")\n",
        "  df = df.join(\n",
        "      df[col].str.extractall('([^,]+)')[0].groupby(level=0).apply(pd.value_counts).unstack(fill_value=0).add_prefix('Service_')\n",
        "      )\n",
        "  df.drop('Services', axis=1, inplace=True)\n",
        "  return df\n",
        "\n",
        "BER_class_mapper = {\n",
        "    #Thanks Nigel Portley\n",
        "    \"SINo666of2006exempt\": 1,\n",
        "    \"A1\": 2,\n",
        "    \"A2\": 3,\n",
        "    \"A3\": 4,\n",
        "    \"B1\": 5,\n",
        "    \"B2\": 6,\n",
        "    \"B3\": 7,\n",
        "    \"C1\": 8,\n",
        "    \"C2\": 9,\n",
        "    \"C3\": 10,\n",
        "    \"D1\": 11,\n",
        "    \"D2\": 12,\n",
        "    \"E1\": 13,\n",
        "    \"E2\": 14,\n",
        "    \"F\": 15,\n",
        "    \"G\": 16\n",
        "}\n",
        "\n",
        "def onehotencode(df, col, drop_first=True):\n",
        "  print(\"one hot encoding \" + col)\n",
        "  return pd.get_dummies(df, columns=[col], \n",
        "                        dummy_na=True, \n",
        "                        drop_first=drop_first)\n",
        "\n",
        "def remove_locations_outside_Ire(df):\n",
        "  # Carlos Siqueira Do Amaral noticed that there are entries from outside of Ireland.\n",
        "  # This fiunction removes locations outside of Ireland's lat/ long bounds\n",
        "  print(\"removing locations outside of Ireland\")\n",
        "  long0, lat0, long1, lat1 = (-9.97708574059, 51.6693012559, -6.03298539878, 55.1316222195)\n",
        "  return df.loc[(df['Longitude'] > long0) & (df['Latitude'] > lat0)  & (df['Longitude'] < long1) & (df['Latitude'] < lat1)]\n",
        "\n",
        "def frame_coordinates_to_dublin_center(df, ):\n",
        "  print(\"centering coordinates around dublin city center\")\n",
        "  dublat, dublong = 53.350140, -6.266155\n",
        "  df['dist_from_dub_center'] = (df.Longitude - dublong)**2 +(df.Latitude - dublat)**2\n",
        "  df['Latitude'] = df.Latitude - dublat\n",
        "  df['Longitude'] = df.Longitude - dublong\n",
        "  return df\n",
        "\n",
        "def treat_data(df, dropcols = [], display_=True):\n",
        "  # dropping columns listed below\n",
        "  try:\n",
        "    df = drop_cols(df, dropcols)\n",
        "  except:\n",
        "    pass\n",
        "  #filling values. Justifications outlined in Initial datasets inspection\n",
        "  df['Surface'].fillna(df['Surface'].median(), inplace=True)\n",
        "  df['Num_Bathrooms'].fillna(df['Num_Bathrooms'].median(), inplace=True)\n",
        "  df['Num_Beds'].fillna(df['Num_Beds'].median(), inplace=True)\n",
        "  #converting features. Justifications outlined in Initial datasets inspection\n",
        "  df = sort_Services(df, 'Services')\n",
        "  df['BER_class'] = df['BER_class'].replace(BER_class_mapper)\n",
        "  df['BER_class'].fillna(df['BER_class'].mean(), inplace=True)\n",
        "  for col in ['Type', 'Location']:\n",
        "    df = onehotencode(df, col, False)\n",
        "  df.fillna(0,inplace=True)\n",
        "  # a couple of extra columns added based on local features.\n",
        "  df = remove_locations_outside_Ire(df)\n",
        "  df = frame_coordinates_to_dublin_center(df)\n",
        "  df = sort_columns(df)\n",
        "  try:\n",
        "    df = df[(df.price > 0)]\n",
        "  except:\n",
        "      pass\n",
        "  if display_:\n",
        "    print(\"\\n\\ndisplaying data minus one_hot_encoded columns\")\n",
        "    display(hide_one_hot_encoded_cols(df).tail())\n",
        "  X = df.drop(\"Price\", axis = 1)\n",
        "  y = df[\"Price\"]\n",
        "  return df, X, y"
      ],
      "execution_count": 133,
      "outputs": []
    },
    {
      "cell_type": "code",
      "metadata": {
        "id": "gqlEk9svd550",
        "colab": {
          "base_uri": "https://localhost:8080/",
          "height": 70
        },
        "outputId": "2985e934-c764-49e4-d84c-5df0e1c0824b"
      },
      "source": [
        "display(df0.tail(0))"
      ],
      "execution_count": 134,
      "outputs": [
        {
          "output_type": "display_data",
          "data": {
            "text/html": [
              "<div>\n",
              "<style scoped>\n",
              "    .dataframe tbody tr th:only-of-type {\n",
              "        vertical-align: middle;\n",
              "    }\n",
              "\n",
              "    .dataframe tbody tr th {\n",
              "        vertical-align: top;\n",
              "    }\n",
              "\n",
              "    .dataframe thead th {\n",
              "        text-align: right;\n",
              "    }\n",
              "</style>\n",
              "<table border=\"1\" class=\"dataframe\">\n",
              "  <thead>\n",
              "    <tr style=\"text-align: right;\">\n",
              "      <th></th>\n",
              "      <th>BER_class</th>\n",
              "      <th>Description</th>\n",
              "      <th>Features</th>\n",
              "      <th>ID</th>\n",
              "      <th>Index</th>\n",
              "      <th>Latitude</th>\n",
              "      <th>Location</th>\n",
              "      <th>Longitude</th>\n",
              "      <th>Num_Bathrooms</th>\n",
              "      <th>Num_Beds</th>\n",
              "      <th>Price</th>\n",
              "      <th>Services</th>\n",
              "      <th>Surface</th>\n",
              "      <th>Type</th>\n",
              "    </tr>\n",
              "  </thead>\n",
              "  <tbody>\n",
              "  </tbody>\n",
              "</table>\n",
              "</div>"
            ],
            "text/plain": [
              "Empty DataFrame\n",
              "Columns: [BER_class, Description, Features, ID, Index, Latitude, Location, Longitude, Num_Bathrooms, Num_Beds, Price, Services, Surface, Type]\n",
              "Index: []"
            ]
          },
          "metadata": {}
        }
      ]
    },
    {
      "cell_type": "code",
      "metadata": {
        "id": "MdWC0Jbfc-DW",
        "colab": {
          "base_uri": "https://localhost:8080/",
          "height": 742
        },
        "outputId": "7c299846-e674-45e3-8257-1bbb9e5b27bb"
      },
      "source": [
        "df, X, y = treat_data(df0, dropcols)"
      ],
      "execution_count": 135,
      "outputs": [
        {
          "output_type": "stream",
          "name": "stdout",
          "text": [
            "dropping Index, ID, ...\n",
            "extracting Services...\n",
            "one hot encoding Type\n",
            "one hot encoding Location\n",
            "removing locations outside of Ireland\n",
            "centering coordinates around dublin city center\n",
            "\n",
            "\n",
            "displaying data minus one_hot_encoded columns\n"
          ]
        },
        {
          "output_type": "display_data",
          "data": {
            "text/html": [
              "<div>\n",
              "<style scoped>\n",
              "    .dataframe tbody tr th:only-of-type {\n",
              "        vertical-align: middle;\n",
              "    }\n",
              "\n",
              "    .dataframe tbody tr th {\n",
              "        vertical-align: top;\n",
              "    }\n",
              "\n",
              "    .dataframe thead th {\n",
              "        text-align: right;\n",
              "    }\n",
              "</style>\n",
              "<table border=\"1\" class=\"dataframe\">\n",
              "  <thead>\n",
              "    <tr style=\"text-align: right;\">\n",
              "      <th></th>\n",
              "      <th>BER_class</th>\n",
              "      <th>Description</th>\n",
              "      <th>Features</th>\n",
              "      <th>Latitude</th>\n",
              "      <th>Longitude</th>\n",
              "      <th>Num_Bathrooms</th>\n",
              "      <th>Num_Beds</th>\n",
              "      <th>Price</th>\n",
              "      <th>Service_Alarm</th>\n",
              "      <th>Service_Gas Fired Central Heating</th>\n",
              "      <th>Service_Oil Fired Central Heating</th>\n",
              "      <th>Service_Parking</th>\n",
              "      <th>Service_Wheelchair Access</th>\n",
              "      <th>Service_Wired for Cable Television</th>\n",
              "      <th>Surface</th>\n",
              "      <th>dist_from_dub_center</th>\n",
              "    </tr>\n",
              "  </thead>\n",
              "  <tbody>\n",
              "    <tr>\n",
              "      <th>1633</th>\n",
              "      <td>9.0</td>\n",
              "      <td>Built in c.1930 38 Stradbrook Road is a deligh...</td>\n",
              "      <td>Extremely convenient location \\nWheelchair acc...</td>\n",
              "      <td>-0.057373</td>\n",
              "      <td>0.099487</td>\n",
              "      <td>1</td>\n",
              "      <td>2</td>\n",
              "      <td>500000.0</td>\n",
              "      <td>1.0</td>\n",
              "      <td>1.0</td>\n",
              "      <td>0.0</td>\n",
              "      <td>1.0</td>\n",
              "      <td>1.0</td>\n",
              "      <td>0.0</td>\n",
              "      <td>64.00</td>\n",
              "      <td>0.013189</td>\n",
              "    </tr>\n",
              "    <tr>\n",
              "      <th>1634</th>\n",
              "      <td>8.0</td>\n",
              "      <td>An impressive three-story family home superbly...</td>\n",
              "      <td>Gas fired central heating with underfloor heat...</td>\n",
              "      <td>-0.065165</td>\n",
              "      <td>0.087470</td>\n",
              "      <td>3</td>\n",
              "      <td>5</td>\n",
              "      <td>795000.0</td>\n",
              "      <td>0.0</td>\n",
              "      <td>0.0</td>\n",
              "      <td>0.0</td>\n",
              "      <td>0.0</td>\n",
              "      <td>0.0</td>\n",
              "      <td>0.0</td>\n",
              "      <td>175.96</td>\n",
              "      <td>0.011897</td>\n",
              "    </tr>\n",
              "    <tr>\n",
              "      <th>1635</th>\n",
              "      <td>4.0</td>\n",
              "      <td>DNG Lucan's leading estate agents are delighte...</td>\n",
              "      <td>None</td>\n",
              "      <td>0.001527</td>\n",
              "      <td>-0.169123</td>\n",
              "      <td>2</td>\n",
              "      <td>3</td>\n",
              "      <td>340000.0</td>\n",
              "      <td>0.0</td>\n",
              "      <td>0.0</td>\n",
              "      <td>0.0</td>\n",
              "      <td>0.0</td>\n",
              "      <td>0.0</td>\n",
              "      <td>0.0</td>\n",
              "      <td>98.00</td>\n",
              "      <td>0.028605</td>\n",
              "    </tr>\n",
              "    <tr>\n",
              "      <th>1636</th>\n",
              "      <td>12.0</td>\n",
              "      <td>Holyrood Castle is a most distinctive 19th cen...</td>\n",
              "      <td>None</td>\n",
              "      <td>-0.021143</td>\n",
              "      <td>0.045125</td>\n",
              "      <td>8</td>\n",
              "      <td>8</td>\n",
              "      <td>2500000.0</td>\n",
              "      <td>0.0</td>\n",
              "      <td>0.0</td>\n",
              "      <td>0.0</td>\n",
              "      <td>0.0</td>\n",
              "      <td>0.0</td>\n",
              "      <td>0.0</td>\n",
              "      <td>507.00</td>\n",
              "      <td>0.002483</td>\n",
              "    </tr>\n",
              "    <tr>\n",
              "      <th>1637</th>\n",
              "      <td>13.0</td>\n",
              "      <td>A superb opportunity awaits to acquire this be...</td>\n",
              "      <td>Turn key condition\\nWood burning stove\\nSlider...</td>\n",
              "      <td>-0.118702</td>\n",
              "      <td>0.141133</td>\n",
              "      <td>2</td>\n",
              "      <td>2</td>\n",
              "      <td>370000.0</td>\n",
              "      <td>0.0</td>\n",
              "      <td>0.0</td>\n",
              "      <td>0.0</td>\n",
              "      <td>0.0</td>\n",
              "      <td>0.0</td>\n",
              "      <td>0.0</td>\n",
              "      <td>50.00</td>\n",
              "      <td>0.034009</td>\n",
              "    </tr>\n",
              "  </tbody>\n",
              "</table>\n",
              "</div>"
            ],
            "text/plain": [
              "      BER_class  ... dist_from_dub_center\n",
              "1633        9.0  ...             0.013189\n",
              "1634        8.0  ...             0.011897\n",
              "1635        4.0  ...             0.028605\n",
              "1636       12.0  ...             0.002483\n",
              "1637       13.0  ...             0.034009\n",
              "\n",
              "[5 rows x 16 columns]"
            ]
          },
          "metadata": {}
        }
      ]
    },
    {
      "cell_type": "code",
      "metadata": {
        "id": "l_MymiNFdBrN",
        "colab": {
          "base_uri": "https://localhost:8080/",
          "height": 673
        },
        "outputId": "1e81e2ff-7792-4ffb-8e55-31a2089cc7df"
      },
      "source": [
        "print(df.isna().sum())\n",
        "display(sns.heatmap(hide_one_hot_encoded_cols(df).corr()))"
      ],
      "execution_count": 136,
      "outputs": [
        {
          "output_type": "stream",
          "name": "stdout",
          "text": [
            "BER_class               0\n",
            "Description             0\n",
            "Features                0\n",
            "Latitude                0\n",
            "Location_Adamstown      0\n",
            "                       ..\n",
            "Type_site               0\n",
            "Type_studio             0\n",
            "Type_terraced           0\n",
            "Type_townhouse          0\n",
            "dist_from_dub_center    0\n",
            "Length: 176, dtype: int64\n"
          ]
        },
        {
          "output_type": "display_data",
          "data": {
            "text/plain": [
              "<matplotlib.axes._subplots.AxesSubplot at 0x7fb143187b90>"
            ]
          },
          "metadata": {}
        },
        {
          "output_type": "display_data",
          "data": {
            "image/png": "[encoded data removed]",
            "text/plain": [
              "<Figure size 432x288 with 2 Axes>"
            ]
          },
          "metadata": {
            "needs_background": "light"
          }
        }
      ]
    },
    {
      "cell_type": "markdown",
      "metadata": {
        "id": "CthgiYXam8ua"
      },
      "source": [
        "### Outliers"
      ]
    },
    {
      "cell_type": "code",
      "metadata": {
        "id": "ycva2BuOm56D"
      },
      "source": [
        "# from scipy import stats\n",
        "# hide_one_hot_encoded_cols(df.loc[:, ~df.columns.str.startswith('Description') & \n",
        "#                       ~df.columns.str.startswith('Features')])[(np.abs(stats.zscore(df)) < 3).all(axis=1)]\n",
        "\n",
        "df['Num_Bathrooms'].values[df['Num_Bathrooms'].values > 8] = 8\n",
        "df['Num_Beds'].values[df['Num_Beds'].values > 10] = 10\n",
        "# df['Surface'].values[df['Surface'].values == 6705] = 67\n",
        "df.drop(df[df.Surface > 800].index, inplace=True)"
      ],
      "execution_count": 137,
      "outputs": []
    },
    {
      "cell_type": "markdown",
      "metadata": {
        "id": "G5oRiZxo2gpN"
      },
      "source": [
        "# NATURAL LANGUAGE PROCESSING"
      ]
    },
    {
      "cell_type": "markdown",
      "metadata": {
        "id": "e8s0Wi3a8yjN"
      },
      "source": [
        "Natural language processing ([NLP](https://en.wikipedia.org/wiki/Natural_language_processing)) is a subfield of linguistics, computer science, and artificial intelligence.\n",
        "\n",
        "* NLP concerned with the interactions between computers and human language.\n",
        "* In particular how to program computers to process and analyze large amounts of natural language data. \n",
        "* The goal is a computer capable of \"understanding\" the contents of documents.\n",
        "* Including the contextual nuances of the language within them. \n",
        "* The technology can then accurately extract information and insights contained in the documents.\n",
        "* As well as categorize and organize the documents themselves. "
      ]
    },
    {
      "cell_type": "markdown",
      "metadata": {
        "id": "oValFP-z2gpN"
      },
      "source": [
        "Your comments, explanation, and references here."
      ]
    },
    {
      "cell_type": "markdown",
      "metadata": {
        "id": "hKNemRseM70p"
      },
      "source": [
        "Description and Features are two columns which have potential for NLP. Though **Services** is also a text based feature, it is simply listing utilities availiable at each property, and does not illicit any descriptive or connotative language which would be useful for NLP.\n",
        "Similarly **Location** not a useful column."
      ]
    },
    {
      "cell_type": "code",
      "metadata": {
        "id": "8YcVQzFKMoQA"
      },
      "source": [
        "# your code here\n",
        "nlp_df = df[['Description', 'Features', 'Price']]\n",
        "nlp_df['Descr_Featu'] = df['Description']+ ' \\n '+df['Features']"
      ],
      "execution_count": 138,
      "outputs": []
    },
    {
      "cell_type": "code",
      "metadata": {
        "id": "e_WND6NP2gpN"
      },
      "source": [
        "def remove_not_letters_from_col(df, col):\n",
        "  df[col] = [re.sub('[^a-zA-Z]', ' ', phrase) for phrase in df[col]]\n",
        "  return df\n",
        "\n",
        "def list_of_words(df, col):\n",
        "  return [sms.split() for sms in df[col]]\n",
        "\n",
        "\n",
        "# function to normalize words\n",
        "def normalize(words, stemmer, stop):\n",
        "  normalized_words = list()\n",
        "  for word in words:\n",
        "    # remove  the most common words\n",
        "    if word.lower() not in stop: \n",
        "      # stemming\n",
        "      new_word = stemmer.stem(word) \n",
        "      # lower case\n",
        "      normalized_words.append(new_word.lower()) \n",
        "  return normalized_words\n",
        "\n",
        "def normalize_words(words):\n",
        "  try:\n",
        "    stop = set(stopwords.words('english'))\n",
        "    stemmer = SnowballStemmer('english', ignore_stopwords=False)\n",
        "  except:\n",
        "    nltk.download('stopwords')\n",
        "    normalize_words(words)\n",
        "  return [normalize(word, stemmer, stop) for word in words]\n",
        "\n",
        "def removing_stopwords_and_stemming(df, col):\n",
        "  df = remove_not_letters_from_col(df, col)\n",
        "  col_words = list_of_words(df, col)\n",
        "  return df, col_words\n",
        "\n",
        "def removing_short_words(df, col, short_word = 4):\n",
        "  df[col] = df[col].apply(lambda x: ' '.join([w for w in x.split() if len(w)>short_word]))\n",
        "  return df\n",
        "\n",
        "def update_col_with_normd_words(df, col, col_words_norm):\n",
        "  df[col] = [\" \".join(word) for word in col_words_norm]\n",
        "  return df\n",
        "\n",
        "def nlp_preprocessing(df, col, display_=True):\n",
        "  df, col_words = removing_stopwords_and_stemming(df, col)\n",
        "  col_words_norm = normalize_words(col_words)\n",
        "  df = update_col_with_normd_words(df, col, col_words_norm)\n",
        "  df = removing_short_words(df, col)\n",
        "  if display_:\n",
        "    display(df[col].tail())\n",
        "  return df"
      ],
      "execution_count": 139,
      "outputs": []
    },
    {
      "cell_type": "code",
      "metadata": {
        "colab": {
          "base_uri": "https://localhost:8080/",
          "height": 129
        },
        "id": "wqeNBPhIgPbw",
        "outputId": "0f3b4f42-99df-4fa8-95d6-f45f874f1276"
      },
      "source": [
        "nlp_df = nlp_preprocessing(nlp_df, 'Descr_Featu')\n",
        "X = nlp_df.drop(\"Price\", axis = 1)\n",
        "y = nlp_df[\"Price\"]"
      ],
      "execution_count": 140,
      "outputs": [
        {
          "output_type": "display_data",
          "data": {
            "text/plain": [
              "1633    built stradbrook delight bedroom doubl front c...\n",
              "1634    impress three stori famili superbl locat newto...\n",
              "1635    lucan estat agent delight present esker bedroo...\n",
              "1636    holyrood castl distinct centuri storey basemen...\n",
              "1637    superb opportun await acquir beauti bijou cott...\n",
              "Name: Descr_Featu, dtype: object"
            ]
          },
          "metadata": {}
        }
      ]
    },
    {
      "cell_type": "markdown",
      "metadata": {
        "id": "zFxisvPOsRV-"
      },
      "source": [
        "## [TfidfVectorizer](https://scikit-learn.org/stable/modules/generated/sklearn.feature_extraction.text.TfidfVectorizer.html)\n",
        "- Convert a collection of raw documents to a matrix of TF-IDF features."
      ]
    },
    {
      "cell_type": "code",
      "metadata": {
        "colab": {
          "base_uri": "https://localhost:8080/"
        },
        "id": "-j8ou6_JsMPu",
        "outputId": "5a6f1bdf-5d19-4bb7-d775-af2e611c02ca"
      },
      "source": [
        "from sklearn.feature_extraction.text import TfidfVectorizer\n",
        "from imblearn.combine import SMOTETomek \n",
        "\n",
        "def nlp_fitting_transforming(X, col):\n",
        "  print(\"Convert_rawDocs_to_TF_IDF_feature_matrix\")\n",
        "  X_tfid = pd.Series()\n",
        "  vectorizer = TfidfVectorizer(stop_words='english', max_features= 300, max_df=0.5, smooth_idf=True)\n",
        "  X_tfid = vectorizer.fit_transform(X[col])\n",
        "  return X_tfid\n",
        "\n",
        "X = nlp_df.drop(\"Price\", axis = 1)\n",
        "y = nlp_df[\"Price\"]\n",
        "X_train, X_test, y_train, y_test = train_test_split(X, y, test_size = 0.20, random_state = 0)\n",
        "X_train, X_test = (nlp_fitting_transforming(X_train, 'Descr_Featu'),\n",
        "                  nlp_fitting_transforming(X_test, 'Descr_Featu'))\n",
        "\n",
        "print(f\"X_train, X_test shapes:   {np.shape(X_train), np.shape(X_test)}\")"
      ],
      "execution_count": 141,
      "outputs": [
        {
          "output_type": "stream",
          "name": "stdout",
          "text": [
            "Convert_rawDocs_to_TF_IDF_feature_matrix\n",
            "Convert_rawDocs_to_TF_IDF_feature_matrix\n",
            "X_train, X_test shapes:   ((1860, 300), (465, 300))\n"
          ]
        }
      ]
    },
    {
      "cell_type": "code",
      "metadata": {
        "id": "NoVXlsYutC6O"
      },
      "source": [
        "# display(sns.countplot(y))"
      ],
      "execution_count": 142,
      "outputs": []
    },
    {
      "cell_type": "code",
      "metadata": {
        "colab": {
          "base_uri": "https://localhost:8080/"
        },
        "id": "4CzbqzIpzM3R",
        "outputId": "2c9633f2-af91-486e-840c-905db112c36e"
      },
      "source": [
        "# create a model\n",
        "from sklearn.linear_model import LogisticRegression\n",
        "model = LogisticRegression()\n",
        "\n",
        "# fit to data\n",
        "model.fit(X_train, y_train)"
      ],
      "execution_count": 143,
      "outputs": [
        {
          "output_type": "execute_result",
          "data": {
            "text/plain": [
              "LogisticRegression(C=1.0, class_weight=None, dual=False, fit_intercept=True,\n",
              "                   intercept_scaling=1, l1_ratio=None, max_iter=100,\n",
              "                   multi_class='auto', n_jobs=None, penalty='l2',\n",
              "                   random_state=None, solver='lbfgs', tol=0.0001, verbose=0,\n",
              "                   warm_start=False)"
            ]
          },
          "metadata": {},
          "execution_count": 143
        }
      ]
    },
    {
      "cell_type": "code",
      "metadata": {
        "id": "F7a9WF5KzSp4"
      },
      "source": [
        "# testing the model\n",
        "\n",
        "prediction_train = model.predict(X_train)\n",
        "# print('training prediction\\t', prediction_train)\n",
        "\n",
        "prediction_test = model.predict(X_test)\n",
        "# print('test prediction\\t\\t', prediction_test)"
      ],
      "execution_count": 144,
      "outputs": []
    },
    {
      "cell_type": "code",
      "metadata": {
        "colab": {
          "base_uri": "https://localhost:8080/"
        },
        "id": "_lzmWXuwzUL5",
        "outputId": "13bd6f47-99aa-49d6-9112-8be0903d7466"
      },
      "source": [
        "np.set_printoptions(suppress=True)\n",
        "\n",
        "#  probabilities in test\n",
        "predi_prob = model.predict_proba(X_test)\n",
        "print(predi_prob)"
      ],
      "execution_count": 145,
      "outputs": [
        {
          "output_type": "stream",
          "name": "stdout",
          "text": [
            "[[0.00054604 0.00055134 0.00057616 ... 0.00058485 0.00054819 0.00053887]\n",
            " [0.00054643 0.0005644  0.00056791 ... 0.0005498  0.00057079 0.00061486]\n",
            " [0.00051798 0.00054991 0.00056084 ... 0.00053716 0.00053453 0.00053571]\n",
            " ...\n",
            " [0.00054479 0.00055665 0.00054754 ... 0.00056671 0.00053513 0.00054812]\n",
            " [0.00057596 0.00058657 0.00063496 ... 0.00066182 0.00057559 0.00053996]\n",
            " [0.00055013 0.00053168 0.00051196 ... 0.00055756 0.00052225 0.00055396]]\n"
          ]
        }
      ]
    },
    {
      "cell_type": "markdown",
      "metadata": {
        "id": "x1gm7J582kxI"
      },
      "source": [
        "As we can see, The model does not look too sure of any of it's predictions based on these test set **prediction probabilities**.\n",
        "\n",
        "The Highest probability tends to "
      ]
    },
    {
      "cell_type": "code",
      "metadata": {
        "colab": {
          "base_uri": "https://localhost:8080/"
        },
        "id": "-WXGya2TzW3x",
        "outputId": "4f598ab3-0ace-47ea-b84f-fe6d561b8c43"
      },
      "source": [
        "# accuracy in training set\n",
        "y_pred_train = prediction_train\n",
        "print(\"Train Accuracy: \"+str(accuracy_score(y_train, y_pred_train)))"
      ],
      "execution_count": 146,
      "outputs": [
        {
          "output_type": "stream",
          "name": "stdout",
          "text": [
            "Train Accuracy: 0.16129032258064516\n"
          ]
        }
      ]
    },
    {
      "cell_type": "code",
      "metadata": {
        "colab": {
          "base_uri": "https://localhost:8080/"
        },
        "id": "Y9utGKlJzYCw",
        "outputId": "f7e435e7-c7a4-4ae4-f7fd-68adf821bd8b"
      },
      "source": [
        "# accuracy in test set (unseen data)\n",
        "y_true = y_test\n",
        "y_pred_test = prediction_test\n",
        "print(\"Test Accuracy: \"+str(accuracy_score(y_true, y_pred_test)))"
      ],
      "execution_count": 147,
      "outputs": [
        {
          "output_type": "stream",
          "name": "stdout",
          "text": [
            "Test Accuracy: 0.010752688172043012\n"
          ]
        }
      ]
    },
    {
      "cell_type": "code",
      "metadata": {
        "colab": {
          "base_uri": "https://localhost:8080/"
        },
        "id": "ldisOFXUzZIB",
        "outputId": "0fc4a811-76d5-4d9b-93c4-a4ae887265c2"
      },
      "source": [
        "# confusion matrix\n",
        "conf_mat = confusion_matrix(y_true, y_pred_test)\n",
        "print(\"Confusion Matrix\\n\", conf_mat)"
      ],
      "execution_count": 148,
      "outputs": [
        {
          "output_type": "stream",
          "name": "stdout",
          "text": [
            "Confusion Matrix\n",
            " [[0 0 0 ... 0 0 0]\n",
            " [0 0 0 ... 0 0 0]\n",
            " [0 0 0 ... 0 0 0]\n",
            " ...\n",
            " [0 0 0 ... 0 0 0]\n",
            " [0 0 0 ... 0 0 0]\n",
            " [0 0 0 ... 0 0 0]]\n"
          ]
        }
      ]
    },
    {
      "cell_type": "markdown",
      "metadata": {
        "id": "RMKM8xpj5zP-"
      },
      "source": [
        "despite these low accuracy scores, adding these predictions to our dataset for the following two Models may be interesting.\n",
        "\n",
        "I will create a dataset - df2 which includes these figures."
      ]
    },
    {
      "cell_type": "code",
      "metadata": {
        "colab": {
          "base_uri": "https://localhost:8080/",
          "height": 928
        },
        "id": "xA6XEl7B1_LI",
        "outputId": "289ab251-e063-4cdd-997b-eb4e8940c8ed"
      },
      "source": [
        "df2 = df.copy()\n",
        "df2['Price_pred_nlp'] = model.predict(nlp_fitting_transforming(X, 'Descr_Featu'))\n",
        "df2 = sort_columns(df2)\n",
        "display(hide_one_hot_encoded_cols(df2).describe())\n",
        "display(hide_one_hot_encoded_cols(df2).tail()) "
      ],
      "execution_count": 149,
      "outputs": [
        {
          "output_type": "stream",
          "name": "stdout",
          "text": [
            "Convert_rawDocs_to_TF_IDF_feature_matrix\n"
          ]
        },
        {
          "output_type": "display_data",
          "data": {
            "text/html": [
              "<div>\n",
              "<style scoped>\n",
              "    .dataframe tbody tr th:only-of-type {\n",
              "        vertical-align: middle;\n",
              "    }\n",
              "\n",
              "    .dataframe tbody tr th {\n",
              "        vertical-align: top;\n",
              "    }\n",
              "\n",
              "    .dataframe thead th {\n",
              "        text-align: right;\n",
              "    }\n",
              "</style>\n",
              "<table border=\"1\" class=\"dataframe\">\n",
              "  <thead>\n",
              "    <tr style=\"text-align: right;\">\n",
              "      <th></th>\n",
              "      <th>BER_class</th>\n",
              "      <th>Latitude</th>\n",
              "      <th>Longitude</th>\n",
              "      <th>Num_Bathrooms</th>\n",
              "      <th>Num_Beds</th>\n",
              "      <th>Price</th>\n",
              "      <th>Price_pred_nlp</th>\n",
              "      <th>Service_Alarm</th>\n",
              "      <th>Service_Gas Fired Central Heating</th>\n",
              "      <th>Service_Oil Fired Central Heating</th>\n",
              "      <th>Service_Parking</th>\n",
              "      <th>Service_Wheelchair Access</th>\n",
              "      <th>Service_Wired for Cable Television</th>\n",
              "      <th>Surface</th>\n",
              "      <th>dist_from_dub_center</th>\n",
              "    </tr>\n",
              "  </thead>\n",
              "  <tbody>\n",
              "    <tr>\n",
              "      <th>count</th>\n",
              "      <td>2325.000000</td>\n",
              "      <td>2325.000000</td>\n",
              "      <td>2325.000000</td>\n",
              "      <td>2325.000000</td>\n",
              "      <td>2325.000000</td>\n",
              "      <td>2.325000e+03</td>\n",
              "      <td>2325.000000</td>\n",
              "      <td>2325.000000</td>\n",
              "      <td>2325.000000</td>\n",
              "      <td>2325.000000</td>\n",
              "      <td>2325.000000</td>\n",
              "      <td>2325.000000</td>\n",
              "      <td>2325.000000</td>\n",
              "      <td>2325.000000</td>\n",
              "      <td>2.325000e+03</td>\n",
              "    </tr>\n",
              "    <tr>\n",
              "      <th>mean</th>\n",
              "      <td>10.703650</td>\n",
              "      <td>0.000541</td>\n",
              "      <td>0.009959</td>\n",
              "      <td>2.027527</td>\n",
              "      <td>3.004731</td>\n",
              "      <td>1.161125e+06</td>\n",
              "      <td>364862.365591</td>\n",
              "      <td>0.187957</td>\n",
              "      <td>0.367312</td>\n",
              "      <td>0.037849</td>\n",
              "      <td>0.493763</td>\n",
              "      <td>0.033978</td>\n",
              "      <td>0.234839</td>\n",
              "      <td>118.754516</td>\n",
              "      <td>1.394049e-02</td>\n",
              "    </tr>\n",
              "    <tr>\n",
              "      <th>std</th>\n",
              "      <td>2.986118</td>\n",
              "      <td>0.073822</td>\n",
              "      <td>0.091637</td>\n",
              "      <td>1.076313</td>\n",
              "      <td>1.176898</td>\n",
              "      <td>1.262665e+06</td>\n",
              "      <td>74039.913286</td>\n",
              "      <td>0.405885</td>\n",
              "      <td>0.533037</td>\n",
              "      <td>0.190873</td>\n",
              "      <td>0.591521</td>\n",
              "      <td>0.181213</td>\n",
              "      <td>0.453414</td>\n",
              "      <td>79.466778</td>\n",
              "      <td>1.625778e-02</td>\n",
              "    </tr>\n",
              "    <tr>\n",
              "      <th>min</th>\n",
              "      <td>1.000000</td>\n",
              "      <td>-0.135913</td>\n",
              "      <td>-0.255028</td>\n",
              "      <td>1.000000</td>\n",
              "      <td>1.000000</td>\n",
              "      <td>0.000000e+00</td>\n",
              "      <td>220000.000000</td>\n",
              "      <td>0.000000</td>\n",
              "      <td>0.000000</td>\n",
              "      <td>0.000000</td>\n",
              "      <td>0.000000</td>\n",
              "      <td>0.000000</td>\n",
              "      <td>0.000000</td>\n",
              "      <td>3.400000</td>\n",
              "      <td>5.129842e-07</td>\n",
              "    </tr>\n",
              "    <tr>\n",
              "      <th>25%</th>\n",
              "      <td>9.000000</td>\n",
              "      <td>-0.055353</td>\n",
              "      <td>-0.042366</td>\n",
              "      <td>1.000000</td>\n",
              "      <td>2.000000</td>\n",
              "      <td>3.300000e+05</td>\n",
              "      <td>325000.000000</td>\n",
              "      <td>0.000000</td>\n",
              "      <td>0.000000</td>\n",
              "      <td>0.000000</td>\n",
              "      <td>0.000000</td>\n",
              "      <td>0.000000</td>\n",
              "      <td>0.000000</td>\n",
              "      <td>72.900000</td>\n",
              "      <td>2.159850e-03</td>\n",
              "    </tr>\n",
              "    <tr>\n",
              "      <th>50%</th>\n",
              "      <td>10.704190</td>\n",
              "      <td>-0.008981</td>\n",
              "      <td>0.018243</td>\n",
              "      <td>2.000000</td>\n",
              "      <td>3.000000</td>\n",
              "      <td>5.350000e+05</td>\n",
              "      <td>325000.000000</td>\n",
              "      <td>0.000000</td>\n",
              "      <td>0.000000</td>\n",
              "      <td>0.000000</td>\n",
              "      <td>0.000000</td>\n",
              "      <td>0.000000</td>\n",
              "      <td>0.000000</td>\n",
              "      <td>97.500000</td>\n",
              "      <td>7.548412e-03</td>\n",
              "    </tr>\n",
              "    <tr>\n",
              "      <th>75%</th>\n",
              "      <td>12.000000</td>\n",
              "      <td>0.031727</td>\n",
              "      <td>0.076482</td>\n",
              "      <td>3.000000</td>\n",
              "      <td>4.000000</td>\n",
              "      <td>1.558593e+06</td>\n",
              "      <td>395000.000000</td>\n",
              "      <td>0.000000</td>\n",
              "      <td>1.000000</td>\n",
              "      <td>0.000000</td>\n",
              "      <td>1.000000</td>\n",
              "      <td>0.000000</td>\n",
              "      <td>0.000000</td>\n",
              "      <td>135.000000</td>\n",
              "      <td>2.059258e-02</td>\n",
              "    </tr>\n",
              "    <tr>\n",
              "      <th>max</th>\n",
              "      <td>16.000000</td>\n",
              "      <td>0.280448</td>\n",
              "      <td>0.211436</td>\n",
              "      <td>8.000000</td>\n",
              "      <td>10.000000</td>\n",
              "      <td>7.950000e+06</td>\n",
              "      <td>995000.000000</td>\n",
              "      <td>2.000000</td>\n",
              "      <td>2.000000</td>\n",
              "      <td>1.000000</td>\n",
              "      <td>2.000000</td>\n",
              "      <td>1.000000</td>\n",
              "      <td>2.000000</td>\n",
              "      <td>724.100000</td>\n",
              "      <td>8.115278e-02</td>\n",
              "    </tr>\n",
              "  </tbody>\n",
              "</table>\n",
              "</div>"
            ],
            "text/plain": [
              "         BER_class     Latitude  ...      Surface  dist_from_dub_center\n",
              "count  2325.000000  2325.000000  ...  2325.000000          2.325000e+03\n",
              "mean     10.703650     0.000541  ...   118.754516          1.394049e-02\n",
              "std       2.986118     0.073822  ...    79.466778          1.625778e-02\n",
              "min       1.000000    -0.135913  ...     3.400000          5.129842e-07\n",
              "25%       9.000000    -0.055353  ...    72.900000          2.159850e-03\n",
              "50%      10.704190    -0.008981  ...    97.500000          7.548412e-03\n",
              "75%      12.000000     0.031727  ...   135.000000          2.059258e-02\n",
              "max      16.000000     0.280448  ...   724.100000          8.115278e-02\n",
              "\n",
              "[8 rows x 15 columns]"
            ]
          },
          "metadata": {}
        },
        {
          "output_type": "display_data",
          "data": {
            "text/html": [
              "<div>\n",
              "<style scoped>\n",
              "    .dataframe tbody tr th:only-of-type {\n",
              "        vertical-align: middle;\n",
              "    }\n",
              "\n",
              "    .dataframe tbody tr th {\n",
              "        vertical-align: top;\n",
              "    }\n",
              "\n",
              "    .dataframe thead th {\n",
              "        text-align: right;\n",
              "    }\n",
              "</style>\n",
              "<table border=\"1\" class=\"dataframe\">\n",
              "  <thead>\n",
              "    <tr style=\"text-align: right;\">\n",
              "      <th></th>\n",
              "      <th>BER_class</th>\n",
              "      <th>Description</th>\n",
              "      <th>Features</th>\n",
              "      <th>Latitude</th>\n",
              "      <th>Longitude</th>\n",
              "      <th>Num_Bathrooms</th>\n",
              "      <th>Num_Beds</th>\n",
              "      <th>Price</th>\n",
              "      <th>Price_pred_nlp</th>\n",
              "      <th>Service_Alarm</th>\n",
              "      <th>Service_Gas Fired Central Heating</th>\n",
              "      <th>Service_Oil Fired Central Heating</th>\n",
              "      <th>Service_Parking</th>\n",
              "      <th>Service_Wheelchair Access</th>\n",
              "      <th>Service_Wired for Cable Television</th>\n",
              "      <th>Surface</th>\n",
              "      <th>dist_from_dub_center</th>\n",
              "    </tr>\n",
              "  </thead>\n",
              "  <tbody>\n",
              "    <tr>\n",
              "      <th>1633</th>\n",
              "      <td>9.0</td>\n",
              "      <td>Built in c.1930 38 Stradbrook Road is a deligh...</td>\n",
              "      <td>Extremely convenient location \\nWheelchair acc...</td>\n",
              "      <td>-0.057373</td>\n",
              "      <td>0.099487</td>\n",
              "      <td>1</td>\n",
              "      <td>2</td>\n",
              "      <td>500000.0</td>\n",
              "      <td>450000.0</td>\n",
              "      <td>1.0</td>\n",
              "      <td>1.0</td>\n",
              "      <td>0.0</td>\n",
              "      <td>1.0</td>\n",
              "      <td>1.0</td>\n",
              "      <td>0.0</td>\n",
              "      <td>64.00</td>\n",
              "      <td>0.013189</td>\n",
              "    </tr>\n",
              "    <tr>\n",
              "      <th>1634</th>\n",
              "      <td>8.0</td>\n",
              "      <td>An impressive three-story family home superbly...</td>\n",
              "      <td>Gas fired central heating with underfloor heat...</td>\n",
              "      <td>-0.065165</td>\n",
              "      <td>0.087470</td>\n",
              "      <td>3</td>\n",
              "      <td>5</td>\n",
              "      <td>795000.0</td>\n",
              "      <td>795000.0</td>\n",
              "      <td>0.0</td>\n",
              "      <td>0.0</td>\n",
              "      <td>0.0</td>\n",
              "      <td>0.0</td>\n",
              "      <td>0.0</td>\n",
              "      <td>0.0</td>\n",
              "      <td>175.96</td>\n",
              "      <td>0.011897</td>\n",
              "    </tr>\n",
              "    <tr>\n",
              "      <th>1635</th>\n",
              "      <td>4.0</td>\n",
              "      <td>DNG Lucan's leading estate agents are delighte...</td>\n",
              "      <td>None</td>\n",
              "      <td>0.001527</td>\n",
              "      <td>-0.169123</td>\n",
              "      <td>2</td>\n",
              "      <td>3</td>\n",
              "      <td>340000.0</td>\n",
              "      <td>325000.0</td>\n",
              "      <td>0.0</td>\n",
              "      <td>0.0</td>\n",
              "      <td>0.0</td>\n",
              "      <td>0.0</td>\n",
              "      <td>0.0</td>\n",
              "      <td>0.0</td>\n",
              "      <td>98.00</td>\n",
              "      <td>0.028605</td>\n",
              "    </tr>\n",
              "    <tr>\n",
              "      <th>1636</th>\n",
              "      <td>12.0</td>\n",
              "      <td>Holyrood Castle is a most distinctive 19th cen...</td>\n",
              "      <td>None</td>\n",
              "      <td>-0.021143</td>\n",
              "      <td>0.045125</td>\n",
              "      <td>8</td>\n",
              "      <td>8</td>\n",
              "      <td>2500000.0</td>\n",
              "      <td>325000.0</td>\n",
              "      <td>0.0</td>\n",
              "      <td>0.0</td>\n",
              "      <td>0.0</td>\n",
              "      <td>0.0</td>\n",
              "      <td>0.0</td>\n",
              "      <td>0.0</td>\n",
              "      <td>507.00</td>\n",
              "      <td>0.002483</td>\n",
              "    </tr>\n",
              "    <tr>\n",
              "      <th>1637</th>\n",
              "      <td>13.0</td>\n",
              "      <td>A superb opportunity awaits to acquire this be...</td>\n",
              "      <td>Turn key condition\\nWood burning stove\\nSlider...</td>\n",
              "      <td>-0.118702</td>\n",
              "      <td>0.141133</td>\n",
              "      <td>2</td>\n",
              "      <td>2</td>\n",
              "      <td>370000.0</td>\n",
              "      <td>395000.0</td>\n",
              "      <td>0.0</td>\n",
              "      <td>0.0</td>\n",
              "      <td>0.0</td>\n",
              "      <td>0.0</td>\n",
              "      <td>0.0</td>\n",
              "      <td>0.0</td>\n",
              "      <td>50.00</td>\n",
              "      <td>0.034009</td>\n",
              "    </tr>\n",
              "  </tbody>\n",
              "</table>\n",
              "</div>"
            ],
            "text/plain": [
              "      BER_class  ... dist_from_dub_center\n",
              "1633        9.0  ...             0.013189\n",
              "1634        8.0  ...             0.011897\n",
              "1635        4.0  ...             0.028605\n",
              "1636       12.0  ...             0.002483\n",
              "1637       13.0  ...             0.034009\n",
              "\n",
              "[5 rows x 17 columns]"
            ]
          },
          "metadata": {}
        }
      ]
    },
    {
      "cell_type": "markdown",
      "metadata": {
        "id": "bJFJQxAS9HZK"
      },
      "source": [
        "# PIECEWISE REGRESSION"
      ]
    },
    {
      "cell_type": "markdown",
      "metadata": {
        "id": "QkRchZtf6IV-"
      },
      "source": [
        "**Piecewise regression**, extract from [Wikipedia](https://en.wikipedia.org/wiki/Segmented_regression):\n",
        "\n",
        "Segmented regression, also known as piecewise regression or broken-stick regression, is a method in regression analysis in which the independent variable is partitioned into intervals and a separate line segment is fit to each interval. \n",
        "\n",
        "* Segmented regression analysis can also be performed on \n",
        "multivariate data by partitioning the various independent variables. \n",
        "* Segmented regression is useful when the independent variables, clustered into different groups, exhibit different relationships between the variables in these regions. \n",
        "\n",
        "* The boundaries between the segments are breakpoints.\n",
        "\n",
        "* Segmented linear regression is segmented regression whereby the relations in the intervals are obtained by linear regression. "
      ]
    },
    {
      "cell_type": "markdown",
      "metadata": {
        "id": "po84zvge2NS7"
      },
      "source": [
        "Your comments, explanation, and references here."
      ]
    },
    {
      "cell_type": "code",
      "metadata": {
        "id": "pXX7Mq2Y2NrK",
        "colab": {
          "base_uri": "https://localhost:8080/"
        },
        "outputId": "1d3fd7b5-cc49-44c3-abee-8da5f5b1ce37"
      },
      "source": [
        "# your code here\n",
        "pwr_df = df.loc[:, ~df.columns.str.startswith('Location')].drop(['Description', 'Features'], axis=1)\n",
        "X = pwr_df.drop(\"Price\", axis = 1)\n",
        "y = pwr_df[\"Price\"]\n",
        "\n",
        "print('Number of nan in dataset: ',X.isnull().sum().sum())\n",
        "print('Number of nan in dataset: ',y.isnull().sum().sum())\n",
        "print(np.all(np.isfinite(y)))\n",
        "\n",
        "\n",
        "X_train, X_test, y_train, y_test = train_test_split(X, y, test_size = 0.20, random_state = 0)"
      ],
      "execution_count": 152,
      "outputs": [
        {
          "output_type": "stream",
          "name": "stdout",
          "text": [
            "Number of nan in dataset:  0\n",
            "Number of nan in dataset:  0\n",
            "True\n"
          ]
        }
      ]
    },
    {
      "cell_type": "code",
      "metadata": {
        "colab": {
          "base_uri": "https://localhost:8080/",
          "height": 614
        },
        "id": "OZ8shXW8lDWL",
        "outputId": "55f52e62-dd69-4e28-e088-5e3e367a090e"
      },
      "source": [
        "display(hide_one_hot_encoded_cols(pwr_df).describe())\n",
        "display(hide_one_hot_encoded_cols(pwr_df).tail()) "
      ],
      "execution_count": 153,
      "outputs": [
        {
          "output_type": "display_data",
          "data": {
            "text/html": [
              "<div>\n",
              "<style scoped>\n",
              "    .dataframe tbody tr th:only-of-type {\n",
              "        vertical-align: middle;\n",
              "    }\n",
              "\n",
              "    .dataframe tbody tr th {\n",
              "        vertical-align: top;\n",
              "    }\n",
              "\n",
              "    .dataframe thead th {\n",
              "        text-align: right;\n",
              "    }\n",
              "</style>\n",
              "<table border=\"1\" class=\"dataframe\">\n",
              "  <thead>\n",
              "    <tr style=\"text-align: right;\">\n",
              "      <th></th>\n",
              "      <th>BER_class</th>\n",
              "      <th>Latitude</th>\n",
              "      <th>Longitude</th>\n",
              "      <th>Num_Bathrooms</th>\n",
              "      <th>Num_Beds</th>\n",
              "      <th>Price</th>\n",
              "      <th>Service_Alarm</th>\n",
              "      <th>Service_Gas Fired Central Heating</th>\n",
              "      <th>Service_Oil Fired Central Heating</th>\n",
              "      <th>Service_Parking</th>\n",
              "      <th>Service_Wheelchair Access</th>\n",
              "      <th>Service_Wired for Cable Television</th>\n",
              "      <th>Surface</th>\n",
              "      <th>dist_from_dub_center</th>\n",
              "    </tr>\n",
              "  </thead>\n",
              "  <tbody>\n",
              "    <tr>\n",
              "      <th>count</th>\n",
              "      <td>2325.000000</td>\n",
              "      <td>2325.000000</td>\n",
              "      <td>2325.000000</td>\n",
              "      <td>2325.000000</td>\n",
              "      <td>2325.000000</td>\n",
              "      <td>2.325000e+03</td>\n",
              "      <td>2325.000000</td>\n",
              "      <td>2325.000000</td>\n",
              "      <td>2325.000000</td>\n",
              "      <td>2325.000000</td>\n",
              "      <td>2325.000000</td>\n",
              "      <td>2325.000000</td>\n",
              "      <td>2325.000000</td>\n",
              "      <td>2.325000e+03</td>\n",
              "    </tr>\n",
              "    <tr>\n",
              "      <th>mean</th>\n",
              "      <td>10.703650</td>\n",
              "      <td>0.000541</td>\n",
              "      <td>0.009959</td>\n",
              "      <td>2.027527</td>\n",
              "      <td>3.004731</td>\n",
              "      <td>1.161125e+06</td>\n",
              "      <td>0.187957</td>\n",
              "      <td>0.367312</td>\n",
              "      <td>0.037849</td>\n",
              "      <td>0.493763</td>\n",
              "      <td>0.033978</td>\n",
              "      <td>0.234839</td>\n",
              "      <td>118.754516</td>\n",
              "      <td>1.394049e-02</td>\n",
              "    </tr>\n",
              "    <tr>\n",
              "      <th>std</th>\n",
              "      <td>2.986118</td>\n",
              "      <td>0.073822</td>\n",
              "      <td>0.091637</td>\n",
              "      <td>1.076313</td>\n",
              "      <td>1.176898</td>\n",
              "      <td>1.262665e+06</td>\n",
              "      <td>0.405885</td>\n",
              "      <td>0.533037</td>\n",
              "      <td>0.190873</td>\n",
              "      <td>0.591521</td>\n",
              "      <td>0.181213</td>\n",
              "      <td>0.453414</td>\n",
              "      <td>79.466778</td>\n",
              "      <td>1.625778e-02</td>\n",
              "    </tr>\n",
              "    <tr>\n",
              "      <th>min</th>\n",
              "      <td>1.000000</td>\n",
              "      <td>-0.135913</td>\n",
              "      <td>-0.255028</td>\n",
              "      <td>1.000000</td>\n",
              "      <td>1.000000</td>\n",
              "      <td>0.000000e+00</td>\n",
              "      <td>0.000000</td>\n",
              "      <td>0.000000</td>\n",
              "      <td>0.000000</td>\n",
              "      <td>0.000000</td>\n",
              "      <td>0.000000</td>\n",
              "      <td>0.000000</td>\n",
              "      <td>3.400000</td>\n",
              "      <td>5.129842e-07</td>\n",
              "    </tr>\n",
              "    <tr>\n",
              "      <th>25%</th>\n",
              "      <td>9.000000</td>\n",
              "      <td>-0.055353</td>\n",
              "      <td>-0.042366</td>\n",
              "      <td>1.000000</td>\n",
              "      <td>2.000000</td>\n",
              "      <td>3.300000e+05</td>\n",
              "      <td>0.000000</td>\n",
              "      <td>0.000000</td>\n",
              "      <td>0.000000</td>\n",
              "      <td>0.000000</td>\n",
              "      <td>0.000000</td>\n",
              "      <td>0.000000</td>\n",
              "      <td>72.900000</td>\n",
              "      <td>2.159850e-03</td>\n",
              "    </tr>\n",
              "    <tr>\n",
              "      <th>50%</th>\n",
              "      <td>10.704190</td>\n",
              "      <td>-0.008981</td>\n",
              "      <td>0.018243</td>\n",
              "      <td>2.000000</td>\n",
              "      <td>3.000000</td>\n",
              "      <td>5.350000e+05</td>\n",
              "      <td>0.000000</td>\n",
              "      <td>0.000000</td>\n",
              "      <td>0.000000</td>\n",
              "      <td>0.000000</td>\n",
              "      <td>0.000000</td>\n",
              "      <td>0.000000</td>\n",
              "      <td>97.500000</td>\n",
              "      <td>7.548412e-03</td>\n",
              "    </tr>\n",
              "    <tr>\n",
              "      <th>75%</th>\n",
              "      <td>12.000000</td>\n",
              "      <td>0.031727</td>\n",
              "      <td>0.076482</td>\n",
              "      <td>3.000000</td>\n",
              "      <td>4.000000</td>\n",
              "      <td>1.558593e+06</td>\n",
              "      <td>0.000000</td>\n",
              "      <td>1.000000</td>\n",
              "      <td>0.000000</td>\n",
              "      <td>1.000000</td>\n",
              "      <td>0.000000</td>\n",
              "      <td>0.000000</td>\n",
              "      <td>135.000000</td>\n",
              "      <td>2.059258e-02</td>\n",
              "    </tr>\n",
              "    <tr>\n",
              "      <th>max</th>\n",
              "      <td>16.000000</td>\n",
              "      <td>0.280448</td>\n",
              "      <td>0.211436</td>\n",
              "      <td>8.000000</td>\n",
              "      <td>10.000000</td>\n",
              "      <td>7.950000e+06</td>\n",
              "      <td>2.000000</td>\n",
              "      <td>2.000000</td>\n",
              "      <td>1.000000</td>\n",
              "      <td>2.000000</td>\n",
              "      <td>1.000000</td>\n",
              "      <td>2.000000</td>\n",
              "      <td>724.100000</td>\n",
              "      <td>8.115278e-02</td>\n",
              "    </tr>\n",
              "  </tbody>\n",
              "</table>\n",
              "</div>"
            ],
            "text/plain": [
              "         BER_class     Latitude  ...      Surface  dist_from_dub_center\n",
              "count  2325.000000  2325.000000  ...  2325.000000          2.325000e+03\n",
              "mean     10.703650     0.000541  ...   118.754516          1.394049e-02\n",
              "std       2.986118     0.073822  ...    79.466778          1.625778e-02\n",
              "min       1.000000    -0.135913  ...     3.400000          5.129842e-07\n",
              "25%       9.000000    -0.055353  ...    72.900000          2.159850e-03\n",
              "50%      10.704190    -0.008981  ...    97.500000          7.548412e-03\n",
              "75%      12.000000     0.031727  ...   135.000000          2.059258e-02\n",
              "max      16.000000     0.280448  ...   724.100000          8.115278e-02\n",
              "\n",
              "[8 rows x 14 columns]"
            ]
          },
          "metadata": {}
        },
        {
          "output_type": "display_data",
          "data": {
            "text/html": [
              "<div>\n",
              "<style scoped>\n",
              "    .dataframe tbody tr th:only-of-type {\n",
              "        vertical-align: middle;\n",
              "    }\n",
              "\n",
              "    .dataframe tbody tr th {\n",
              "        vertical-align: top;\n",
              "    }\n",
              "\n",
              "    .dataframe thead th {\n",
              "        text-align: right;\n",
              "    }\n",
              "</style>\n",
              "<table border=\"1\" class=\"dataframe\">\n",
              "  <thead>\n",
              "    <tr style=\"text-align: right;\">\n",
              "      <th></th>\n",
              "      <th>BER_class</th>\n",
              "      <th>Latitude</th>\n",
              "      <th>Longitude</th>\n",
              "      <th>Num_Bathrooms</th>\n",
              "      <th>Num_Beds</th>\n",
              "      <th>Price</th>\n",
              "      <th>Service_Alarm</th>\n",
              "      <th>Service_Gas Fired Central Heating</th>\n",
              "      <th>Service_Oil Fired Central Heating</th>\n",
              "      <th>Service_Parking</th>\n",
              "      <th>Service_Wheelchair Access</th>\n",
              "      <th>Service_Wired for Cable Television</th>\n",
              "      <th>Surface</th>\n",
              "      <th>dist_from_dub_center</th>\n",
              "    </tr>\n",
              "  </thead>\n",
              "  <tbody>\n",
              "    <tr>\n",
              "      <th>1633</th>\n",
              "      <td>9.0</td>\n",
              "      <td>-0.057373</td>\n",
              "      <td>0.099487</td>\n",
              "      <td>1</td>\n",
              "      <td>2</td>\n",
              "      <td>500000.0</td>\n",
              "      <td>1.0</td>\n",
              "      <td>1.0</td>\n",
              "      <td>0.0</td>\n",
              "      <td>1.0</td>\n",
              "      <td>1.0</td>\n",
              "      <td>0.0</td>\n",
              "      <td>64.00</td>\n",
              "      <td>0.013189</td>\n",
              "    </tr>\n",
              "    <tr>\n",
              "      <th>1634</th>\n",
              "      <td>8.0</td>\n",
              "      <td>-0.065165</td>\n",
              "      <td>0.087470</td>\n",
              "      <td>3</td>\n",
              "      <td>5</td>\n",
              "      <td>795000.0</td>\n",
              "      <td>0.0</td>\n",
              "      <td>0.0</td>\n",
              "      <td>0.0</td>\n",
              "      <td>0.0</td>\n",
              "      <td>0.0</td>\n",
              "      <td>0.0</td>\n",
              "      <td>175.96</td>\n",
              "      <td>0.011897</td>\n",
              "    </tr>\n",
              "    <tr>\n",
              "      <th>1635</th>\n",
              "      <td>4.0</td>\n",
              "      <td>0.001527</td>\n",
              "      <td>-0.169123</td>\n",
              "      <td>2</td>\n",
              "      <td>3</td>\n",
              "      <td>340000.0</td>\n",
              "      <td>0.0</td>\n",
              "      <td>0.0</td>\n",
              "      <td>0.0</td>\n",
              "      <td>0.0</td>\n",
              "      <td>0.0</td>\n",
              "      <td>0.0</td>\n",
              "      <td>98.00</td>\n",
              "      <td>0.028605</td>\n",
              "    </tr>\n",
              "    <tr>\n",
              "      <th>1636</th>\n",
              "      <td>12.0</td>\n",
              "      <td>-0.021143</td>\n",
              "      <td>0.045125</td>\n",
              "      <td>8</td>\n",
              "      <td>8</td>\n",
              "      <td>2500000.0</td>\n",
              "      <td>0.0</td>\n",
              "      <td>0.0</td>\n",
              "      <td>0.0</td>\n",
              "      <td>0.0</td>\n",
              "      <td>0.0</td>\n",
              "      <td>0.0</td>\n",
              "      <td>507.00</td>\n",
              "      <td>0.002483</td>\n",
              "    </tr>\n",
              "    <tr>\n",
              "      <th>1637</th>\n",
              "      <td>13.0</td>\n",
              "      <td>-0.118702</td>\n",
              "      <td>0.141133</td>\n",
              "      <td>2</td>\n",
              "      <td>2</td>\n",
              "      <td>370000.0</td>\n",
              "      <td>0.0</td>\n",
              "      <td>0.0</td>\n",
              "      <td>0.0</td>\n",
              "      <td>0.0</td>\n",
              "      <td>0.0</td>\n",
              "      <td>0.0</td>\n",
              "      <td>50.00</td>\n",
              "      <td>0.034009</td>\n",
              "    </tr>\n",
              "  </tbody>\n",
              "</table>\n",
              "</div>"
            ],
            "text/plain": [
              "      BER_class  Latitude  ...  Surface  dist_from_dub_center\n",
              "1633        9.0 -0.057373  ...    64.00              0.013189\n",
              "1634        8.0 -0.065165  ...   175.96              0.011897\n",
              "1635        4.0  0.001527  ...    98.00              0.028605\n",
              "1636       12.0 -0.021143  ...   507.00              0.002483\n",
              "1637       13.0 -0.118702  ...    50.00              0.034009\n",
              "\n",
              "[5 rows x 14 columns]"
            ]
          },
          "metadata": {}
        }
      ]
    },
    {
      "cell_type": "code",
      "metadata": {
        "colab": {
          "base_uri": "https://localhost:8080/",
          "height": 485
        },
        "id": "KHWl2v5Lks3D",
        "outputId": "2dd9b3a8-2bb6-46bb-dff0-4a2de8fd28b6"
      },
      "source": [
        "display(X_train.describe())\n",
        "display(y_train.head())"
      ],
      "execution_count": 154,
      "outputs": [
        {
          "output_type": "display_data",
          "data": {
            "text/html": [
              "<div>\n",
              "<style scoped>\n",
              "    .dataframe tbody tr th:only-of-type {\n",
              "        vertical-align: middle;\n",
              "    }\n",
              "\n",
              "    .dataframe tbody tr th {\n",
              "        vertical-align: top;\n",
              "    }\n",
              "\n",
              "    .dataframe thead th {\n",
              "        text-align: right;\n",
              "    }\n",
              "</style>\n",
              "<table border=\"1\" class=\"dataframe\">\n",
              "  <thead>\n",
              "    <tr style=\"text-align: right;\">\n",
              "      <th></th>\n",
              "      <th>BER_class</th>\n",
              "      <th>Latitude</th>\n",
              "      <th>Longitude</th>\n",
              "      <th>Num_Bathrooms</th>\n",
              "      <th>Num_Beds</th>\n",
              "      <th>Service_Alarm</th>\n",
              "      <th>Service_Gas Fired Central Heating</th>\n",
              "      <th>Service_Oil Fired Central Heating</th>\n",
              "      <th>Service_Parking</th>\n",
              "      <th>Service_Wheelchair Access</th>\n",
              "      <th>Service_Wired for Cable Television</th>\n",
              "      <th>Surface</th>\n",
              "      <th>Type_apartment</th>\n",
              "      <th>Type_bungalow</th>\n",
              "      <th>Type_detached</th>\n",
              "      <th>Type_duplex</th>\n",
              "      <th>Type_end-of-terrace</th>\n",
              "      <th>Type_nan</th>\n",
              "      <th>Type_semi-detached</th>\n",
              "      <th>Type_site</th>\n",
              "      <th>Type_studio</th>\n",
              "      <th>Type_terraced</th>\n",
              "      <th>Type_townhouse</th>\n",
              "      <th>dist_from_dub_center</th>\n",
              "    </tr>\n",
              "  </thead>\n",
              "  <tbody>\n",
              "    <tr>\n",
              "      <th>count</th>\n",
              "      <td>1860.000000</td>\n",
              "      <td>1860.000000</td>\n",
              "      <td>1860.000000</td>\n",
              "      <td>1860.000000</td>\n",
              "      <td>1860.000000</td>\n",
              "      <td>1860.000000</td>\n",
              "      <td>1860.000000</td>\n",
              "      <td>1860.00000</td>\n",
              "      <td>1860.000000</td>\n",
              "      <td>1860.000000</td>\n",
              "      <td>1860.000000</td>\n",
              "      <td>1860.000000</td>\n",
              "      <td>1860.000000</td>\n",
              "      <td>1860.000000</td>\n",
              "      <td>1860.000000</td>\n",
              "      <td>1860.000000</td>\n",
              "      <td>1860.000000</td>\n",
              "      <td>1860.0</td>\n",
              "      <td>1860.000000</td>\n",
              "      <td>1860.000000</td>\n",
              "      <td>1860.000000</td>\n",
              "      <td>1860.000000</td>\n",
              "      <td>1860.000000</td>\n",
              "      <td>1860.000000</td>\n",
              "    </tr>\n",
              "    <tr>\n",
              "      <th>mean</th>\n",
              "      <td>10.774567</td>\n",
              "      <td>0.001567</td>\n",
              "      <td>0.008156</td>\n",
              "      <td>2.021505</td>\n",
              "      <td>3.006989</td>\n",
              "      <td>0.188172</td>\n",
              "      <td>0.359677</td>\n",
              "      <td>0.04086</td>\n",
              "      <td>0.490323</td>\n",
              "      <td>0.034946</td>\n",
              "      <td>0.234409</td>\n",
              "      <td>118.016910</td>\n",
              "      <td>0.260215</td>\n",
              "      <td>0.029570</td>\n",
              "      <td>0.143011</td>\n",
              "      <td>0.024194</td>\n",
              "      <td>0.081183</td>\n",
              "      <td>0.0</td>\n",
              "      <td>0.266129</td>\n",
              "      <td>0.001613</td>\n",
              "      <td>0.001075</td>\n",
              "      <td>0.183333</td>\n",
              "      <td>0.009677</td>\n",
              "      <td>0.014005</td>\n",
              "    </tr>\n",
              "    <tr>\n",
              "      <th>std</th>\n",
              "      <td>2.985838</td>\n",
              "      <td>0.073041</td>\n",
              "      <td>0.092780</td>\n",
              "      <td>1.073205</td>\n",
              "      <td>1.174159</td>\n",
              "      <td>0.408450</td>\n",
              "      <td>0.534136</td>\n",
              "      <td>0.19802</td>\n",
              "      <td>0.596216</td>\n",
              "      <td>0.183693</td>\n",
              "      <td>0.453187</td>\n",
              "      <td>77.422511</td>\n",
              "      <td>0.438870</td>\n",
              "      <td>0.169443</td>\n",
              "      <td>0.350178</td>\n",
              "      <td>0.153691</td>\n",
              "      <td>0.273189</td>\n",
              "      <td>0.0</td>\n",
              "      <td>0.442051</td>\n",
              "      <td>0.040139</td>\n",
              "      <td>0.032782</td>\n",
              "      <td>0.387044</td>\n",
              "      <td>0.097923</td>\n",
              "      <td>0.016222</td>\n",
              "    </tr>\n",
              "    <tr>\n",
              "      <th>min</th>\n",
              "      <td>1.000000</td>\n",
              "      <td>-0.134876</td>\n",
              "      <td>-0.255028</td>\n",
              "      <td>1.000000</td>\n",
              "      <td>1.000000</td>\n",
              "      <td>0.000000</td>\n",
              "      <td>0.000000</td>\n",
              "      <td>0.00000</td>\n",
              "      <td>0.000000</td>\n",
              "      <td>0.000000</td>\n",
              "      <td>0.000000</td>\n",
              "      <td>3.400000</td>\n",
              "      <td>0.000000</td>\n",
              "      <td>0.000000</td>\n",
              "      <td>0.000000</td>\n",
              "      <td>0.000000</td>\n",
              "      <td>0.000000</td>\n",
              "      <td>0.0</td>\n",
              "      <td>0.000000</td>\n",
              "      <td>0.000000</td>\n",
              "      <td>0.000000</td>\n",
              "      <td>0.000000</td>\n",
              "      <td>0.000000</td>\n",
              "      <td>0.000002</td>\n",
              "    </tr>\n",
              "    <tr>\n",
              "      <th>25%</th>\n",
              "      <td>9.000000</td>\n",
              "      <td>-0.054078</td>\n",
              "      <td>-0.044735</td>\n",
              "      <td>1.000000</td>\n",
              "      <td>2.000000</td>\n",
              "      <td>0.000000</td>\n",
              "      <td>0.000000</td>\n",
              "      <td>0.00000</td>\n",
              "      <td>0.000000</td>\n",
              "      <td>0.000000</td>\n",
              "      <td>0.000000</td>\n",
              "      <td>72.737500</td>\n",
              "      <td>0.000000</td>\n",
              "      <td>0.000000</td>\n",
              "      <td>0.000000</td>\n",
              "      <td>0.000000</td>\n",
              "      <td>0.000000</td>\n",
              "      <td>0.0</td>\n",
              "      <td>0.000000</td>\n",
              "      <td>0.000000</td>\n",
              "      <td>0.000000</td>\n",
              "      <td>0.000000</td>\n",
              "      <td>0.000000</td>\n",
              "      <td>0.002213</td>\n",
              "    </tr>\n",
              "    <tr>\n",
              "      <th>50%</th>\n",
              "      <td>10.704190</td>\n",
              "      <td>-0.007849</td>\n",
              "      <td>0.016389</td>\n",
              "      <td>2.000000</td>\n",
              "      <td>3.000000</td>\n",
              "      <td>0.000000</td>\n",
              "      <td>0.000000</td>\n",
              "      <td>0.00000</td>\n",
              "      <td>0.000000</td>\n",
              "      <td>0.000000</td>\n",
              "      <td>0.000000</td>\n",
              "      <td>97.000000</td>\n",
              "      <td>0.000000</td>\n",
              "      <td>0.000000</td>\n",
              "      <td>0.000000</td>\n",
              "      <td>0.000000</td>\n",
              "      <td>0.000000</td>\n",
              "      <td>0.0</td>\n",
              "      <td>0.000000</td>\n",
              "      <td>0.000000</td>\n",
              "      <td>0.000000</td>\n",
              "      <td>0.000000</td>\n",
              "      <td>0.000000</td>\n",
              "      <td>0.007610</td>\n",
              "    </tr>\n",
              "    <tr>\n",
              "      <th>75%</th>\n",
              "      <td>13.000000</td>\n",
              "      <td>0.033141</td>\n",
              "      <td>0.076700</td>\n",
              "      <td>3.000000</td>\n",
              "      <td>4.000000</td>\n",
              "      <td>0.000000</td>\n",
              "      <td>1.000000</td>\n",
              "      <td>0.00000</td>\n",
              "      <td>1.000000</td>\n",
              "      <td>0.000000</td>\n",
              "      <td>0.000000</td>\n",
              "      <td>135.000000</td>\n",
              "      <td>1.000000</td>\n",
              "      <td>0.000000</td>\n",
              "      <td>0.000000</td>\n",
              "      <td>0.000000</td>\n",
              "      <td>0.000000</td>\n",
              "      <td>0.0</td>\n",
              "      <td>1.000000</td>\n",
              "      <td>0.000000</td>\n",
              "      <td>0.000000</td>\n",
              "      <td>0.000000</td>\n",
              "      <td>0.000000</td>\n",
              "      <td>0.020688</td>\n",
              "    </tr>\n",
              "    <tr>\n",
              "      <th>max</th>\n",
              "      <td>16.000000</td>\n",
              "      <td>0.280448</td>\n",
              "      <td>0.211436</td>\n",
              "      <td>8.000000</td>\n",
              "      <td>10.000000</td>\n",
              "      <td>2.000000</td>\n",
              "      <td>2.000000</td>\n",
              "      <td>1.00000</td>\n",
              "      <td>2.000000</td>\n",
              "      <td>1.000000</td>\n",
              "      <td>2.000000</td>\n",
              "      <td>724.100000</td>\n",
              "      <td>1.000000</td>\n",
              "      <td>1.000000</td>\n",
              "      <td>1.000000</td>\n",
              "      <td>1.000000</td>\n",
              "      <td>1.000000</td>\n",
              "      <td>0.0</td>\n",
              "      <td>1.000000</td>\n",
              "      <td>1.000000</td>\n",
              "      <td>1.000000</td>\n",
              "      <td>1.000000</td>\n",
              "      <td>1.000000</td>\n",
              "      <td>0.081153</td>\n",
              "    </tr>\n",
              "  </tbody>\n",
              "</table>\n",
              "</div>"
            ],
            "text/plain": [
              "         BER_class     Latitude  ...  Type_townhouse  dist_from_dub_center\n",
              "count  1860.000000  1860.000000  ...     1860.000000           1860.000000\n",
              "mean     10.774567     0.001567  ...        0.009677              0.014005\n",
              "std       2.985838     0.073041  ...        0.097923              0.016222\n",
              "min       1.000000    -0.134876  ...        0.000000              0.000002\n",
              "25%       9.000000    -0.054078  ...        0.000000              0.002213\n",
              "50%      10.704190    -0.007849  ...        0.000000              0.007610\n",
              "75%      13.000000     0.033141  ...        0.000000              0.020688\n",
              "max      16.000000     0.280448  ...        1.000000              0.081153\n",
              "\n",
              "[8 rows x 24 columns]"
            ]
          },
          "metadata": {}
        },
        {
          "output_type": "display_data",
          "data": {
            "text/plain": [
              "731      239950.0\n",
              "1525     305000.0\n",
              "1150     525000.0\n",
              "326      265000.0\n",
              "651     1622523.0\n",
              "Name: Price, dtype: float64"
            ]
          },
          "metadata": {}
        }
      ]
    },
    {
      "cell_type": "code",
      "metadata": {
        "colab": {
          "base_uri": "https://localhost:8080/",
          "height": 323
        },
        "id": "loTvoXRlfKXK",
        "outputId": "1a656799-c219-47a2-d294-c167d14caf7f"
      },
      "source": [
        "\n",
        "# StandardScaler() will normalize the features i.e. each column of X, \n",
        "# so, each column/feature/variable will have μ = 0 and σ = 1\n",
        "sc = StandardScaler()\n",
        "\n",
        "print(y_train.shape)\n",
        "\n",
        "# train set, input columns\n",
        "Xs_train = X_train.iloc[:,0:-1].values \n",
        "# train set, output column, cost\n",
        "ys_train = y_train.values.reshape(-1,1) #.iloc[:,-1].values.reshape(-1,1)   \n",
        "\n",
        "# test set, input columns\n",
        "Xs_test = X_test.iloc[:,0:-1].values \n",
        "# test set, output column, cost\n",
        "ys_test = y_test#.iloc[:,0:-1].values\n",
        "\n",
        "# StandardScaler() will normalize the features i.e. each column of X, \n",
        "# so, each column/feature/variable will have μ = 0 and σ = 1\n",
        "sc = StandardScaler()\n",
        "\n",
        "Xss_train = np.hstack([Xs_train,Xs_train[:,[2]]**2])\n",
        "xscaler = sc.fit(Xss_train)\n",
        "Xn_train = xscaler.transform(Xss_train)\n",
        "\n",
        "Xss_test = np.hstack([Xs_test,Xs_test[:,[2]]**2])\n",
        "Xn_test = xscaler.transform(Xss_test)\n",
        "\n",
        "ylog = np.log(ys_train.astype('float'))\n",
        "# ylog = np.log(ylog)\n",
        "\n",
        "yscaler = StandardScaler().fit(ylog)\n",
        "yn_train = yscaler.transform(ylog)\n",
        "\n",
        "\n",
        "with pm.Model() as model:\n",
        "    #prior over the parameters of linear regression\n",
        "    alpha = pm.Normal('alpha', mu=0, sigma=30)\n",
        "    #we have one beta for each column of Xn\n",
        "    beta = pm.Normal('beta', mu=0, sigma=30, shape=Xn_train.shape[1])\n",
        "    #prior over the variance of the noise\n",
        "    sigma = pm.HalfCauchy('sigma_n', 5)\n",
        "    #linear regression model in matrix form\n",
        "    mu = alpha + pm.math.dot(beta, Xn_train.T)\n",
        "    #likelihood, be sure that observed is a 1d vector\n",
        "    like = pm.Normal('like', mu=mu, sigma=sigma, observed=yn_train[:,0])\n",
        "\n",
        "    \n",
        "\n",
        "#number of iterations of the algorithms\n",
        "iter = 50000 \n",
        "\n",
        "# run the model\n",
        "with model:\n",
        "    approximation = pm.fit(iter,method='advi')\n",
        "    \n",
        "# check the convergence\n",
        "plt.plot(approximation.hist);"
      ],
      "execution_count": 155,
      "outputs": [
        {
          "output_type": "stream",
          "name": "stdout",
          "text": [
            "(1860,)\n"
          ]
        },
        {
          "output_type": "display_data",
          "data": {
            "text/html": [
              "\n",
              "    <div>\n",
              "        <style>\n",
              "            /* Turns off some styling */\n",
              "            progress {\n",
              "                /* gets rid of default border in Firefox and Opera. */\n",
              "                border: none;\n",
              "                /* Needs to be in here for Safari polyfill so background images work as expected. */\n",
              "                background-size: auto;\n",
              "            }\n",
              "            .progress-bar-interrupted, .progress-bar-interrupted::-webkit-progress-bar {\n",
              "                background: #F44336;\n",
              "            }\n",
              "        </style>\n",
              "      <progress value='50000' class='' max='50000' style='width:300px; height:20px; vertical-align: middle;'></progress>\n",
              "      100.00% [50000/50000 00:12<00:00 Average Loss = 2,662.7]\n",
              "    </div>\n",
              "    "
            ],
            "text/plain": [
              "<IPython.core.display.HTML object>"
            ]
          },
          "metadata": {}
        },
        {
          "output_type": "stream",
          "name": "stderr",
          "text": [
            "Finished [100%]: Average Loss = 2,662.7\n"
          ]
        },
        {
          "output_type": "display_data",
          "data": {
            "image/png": "[encoded data removed]",
            "text/plain": [
              "<Figure size 432x288 with 1 Axes>"
            ]
          },
          "metadata": {
            "needs_background": "light"
          }
        }
      ]
    },
    {
      "cell_type": "code",
      "metadata": {
        "colab": {
          "base_uri": "https://localhost:8080/"
        },
        "id": "FoHTZAetkD_O",
        "outputId": "028c0edb-7a02-4f31-e4dc-62d18574f621"
      },
      "source": [
        "# samples from the posterior\n",
        "posterior = approximation.sample(5000)\n",
        "\n",
        "# prediction\n",
        "ll=np.mean(posterior['alpha']) + np.dot(np.mean(posterior['beta'],axis=0), Xn_test.T)\n",
        "y_pred_BLR = np.exp(yscaler.inverse_transform(ll.reshape(-1,1)))[:,0]\n",
        "print(\"MAE = \",(np.mean(abs(y_pred_BLR - y_test.values))))\n",
        "print(\"MAPE = \",(np.mean(abs(y_pred_BLR - y_test.values) / y_test.values)))"
      ],
      "execution_count": 156,
      "outputs": [
        {
          "output_type": "stream",
          "name": "stdout",
          "text": [
            "MAE =  808665.6240044786\n",
            "MAPE =  inf\n"
          ]
        }
      ]
    },
    {
      "cell_type": "markdown",
      "metadata": {
        "id": "_kFgkUA85_pn"
      },
      "source": [
        "# BAYESIAN NN"
      ]
    },
    {
      "cell_type": "markdown",
      "metadata": {
        "id": "ELer5PV37ftX"
      },
      "source": [
        "A [Bayesian network](https://en.wikipedia.org/wiki/Bayesian_network) (also known as a Bayes network, Bayes net, belief network, or decision network) is a probabilistic graphical model that represents a set of variables and their conditional dependencies via a directed acyclic graph (DAG). \n",
        "\n",
        "* Bayesian networks are ideal for taking an event that occurred and predicting the likelihood that any one of several possible known causes was the contributing factor. \n",
        "* For example, a Bayesian network could represent the probabilistic relationships between diseases and symptoms. \n",
        "* Given symptoms, the network can be used to compute the probabilities of the presence of various diseases."
      ]
    },
    {
      "cell_type": "markdown",
      "metadata": {
        "id": "z0kauv1L5_po"
      },
      "source": [
        "Your comments, explanation, and references here."
      ]
    },
    {
      "cell_type": "code",
      "metadata": {
        "id": "0smpwCET5_pp"
      },
      "source": [
        "# your code here\n"
      ],
      "execution_count": 157,
      "outputs": []
    },
    {
      "cell_type": "markdown",
      "metadata": {
        "id": "f0GYCpwEM09T"
      },
      "source": [
        "# SUMMARY"
      ]
    },
    {
      "cell_type": "markdown",
      "metadata": {
        "id": "rBDzsZSJ7HZp"
      },
      "source": [
        "Your summary here."
      ]
    }
  ]
}