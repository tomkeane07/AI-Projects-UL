{
  "nbformat": 4,
  "nbformat_minor": 0,
  "metadata": {
    "colab": {
      "name": "ET5003_KaggleCompetition.ipynb",
      "provenance": []
    },
    "kernelspec": {
      "name": "python3",
      "display_name": "Python 3"
    },
    "language_info": {
      "name": "python"
    }
  },
  "cells": [
    {
      "cell_type": "markdown",
      "metadata": {
        "id": "930vlW5BrOtq"
      },
      "source": [
        "<div>\n",
        "<img src=\"https://drive.google.com/uc?export=view&id=1vK33e_EqaHgBHcbRV_m38hx6IkG0blK_\" width=\"350\"/>\n",
        "</div> \n",
        "\n",
        "#**Artificial Intelligence - MSc**\n",
        "##ET5003 - MACHINE LEARNING APPLICATIONS \n",
        "\n",
        "###Instructor: Enrique Naredo\n",
        "###ET5003_KaggleCompetition"
      ]
    },
    {
      "cell_type": "code",
      "metadata": {
        "id": "LqXD_IwUQuBF",
        "cellView": "form"
      },
      "source": [
        "#@title Current Date\n",
        "Today = '2021-10-05' #@param {type:\"date\"}\n"
      ],
      "execution_count": 1,
      "outputs": []
    },
    {
      "cell_type": "code",
      "metadata": {
        "id": "uzDKau31OjVO"
      },
      "source": [
        "#@markdown ---\n",
        "#@markdown ### Enter your details here:\n",
        "Team_Number = \"1\" #@param {type:\"string\"}\n",
        "Student_ID_Name = \"20214537 Tom Keane\" #@param {type:\"string\"}\n",
        "Student_ID_Name = \"\" #@param {type:\"string\"}\n",
        "Student_ID_Name = \"\" #@param {type:\"string\"}\n",
        "Student_ID_Name = \"\" #@param {type:\"string\"}\n",
        "Student_ID_Name = \"\" #@param {type:\"string\"}\n",
        "#@markdown ---"
      ],
      "execution_count": 2,
      "outputs": []
    },
    {
      "cell_type": "code",
      "metadata": {
        "id": "r39xGZckTpKx"
      },
      "source": [
        "#@title Notebook information\n",
        "Notebook_type = 'Etivity' #@param [\"Example\", \"Lab\", \"Practice\", \"Etivity\", \"Assignment\", \"Exam\"]\n",
        "Version = \"Final\" #@param [\"Draft\", \"Final\"] {type:\"raw\"}\n",
        "Submission = False #@param {type:\"boolean\"}"
      ],
      "execution_count": 3,
      "outputs": []
    },
    {
      "cell_type": "markdown",
      "metadata": {
        "id": "_A0Z6S-r6DpA"
      },
      "source": [
        "# INTRODUCTION"
      ]
    },
    {
      "cell_type": "markdown",
      "metadata": {
        "id": "d2vlkUAJ7Pz7"
      },
      "source": [
        "Your introduction here."
      ]
    },
    {
      "cell_type": "markdown",
      "metadata": {
        "id": "aajlS0WCJ8pm"
      },
      "source": [
        "***The goal is to use advanced Machine Learning methods to predict House price.***"
      ]
    },
    {
      "cell_type": "markdown",
      "metadata": {
        "id": "Wg7VCbX77eAA"
      },
      "source": [
        "## Imports"
      ]
    },
    {
      "cell_type": "code",
      "metadata": {
        "id": "iFFLThrpwibd"
      },
      "source": [
        "# Suppressing Warnings:\n",
        "import warnings\n",
        "warnings.filterwarnings(\"ignore\")"
      ],
      "execution_count": 4,
      "outputs": []
    },
    {
      "cell_type": "code",
      "metadata": {
        "id": "k96-GLUGE2ux"
      },
      "source": [
        "# standard libraries\n",
        "import pandas as pd\n",
        "import numpy as np\n",
        "import matplotlib.pyplot as plt\n",
        "from scipy import stats\n",
        "%matplotlib inline"
      ],
      "execution_count": 5,
      "outputs": []
    },
    {
      "cell_type": "code",
      "metadata": {
        "id": "sYPJU_Y6O6Dq"
      },
      "source": [
        "# to plot\n",
        "import matplotlib.colors\n",
        "from mpl_toolkits.mplot3d import Axes3D\n",
        "\n",
        "# to generate classification, regression and clustering datasets\n",
        "import sklearn.datasets as dt\n",
        "\n",
        "# to create data frames\n",
        "from pandas import DataFrame\n",
        "\n",
        "# to generate data from an existing dataset\n",
        "from sklearn.neighbors import KernelDensity\n",
        "from sklearn.model_selection import GridSearchCV\n",
        "\n",
        "import seaborn as sns"
      ],
      "execution_count": 6,
      "outputs": []
    },
    {
      "cell_type": "code",
      "metadata": {
        "id": "mxMYIOx1FONV"
      },
      "source": [
        "# Scikit-learn is an open source machine learning library \n",
        "# that supports supervised and unsupervised learning\n",
        "# https://scikit-learn.org/stable/\n",
        "from sklearn.model_selection import train_test_split\n",
        "from sklearn.feature_extraction.text import CountVectorizer\n",
        "from sklearn.naive_bayes import MultinomialNB\n",
        "from sklearn.metrics import accuracy_score, confusion_matrix"
      ],
      "execution_count": 7,
      "outputs": []
    },
    {
      "cell_type": "code",
      "metadata": {
        "id": "YLlFHWx4j7W6"
      },
      "source": [
        "# Regular expression operations\n",
        "#https://docs.python.org/3/library/re.html\n",
        "import re \n",
        "\n",
        "# Natural Language Toolkit\n",
        "# https://www.nltk.org/install.html\n",
        "import nltk\n",
        "\n",
        "# Stemming maps different forms of the same word to a common “stem” \n",
        "# https://pypi.org/project/snowballstemmer/\n",
        "from nltk.stem import SnowballStemmer\n",
        "\n",
        "# https://www.nltk.org/book/ch02.html\n",
        "from nltk.corpus import stopwords\n",
        "\n",
        "# https://scikit-learn.org/stable/modules/generated/sklearn.preprocessing.StandardScaler.html\n",
        "from sklearn.preprocessing import StandardScaler"
      ],
      "execution_count": 8,
      "outputs": []
    },
    {
      "cell_type": "code",
      "metadata": {
        "colab": {
          "base_uri": "https://localhost:8080/"
        },
        "id": "5cfDHD9BXh0s",
        "outputId": "6386076a-eeb1-4369-eb99-f266f216ddf8"
      },
      "source": [
        "!pip install gpy"
      ],
      "execution_count": 9,
      "outputs": [
        {
          "output_type": "stream",
          "name": "stdout",
          "text": [
            "Requirement already satisfied: gpy in /usr/local/lib/python3.7/dist-packages (1.10.0)\n",
            "Requirement already satisfied: scipy>=1.3.0 in /usr/local/lib/python3.7/dist-packages (from gpy) (1.4.1)\n",
            "Requirement already satisfied: paramz>=0.9.0 in /usr/local/lib/python3.7/dist-packages (from gpy) (0.9.5)\n",
            "Requirement already satisfied: six in /usr/local/lib/python3.7/dist-packages (from gpy) (1.15.0)\n",
            "Requirement already satisfied: numpy>=1.7 in /usr/local/lib/python3.7/dist-packages (from gpy) (1.19.5)\n",
            "Requirement already satisfied: cython>=0.29 in /usr/local/lib/python3.7/dist-packages (from gpy) (0.29.24)\n",
            "Requirement already satisfied: decorator>=4.0.10 in /usr/local/lib/python3.7/dist-packages (from paramz>=0.9.0->gpy) (4.4.2)\n"
          ]
        }
      ]
    },
    {
      "cell_type": "code",
      "metadata": {
        "id": "SwGh2bagw4kg"
      },
      "source": [
        "import GPy as GPy\n",
        "import numpy as np\n",
        "import pylab as pb\n",
        "import pymc3 as pm\n",
        "import arviz as az"
      ],
      "execution_count": 10,
      "outputs": []
    },
    {
      "cell_type": "code",
      "metadata": {
        "id": "6MUJdlxSPSMM"
      },
      "source": [
        "# Define the seed so that results can be reproduced\n",
        "seed = 11\n",
        "rand_state = 11\n",
        "\n",
        "# Define the color maps for plots\n",
        "color_map = plt.cm.get_cmap('RdYlBu')\n",
        "color_map_discrete = matplotlib.colors.LinearSegmentedColormap.from_list(\"\", [\"red\",\"cyan\",\"magenta\",\"blue\"])"
      ],
      "execution_count": 11,
      "outputs": []
    },
    {
      "cell_type": "markdown",
      "metadata": {
        "id": "WL91ShB19RPw"
      },
      "source": [
        "# DATASET"
      ]
    },
    {
      "cell_type": "markdown",
      "metadata": {
        "id": "ESg5DGKWJSOf"
      },
      "source": [
        "Extract from this [paper](https://ieeexplore.ieee.org/document/9300074):\n",
        "\n",
        "* House prices are a significant impression of the economy, and its value ranges are of great concerns for the clients and property dealers. \n",
        "\n",
        "* Housing price escalate every year that eventually reinforced the need of strategy or technique that could predict house prices in future. \n",
        "\n",
        "* There are certain factors that influence house prices including physical conditions, locations, number of bedrooms and others.\n"
      ]
    },
    {
      "cell_type": "markdown",
      "metadata": {
        "id": "a8Y2pf50FlYL"
      },
      "source": [
        "1. [Download the dataset](https://github.com/UL-CS6134/CS6134_SEM1_2021-2/tree/main/Week-5). \n",
        "\n",
        "2. Upload the dataset into your folder.\n",
        "\n"
      ]
    },
    {
      "cell_type": "markdown",
      "metadata": {
        "id": "FMkdCQEmKTof"
      },
      "source": [
        "The challenge is to predict the final price of each house."
      ]
    },
    {
      "cell_type": "code",
      "metadata": {
        "id": "Dq1Afjlp5tA2"
      },
      "source": [
        "def import_datasets(git_link = 'https://raw.githubusercontent.com/tomkeane07/AI-Projects-UL/Etivity3/semester3/MachineLearningApplications/E3/'):\n",
        "  return {\n",
        "      'Test'  : pd.read_csv(git_link+'HousePrice_Test.csv'),\n",
        "      'Train' : pd.read_csv(git_link+'HousePrice_Train.csv'),\n",
        "      'true_price'  : pd.read_csv(git_link+'sample_submission.csv')}\n",
        "def sort_columns(df):\n",
        "  return df.reindex(sorted(df.columns), axis=1)\n",
        "\n",
        "def hide_one_hot_encoded_cols(df):\n",
        "  return df.loc[:, ~df.columns.str.startswith('Location') & \n",
        "                      ~df.columns.str.startswith('Type')]\n",
        "\n",
        "\n",
        "try:\n",
        "  dbs\n",
        "except:\n",
        "  dbs = import_datasets()\n",
        "\n",
        "dftest  =  dbs['Test' ]\n",
        "dftrain =  dbs['Train']\n",
        "dfcost = dbs['true_price']\n",
        "dftest['Price'] = dfcost['Price']\n",
        "\n",
        "df0 = sort_columns(dftrain.append(dftest))"
      ],
      "execution_count": 12,
      "outputs": []
    },
    {
      "cell_type": "code",
      "metadata": {
        "colab": {
          "base_uri": "https://localhost:8080/",
          "height": 522
        },
        "id": "jbUe2fG6-iC_",
        "outputId": "04561ff2-4b79-4fce-e7e7-89846d5ddca4"
      },
      "source": [
        "display(df0.tail())"
      ],
      "execution_count": 13,
      "outputs": [
        {
          "output_type": "display_data",
          "data": {
            "text/html": [
              "<div>\n",
              "<style scoped>\n",
              "    .dataframe tbody tr th:only-of-type {\n",
              "        vertical-align: middle;\n",
              "    }\n",
              "\n",
              "    .dataframe tbody tr th {\n",
              "        vertical-align: top;\n",
              "    }\n",
              "\n",
              "    .dataframe thead th {\n",
              "        text-align: right;\n",
              "    }\n",
              "</style>\n",
              "<table border=\"1\" class=\"dataframe\">\n",
              "  <thead>\n",
              "    <tr style=\"text-align: right;\">\n",
              "      <th></th>\n",
              "      <th>BER_class</th>\n",
              "      <th>Description</th>\n",
              "      <th>Features</th>\n",
              "      <th>ID</th>\n",
              "      <th>Index</th>\n",
              "      <th>Latitude</th>\n",
              "      <th>Location</th>\n",
              "      <th>Longitude</th>\n",
              "      <th>Num_Bathrooms</th>\n",
              "      <th>Num_Beds</th>\n",
              "      <th>Price</th>\n",
              "      <th>Services</th>\n",
              "      <th>Surface</th>\n",
              "      <th>Type</th>\n",
              "    </tr>\n",
              "  </thead>\n",
              "  <tbody>\n",
              "    <tr>\n",
              "      <th>697</th>\n",
              "      <td>G</td>\n",
              "      <td>Sherry FitzGerald is delighted to present 56 B...</td>\n",
              "      <td>Secure gated and well maintained development\\n...</td>\n",
              "      <td>12392566</td>\n",
              "      <td>2336</td>\n",
              "      <td>53.343377</td>\n",
              "      <td>Kilmainham</td>\n",
              "      <td>-6.296654</td>\n",
              "      <td>1</td>\n",
              "      <td>1</td>\n",
              "      <td>3835888.0</td>\n",
              "      <td>NaN</td>\n",
              "      <td>40.0</td>\n",
              "      <td>apartment</td>\n",
              "    </tr>\n",
              "    <tr>\n",
              "      <th>698</th>\n",
              "      <td>D2</td>\n",
              "      <td>26 Viking Road is a well presented and moderni...</td>\n",
              "      <td>Well presented and modernised extended two bed...</td>\n",
              "      <td>12352487</td>\n",
              "      <td>2337</td>\n",
              "      <td>53.351074</td>\n",
              "      <td>Stoneybatter</td>\n",
              "      <td>-6.285557</td>\n",
              "      <td>1</td>\n",
              "      <td>2</td>\n",
              "      <td>1106700.0</td>\n",
              "      <td>NaN</td>\n",
              "      <td>57.0</td>\n",
              "      <td>terraced</td>\n",
              "    </tr>\n",
              "    <tr>\n",
              "      <th>699</th>\n",
              "      <td>D1</td>\n",
              "      <td>FIRST OPEN VIEW SATURDAY 8TH FEBRUARY 11 - 11....</td>\n",
              "      <td>None</td>\n",
              "      <td>12387290</td>\n",
              "      <td>2338</td>\n",
              "      <td>53.261710</td>\n",
              "      <td>Cabinteely</td>\n",
              "      <td>-6.164979</td>\n",
              "      <td>1</td>\n",
              "      <td>3</td>\n",
              "      <td>1103343.0</td>\n",
              "      <td>Parking,Gas Fired Central Heating</td>\n",
              "      <td>93.0</td>\n",
              "      <td>semi-detached</td>\n",
              "    </tr>\n",
              "    <tr>\n",
              "      <th>700</th>\n",
              "      <td>NaN</td>\n",
              "      <td>DNG are delighted to represent the sale of 109...</td>\n",
              "      <td>Gas fired central heating.\\nFully renovated an...</td>\n",
              "      <td>12382807</td>\n",
              "      <td>2339</td>\n",
              "      <td>53.360515</td>\n",
              "      <td>Clontarf</td>\n",
              "      <td>-6.189661</td>\n",
              "      <td>2</td>\n",
              "      <td>3</td>\n",
              "      <td>1273647.0</td>\n",
              "      <td>NaN</td>\n",
              "      <td>118.0</td>\n",
              "      <td>terraced</td>\n",
              "    </tr>\n",
              "    <tr>\n",
              "      <th>701</th>\n",
              "      <td>F</td>\n",
              "      <td>This is an instantly appealing Jennings built ...</td>\n",
              "      <td>Drenched in natural light\\nSuperb blank canvas...</td>\n",
              "      <td>12393769</td>\n",
              "      <td>2340</td>\n",
              "      <td>53.280408</td>\n",
              "      <td>Glenageary</td>\n",
              "      <td>-6.132925</td>\n",
              "      <td>1</td>\n",
              "      <td>3</td>\n",
              "      <td>1820012.0</td>\n",
              "      <td>NaN</td>\n",
              "      <td>122.0</td>\n",
              "      <td>semi-detached</td>\n",
              "    </tr>\n",
              "  </tbody>\n",
              "</table>\n",
              "</div>"
            ],
            "text/plain": [
              "    BER_class  ...           Type\n",
              "697         G  ...      apartment\n",
              "698        D2  ...       terraced\n",
              "699        D1  ...  semi-detached\n",
              "700       NaN  ...       terraced\n",
              "701         F  ...  semi-detached\n",
              "\n",
              "[5 rows x 14 columns]"
            ]
          },
          "metadata": {}
        }
      ]
    },
    {
      "cell_type": "code",
      "metadata": {
        "colab": {
          "base_uri": "https://localhost:8080/",
          "height": 954
        },
        "id": "mHXy4uOw-iI4",
        "outputId": "68869ff8-534d-4404-9300-cc9712ac2187"
      },
      "source": [
        "display(df0.describe())\n",
        "\n",
        "print(\"\\n\\nmissing values _ %\")\n",
        "print(df0.isna().sum()* 100 / len(df0))\n",
        "print(\"_________\\nunique values\")\n",
        "print(df0.nunique(axis=0))"
      ],
      "execution_count": 14,
      "outputs": [
        {
          "output_type": "display_data",
          "data": {
            "text/html": [
              "<div>\n",
              "<style scoped>\n",
              "    .dataframe tbody tr th:only-of-type {\n",
              "        vertical-align: middle;\n",
              "    }\n",
              "\n",
              "    .dataframe tbody tr th {\n",
              "        vertical-align: top;\n",
              "    }\n",
              "\n",
              "    .dataframe thead th {\n",
              "        text-align: right;\n",
              "    }\n",
              "</style>\n",
              "<table border=\"1\" class=\"dataframe\">\n",
              "  <thead>\n",
              "    <tr style=\"text-align: right;\">\n",
              "      <th></th>\n",
              "      <th>ID</th>\n",
              "      <th>Index</th>\n",
              "      <th>Latitude</th>\n",
              "      <th>Longitude</th>\n",
              "      <th>Num_Bathrooms</th>\n",
              "      <th>Num_Beds</th>\n",
              "      <th>Price</th>\n",
              "      <th>Surface</th>\n",
              "    </tr>\n",
              "  </thead>\n",
              "  <tbody>\n",
              "    <tr>\n",
              "      <th>count</th>\n",
              "      <td>2.340000e+03</td>\n",
              "      <td>2340.000000</td>\n",
              "      <td>2340.000000</td>\n",
              "      <td>2340.000000</td>\n",
              "      <td>2340.000000</td>\n",
              "      <td>2340.000000</td>\n",
              "      <td>2.338000e+03</td>\n",
              "      <td>2340.000000</td>\n",
              "    </tr>\n",
              "    <tr>\n",
              "      <th>mean</th>\n",
              "      <td>1.231814e+07</td>\n",
              "      <td>1170.500000</td>\n",
              "      <td>53.350464</td>\n",
              "      <td>-6.254283</td>\n",
              "      <td>2.046154</td>\n",
              "      <td>3.026496</td>\n",
              "      <td>1.168656e+06</td>\n",
              "      <td>158.459546</td>\n",
              "    </tr>\n",
              "    <tr>\n",
              "      <th>std</th>\n",
              "      <td>1.439340e+05</td>\n",
              "      <td>675.644137</td>\n",
              "      <td>0.075966</td>\n",
              "      <td>0.130826</td>\n",
              "      <td>1.192648</td>\n",
              "      <td>1.327893</td>\n",
              "      <td>1.275073e+06</td>\n",
              "      <td>1509.949934</td>\n",
              "    </tr>\n",
              "    <tr>\n",
              "      <th>min</th>\n",
              "      <td>1.118567e+07</td>\n",
              "      <td>1.000000</td>\n",
              "      <td>52.501856</td>\n",
              "      <td>-6.521183</td>\n",
              "      <td>1.000000</td>\n",
              "      <td>1.000000</td>\n",
              "      <td>1.999500e+04</td>\n",
              "      <td>3.400000</td>\n",
              "    </tr>\n",
              "    <tr>\n",
              "      <th>25%</th>\n",
              "      <td>1.228052e+07</td>\n",
              "      <td>585.750000</td>\n",
              "      <td>53.294706</td>\n",
              "      <td>-6.308530</td>\n",
              "      <td>1.000000</td>\n",
              "      <td>2.000000</td>\n",
              "      <td>3.300000e+05</td>\n",
              "      <td>73.000000</td>\n",
              "    </tr>\n",
              "    <tr>\n",
              "      <th>50%</th>\n",
              "      <td>1.238029e+07</td>\n",
              "      <td>1170.500000</td>\n",
              "      <td>53.341213</td>\n",
              "      <td>-6.247780</td>\n",
              "      <td>2.000000</td>\n",
              "      <td>3.000000</td>\n",
              "      <td>5.400000e+05</td>\n",
              "      <td>97.750000</td>\n",
              "    </tr>\n",
              "    <tr>\n",
              "      <th>75%</th>\n",
              "      <td>1.240470e+07</td>\n",
              "      <td>1755.250000</td>\n",
              "      <td>53.381988</td>\n",
              "      <td>-6.189027</td>\n",
              "      <td>3.000000</td>\n",
              "      <td>4.000000</td>\n",
              "      <td>1.573798e+06</td>\n",
              "      <td>136.002500</td>\n",
              "    </tr>\n",
              "    <tr>\n",
              "      <th>max</th>\n",
              "      <td>1.242836e+07</td>\n",
              "      <td>2340.000000</td>\n",
              "      <td>53.630588</td>\n",
              "      <td>-1.744995</td>\n",
              "      <td>18.000000</td>\n",
              "      <td>27.000000</td>\n",
              "      <td>8.900000e+06</td>\n",
              "      <td>72236.387140</td>\n",
              "    </tr>\n",
              "  </tbody>\n",
              "</table>\n",
              "</div>"
            ],
            "text/plain": [
              "                 ID        Index  ...         Price       Surface\n",
              "count  2.340000e+03  2340.000000  ...  2.338000e+03   2340.000000\n",
              "mean   1.231814e+07  1170.500000  ...  1.168656e+06    158.459546\n",
              "std    1.439340e+05   675.644137  ...  1.275073e+06   1509.949934\n",
              "min    1.118567e+07     1.000000  ...  1.999500e+04      3.400000\n",
              "25%    1.228052e+07   585.750000  ...  3.300000e+05     73.000000\n",
              "50%    1.238029e+07  1170.500000  ...  5.400000e+05     97.750000\n",
              "75%    1.240470e+07  1755.250000  ...  1.573798e+06    136.002500\n",
              "max    1.242836e+07  2340.000000  ...  8.900000e+06  72236.387140\n",
              "\n",
              "[8 rows x 8 columns]"
            ]
          },
          "metadata": {}
        },
        {
          "output_type": "stream",
          "name": "stdout",
          "text": [
            "\n",
            "\n",
            "missing values _ %\n",
            "BER_class        15.34188\n",
            "Description       0.00000\n",
            "Features          0.00000\n",
            "ID                0.00000\n",
            "Index             0.00000\n",
            "Latitude          0.00000\n",
            "Location          0.00000\n",
            "Longitude         0.00000\n",
            "Num_Bathrooms     0.00000\n",
            "Num_Beds          0.00000\n",
            "Price             0.08547\n",
            "Services         64.82906\n",
            "Surface           0.00000\n",
            "Type              0.00000\n",
            "dtype: float64\n",
            "_________\n",
            "unique values\n",
            "BER_class          16\n",
            "Description      2338\n",
            "Features         1622\n",
            "ID               2340\n",
            "Index            2340\n",
            "Latitude         2269\n",
            "Location          148\n",
            "Longitude        2277\n",
            "Num_Bathrooms      11\n",
            "Num_Beds           12\n",
            "Price             967\n",
            "Services           33\n",
            "Surface           859\n",
            "Type               10\n",
            "dtype: int64\n"
          ]
        }
      ]
    },
    {
      "cell_type": "code",
      "metadata": {
        "id": "Bf72U9Z4ACMd",
        "colab": {
          "base_uri": "https://localhost:8080/"
        },
        "outputId": "f96dc869-196f-494f-95c5-43b5a166dd59"
      },
      "source": [
        "def inspect_data(df, dropcols):\n",
        "  df = df.drop(df[dropcols], axis=1)\n",
        "  sns.pairplot(data=df.dropna())\n",
        "  plt.show()\n",
        "  display(df.describe())\n",
        "\n",
        "def print_text_col_examples(df):\n",
        "  cols = df[['Description', 'Features', 'Services']].notna()\n",
        "  print(\"Description\")\n",
        "  print(df[['Description']][cols].tail(5).values, end='\\n\\n')\n",
        "\n",
        "  print('Features')\n",
        "  print(df[['Features']][cols].tail(5).values, end=\"\\n\\n\")\n",
        "\n",
        "  print('Services')\n",
        "  print(df[['Services']][cols].tail(5).values, end=\"\\n\\n\")\n",
        "\n",
        "print_text_col_examples(df0)"
      ],
      "execution_count": 15,
      "outputs": [
        {
          "output_type": "stream",
          "name": "stdout",
          "text": [
            "Description\n",
            "[['Sherry FitzGerald is delighted to present 56 Bow Bridge Place to the market. A wonderful opportunity to acquire this well presented one bedroom ground floor apartment ideally situated within this popular development, close to the City Centre. No. 56 is sure to appeal to a wide audience of buyers from someone looking to buy their first home, looking to trade down or indeed an astute investor looking for an investment opportunity.\\n\\nThe apartment is practically designed, the accommodation briefly comprises: entrance hall with storage room, open plan living/dining room providing direct access out to the front of the apartment block, fully fitted kitchen, one double bedroom and a main bathroom. \\n\\nBow Bridge is a fine development ideally located in the heart of Kilmainham, a cultural location within Dublin city within distance of a host of a local amenities and public transport. Local attractions include the Museum of Modern Art, Kilmainham Gaol Museum., The Royal Kilmainham Hospital and Heuston Station. The development is also within walking distance to St James Hospital and the site of the New Childrens Hospital and the red LUAS line. \\n\\nAll in all, this is an ideal city pad in a secure apartment development. Viewing comes highly recommended.\\n\\n\\nEntrance Hall Welcoming entrance hallway with laminate wood flooring and a storage room.\\n\\nLiving/Dining with laminate wood flooring, feature fireplace with marble surround and sliding door access to front car park.\\n\\nKitchen fitted with floor and eye level units, laminate wood flooring, tiled splash back, Indesit oven &amp; hob, plumbed for washing machine.\\n\\nBedroom 1 Spacious double bedroom with laminate wood flooring and built in wardrobes.\\n\\nBathroom Large bathroom, tiled flooring, partly tiled walls, wc, whb, bath with overhead shower.']\n",
            " ['26 Viking Road is a well presented and modernised extended two bedroom artisan home located in the ever popular setting of Stoneybatter. \\n\\r\\nThe neighbourhood has been ranked in the top 50 neighbourhoods in the world, according to the Time Out Magazine in 2019.  Part of the reason for achieving this accolade is because its central location to the city centre (20 mins walk) and fast becoming one of Dublins most exciting foodie areas, with neighbourhood restaurants luring gourmands from all over.\\n\\r\\nThe home comprises of an entrance hall for jackets and shoes, an open plan living room connected to a modern fully fitted extended Kitchen, two double bedrooms and a ground floor tiled bathroom with electric shower. \\n\\r\\nOutside is an enclosed rear patio garden which is laid neatly if you fancy a peaceful coffee/tea in the south-west facing sunlight. The property features an attractive brick facade, double glazed windows, gas fired central heating, an open fireplace, new Velux windows allowing more natural light to stream into the home, a newly plastered &amp; insulated rear exterior wrapping the property. \\n\\r\\nViking Road stands out as one of the most peaceful streets in Stoneybatter due to its location and a neighbourly street not being used as a short cut for motorists. \\n\\r\\nThis highly sought-after enclave of Stoneybatter will appeal to a wide variety of house hunters. You are only a short stroll to local shops, restaurants, primary and secondary schools, and many other amenities near Stoneybatter Village including the Luas Stop and various bus services from the city centre. \\n\\r\\nThe home is within easy reach of the Phoenix Park, Heuston Train Station, DIT Grangegorman Campus, The National Museum, Smithfield Village and the Law Society of Ireland in Blackhall Place.']\n",
            " [\"FIRST OPEN VIEW SATURDAY 8TH FEBRUARY 11 - 11.30AM.\\n\\n\\r\\nOn the sunny side! Welcome to 19 Highland Grove! \\r\\nEnjoying a premier address and located in an almost traffic free cul de sac location, 19 Highland Grove is a stunning example of family living at its best. This wonderful extended three bedroom semi-detached home is impeccably presented and offers a wonderful location to raise a family or enjoy pleasant and peaceful walks.\\n\\r\\nWalking into this home you will be immediately struck by a lovely sense of space and light with excellent proportions throughout. Beautifully maintained by its current owners, accommodation extends to approx.  93 sq. m. / 1,001 sq.ft. Downstairs accommodation comprises entrance hall, a spacious bright open plan living room, kitchen / dining room and a sun room overlooking the beautiful south west facing garden completes the accommodation at this level. Upstairs there are three bedrooms, two doubles and one single. A family bathroom completes accommodation at this level.\\n\\r\\nA real stand out feature of this home is the sunny and beautifully presented south west facing rear garden.. Laid out mostly in lawn with the added benefit of a paved outdoor area this wonderful home offers endless opportunities for outdoor play and sunny barbecues not to mention the obvious potential to extend further (subject to planning permission). Offering a side entrance to the rear garden and private parking to the front, this home really has it all.\\n\\r\\nThe location of this home is second to none. Cabinteely Village is within walking distance, while Cabinteely Park with its state of the art children's playground and nature walks is just minutes from this house. Local schools include St Brigid's Boys and Girls National School, Hollypark and Loreto Foxrock. Dunnes Stores Cornelscourt completes the picture by offering grocery shopping on your doorstep. The N11 and its quality bus corridor is minutes away as is the M50 and the LUAS at Carrickmines.\\n\\r\\nEarly viewing is recommended to appreciate what this wonderful home has to offer\\n\\r\\nFeatures \\r\\nImpeccably presented  extended three bed semi-detached family home\\r\\nSunny south west facing rear garden\\r\\nEnjoying a premier address\\r\\nLocated in an almost traffic free cul de sac location\\r\\nSpacious accommodation of approx. 93 sq.m. / 1,001 sq.ft. GFCH\\r\\nPotential to extend further (subject to PP.)\\r\\nGated side entrance \\r\\nPrivate parking to the front\\r\\nEasy access to leading schools and colleges\\r\\nAdjacent to the QBC &amp; N11 LUAS is a 10 minute walk through Carrickmines Wood Estate\\r\\nWalking distance of Cabinteely and Cornelscourt villages\\n\\r\\nAccommodation\\r\\nEntrance Hall: 4.67 x 1.78 \\r\\nInviting hallway with under stair storage (plumbed for washing machine) , HIVE Active Heating Thermostat. \\n\\r\\nLiving Room: 4.52 x 3.36\\r\\nLarge bright room to the front with gas fire inset and tiled surround. Double doors to the kitchen / dining room. \\n\\r\\nKitchen / Dining Room: 3.01 x 5.16 \\r\\nWith fitted wall and floor units, Belling oven/hob and extractor fan, provisions for fridge /freezer, window overlooking garden, tiled splash back and recessed lighting. \\n\\r\\nSun Room: 3.72 x 2.98 \\r\\nDouble doors to sunny rear garden and velux window. \\n\\r\\nUpstairs \\r\\nLanding: 2.97 x 1.87 \\r\\nWith access to attic and hot press\\n\\r\\nBed 1: 4.27 x 3.04\\r\\nLarge double with solid timber floors, built in wardrobes and recessed lighting. \\n\\r\\nBed 2: 3.09 x 3.21 \\r\\nDouble bedroom with solid timber floors and  overlooking  rear garden. \\n\\r\\nBed 3: Gnerous sized bedroom to the front with solid timber floors.\"]\n",
            " [\"DNG are delighted to represent the sale of 109 Conquer Hill Road, Clontarf, an impressive 3 bedroom mid-terraced family home. The property has been completely renovated and extended in 2014 incorporating an excellent two storey extension to the rear.  Viewers will appreciate the standard of accommodation and general condition of the property complimented by a private 65 ft. long rear garden with rear access to a large enclosed green area.\\n\\r\\nThe accommodation extends to a total floor area of approx. 1,270 sq. ft. and comprises: entrance hallway, living room, open plan kitchen/dining/family room, utility room and downstairs wc on ground floor. Upsatirs, first floor accommodates 3 bedrooms (master en suite), a family bathroom and spacious landing area with generous storage.\\n\\r\\nLocations really don't come much better or more central than this Clontarf home situated  just off the seafront promenade and a short stroll from Vernon Avenue providing an excellent selection of shops, a supermarket, bars, restaurants, cafes and boutiques.  There is also a variety of sports and recreational facilities closeby including Dollymount Strand, St. Annes Park and The Bull Island Nature Reserve. Dublin City Centre, the IFSC and Eastpoint Business Park are also within a short commute of this location.\"]\n",
            " ['This is an instantly appealing Jennings built home, boasting generously appointed accommodation which is drenched in natural light thanks to its elevated position and glorious south west facing orientation. The appeal of this property is further enhanced by its tranquil position within this much sought after enclave and its private 87ft. garden, offering the discerning purchaser enormous scope to extend (subject to planning permission), should they so desire. \\n\\nWell maintained, this naturally bright property has been very well cared for and now comes to the market offering itself as a superb blank canvas from which to create your dream home. The entrance hall gives access to two very well-proportioned reception rooms and a kitchen breakfast room gives access out to the garden. Upstairs, off the spacious landing, there are three bedrooms a w.c. and a shower room. The property also benefits from a large garage, which is ripe for conversion and extending over to create a fourth bedroom (subject to planning permission). \\n\\nTo the front of the house there are is a lawn and driveway bordered by mature hedging and pedestrian side access leads around to the rear garden. Laid mainly in lawn with intermittent mature flower beds, this 87ft garden is an oasis of calm and tranquility. Enjoying a great degree of privacy, its ideal south west facing orientation make this an enviable garden for enjoying the sun, al fresco entertaining and a super spot for children to play in. Its exceptional length would allow for a considerable extension (subject to planning permission) while still retaining a large garden. \\n\\nThe property is very conveniently located between Dalkey and Dun Laoghaire where both social and essential amenities are in abundance. There are all the facilities one would expect from the delightful villages of Dalkey and Glasthule, including an excellent choice of shops, specialist delicatessens and restaurants, while Dun Laoghaire town centre itself, has everything you need for everyday living. There is a wide selection of sporting and recreational amenities including golf clubs, tennis clubs (Glenageary Tennis Club is just around the corner), beautiful walks over and around Dalkey and Killiney Hills as well as the four yacht clubs and an extensive marina at Dun Laoghaire Harbour which will be of major interest to the marine and sailing enthusiast. There are also many highly regarded schools in the area including Rathdown School, St Joseph of Cluny and CBC Monkstown, along with The Harold School in Glasthule, regarded as one of the top primary schools in south County Dublin\\n\\n\\nEntrance Porch tiled floor\\n\\nHall with under stair storage\\n\\nLiving Room 3.62m x 4.41m. to the front of the property, tiled surround fireplace\\n\\nDining Room 3.62m x 4.0m. to the rear of the property, tiled surround fireplace and slding door to the garden\\n\\nKitchen/ Breakfast Room 4.53m x 3.1m. : linoleum floor, built in wall and floor units and storage larder\\n\\nLanding hot press and attic access\\n\\nW.C tiled floor and w.c.\\n\\nShower Room tiled floor and part tiled walls, w.h.b and step in shower cubicle\\n\\nBedroom 1 3.20m x 4.41m. double room to the front of the house with views of Dublin Bay and Howth Head, built in wardrobes and tiled surround fireplace\\n\\nBedroom 2 3.20m x 4.0m. double room to the rear of the house with built in wardrobes and polished timber floor\\n\\nBedroom 3 2.28m x 3.17m. single room with views of Dublin Bay and Howth Head.']]\n",
            "\n",
            "Features\n",
            "[['Secure gated and well maintained development\\nExcellent location\\nClose to local amenities\\nLift access\\nElectric Storage Heating\\nManagement Fee €1635\\n']\n",
            " ['Well presented and modernised extended two bedroom artisan home located in the ever popular setting of Stoneybatter.\\nUpgrade works completed in recent years such as new plastering,insulation and interior redecoration.\\nRear yard area that is south west facing.\\nExcellent location close to a wide range of amenities.\\nQuiet location and has on street parking.\\n']\n",
            " ['None']\n",
            " ['Gas fired central heating.\\nFully renovated and extended with no expense spared in 2014.\\nC1 Energy Rating.\\nCobble-lock front driveway.\\n65 ft. long rear garden, not overlooked.\\n']\n",
            " ['Drenched in natural light\\nSuperb blank canvas\\n87ft South west facing rear garden\\nExcellent potential to extend (subject to planning permission)\\nHighly sought-after location\\nClose to excellent amenities, both social and essential\\nOFCH\\nPhone point\\nTv Point\\nWired for alarm\\n']]\n",
            "\n",
            "Services\n",
            "[[nan]\n",
            " [nan]\n",
            " ['Parking,Gas Fired Central Heating']\n",
            " [nan]\n",
            " [nan]]\n",
            "\n"
          ]
        }
      ]
    },
    {
      "cell_type": "code",
      "metadata": {
        "id": "HOcbRwT6c3qw",
        "colab": {
          "base_uri": "https://localhost:8080/"
        },
        "outputId": "cc87e015-67dd-4c42-f97e-27b53cfcc08c"
      },
      "source": [
        "df0.drop_duplicates(subset=['BER_class'])['BER_class']"
      ],
      "execution_count": 16,
      "outputs": [
        {
          "output_type": "execute_result",
          "data": {
            "text/plain": [
              "0                       C3\n",
              "1                       D1\n",
              "2                       A3\n",
              "3                       E1\n",
              "7                      NaN\n",
              "10                       G\n",
              "11                      E2\n",
              "15                      C2\n",
              "16     SINo666of2006exempt\n",
              "19                       F\n",
              "24                      B2\n",
              "27                      C1\n",
              "36                      D2\n",
              "63                      B3\n",
              "146                     B1\n",
              "184                     A2\n",
              "800                     A1\n",
              "Name: BER_class, dtype: object"
            ]
          },
          "metadata": {},
          "execution_count": 16
        }
      ]
    },
    {
      "cell_type": "code",
      "metadata": {
        "id": "vB75ezVDACRd"
      },
      "source": [
        "dropcols = ['Index', 'ID']\n",
        "\n",
        "def drop_cols(df, dropcols):\n",
        "  print(\"dropping\", end=\" \")\n",
        "  for col in dropcols:\n",
        "    print(col, end=\", \")\n",
        "    df.drop(col, axis=1, inplace=True)\n",
        "  print(\"...\")\n",
        "  return df\n",
        "\n",
        "def col_to_colCount(df, col, divider):\n",
        "  #this is designed for features and facilities to convert it to a rough count\n",
        "  # of features, based on how they're typically listed in the df\n",
        "  print(\"extracting \"+col +\"...\")\n",
        "  df[col] = df[col].fillna(\"\")\n",
        "  df[col+\"_count\"] = df[col].apply(lambda x: x.count(divider)+1)\n",
        "  return df\n",
        "\n",
        "def sort_Services(df, col):\n",
        "  # Courtesy of Tim Hrisikos\n",
        "  print(f\"extracting {col}...\")\n",
        "  df[col] = df[col].fillna(\"\")\n",
        "  df = df.join(\n",
        "      df[col].str.extractall('([^,]+)')[0].groupby(level=0).apply(pd.value_counts).unstack(fill_value=0).add_prefix('Service_')\n",
        "      )\n",
        "  df.drop('Services', axis=1, inplace=True)\n",
        "  return df\n",
        "\n",
        "BER_class_mapper = {\n",
        "    #Thanks Nigel Portley\n",
        "    \"SINo666of2006exempt\": 1,\n",
        "    \"A1\": 2,\n",
        "    \"A2\": 3,\n",
        "    \"A3\": 4,\n",
        "    \"B1\": 5,\n",
        "    \"B2\": 6,\n",
        "    \"B3\": 7,\n",
        "    \"C1\": 8,\n",
        "    \"C2\": 9,\n",
        "    \"C3\": 10,\n",
        "    \"D1\": 11,\n",
        "    \"D2\": 12,\n",
        "    \"E1\": 13,\n",
        "    \"E2\": 14,\n",
        "    \"F\": 15,\n",
        "    \"G\": 16\n",
        "}\n",
        "\n",
        "\n",
        "# func that returns a dummified DataFrame of significant dummies in a given column\n",
        "# https://stackoverflow.com/questions/18016495/get-subset-of-most-frequent-dummy-variables-in-pandas\n",
        "def otherise_rares(dummy_col, threshold=0.01):\n",
        "    # removes the bind\n",
        "    dummy_col = dummy_col.copy()\n",
        "    # what is the ratio of a dummy in whole column\n",
        "    count = pd.value_counts(dummy_col) / len(dummy_col)\n",
        "    # cond whether the ratios is higher than the threshold\n",
        "    mask = dummy_col.isin(count[count > threshold].index)\n",
        "    # replace the ones which ratio is lower than the threshold by a special name\n",
        "    dummy_col[~mask] = \"others\"\n",
        "    return dummy_col\n",
        "\n",
        "def onehotencode(df, col, drop_first=True, otherise_rares_=False):\n",
        "  if otherise_rares_:\n",
        "    df[col] = otherise_rares(df[col])\n",
        "  print(\"one hot encoding \" + col)\n",
        "  return pd.get_dummies(df, columns=[col], \n",
        "                        dummy_na=True, \n",
        "                        drop_first=drop_first)\n",
        "\n",
        "def remove_locations_outside_Ire(df):\n",
        "  # Carlos Siqueira Do Amaral noticed that there are entries from outside of Ireland.\n",
        "  # This fiunction removes locations outside of Ireland's lat/ long bounds\n",
        "  print(\"removing locations outside of Ireland\")\n",
        "  long0, lat0, long1, lat1 = (-9.97708574059, 51.6693012559, -6.03298539878, 55.1316222195)\n",
        "  return df.loc[(df['Longitude'] > long0) & (df['Latitude'] > lat0)  & (df['Longitude'] < long1) & (df['Latitude'] < lat1)]\n",
        "\n",
        "def frame_coordinates_to_dublin_center(df, ):\n",
        "  print(\"centering coordinates around dublin city center\")\n",
        "  dublat, dublong = 53.350140, -6.266155\n",
        "  df['Dist_from_dub_center'] = (df.Longitude - dublong)**2 +(df.Latitude - dublat)**2\n",
        "  df['Latitude'] = df.Latitude - dublat\n",
        "  df['Longitude'] = df.Longitude - dublong\n",
        "  return df\n",
        "\n",
        "def treat_data(df, dropcols = [], display_=True):\n",
        "  # dropping columns listed below\n",
        "  try:\n",
        "    df = drop_cols(df, dropcols)\n",
        "  except:\n",
        "    pass\n",
        "  #filling values. Justifications outlined in Initial datasets inspection\n",
        "  df['Surface'].fillna(df['Surface'].median(), inplace=True)\n",
        "  df['Num_Bathrooms'].fillna(df['Num_Bathrooms'].median(), inplace=True)\n",
        "  df['Num_Beds'].fillna(df['Num_Beds'].median(), inplace=True)\n",
        "  #converting features. Justifications outlined in Initial datasets inspection\n",
        "  df = sort_Services(df, 'Services')\n",
        "  df['BER_class'] = df['BER_class'].replace(BER_class_mapper)\n",
        "  df['BER_class'].fillna(df['BER_class'].mean(), inplace=True)\n",
        "  df = onehotencode(df, 'Location', False, True)\n",
        "  df = onehotencode(df, 'Type', False)\n",
        "  df.fillna(0,inplace=True)\n",
        "  # a couple of extra columns added based on local features.\n",
        "  df = remove_locations_outside_Ire(df)\n",
        "  df = frame_coordinates_to_dublin_center(df)\n",
        "  df = sort_columns(df)\n",
        "  try:\n",
        "    df = df[(df.Price > 0)]\n",
        "  except:\n",
        "      pass\n",
        "  if display_:\n",
        "    print(\"\\n\\ndisplaying data minus one_hot_encoded columns\")\n",
        "    display(hide_one_hot_encoded_cols(df).tail())\n",
        "  X = df.drop(\"Price\", axis = 1)\n",
        "  y = df[\"Price\"]\n",
        "  return df, X, y"
      ],
      "execution_count": 17,
      "outputs": []
    },
    {
      "cell_type": "code",
      "metadata": {
        "id": "gqlEk9svd550",
        "colab": {
          "base_uri": "https://localhost:8080/",
          "height": 70
        },
        "outputId": "7c59b481-686f-4fc4-a114-6aeb4f1b2935"
      },
      "source": [
        "display(df0.tail(0))"
      ],
      "execution_count": 18,
      "outputs": [
        {
          "output_type": "display_data",
          "data": {
            "text/html": [
              "<div>\n",
              "<style scoped>\n",
              "    .dataframe tbody tr th:only-of-type {\n",
              "        vertical-align: middle;\n",
              "    }\n",
              "\n",
              "    .dataframe tbody tr th {\n",
              "        vertical-align: top;\n",
              "    }\n",
              "\n",
              "    .dataframe thead th {\n",
              "        text-align: right;\n",
              "    }\n",
              "</style>\n",
              "<table border=\"1\" class=\"dataframe\">\n",
              "  <thead>\n",
              "    <tr style=\"text-align: right;\">\n",
              "      <th></th>\n",
              "      <th>BER_class</th>\n",
              "      <th>Description</th>\n",
              "      <th>Features</th>\n",
              "      <th>ID</th>\n",
              "      <th>Index</th>\n",
              "      <th>Latitude</th>\n",
              "      <th>Location</th>\n",
              "      <th>Longitude</th>\n",
              "      <th>Num_Bathrooms</th>\n",
              "      <th>Num_Beds</th>\n",
              "      <th>Price</th>\n",
              "      <th>Services</th>\n",
              "      <th>Surface</th>\n",
              "      <th>Type</th>\n",
              "    </tr>\n",
              "  </thead>\n",
              "  <tbody>\n",
              "  </tbody>\n",
              "</table>\n",
              "</div>"
            ],
            "text/plain": [
              "Empty DataFrame\n",
              "Columns: [BER_class, Description, Features, ID, Index, Latitude, Location, Longitude, Num_Bathrooms, Num_Beds, Price, Services, Surface, Type]\n",
              "Index: []"
            ]
          },
          "metadata": {}
        }
      ]
    },
    {
      "cell_type": "code",
      "metadata": {
        "id": "MdWC0Jbfc-DW",
        "colab": {
          "base_uri": "https://localhost:8080/",
          "height": 742
        },
        "outputId": "a3a493e5-a0a7-4bde-8ee6-4e570716e62d"
      },
      "source": [
        "df, X, y = treat_data(df0, dropcols)"
      ],
      "execution_count": 19,
      "outputs": [
        {
          "output_type": "stream",
          "name": "stdout",
          "text": [
            "dropping Index, ID, ...\n",
            "extracting Services...\n",
            "one hot encoding Location\n",
            "one hot encoding Type\n",
            "removing locations outside of Ireland\n",
            "centering coordinates around dublin city center\n",
            "\n",
            "\n",
            "displaying data minus one_hot_encoded columns\n"
          ]
        },
        {
          "output_type": "display_data",
          "data": {
            "text/html": [
              "<div>\n",
              "<style scoped>\n",
              "    .dataframe tbody tr th:only-of-type {\n",
              "        vertical-align: middle;\n",
              "    }\n",
              "\n",
              "    .dataframe tbody tr th {\n",
              "        vertical-align: top;\n",
              "    }\n",
              "\n",
              "    .dataframe thead th {\n",
              "        text-align: right;\n",
              "    }\n",
              "</style>\n",
              "<table border=\"1\" class=\"dataframe\">\n",
              "  <thead>\n",
              "    <tr style=\"text-align: right;\">\n",
              "      <th></th>\n",
              "      <th>BER_class</th>\n",
              "      <th>Description</th>\n",
              "      <th>Dist_from_dub_center</th>\n",
              "      <th>Features</th>\n",
              "      <th>Latitude</th>\n",
              "      <th>Longitude</th>\n",
              "      <th>Num_Bathrooms</th>\n",
              "      <th>Num_Beds</th>\n",
              "      <th>Price</th>\n",
              "      <th>Service_Alarm</th>\n",
              "      <th>Service_Gas Fired Central Heating</th>\n",
              "      <th>Service_Oil Fired Central Heating</th>\n",
              "      <th>Service_Parking</th>\n",
              "      <th>Service_Wheelchair Access</th>\n",
              "      <th>Service_Wired for Cable Television</th>\n",
              "      <th>Surface</th>\n",
              "    </tr>\n",
              "  </thead>\n",
              "  <tbody>\n",
              "    <tr>\n",
              "      <th>1633</th>\n",
              "      <td>9.0</td>\n",
              "      <td>Built in c.1930 38 Stradbrook Road is a deligh...</td>\n",
              "      <td>0.013189</td>\n",
              "      <td>Extremely convenient location \\nWheelchair acc...</td>\n",
              "      <td>-0.057373</td>\n",
              "      <td>0.099487</td>\n",
              "      <td>1</td>\n",
              "      <td>2</td>\n",
              "      <td>500000.0</td>\n",
              "      <td>1.0</td>\n",
              "      <td>1.0</td>\n",
              "      <td>0.0</td>\n",
              "      <td>1.0</td>\n",
              "      <td>1.0</td>\n",
              "      <td>0.0</td>\n",
              "      <td>64.00</td>\n",
              "    </tr>\n",
              "    <tr>\n",
              "      <th>1634</th>\n",
              "      <td>8.0</td>\n",
              "      <td>An impressive three-story family home superbly...</td>\n",
              "      <td>0.011897</td>\n",
              "      <td>Gas fired central heating with underfloor heat...</td>\n",
              "      <td>-0.065165</td>\n",
              "      <td>0.087470</td>\n",
              "      <td>3</td>\n",
              "      <td>5</td>\n",
              "      <td>795000.0</td>\n",
              "      <td>0.0</td>\n",
              "      <td>0.0</td>\n",
              "      <td>0.0</td>\n",
              "      <td>0.0</td>\n",
              "      <td>0.0</td>\n",
              "      <td>0.0</td>\n",
              "      <td>175.96</td>\n",
              "    </tr>\n",
              "    <tr>\n",
              "      <th>1635</th>\n",
              "      <td>4.0</td>\n",
              "      <td>DNG Lucan's leading estate agents are delighte...</td>\n",
              "      <td>0.028605</td>\n",
              "      <td>None</td>\n",
              "      <td>0.001527</td>\n",
              "      <td>-0.169123</td>\n",
              "      <td>2</td>\n",
              "      <td>3</td>\n",
              "      <td>340000.0</td>\n",
              "      <td>0.0</td>\n",
              "      <td>0.0</td>\n",
              "      <td>0.0</td>\n",
              "      <td>0.0</td>\n",
              "      <td>0.0</td>\n",
              "      <td>0.0</td>\n",
              "      <td>98.00</td>\n",
              "    </tr>\n",
              "    <tr>\n",
              "      <th>1636</th>\n",
              "      <td>12.0</td>\n",
              "      <td>Holyrood Castle is a most distinctive 19th cen...</td>\n",
              "      <td>0.002483</td>\n",
              "      <td>None</td>\n",
              "      <td>-0.021143</td>\n",
              "      <td>0.045125</td>\n",
              "      <td>8</td>\n",
              "      <td>8</td>\n",
              "      <td>2500000.0</td>\n",
              "      <td>0.0</td>\n",
              "      <td>0.0</td>\n",
              "      <td>0.0</td>\n",
              "      <td>0.0</td>\n",
              "      <td>0.0</td>\n",
              "      <td>0.0</td>\n",
              "      <td>507.00</td>\n",
              "    </tr>\n",
              "    <tr>\n",
              "      <th>1637</th>\n",
              "      <td>13.0</td>\n",
              "      <td>A superb opportunity awaits to acquire this be...</td>\n",
              "      <td>0.034009</td>\n",
              "      <td>Turn key condition\\nWood burning stove\\nSlider...</td>\n",
              "      <td>-0.118702</td>\n",
              "      <td>0.141133</td>\n",
              "      <td>2</td>\n",
              "      <td>2</td>\n",
              "      <td>370000.0</td>\n",
              "      <td>0.0</td>\n",
              "      <td>0.0</td>\n",
              "      <td>0.0</td>\n",
              "      <td>0.0</td>\n",
              "      <td>0.0</td>\n",
              "      <td>0.0</td>\n",
              "      <td>50.00</td>\n",
              "    </tr>\n",
              "  </tbody>\n",
              "</table>\n",
              "</div>"
            ],
            "text/plain": [
              "      BER_class  ... Surface\n",
              "1633        9.0  ...   64.00\n",
              "1634        8.0  ...  175.96\n",
              "1635        4.0  ...   98.00\n",
              "1636       12.0  ...  507.00\n",
              "1637       13.0  ...   50.00\n",
              "\n",
              "[5 rows x 16 columns]"
            ]
          },
          "metadata": {}
        }
      ]
    },
    {
      "cell_type": "code",
      "metadata": {
        "id": "9yDXD762swyL",
        "outputId": "6eaefde3-563b-4c82-a9e6-edbe496c0376",
        "colab": {
          "base_uri": "https://localhost:8080/",
          "height": 140
        }
      },
      "source": [
        "print(\"all columns in df\")\n",
        "display(df.tail(0))"
      ],
      "execution_count": 20,
      "outputs": [
        {
          "output_type": "stream",
          "name": "stdout",
          "text": [
            "all columns in df\n"
          ]
        },
        {
          "output_type": "display_data",
          "data": {
            "text/html": [
              "<div>\n",
              "<style scoped>\n",
              "    .dataframe tbody tr th:only-of-type {\n",
              "        vertical-align: middle;\n",
              "    }\n",
              "\n",
              "    .dataframe tbody tr th {\n",
              "        vertical-align: top;\n",
              "    }\n",
              "\n",
              "    .dataframe thead th {\n",
              "        text-align: right;\n",
              "    }\n",
              "</style>\n",
              "<table border=\"1\" class=\"dataframe\">\n",
              "  <thead>\n",
              "    <tr style=\"text-align: right;\">\n",
              "      <th></th>\n",
              "      <th>BER_class</th>\n",
              "      <th>Description</th>\n",
              "      <th>Dist_from_dub_center</th>\n",
              "      <th>Features</th>\n",
              "      <th>Latitude</th>\n",
              "      <th>Location_Artane</th>\n",
              "      <th>Location_Balbriggan</th>\n",
              "      <th>Location_Ballsbridge</th>\n",
              "      <th>Location_Blackrock</th>\n",
              "      <th>Location_Castleknock</th>\n",
              "      <th>Location_Clondalkin</th>\n",
              "      <th>Location_Clonsilla</th>\n",
              "      <th>Location_Clontarf</th>\n",
              "      <th>Location_Dalkey</th>\n",
              "      <th>Location_Donnybrook</th>\n",
              "      <th>Location_Drumcondra</th>\n",
              "      <th>Location_Dublin 1</th>\n",
              "      <th>Location_Dublin 2</th>\n",
              "      <th>Location_Dublin 8</th>\n",
              "      <th>Location_Dun Laoghaire</th>\n",
              "      <th>Location_Dundrum</th>\n",
              "      <th>Location_Finglas</th>\n",
              "      <th>Location_Foxrock</th>\n",
              "      <th>Location_Glasnevin</th>\n",
              "      <th>Location_Howth</th>\n",
              "      <th>Location_Killiney</th>\n",
              "      <th>Location_Knocklyon</th>\n",
              "      <th>Location_Lucan</th>\n",
              "      <th>Location_Malahide</th>\n",
              "      <th>Location_Raheny</th>\n",
              "      <th>Location_Rathfarnham</th>\n",
              "      <th>Location_Sandyford</th>\n",
              "      <th>Location_Sandymount</th>\n",
              "      <th>Location_Santry</th>\n",
              "      <th>Location_Swords</th>\n",
              "      <th>Location_Tallaght</th>\n",
              "      <th>Location_Terenure</th>\n",
              "      <th>Location_nan</th>\n",
              "      <th>Location_others</th>\n",
              "      <th>Longitude</th>\n",
              "      <th>Num_Bathrooms</th>\n",
              "      <th>Num_Beds</th>\n",
              "      <th>Price</th>\n",
              "      <th>Service_Alarm</th>\n",
              "      <th>Service_Gas Fired Central Heating</th>\n",
              "      <th>Service_Oil Fired Central Heating</th>\n",
              "      <th>Service_Parking</th>\n",
              "      <th>Service_Wheelchair Access</th>\n",
              "      <th>Service_Wired for Cable Television</th>\n",
              "      <th>Surface</th>\n",
              "      <th>Type_apartment</th>\n",
              "      <th>Type_bungalow</th>\n",
              "      <th>Type_detached</th>\n",
              "      <th>Type_duplex</th>\n",
              "      <th>Type_end-of-terrace</th>\n",
              "      <th>Type_nan</th>\n",
              "      <th>Type_semi-detached</th>\n",
              "      <th>Type_site</th>\n",
              "      <th>Type_studio</th>\n",
              "      <th>Type_terraced</th>\n",
              "      <th>Type_townhouse</th>\n",
              "    </tr>\n",
              "  </thead>\n",
              "  <tbody>\n",
              "  </tbody>\n",
              "</table>\n",
              "</div>"
            ],
            "text/plain": [
              "Empty DataFrame\n",
              "Columns: [BER_class, Description, Dist_from_dub_center, Features, Latitude, Location_Artane, Location_Balbriggan, Location_Ballsbridge, Location_Blackrock, Location_Castleknock, Location_Clondalkin, Location_Clonsilla, Location_Clontarf, Location_Dalkey, Location_Donnybrook, Location_Drumcondra, Location_Dublin 1, Location_Dublin 2, Location_Dublin 8, Location_Dun Laoghaire, Location_Dundrum, Location_Finglas, Location_Foxrock, Location_Glasnevin, Location_Howth, Location_Killiney, Location_Knocklyon, Location_Lucan, Location_Malahide, Location_Raheny, Location_Rathfarnham, Location_Sandyford, Location_Sandymount, Location_Santry, Location_Swords, Location_Tallaght, Location_Terenure, Location_nan, Location_others, Longitude, Num_Bathrooms, Num_Beds, Price, Service_Alarm, Service_Gas Fired Central Heating, Service_Oil Fired Central Heating, Service_Parking, Service_Wheelchair Access, Service_Wired for Cable Television, Surface, Type_apartment, Type_bungalow, Type_detached, Type_duplex, Type_end-of-terrace, Type_nan, Type_semi-detached, Type_site, Type_studio, Type_terraced, Type_townhouse]\n",
              "Index: []"
            ]
          },
          "metadata": {}
        }
      ]
    },
    {
      "cell_type": "code",
      "metadata": {
        "id": "l_MymiNFdBrN",
        "colab": {
          "base_uri": "https://localhost:8080/",
          "height": 673
        },
        "outputId": "1455fa75-d27e-4bdd-ffe7-fe42e114b6d6"
      },
      "source": [
        "print(df.isna().sum())\n",
        "display(sns.heatmap(hide_one_hot_encoded_cols(df).corr()))"
      ],
      "execution_count": 21,
      "outputs": [
        {
          "output_type": "stream",
          "name": "stdout",
          "text": [
            "BER_class               0\n",
            "Description             0\n",
            "Dist_from_dub_center    0\n",
            "Features                0\n",
            "Latitude                0\n",
            "                       ..\n",
            "Type_semi-detached      0\n",
            "Type_site               0\n",
            "Type_studio             0\n",
            "Type_terraced           0\n",
            "Type_townhouse          0\n",
            "Length: 61, dtype: int64\n"
          ]
        },
        {
          "output_type": "display_data",
          "data": {
            "text/plain": [
              "<matplotlib.axes._subplots.AxesSubplot at 0x7f64f36db3d0>"
            ]
          },
          "metadata": {}
        },
        {
          "output_type": "display_data",
          "data": {
            "image/png": "[encoded data removed]",
            "text/plain": [
              "<Figure size 432x288 with 2 Axes>"
            ]
          },
          "metadata": {
            "needs_background": "light"
          }
        }
      ]
    },
    {
      "cell_type": "markdown",
      "metadata": {
        "id": "CthgiYXam8ua"
      },
      "source": [
        "### Outliers"
      ]
    },
    {
      "cell_type": "code",
      "metadata": {
        "colab": {
          "base_uri": "https://localhost:8080/",
          "height": 1000
        },
        "id": "ycva2BuOm56D",
        "outputId": "f2a4a7a3-e7b8-4805-ee26-d126e53af7d0"
      },
      "source": [
        "def Outlier_analysis(df, cols):\n",
        "  boxplots(df, cols)\n",
        "  scatterplot(df, cols)\n",
        "\n",
        "def boxplots(df, cols):\n",
        "  f, axes = plt.subplots(1, 4, figsize=(22, 10))\n",
        "  for col, ax in zip(cols, axes.flatten()):\n",
        "    ax.boxplot(df[col])\n",
        "    ax.set_xlabel(col)\n",
        "  plt.show()\n",
        "\n",
        "def scatterplot(df, cols):\n",
        "  f, axes = plt.subplots(1, 3, figsize=(22, 10))\n",
        "  for col, ax in zip(cols[1:], axes.flatten()):\n",
        "    ax.scatter(df[col], df['Price'])\n",
        "    ax.set_xlabel(col)\n",
        "    ax.set_ylabel('Price')\n",
        "  plt.show()\n",
        "\n",
        "\n",
        "\n",
        "Outlier_analysis(df, np.array(['Price','Num_Bathrooms','Num_Beds', 'Surface']))"
      ],
      "execution_count": 22,
      "outputs": [
        {
          "output_type": "display_data",
          "data": {
            "image/png": "[encoded data removed]",
            "text/plain": [
              "<Figure size 1584x720 with 4 Axes>"
            ]
          },
          "metadata": {
            "needs_background": "light"
          }
        },
        {
          "output_type": "display_data",
          "data": {
            "image/png": "[encoded data removed]",
            "text/plain": [
              "<Figure size 1584x720 with 3 Axes>"
            ]
          },
          "metadata": {
            "needs_background": "light"
          }
        }
      ]
    },
    {
      "cell_type": "markdown",
      "metadata": {
        "id": "ueSO88e1BS6t"
      },
      "source": [
        "Price has extreme outliers beyond 5e6 Euro.\n",
        "\n",
        "Surface has outliers which exceede Q3 by by a factor ~100. This will need to be addressed.\n",
        "\n",
        "Num beds and bathrooms have a smaller number of outliers, and may be explained by other features, such as property type, however their removal may make the dataset more predictable, so they'll be going."
      ]
    },
    {
      "cell_type": "code",
      "metadata": {
        "id": "eBVr1sfWHCu_"
      },
      "source": [
        "#Remove Outliers\n",
        "df = df.loc[df.Surface < 5000]\n",
        "df = df.loc[df.Num_Bathrooms < 10]\n",
        "df = df.loc[df.Num_Beds < 10]\n",
        "df = df.loc[df.Price < 400000]"
      ],
      "execution_count": 23,
      "outputs": []
    },
    {
      "cell_type": "markdown",
      "metadata": {
        "id": "4LX8WcEeKrm-"
      },
      "source": [
        ""
      ]
    },
    {
      "cell_type": "markdown",
      "metadata": {
        "id": "G5oRiZxo2gpN"
      },
      "source": [
        "# NATURAL LANGUAGE PROCESSING"
      ]
    },
    {
      "cell_type": "markdown",
      "metadata": {
        "id": "uYpZ44LEK0e9"
      },
      "source": [
        ""
      ]
    },
    {
      "cell_type": "markdown",
      "metadata": {
        "id": "e8s0Wi3a8yjN"
      },
      "source": [
        "Natural language processing ([NLP](https://en.wikipedia.org/wiki/Natural_language_processing)) is a subfield of linguistics, computer science, and artificial intelligence.\n",
        "\n",
        "* NLP concerned with the interactions between computers and human language.\n",
        "* In particular how to program computers to process and analyze large amounts of natural language data. \n",
        "* The goal is a computer capable of \"understanding\" the contents of documents.\n",
        "* Including the contextual nuances of the language within them. \n",
        "* The technology can then accurately extract information and insights contained in the documents.\n",
        "* As well as categorize and organize the documents themselves. "
      ]
    },
    {
      "cell_type": "markdown",
      "metadata": {
        "id": "oValFP-z2gpN"
      },
      "source": [
        "Your comments, explanation, and references here."
      ]
    },
    {
      "cell_type": "markdown",
      "metadata": {
        "id": "hKNemRseM70p"
      },
      "source": [
        "Description and Features are two columns which have potential for NLP. Though **Services** is also a text based feature, it is simply listing utilities availiable at each property, and does not illicit any descriptive or connotative language which would be useful for NLP.\n",
        "Similarly **Location** not a useful column."
      ]
    },
    {
      "cell_type": "code",
      "metadata": {
        "id": "8YcVQzFKMoQA"
      },
      "source": [
        "# your code here\n",
        "nlp_df = df[['Description', 'Features', 'Price']]\n",
        "nlp_df['Descr_Featu'] = df['Description']+ ' \\n '+df['Features']"
      ],
      "execution_count": 24,
      "outputs": []
    },
    {
      "cell_type": "code",
      "metadata": {
        "id": "e_WND6NP2gpN"
      },
      "source": [
        "def remove_not_letters_from_col(df, col):\n",
        "  df[col] = [re.sub('[^a-zA-Z]', ' ', phrase) for phrase in df[col]]\n",
        "  return df\n",
        "\n",
        "def list_of_words(df, col):\n",
        "  return [sms.split() for sms in df[col]]\n",
        "\n",
        "\n",
        "# function to normalize words\n",
        "def normalize(words, stemmer, stop):\n",
        "  normalized_words = list()\n",
        "  for word in words:\n",
        "    # remove  the most common words\n",
        "    if word.lower() not in stop: \n",
        "      # stemming\n",
        "      new_word = stemmer.stem(word) \n",
        "      # lower case\n",
        "      normalized_words.append(new_word.lower()) \n",
        "  return normalized_words\n",
        "\n",
        "def normalize_words(words):\n",
        "  try:\n",
        "    stop = set(stopwords.words('english'))\n",
        "    stemmer = SnowballStemmer('english', ignore_stopwords=False)\n",
        "  except:\n",
        "    nltk.download('stopwords')\n",
        "    normalize_words(words)\n",
        "  return [normalize(word, stemmer, stop) for word in words]\n",
        "\n",
        "def removing_stopwords_and_stemming(df, col):\n",
        "  df = remove_not_letters_from_col(df, col)\n",
        "  col_words = list_of_words(df, col)\n",
        "  return df, col_words\n",
        "\n",
        "def removing_short_words(df, col, short_word = 4):\n",
        "  df[col] = df[col].apply(lambda x: ' '.join([w for w in x.split() if len(w)>short_word]))\n",
        "  return df\n",
        "\n",
        "def update_col_with_normd_words(df, col, col_words_norm):\n",
        "  df[col] = [\" \".join(word) for word in col_words_norm]\n",
        "  return df\n",
        "\n",
        "def nlp_preprocessing(df, col, display_=True):\n",
        "  df, col_words = removing_stopwords_and_stemming(df, col)\n",
        "  col_words_norm = normalize_words(col_words)\n",
        "  df = update_col_with_normd_words(df, col, col_words_norm)\n",
        "  df = removing_short_words(df, col)\n",
        "  if display_:\n",
        "    display(df[col].tail())\n",
        "  return df"
      ],
      "execution_count": 25,
      "outputs": []
    },
    {
      "cell_type": "code",
      "metadata": {
        "colab": {
          "base_uri": "https://localhost:8080/",
          "height": 0
        },
        "id": "wqeNBPhIgPbw",
        "outputId": "149157ad-1cac-40b4-ddd3-62495d1be091"
      },
      "source": [
        "nlp_df = nlp_preprocessing(nlp_df, 'Descr_Featu')\n",
        "X = nlp_df.drop(\"Price\", axis = 1)\n",
        "y = nlp_df[\"Price\"]"
      ],
      "execution_count": 26,
      "outputs": [
        {
          "output_type": "display_data",
          "data": {
            "text/plain": [
              "1630    joint agent murphi mullan bohan hyland delight...\n",
              "1631    delight repres carndonagh drive spacious bedro...\n",
              "1632    properti partner obrien swain proud offer bedr...\n",
              "1635    lucan estat agent delight present esker bedroo...\n",
              "1637    superb opportun await acquir beauti bijou cott...\n",
              "Name: Descr_Featu, dtype: object"
            ]
          },
          "metadata": {}
        }
      ]
    },
    {
      "cell_type": "markdown",
      "metadata": {
        "id": "zFxisvPOsRV-"
      },
      "source": [
        "## [TfidfVectorizer](https://scikit-learn.org/stable/modules/generated/sklearn.feature_extraction.text.TfidfVectorizer.html)\n",
        "- Convert a collection of raw documents to a matrix of TF-IDF features."
      ]
    },
    {
      "cell_type": "code",
      "metadata": {
        "colab": {
          "base_uri": "https://localhost:8080/"
        },
        "id": "-j8ou6_JsMPu",
        "outputId": "61fa1bca-aee1-49a0-8b07-4f3302f65ebe"
      },
      "source": [
        "from sklearn.feature_extraction.text import TfidfVectorizer\n",
        "from imblearn.combine import SMOTETomek \n",
        "\n",
        "def nlp_fitting_transforming(X, col):\n",
        "  print(\"Convert_rawDocs_to_TF_IDF_feature_matrix\")\n",
        "  X_tfid = pd.Series()\n",
        "  vectorizer = TfidfVectorizer(stop_words='english', max_features= 300, max_df=0.5, smooth_idf=True)\n",
        "  X_tfid = vectorizer.fit_transform(X[col])\n",
        "  return X_tfid\n",
        "\n",
        "X = nlp_df.drop(\"Price\", axis = 1)\n",
        "y = nlp_df[\"Price\"]\n",
        "X_train, X_test, y_train, y_test = train_test_split(X, y, test_size = 0.20, random_state = 0)\n",
        "X_train, X_test = (nlp_fitting_transforming(X_train, 'Descr_Featu'),\n",
        "                  nlp_fitting_transforming(X_test, 'Descr_Featu'))\n",
        "\n",
        "print(f\"X_train, X_test shapes:   {np.shape(X_train), np.shape(X_test)}\")"
      ],
      "execution_count": 27,
      "outputs": [
        {
          "output_type": "stream",
          "name": "stdout",
          "text": [
            "Convert_rawDocs_to_TF_IDF_feature_matrix\n",
            "Convert_rawDocs_to_TF_IDF_feature_matrix\n",
            "X_train, X_test shapes:   ((681, 300), (171, 300))\n"
          ]
        }
      ]
    },
    {
      "cell_type": "code",
      "metadata": {
        "id": "NoVXlsYutC6O"
      },
      "source": [
        "# display(sns.countplot(y))"
      ],
      "execution_count": 28,
      "outputs": []
    },
    {
      "cell_type": "code",
      "metadata": {
        "colab": {
          "base_uri": "https://localhost:8080/"
        },
        "id": "4CzbqzIpzM3R",
        "outputId": "86e3f3d3-b57d-4e73-916f-b62138edb722"
      },
      "source": [
        "# create a model\n",
        "from sklearn.linear_model import LogisticRegression\n",
        "model = LogisticRegression()\n",
        "\n",
        "# fit to data\n",
        "model.fit(X_train, y_train)"
      ],
      "execution_count": 29,
      "outputs": [
        {
          "output_type": "execute_result",
          "data": {
            "text/plain": [
              "LogisticRegression(C=1.0, class_weight=None, dual=False, fit_intercept=True,\n",
              "                   intercept_scaling=1, l1_ratio=None, max_iter=100,\n",
              "                   multi_class='auto', n_jobs=None, penalty='l2',\n",
              "                   random_state=None, solver='lbfgs', tol=0.0001, verbose=0,\n",
              "                   warm_start=False)"
            ]
          },
          "metadata": {},
          "execution_count": 29
        }
      ]
    },
    {
      "cell_type": "code",
      "metadata": {
        "id": "F7a9WF5KzSp4"
      },
      "source": [
        "# testing the model\n",
        "\n",
        "prediction_train = model.predict(X_train)\n",
        "# print('training prediction\\t', prediction_train)\n",
        "\n",
        "prediction_test = model.predict(X_test)\n",
        "# print('test prediction\\t\\t', prediction_test)"
      ],
      "execution_count": 30,
      "outputs": []
    },
    {
      "cell_type": "code",
      "metadata": {
        "colab": {
          "base_uri": "https://localhost:8080/"
        },
        "id": "_lzmWXuwzUL5",
        "outputId": "e47dc119-0279-44c6-991b-55b1a46bfe79"
      },
      "source": [
        "np.set_printoptions(suppress=True)\n",
        "\n",
        "#  probabilities in test\n",
        "predi_prob = model.predict_proba(X_test)\n",
        "print(predi_prob)"
      ],
      "execution_count": 31,
      "outputs": [
        {
          "output_type": "stream",
          "name": "stdout",
          "text": [
            "[[0.00153657 0.00143448 0.00135087 ... 0.00922591 0.00164077 0.00141645]\n",
            " [0.0013181  0.00164398 0.00135867 ... 0.00689694 0.00148077 0.00150869]\n",
            " [0.00143748 0.00134713 0.00142203 ... 0.00566763 0.00132228 0.00132985]\n",
            " ...\n",
            " [0.00176805 0.00165352 0.00136243 ... 0.00775088 0.00153266 0.00147142]\n",
            " [0.00142618 0.00142977 0.00135711 ... 0.00922147 0.00152141 0.00161796]\n",
            " [0.00154487 0.00143298 0.00139678 ... 0.00927675 0.00143201 0.00149752]]\n"
          ]
        }
      ]
    },
    {
      "cell_type": "markdown",
      "metadata": {
        "id": "x1gm7J582kxI"
      },
      "source": [
        "As we can see, The model does not look too sure of any of it's predictions based on these test set **prediction probabilities**.\n",
        "\n",
        "The Highest probability tends to "
      ]
    },
    {
      "cell_type": "code",
      "metadata": {
        "colab": {
          "base_uri": "https://localhost:8080/"
        },
        "id": "-WXGya2TzW3x",
        "outputId": "da4e8b34-91a6-42a9-e889-9f9d387fe7aa"
      },
      "source": [
        "# accuracy in training set\n",
        "y_pred_train = prediction_train\n",
        "print(\"Train Accuracy: \"+str(accuracy_score(y_train, y_pred_train)))"
      ],
      "execution_count": 32,
      "outputs": [
        {
          "output_type": "stream",
          "name": "stdout",
          "text": [
            "Train Accuracy: 0.302496328928047\n"
          ]
        }
      ]
    },
    {
      "cell_type": "code",
      "metadata": {
        "colab": {
          "base_uri": "https://localhost:8080/"
        },
        "id": "Y9utGKlJzYCw",
        "outputId": "818703f8-cc2d-42fb-a9c9-73e542cc7682"
      },
      "source": [
        "# accuracy in test set (unseen data)\n",
        "y_true = y_test\n",
        "y_pred_test = prediction_test\n",
        "print(\"Test Accuracy: \"+str(accuracy_score(y_true, y_pred_test)))"
      ],
      "execution_count": 33,
      "outputs": [
        {
          "output_type": "stream",
          "name": "stdout",
          "text": [
            "Test Accuracy: 0.07017543859649122\n"
          ]
        }
      ]
    },
    {
      "cell_type": "code",
      "metadata": {
        "colab": {
          "base_uri": "https://localhost:8080/"
        },
        "id": "ldisOFXUzZIB",
        "outputId": "3cc4bf32-e676-4f15-cbbb-b4893d4bac38"
      },
      "source": [
        "# confusion matrix\n",
        "conf_mat = confusion_matrix(y_true, y_pred_test)\n",
        "print(\"Confusion Matrix\\n\", conf_mat)"
      ],
      "execution_count": 34,
      "outputs": [
        {
          "output_type": "stream",
          "name": "stdout",
          "text": [
            "Confusion Matrix\n",
            " [[0 0 0 ... 0 1 0]\n",
            " [0 0 0 ... 0 0 0]\n",
            " [0 0 0 ... 0 0 0]\n",
            " ...\n",
            " [0 0 0 ... 0 0 0]\n",
            " [0 0 0 ... 0 5 0]\n",
            " [0 0 0 ... 0 0 0]]\n"
          ]
        }
      ]
    },
    {
      "cell_type": "markdown",
      "metadata": {
        "id": "RMKM8xpj5zP-"
      },
      "source": [
        "despite these low accuracy scores, adding these predictions to our dataset for the following two Models may be interesting.\n",
        "\n",
        "I will create a dataset - df2 which includes these figures."
      ]
    },
    {
      "cell_type": "code",
      "metadata": {
        "colab": {
          "base_uri": "https://localhost:8080/",
          "height": 0
        },
        "id": "xA6XEl7B1_LI",
        "outputId": "e6b26fcd-092f-4292-cf44-fd6dfdaf7fc5"
      },
      "source": [
        "df2 = df.copy()\n",
        "df2['Price_pred_nlp'] = model.predict(nlp_fitting_transforming(X, 'Descr_Featu'))\n",
        "df2 = sort_columns(df2)\n",
        "display(hide_one_hot_encoded_cols(df2).describe())\n",
        "display(hide_one_hot_encoded_cols(df2).tail()) "
      ],
      "execution_count": 35,
      "outputs": [
        {
          "output_type": "stream",
          "name": "stdout",
          "text": [
            "Convert_rawDocs_to_TF_IDF_feature_matrix\n"
          ]
        },
        {
          "output_type": "display_data",
          "data": {
            "text/html": [
              "<div>\n",
              "<style scoped>\n",
              "    .dataframe tbody tr th:only-of-type {\n",
              "        vertical-align: middle;\n",
              "    }\n",
              "\n",
              "    .dataframe tbody tr th {\n",
              "        vertical-align: top;\n",
              "    }\n",
              "\n",
              "    .dataframe thead th {\n",
              "        text-align: right;\n",
              "    }\n",
              "</style>\n",
              "<table border=\"1\" class=\"dataframe\">\n",
              "  <thead>\n",
              "    <tr style=\"text-align: right;\">\n",
              "      <th></th>\n",
              "      <th>BER_class</th>\n",
              "      <th>Dist_from_dub_center</th>\n",
              "      <th>Latitude</th>\n",
              "      <th>Longitude</th>\n",
              "      <th>Num_Bathrooms</th>\n",
              "      <th>Num_Beds</th>\n",
              "      <th>Price</th>\n",
              "      <th>Price_pred_nlp</th>\n",
              "      <th>Service_Alarm</th>\n",
              "      <th>Service_Gas Fired Central Heating</th>\n",
              "      <th>Service_Oil Fired Central Heating</th>\n",
              "      <th>Service_Parking</th>\n",
              "      <th>Service_Wheelchair Access</th>\n",
              "      <th>Service_Wired for Cable Television</th>\n",
              "      <th>Surface</th>\n",
              "    </tr>\n",
              "  </thead>\n",
              "  <tbody>\n",
              "    <tr>\n",
              "      <th>count</th>\n",
              "      <td>852.000000</td>\n",
              "      <td>8.520000e+02</td>\n",
              "      <td>852.000000</td>\n",
              "      <td>852.000000</td>\n",
              "      <td>852.000000</td>\n",
              "      <td>852.000000</td>\n",
              "      <td>852.000000</td>\n",
              "      <td>852.000000</td>\n",
              "      <td>852.000000</td>\n",
              "      <td>852.000000</td>\n",
              "      <td>852.000000</td>\n",
              "      <td>852.000000</td>\n",
              "      <td>852.000000</td>\n",
              "      <td>852.000000</td>\n",
              "      <td>852.00000</td>\n",
              "    </tr>\n",
              "    <tr>\n",
              "      <th>mean</th>\n",
              "      <td>10.811125</td>\n",
              "      <td>1.538464e-02</td>\n",
              "      <td>0.013387</td>\n",
              "      <td>-0.019519</td>\n",
              "      <td>1.636150</td>\n",
              "      <td>2.419014</td>\n",
              "      <td>294438.830986</td>\n",
              "      <td>337206.572770</td>\n",
              "      <td>0.176056</td>\n",
              "      <td>0.353286</td>\n",
              "      <td>0.024648</td>\n",
              "      <td>0.489437</td>\n",
              "      <td>0.034038</td>\n",
              "      <td>0.257042</td>\n",
              "      <td>82.13157</td>\n",
              "    </tr>\n",
              "    <tr>\n",
              "      <th>std</th>\n",
              "      <td>2.707604</td>\n",
              "      <td>1.800031e-02</td>\n",
              "      <td>0.078230</td>\n",
              "      <td>0.093391</td>\n",
              "      <td>0.776571</td>\n",
              "      <td>0.840662</td>\n",
              "      <td>64730.750446</td>\n",
              "      <td>37182.682423</td>\n",
              "      <td>0.390233</td>\n",
              "      <td>0.513806</td>\n",
              "      <td>0.155141</td>\n",
              "      <td>0.572484</td>\n",
              "      <td>0.181432</td>\n",
              "      <td>0.465884</td>\n",
              "      <td>46.22835</td>\n",
              "    </tr>\n",
              "    <tr>\n",
              "      <th>min</th>\n",
              "      <td>1.000000</td>\n",
              "      <td>5.129842e-07</td>\n",
              "      <td>-0.134759</td>\n",
              "      <td>-0.213688</td>\n",
              "      <td>1.000000</td>\n",
              "      <td>1.000000</td>\n",
              "      <td>19995.000000</td>\n",
              "      <td>220000.000000</td>\n",
              "      <td>0.000000</td>\n",
              "      <td>0.000000</td>\n",
              "      <td>0.000000</td>\n",
              "      <td>0.000000</td>\n",
              "      <td>0.000000</td>\n",
              "      <td>0.000000</td>\n",
              "      <td>3.40000</td>\n",
              "    </tr>\n",
              "    <tr>\n",
              "      <th>25%</th>\n",
              "      <td>9.000000</td>\n",
              "      <td>2.062277e-03</td>\n",
              "      <td>-0.032157</td>\n",
              "      <td>-0.100444</td>\n",
              "      <td>1.000000</td>\n",
              "      <td>2.000000</td>\n",
              "      <td>248500.000000</td>\n",
              "      <td>295000.000000</td>\n",
              "      <td>0.000000</td>\n",
              "      <td>0.000000</td>\n",
              "      <td>0.000000</td>\n",
              "      <td>0.000000</td>\n",
              "      <td>0.000000</td>\n",
              "      <td>0.000000</td>\n",
              "      <td>62.00000</td>\n",
              "    </tr>\n",
              "    <tr>\n",
              "      <th>50%</th>\n",
              "      <td>10.704190</td>\n",
              "      <td>9.823026e-03</td>\n",
              "      <td>0.002073</td>\n",
              "      <td>-0.011604</td>\n",
              "      <td>1.000000</td>\n",
              "      <td>2.000000</td>\n",
              "      <td>295000.000000</td>\n",
              "      <td>325000.000000</td>\n",
              "      <td>0.000000</td>\n",
              "      <td>0.000000</td>\n",
              "      <td>0.000000</td>\n",
              "      <td>0.000000</td>\n",
              "      <td>0.000000</td>\n",
              "      <td>0.000000</td>\n",
              "      <td>77.00000</td>\n",
              "    </tr>\n",
              "    <tr>\n",
              "      <th>75%</th>\n",
              "      <td>12.000000</td>\n",
              "      <td>2.169841e-02</td>\n",
              "      <td>0.041746</td>\n",
              "      <td>0.045751</td>\n",
              "      <td>2.000000</td>\n",
              "      <td>3.000000</td>\n",
              "      <td>350000.000000</td>\n",
              "      <td>375000.000000</td>\n",
              "      <td>0.000000</td>\n",
              "      <td>1.000000</td>\n",
              "      <td>0.000000</td>\n",
              "      <td>1.000000</td>\n",
              "      <td>0.000000</td>\n",
              "      <td>0.000000</td>\n",
              "      <td>95.25000</td>\n",
              "    </tr>\n",
              "    <tr>\n",
              "      <th>max</th>\n",
              "      <td>16.000000</td>\n",
              "      <td>7.743462e-02</td>\n",
              "      <td>0.266888</td>\n",
              "      <td>0.203060</td>\n",
              "      <td>6.000000</td>\n",
              "      <td>6.000000</td>\n",
              "      <td>399950.000000</td>\n",
              "      <td>395000.000000</td>\n",
              "      <td>2.000000</td>\n",
              "      <td>2.000000</td>\n",
              "      <td>1.000000</td>\n",
              "      <td>2.000000</td>\n",
              "      <td>1.000000</td>\n",
              "      <td>2.000000</td>\n",
              "      <td>985.00000</td>\n",
              "    </tr>\n",
              "  </tbody>\n",
              "</table>\n",
              "</div>"
            ],
            "text/plain": [
              "        BER_class  ...    Surface\n",
              "count  852.000000  ...  852.00000\n",
              "mean    10.811125  ...   82.13157\n",
              "std      2.707604  ...   46.22835\n",
              "min      1.000000  ...    3.40000\n",
              "25%      9.000000  ...   62.00000\n",
              "50%     10.704190  ...   77.00000\n",
              "75%     12.000000  ...   95.25000\n",
              "max     16.000000  ...  985.00000\n",
              "\n",
              "[8 rows x 15 columns]"
            ]
          },
          "metadata": {}
        },
        {
          "output_type": "display_data",
          "data": {
            "text/html": [
              "<div>\n",
              "<style scoped>\n",
              "    .dataframe tbody tr th:only-of-type {\n",
              "        vertical-align: middle;\n",
              "    }\n",
              "\n",
              "    .dataframe tbody tr th {\n",
              "        vertical-align: top;\n",
              "    }\n",
              "\n",
              "    .dataframe thead th {\n",
              "        text-align: right;\n",
              "    }\n",
              "</style>\n",
              "<table border=\"1\" class=\"dataframe\">\n",
              "  <thead>\n",
              "    <tr style=\"text-align: right;\">\n",
              "      <th></th>\n",
              "      <th>BER_class</th>\n",
              "      <th>Description</th>\n",
              "      <th>Dist_from_dub_center</th>\n",
              "      <th>Features</th>\n",
              "      <th>Latitude</th>\n",
              "      <th>Longitude</th>\n",
              "      <th>Num_Bathrooms</th>\n",
              "      <th>Num_Beds</th>\n",
              "      <th>Price</th>\n",
              "      <th>Price_pred_nlp</th>\n",
              "      <th>Service_Alarm</th>\n",
              "      <th>Service_Gas Fired Central Heating</th>\n",
              "      <th>Service_Oil Fired Central Heating</th>\n",
              "      <th>Service_Parking</th>\n",
              "      <th>Service_Wheelchair Access</th>\n",
              "      <th>Service_Wired for Cable Television</th>\n",
              "      <th>Surface</th>\n",
              "    </tr>\n",
              "  </thead>\n",
              "  <tbody>\n",
              "    <tr>\n",
              "      <th>1630</th>\n",
              "      <td>10.0</td>\n",
              "      <td>Joint agents Murphy Mullan and Bohan Hyland ar...</td>\n",
              "      <td>0.015589</td>\n",
              "      <td>GFCH\\nDG WINDOWS\\nMOD FITTED KIT\\nCLOSE TO ALL...</td>\n",
              "      <td>-0.049626</td>\n",
              "      <td>-0.114568</td>\n",
              "      <td>2</td>\n",
              "      <td>4</td>\n",
              "      <td>365000.0</td>\n",
              "      <td>325000.0</td>\n",
              "      <td>0.0</td>\n",
              "      <td>0.0</td>\n",
              "      <td>0.0</td>\n",
              "      <td>0.0</td>\n",
              "      <td>0.0</td>\n",
              "      <td>0.0</td>\n",
              "      <td>144.0</td>\n",
              "    </tr>\n",
              "    <tr>\n",
              "      <th>1631</th>\n",
              "      <td>11.0</td>\n",
              "      <td>DNG are delighted to represent the sale of 21 ...</td>\n",
              "      <td>0.014169</td>\n",
              "      <td>Wonderful, private west facing rear garden \\nG...</td>\n",
              "      <td>0.043672</td>\n",
              "      <td>0.110735</td>\n",
              "      <td>2</td>\n",
              "      <td>5</td>\n",
              "      <td>395000.0</td>\n",
              "      <td>350000.0</td>\n",
              "      <td>0.0</td>\n",
              "      <td>1.0</td>\n",
              "      <td>0.0</td>\n",
              "      <td>1.0</td>\n",
              "      <td>0.0</td>\n",
              "      <td>0.0</td>\n",
              "      <td>182.0</td>\n",
              "    </tr>\n",
              "    <tr>\n",
              "      <th>1632</th>\n",
              "      <td>11.0</td>\n",
              "      <td>PROPERTY PARTNERS OBRIEN SWAINE are proud to o...</td>\n",
              "      <td>0.000743</td>\n",
              "      <td>None</td>\n",
              "      <td>-0.024661</td>\n",
              "      <td>-0.011626</td>\n",
              "      <td>1</td>\n",
              "      <td>1</td>\n",
              "      <td>220000.0</td>\n",
              "      <td>325000.0</td>\n",
              "      <td>0.0</td>\n",
              "      <td>0.0</td>\n",
              "      <td>0.0</td>\n",
              "      <td>0.0</td>\n",
              "      <td>0.0</td>\n",
              "      <td>0.0</td>\n",
              "      <td>37.0</td>\n",
              "    </tr>\n",
              "    <tr>\n",
              "      <th>1635</th>\n",
              "      <td>4.0</td>\n",
              "      <td>DNG Lucan's leading estate agents are delighte...</td>\n",
              "      <td>0.028605</td>\n",
              "      <td>None</td>\n",
              "      <td>0.001527</td>\n",
              "      <td>-0.169123</td>\n",
              "      <td>2</td>\n",
              "      <td>3</td>\n",
              "      <td>340000.0</td>\n",
              "      <td>325000.0</td>\n",
              "      <td>0.0</td>\n",
              "      <td>0.0</td>\n",
              "      <td>0.0</td>\n",
              "      <td>0.0</td>\n",
              "      <td>0.0</td>\n",
              "      <td>0.0</td>\n",
              "      <td>98.0</td>\n",
              "    </tr>\n",
              "    <tr>\n",
              "      <th>1637</th>\n",
              "      <td>13.0</td>\n",
              "      <td>A superb opportunity awaits to acquire this be...</td>\n",
              "      <td>0.034009</td>\n",
              "      <td>Turn key condition\\nWood burning stove\\nSlider...</td>\n",
              "      <td>-0.118702</td>\n",
              "      <td>0.141133</td>\n",
              "      <td>2</td>\n",
              "      <td>2</td>\n",
              "      <td>370000.0</td>\n",
              "      <td>395000.0</td>\n",
              "      <td>0.0</td>\n",
              "      <td>0.0</td>\n",
              "      <td>0.0</td>\n",
              "      <td>0.0</td>\n",
              "      <td>0.0</td>\n",
              "      <td>0.0</td>\n",
              "      <td>50.0</td>\n",
              "    </tr>\n",
              "  </tbody>\n",
              "</table>\n",
              "</div>"
            ],
            "text/plain": [
              "      BER_class  ... Surface\n",
              "1630       10.0  ...   144.0\n",
              "1631       11.0  ...   182.0\n",
              "1632       11.0  ...    37.0\n",
              "1635        4.0  ...    98.0\n",
              "1637       13.0  ...    50.0\n",
              "\n",
              "[5 rows x 17 columns]"
            ]
          },
          "metadata": {}
        }
      ]
    },
    {
      "cell_type": "markdown",
      "metadata": {
        "id": "bJFJQxAS9HZK"
      },
      "source": [
        "# PIECEWISE REGRESSION"
      ]
    },
    {
      "cell_type": "markdown",
      "metadata": {
        "id": "QkRchZtf6IV-"
      },
      "source": [
        "**Piecewise regression**, extract from [Wikipedia](https://en.wikipedia.org/wiki/Segmented_regression):\n",
        "\n",
        "Segmented regression, also known as piecewise regression or broken-stick regression, is a method in regression analysis in which the independent variable is partitioned into intervals and a separate line segment is fit to each interval. \n",
        "\n",
        "* Segmented regression analysis can also be performed on \n",
        "multivariate data by partitioning the various independent variables. \n",
        "* Segmented regression is useful when the independent variables, clustered into different groups, exhibit different relationships between the variables in these regions. \n",
        "\n",
        "* The boundaries between the segments are breakpoints.\n",
        "\n",
        "* Segmented linear regression is segmented regression whereby the relations in the intervals are obtained by linear regression. "
      ]
    },
    {
      "cell_type": "markdown",
      "metadata": {
        "id": "po84zvge2NS7"
      },
      "source": [
        "Your comments, explanation, and references here."
      ]
    },
    {
      "cell_type": "markdown",
      "metadata": {
        "id": "3lZrT2q5w1lA"
      },
      "source": [
        "## baseline model"
      ]
    },
    {
      "cell_type": "code",
      "metadata": {
        "id": "pXX7Mq2Y2NrK",
        "colab": {
          "base_uri": "https://localhost:8080/"
        },
        "outputId": "cae9b061-e42c-4804-9ae7-bb3d6f1a091e"
      },
      "source": [
        "# your code here\n",
        "pwr_df = df.loc[:, ~df.columns.str.startswith('Location')].drop(['Description', 'Features'], axis=1)\n",
        "X = pwr_df.drop(\"Price\", axis = 1)\n",
        "y = pwr_df[\"Price\"]\n",
        "\n",
        "print('Number of nan in dataset: ',X.isnull().sum().sum())\n",
        "print('Number of nan in dataset: ',y.isnull().sum().sum())\n",
        "print(np.all(np.isfinite(y)))\n",
        "\n",
        "\n",
        "X_train, X_test, y_train, y_test = train_test_split(X, y, test_size = 0.20, random_state = 0)"
      ],
      "execution_count": 36,
      "outputs": [
        {
          "output_type": "stream",
          "name": "stdout",
          "text": [
            "Number of nan in dataset:  0\n",
            "Number of nan in dataset:  0\n",
            "True\n"
          ]
        }
      ]
    },
    {
      "cell_type": "code",
      "metadata": {
        "colab": {
          "base_uri": "https://localhost:8080/",
          "height": 614
        },
        "id": "OZ8shXW8lDWL",
        "outputId": "a15033c5-8699-479c-cb85-0880ecfc7154"
      },
      "source": [
        "display(hide_one_hot_encoded_cols(pwr_df).describe())\n",
        "display(hide_one_hot_encoded_cols(pwr_df).tail()) "
      ],
      "execution_count": 37,
      "outputs": [
        {
          "output_type": "display_data",
          "data": {
            "text/html": [
              "<div>\n",
              "<style scoped>\n",
              "    .dataframe tbody tr th:only-of-type {\n",
              "        vertical-align: middle;\n",
              "    }\n",
              "\n",
              "    .dataframe tbody tr th {\n",
              "        vertical-align: top;\n",
              "    }\n",
              "\n",
              "    .dataframe thead th {\n",
              "        text-align: right;\n",
              "    }\n",
              "</style>\n",
              "<table border=\"1\" class=\"dataframe\">\n",
              "  <thead>\n",
              "    <tr style=\"text-align: right;\">\n",
              "      <th></th>\n",
              "      <th>BER_class</th>\n",
              "      <th>Dist_from_dub_center</th>\n",
              "      <th>Latitude</th>\n",
              "      <th>Longitude</th>\n",
              "      <th>Num_Bathrooms</th>\n",
              "      <th>Num_Beds</th>\n",
              "      <th>Price</th>\n",
              "      <th>Service_Alarm</th>\n",
              "      <th>Service_Gas Fired Central Heating</th>\n",
              "      <th>Service_Oil Fired Central Heating</th>\n",
              "      <th>Service_Parking</th>\n",
              "      <th>Service_Wheelchair Access</th>\n",
              "      <th>Service_Wired for Cable Television</th>\n",
              "      <th>Surface</th>\n",
              "    </tr>\n",
              "  </thead>\n",
              "  <tbody>\n",
              "    <tr>\n",
              "      <th>count</th>\n",
              "      <td>852.000000</td>\n",
              "      <td>8.520000e+02</td>\n",
              "      <td>852.000000</td>\n",
              "      <td>852.000000</td>\n",
              "      <td>852.000000</td>\n",
              "      <td>852.000000</td>\n",
              "      <td>852.000000</td>\n",
              "      <td>852.000000</td>\n",
              "      <td>852.000000</td>\n",
              "      <td>852.000000</td>\n",
              "      <td>852.000000</td>\n",
              "      <td>852.000000</td>\n",
              "      <td>852.000000</td>\n",
              "      <td>852.00000</td>\n",
              "    </tr>\n",
              "    <tr>\n",
              "      <th>mean</th>\n",
              "      <td>10.811125</td>\n",
              "      <td>1.538464e-02</td>\n",
              "      <td>0.013387</td>\n",
              "      <td>-0.019519</td>\n",
              "      <td>1.636150</td>\n",
              "      <td>2.419014</td>\n",
              "      <td>294438.830986</td>\n",
              "      <td>0.176056</td>\n",
              "      <td>0.353286</td>\n",
              "      <td>0.024648</td>\n",
              "      <td>0.489437</td>\n",
              "      <td>0.034038</td>\n",
              "      <td>0.257042</td>\n",
              "      <td>82.13157</td>\n",
              "    </tr>\n",
              "    <tr>\n",
              "      <th>std</th>\n",
              "      <td>2.707604</td>\n",
              "      <td>1.800031e-02</td>\n",
              "      <td>0.078230</td>\n",
              "      <td>0.093391</td>\n",
              "      <td>0.776571</td>\n",
              "      <td>0.840662</td>\n",
              "      <td>64730.750446</td>\n",
              "      <td>0.390233</td>\n",
              "      <td>0.513806</td>\n",
              "      <td>0.155141</td>\n",
              "      <td>0.572484</td>\n",
              "      <td>0.181432</td>\n",
              "      <td>0.465884</td>\n",
              "      <td>46.22835</td>\n",
              "    </tr>\n",
              "    <tr>\n",
              "      <th>min</th>\n",
              "      <td>1.000000</td>\n",
              "      <td>5.129842e-07</td>\n",
              "      <td>-0.134759</td>\n",
              "      <td>-0.213688</td>\n",
              "      <td>1.000000</td>\n",
              "      <td>1.000000</td>\n",
              "      <td>19995.000000</td>\n",
              "      <td>0.000000</td>\n",
              "      <td>0.000000</td>\n",
              "      <td>0.000000</td>\n",
              "      <td>0.000000</td>\n",
              "      <td>0.000000</td>\n",
              "      <td>0.000000</td>\n",
              "      <td>3.40000</td>\n",
              "    </tr>\n",
              "    <tr>\n",
              "      <th>25%</th>\n",
              "      <td>9.000000</td>\n",
              "      <td>2.062277e-03</td>\n",
              "      <td>-0.032157</td>\n",
              "      <td>-0.100444</td>\n",
              "      <td>1.000000</td>\n",
              "      <td>2.000000</td>\n",
              "      <td>248500.000000</td>\n",
              "      <td>0.000000</td>\n",
              "      <td>0.000000</td>\n",
              "      <td>0.000000</td>\n",
              "      <td>0.000000</td>\n",
              "      <td>0.000000</td>\n",
              "      <td>0.000000</td>\n",
              "      <td>62.00000</td>\n",
              "    </tr>\n",
              "    <tr>\n",
              "      <th>50%</th>\n",
              "      <td>10.704190</td>\n",
              "      <td>9.823026e-03</td>\n",
              "      <td>0.002073</td>\n",
              "      <td>-0.011604</td>\n",
              "      <td>1.000000</td>\n",
              "      <td>2.000000</td>\n",
              "      <td>295000.000000</td>\n",
              "      <td>0.000000</td>\n",
              "      <td>0.000000</td>\n",
              "      <td>0.000000</td>\n",
              "      <td>0.000000</td>\n",
              "      <td>0.000000</td>\n",
              "      <td>0.000000</td>\n",
              "      <td>77.00000</td>\n",
              "    </tr>\n",
              "    <tr>\n",
              "      <th>75%</th>\n",
              "      <td>12.000000</td>\n",
              "      <td>2.169841e-02</td>\n",
              "      <td>0.041746</td>\n",
              "      <td>0.045751</td>\n",
              "      <td>2.000000</td>\n",
              "      <td>3.000000</td>\n",
              "      <td>350000.000000</td>\n",
              "      <td>0.000000</td>\n",
              "      <td>1.000000</td>\n",
              "      <td>0.000000</td>\n",
              "      <td>1.000000</td>\n",
              "      <td>0.000000</td>\n",
              "      <td>0.000000</td>\n",
              "      <td>95.25000</td>\n",
              "    </tr>\n",
              "    <tr>\n",
              "      <th>max</th>\n",
              "      <td>16.000000</td>\n",
              "      <td>7.743462e-02</td>\n",
              "      <td>0.266888</td>\n",
              "      <td>0.203060</td>\n",
              "      <td>6.000000</td>\n",
              "      <td>6.000000</td>\n",
              "      <td>399950.000000</td>\n",
              "      <td>2.000000</td>\n",
              "      <td>2.000000</td>\n",
              "      <td>1.000000</td>\n",
              "      <td>2.000000</td>\n",
              "      <td>1.000000</td>\n",
              "      <td>2.000000</td>\n",
              "      <td>985.00000</td>\n",
              "    </tr>\n",
              "  </tbody>\n",
              "</table>\n",
              "</div>"
            ],
            "text/plain": [
              "        BER_class  ...    Surface\n",
              "count  852.000000  ...  852.00000\n",
              "mean    10.811125  ...   82.13157\n",
              "std      2.707604  ...   46.22835\n",
              "min      1.000000  ...    3.40000\n",
              "25%      9.000000  ...   62.00000\n",
              "50%     10.704190  ...   77.00000\n",
              "75%     12.000000  ...   95.25000\n",
              "max     16.000000  ...  985.00000\n",
              "\n",
              "[8 rows x 14 columns]"
            ]
          },
          "metadata": {}
        },
        {
          "output_type": "display_data",
          "data": {
            "text/html": [
              "<div>\n",
              "<style scoped>\n",
              "    .dataframe tbody tr th:only-of-type {\n",
              "        vertical-align: middle;\n",
              "    }\n",
              "\n",
              "    .dataframe tbody tr th {\n",
              "        vertical-align: top;\n",
              "    }\n",
              "\n",
              "    .dataframe thead th {\n",
              "        text-align: right;\n",
              "    }\n",
              "</style>\n",
              "<table border=\"1\" class=\"dataframe\">\n",
              "  <thead>\n",
              "    <tr style=\"text-align: right;\">\n",
              "      <th></th>\n",
              "      <th>BER_class</th>\n",
              "      <th>Dist_from_dub_center</th>\n",
              "      <th>Latitude</th>\n",
              "      <th>Longitude</th>\n",
              "      <th>Num_Bathrooms</th>\n",
              "      <th>Num_Beds</th>\n",
              "      <th>Price</th>\n",
              "      <th>Service_Alarm</th>\n",
              "      <th>Service_Gas Fired Central Heating</th>\n",
              "      <th>Service_Oil Fired Central Heating</th>\n",
              "      <th>Service_Parking</th>\n",
              "      <th>Service_Wheelchair Access</th>\n",
              "      <th>Service_Wired for Cable Television</th>\n",
              "      <th>Surface</th>\n",
              "    </tr>\n",
              "  </thead>\n",
              "  <tbody>\n",
              "    <tr>\n",
              "      <th>1630</th>\n",
              "      <td>10.0</td>\n",
              "      <td>0.015589</td>\n",
              "      <td>-0.049626</td>\n",
              "      <td>-0.114568</td>\n",
              "      <td>2</td>\n",
              "      <td>4</td>\n",
              "      <td>365000.0</td>\n",
              "      <td>0.0</td>\n",
              "      <td>0.0</td>\n",
              "      <td>0.0</td>\n",
              "      <td>0.0</td>\n",
              "      <td>0.0</td>\n",
              "      <td>0.0</td>\n",
              "      <td>144.0</td>\n",
              "    </tr>\n",
              "    <tr>\n",
              "      <th>1631</th>\n",
              "      <td>11.0</td>\n",
              "      <td>0.014169</td>\n",
              "      <td>0.043672</td>\n",
              "      <td>0.110735</td>\n",
              "      <td>2</td>\n",
              "      <td>5</td>\n",
              "      <td>395000.0</td>\n",
              "      <td>0.0</td>\n",
              "      <td>1.0</td>\n",
              "      <td>0.0</td>\n",
              "      <td>1.0</td>\n",
              "      <td>0.0</td>\n",
              "      <td>0.0</td>\n",
              "      <td>182.0</td>\n",
              "    </tr>\n",
              "    <tr>\n",
              "      <th>1632</th>\n",
              "      <td>11.0</td>\n",
              "      <td>0.000743</td>\n",
              "      <td>-0.024661</td>\n",
              "      <td>-0.011626</td>\n",
              "      <td>1</td>\n",
              "      <td>1</td>\n",
              "      <td>220000.0</td>\n",
              "      <td>0.0</td>\n",
              "      <td>0.0</td>\n",
              "      <td>0.0</td>\n",
              "      <td>0.0</td>\n",
              "      <td>0.0</td>\n",
              "      <td>0.0</td>\n",
              "      <td>37.0</td>\n",
              "    </tr>\n",
              "    <tr>\n",
              "      <th>1635</th>\n",
              "      <td>4.0</td>\n",
              "      <td>0.028605</td>\n",
              "      <td>0.001527</td>\n",
              "      <td>-0.169123</td>\n",
              "      <td>2</td>\n",
              "      <td>3</td>\n",
              "      <td>340000.0</td>\n",
              "      <td>0.0</td>\n",
              "      <td>0.0</td>\n",
              "      <td>0.0</td>\n",
              "      <td>0.0</td>\n",
              "      <td>0.0</td>\n",
              "      <td>0.0</td>\n",
              "      <td>98.0</td>\n",
              "    </tr>\n",
              "    <tr>\n",
              "      <th>1637</th>\n",
              "      <td>13.0</td>\n",
              "      <td>0.034009</td>\n",
              "      <td>-0.118702</td>\n",
              "      <td>0.141133</td>\n",
              "      <td>2</td>\n",
              "      <td>2</td>\n",
              "      <td>370000.0</td>\n",
              "      <td>0.0</td>\n",
              "      <td>0.0</td>\n",
              "      <td>0.0</td>\n",
              "      <td>0.0</td>\n",
              "      <td>0.0</td>\n",
              "      <td>0.0</td>\n",
              "      <td>50.0</td>\n",
              "    </tr>\n",
              "  </tbody>\n",
              "</table>\n",
              "</div>"
            ],
            "text/plain": [
              "      BER_class  ...  Surface\n",
              "1630       10.0  ...    144.0\n",
              "1631       11.0  ...    182.0\n",
              "1632       11.0  ...     37.0\n",
              "1635        4.0  ...     98.0\n",
              "1637       13.0  ...     50.0\n",
              "\n",
              "[5 rows x 14 columns]"
            ]
          },
          "metadata": {}
        }
      ]
    },
    {
      "cell_type": "code",
      "metadata": {
        "colab": {
          "base_uri": "https://localhost:8080/",
          "height": 485
        },
        "id": "KHWl2v5Lks3D",
        "outputId": "e3ff1a1f-a79d-464c-df06-10f7ef8e1c2b"
      },
      "source": [
        "display(X_train.describe())\n",
        "display(y_train.head())"
      ],
      "execution_count": 38,
      "outputs": [
        {
          "output_type": "display_data",
          "data": {
            "text/html": [
              "<div>\n",
              "<style scoped>\n",
              "    .dataframe tbody tr th:only-of-type {\n",
              "        vertical-align: middle;\n",
              "    }\n",
              "\n",
              "    .dataframe tbody tr th {\n",
              "        vertical-align: top;\n",
              "    }\n",
              "\n",
              "    .dataframe thead th {\n",
              "        text-align: right;\n",
              "    }\n",
              "</style>\n",
              "<table border=\"1\" class=\"dataframe\">\n",
              "  <thead>\n",
              "    <tr style=\"text-align: right;\">\n",
              "      <th></th>\n",
              "      <th>BER_class</th>\n",
              "      <th>Dist_from_dub_center</th>\n",
              "      <th>Latitude</th>\n",
              "      <th>Longitude</th>\n",
              "      <th>Num_Bathrooms</th>\n",
              "      <th>Num_Beds</th>\n",
              "      <th>Service_Alarm</th>\n",
              "      <th>Service_Gas Fired Central Heating</th>\n",
              "      <th>Service_Oil Fired Central Heating</th>\n",
              "      <th>Service_Parking</th>\n",
              "      <th>Service_Wheelchair Access</th>\n",
              "      <th>Service_Wired for Cable Television</th>\n",
              "      <th>Surface</th>\n",
              "      <th>Type_apartment</th>\n",
              "      <th>Type_bungalow</th>\n",
              "      <th>Type_detached</th>\n",
              "      <th>Type_duplex</th>\n",
              "      <th>Type_end-of-terrace</th>\n",
              "      <th>Type_nan</th>\n",
              "      <th>Type_semi-detached</th>\n",
              "      <th>Type_site</th>\n",
              "      <th>Type_studio</th>\n",
              "      <th>Type_terraced</th>\n",
              "      <th>Type_townhouse</th>\n",
              "    </tr>\n",
              "  </thead>\n",
              "  <tbody>\n",
              "    <tr>\n",
              "      <th>count</th>\n",
              "      <td>681.000000</td>\n",
              "      <td>681.000000</td>\n",
              "      <td>681.000000</td>\n",
              "      <td>681.000000</td>\n",
              "      <td>681.000000</td>\n",
              "      <td>681.000000</td>\n",
              "      <td>681.000000</td>\n",
              "      <td>681.000000</td>\n",
              "      <td>681.000000</td>\n",
              "      <td>681.000000</td>\n",
              "      <td>681.000000</td>\n",
              "      <td>681.000000</td>\n",
              "      <td>681.000000</td>\n",
              "      <td>681.000000</td>\n",
              "      <td>681.000000</td>\n",
              "      <td>681.000000</td>\n",
              "      <td>681.000000</td>\n",
              "      <td>681.000000</td>\n",
              "      <td>681.0</td>\n",
              "      <td>681.000000</td>\n",
              "      <td>681.0</td>\n",
              "      <td>681.000000</td>\n",
              "      <td>681.000000</td>\n",
              "      <td>681.000000</td>\n",
              "    </tr>\n",
              "    <tr>\n",
              "      <th>mean</th>\n",
              "      <td>10.753608</td>\n",
              "      <td>0.015429</td>\n",
              "      <td>0.014044</td>\n",
              "      <td>-0.019459</td>\n",
              "      <td>1.641703</td>\n",
              "      <td>2.411160</td>\n",
              "      <td>0.187959</td>\n",
              "      <td>0.365639</td>\n",
              "      <td>0.022026</td>\n",
              "      <td>0.499266</td>\n",
              "      <td>0.033774</td>\n",
              "      <td>0.255507</td>\n",
              "      <td>82.457414</td>\n",
              "      <td>0.418502</td>\n",
              "      <td>0.014684</td>\n",
              "      <td>0.029369</td>\n",
              "      <td>0.029369</td>\n",
              "      <td>0.076358</td>\n",
              "      <td>0.0</td>\n",
              "      <td>0.227606</td>\n",
              "      <td>0.0</td>\n",
              "      <td>0.001468</td>\n",
              "      <td>0.189427</td>\n",
              "      <td>0.013216</td>\n",
              "    </tr>\n",
              "    <tr>\n",
              "      <th>std</th>\n",
              "      <td>2.689644</td>\n",
              "      <td>0.018068</td>\n",
              "      <td>0.079484</td>\n",
              "      <td>0.092504</td>\n",
              "      <td>0.780814</td>\n",
              "      <td>0.844424</td>\n",
              "      <td>0.402092</td>\n",
              "      <td>0.525743</td>\n",
              "      <td>0.146877</td>\n",
              "      <td>0.574264</td>\n",
              "      <td>0.180779</td>\n",
              "      <td>0.465804</td>\n",
              "      <td>49.745159</td>\n",
              "      <td>0.493676</td>\n",
              "      <td>0.120374</td>\n",
              "      <td>0.168961</td>\n",
              "      <td>0.168961</td>\n",
              "      <td>0.265766</td>\n",
              "      <td>0.0</td>\n",
              "      <td>0.419595</td>\n",
              "      <td>0.0</td>\n",
              "      <td>0.038320</td>\n",
              "      <td>0.392136</td>\n",
              "      <td>0.114282</td>\n",
              "    </tr>\n",
              "    <tr>\n",
              "      <th>min</th>\n",
              "      <td>1.000000</td>\n",
              "      <td>0.000002</td>\n",
              "      <td>-0.134759</td>\n",
              "      <td>-0.213688</td>\n",
              "      <td>1.000000</td>\n",
              "      <td>1.000000</td>\n",
              "      <td>0.000000</td>\n",
              "      <td>0.000000</td>\n",
              "      <td>0.000000</td>\n",
              "      <td>0.000000</td>\n",
              "      <td>0.000000</td>\n",
              "      <td>0.000000</td>\n",
              "      <td>18.600000</td>\n",
              "      <td>0.000000</td>\n",
              "      <td>0.000000</td>\n",
              "      <td>0.000000</td>\n",
              "      <td>0.000000</td>\n",
              "      <td>0.000000</td>\n",
              "      <td>0.0</td>\n",
              "      <td>0.000000</td>\n",
              "      <td>0.0</td>\n",
              "      <td>0.000000</td>\n",
              "      <td>0.000000</td>\n",
              "      <td>0.000000</td>\n",
              "    </tr>\n",
              "    <tr>\n",
              "      <th>25%</th>\n",
              "      <td>9.000000</td>\n",
              "      <td>0.002064</td>\n",
              "      <td>-0.032314</td>\n",
              "      <td>-0.098372</td>\n",
              "      <td>1.000000</td>\n",
              "      <td>2.000000</td>\n",
              "      <td>0.000000</td>\n",
              "      <td>0.000000</td>\n",
              "      <td>0.000000</td>\n",
              "      <td>0.000000</td>\n",
              "      <td>0.000000</td>\n",
              "      <td>0.000000</td>\n",
              "      <td>62.000000</td>\n",
              "      <td>0.000000</td>\n",
              "      <td>0.000000</td>\n",
              "      <td>0.000000</td>\n",
              "      <td>0.000000</td>\n",
              "      <td>0.000000</td>\n",
              "      <td>0.0</td>\n",
              "      <td>0.000000</td>\n",
              "      <td>0.0</td>\n",
              "      <td>0.000000</td>\n",
              "      <td>0.000000</td>\n",
              "      <td>0.000000</td>\n",
              "    </tr>\n",
              "    <tr>\n",
              "      <th>50%</th>\n",
              "      <td>10.704190</td>\n",
              "      <td>0.009823</td>\n",
              "      <td>0.002478</td>\n",
              "      <td>-0.014529</td>\n",
              "      <td>1.000000</td>\n",
              "      <td>2.000000</td>\n",
              "      <td>0.000000</td>\n",
              "      <td>0.000000</td>\n",
              "      <td>0.000000</td>\n",
              "      <td>0.000000</td>\n",
              "      <td>0.000000</td>\n",
              "      <td>0.000000</td>\n",
              "      <td>76.000000</td>\n",
              "      <td>0.000000</td>\n",
              "      <td>0.000000</td>\n",
              "      <td>0.000000</td>\n",
              "      <td>0.000000</td>\n",
              "      <td>0.000000</td>\n",
              "      <td>0.0</td>\n",
              "      <td>0.000000</td>\n",
              "      <td>0.0</td>\n",
              "      <td>0.000000</td>\n",
              "      <td>0.000000</td>\n",
              "      <td>0.000000</td>\n",
              "    </tr>\n",
              "    <tr>\n",
              "      <th>75%</th>\n",
              "      <td>12.000000</td>\n",
              "      <td>0.021844</td>\n",
              "      <td>0.041992</td>\n",
              "      <td>0.045626</td>\n",
              "      <td>2.000000</td>\n",
              "      <td>3.000000</td>\n",
              "      <td>0.000000</td>\n",
              "      <td>1.000000</td>\n",
              "      <td>0.000000</td>\n",
              "      <td>1.000000</td>\n",
              "      <td>0.000000</td>\n",
              "      <td>0.000000</td>\n",
              "      <td>96.000000</td>\n",
              "      <td>1.000000</td>\n",
              "      <td>0.000000</td>\n",
              "      <td>0.000000</td>\n",
              "      <td>0.000000</td>\n",
              "      <td>0.000000</td>\n",
              "      <td>0.0</td>\n",
              "      <td>0.000000</td>\n",
              "      <td>0.0</td>\n",
              "      <td>0.000000</td>\n",
              "      <td>0.000000</td>\n",
              "      <td>0.000000</td>\n",
              "    </tr>\n",
              "    <tr>\n",
              "      <th>max</th>\n",
              "      <td>16.000000</td>\n",
              "      <td>0.077121</td>\n",
              "      <td>0.266888</td>\n",
              "      <td>0.203060</td>\n",
              "      <td>6.000000</td>\n",
              "      <td>6.000000</td>\n",
              "      <td>2.000000</td>\n",
              "      <td>2.000000</td>\n",
              "      <td>1.000000</td>\n",
              "      <td>2.000000</td>\n",
              "      <td>1.000000</td>\n",
              "      <td>2.000000</td>\n",
              "      <td>985.000000</td>\n",
              "      <td>1.000000</td>\n",
              "      <td>1.000000</td>\n",
              "      <td>1.000000</td>\n",
              "      <td>1.000000</td>\n",
              "      <td>1.000000</td>\n",
              "      <td>0.0</td>\n",
              "      <td>1.000000</td>\n",
              "      <td>0.0</td>\n",
              "      <td>1.000000</td>\n",
              "      <td>1.000000</td>\n",
              "      <td>1.000000</td>\n",
              "    </tr>\n",
              "  </tbody>\n",
              "</table>\n",
              "</div>"
            ],
            "text/plain": [
              "        BER_class  Dist_from_dub_center  ...  Type_terraced  Type_townhouse\n",
              "count  681.000000            681.000000  ...     681.000000      681.000000\n",
              "mean    10.753608              0.015429  ...       0.189427        0.013216\n",
              "std      2.689644              0.018068  ...       0.392136        0.114282\n",
              "min      1.000000              0.000002  ...       0.000000        0.000000\n",
              "25%      9.000000              0.002064  ...       0.000000        0.000000\n",
              "50%     10.704190              0.009823  ...       0.000000        0.000000\n",
              "75%     12.000000              0.021844  ...       0.000000        0.000000\n",
              "max     16.000000              0.077121  ...       1.000000        1.000000\n",
              "\n",
              "[8 rows x 24 columns]"
            ]
          },
          "metadata": {}
        },
        {
          "output_type": "display_data",
          "data": {
            "text/plain": [
              "1415    380000.0\n",
              "1182    385000.0\n",
              "238     269000.0\n",
              "1054    199000.0\n",
              "323     369000.0\n",
              "Name: Price, dtype: float64"
            ]
          },
          "metadata": {}
        }
      ]
    },
    {
      "cell_type": "code",
      "metadata": {
        "colab": {
          "base_uri": "https://localhost:8080/",
          "height": 362
        },
        "id": "loTvoXRlfKXK",
        "outputId": "a76a7f93-488e-414a-9274-22a601c731dd"
      },
      "source": [
        "\n",
        "# StandardScaler() will normalize the features i.e. each column of X, \n",
        "# so, each column/feature/variable will have μ = 0 and σ = 1\n",
        "sc = StandardScaler()\n",
        "\n",
        "print(y_train.shape)\n",
        "\n",
        "# train set, input columns\n",
        "Xs_train = X_train.iloc[:,0:-1].values \n",
        "# train set, output column, cost\n",
        "ys_train = y_train.values.reshape(-1,1) #.iloc[:,-1].values.reshape(-1,1)   \n",
        "\n",
        "# test set, input columns\n",
        "Xs_test = X_test.iloc[:,0:-1].values \n",
        "# test set, output column, cost\n",
        "ys_test = y_test#.iloc[:,0:-1].values\n",
        "\n",
        "# StandardScaler() will normalize the features i.e. each column of X, \n",
        "# so, each column/feature/variable will have μ = 0 and σ = 1\n",
        "sc = StandardScaler()\n",
        "\n",
        "Xss_train = np.hstack([Xs_train,Xs_train[:,[2]]**2])\n",
        "xscaler = sc.fit(Xss_train)\n",
        "Xn_train = xscaler.transform(Xss_train)\n",
        "\n",
        "Xss_test = np.hstack([Xs_test,Xs_test[:,[2]]**2])\n",
        "Xn_test = xscaler.transform(Xss_test)\n",
        "\n",
        "ylog = np.log(ys_train.astype('float'))\n",
        "# ylog = np.nan_to_num(ylog, copy=True)\n",
        "\n",
        "yscaler = StandardScaler().fit(ylog)\n",
        "yn_train = yscaler.transform(ylog)\n",
        "\n",
        "\n",
        "with pm.Model() as model:\n",
        "    #prior over the parameters of linear regression\n",
        "    alpha = pm.Normal('alpha', mu=0, sigma=30)\n",
        "    #we have one beta for each column of Xn\n",
        "    beta = pm.Normal('beta', mu=0, sigma=30, shape=Xn_train.shape[1])\n",
        "    #prior over the variance of the noise\n",
        "    sigma = pm.HalfCauchy('sigma_n', 5)\n",
        "    #linear regression model in matrix form\n",
        "    mu = alpha + pm.math.dot(beta, Xn_train.T)\n",
        "    #likelihood, be sure that observed is a 1d vector\n",
        "    like = pm.Normal('like', mu=mu, sigma=sigma, observed=yn_train[:,0])\n",
        "\n",
        "    \n",
        "\n",
        "#number of iterations of the algorithms\n",
        "iter = 50000 \n",
        "\n",
        "# run the model\n",
        "with model:\n",
        "    approximation = pm.fit(iter,method='advi')\n",
        "    \n",
        "# check the convergence\n",
        "plt.plot(approximation.hist);"
      ],
      "execution_count": 39,
      "outputs": [
        {
          "output_type": "stream",
          "name": "stdout",
          "text": [
            "(681,)\n"
          ]
        },
        {
          "output_type": "stream",
          "name": "stderr",
          "text": [
            "WARNING (theano.tensor.blas): We did not find a dynamic library in the library_dir of the library we use for blas. If you use ATLAS, make sure to compile it with dynamics library.\n"
          ]
        },
        {
          "output_type": "display_data",
          "data": {
            "text/html": [
              "\n",
              "    <div>\n",
              "        <style>\n",
              "            /* Turns off some styling */\n",
              "            progress {\n",
              "                /* gets rid of default border in Firefox and Opera. */\n",
              "                border: none;\n",
              "                /* Needs to be in here for Safari polyfill so background images work as expected. */\n",
              "                background-size: auto;\n",
              "            }\n",
              "            .progress-bar-interrupted, .progress-bar-interrupted::-webkit-progress-bar {\n",
              "                background: #F44336;\n",
              "            }\n",
              "        </style>\n",
              "      <progress value='50000' class='' max='50000' style='width:300px; height:20px; vertical-align: middle;'></progress>\n",
              "      100.00% [50000/50000 00:10<00:00 Average Loss = 970.5]\n",
              "    </div>\n",
              "    "
            ],
            "text/plain": [
              "<IPython.core.display.HTML object>"
            ]
          },
          "metadata": {}
        },
        {
          "output_type": "stream",
          "name": "stderr",
          "text": [
            "Finished [100%]: Average Loss = 970.5\n"
          ]
        },
        {
          "output_type": "display_data",
          "data": {
            "image/png": "[encoded data removed]",
            "text/plain": [
              "<Figure size 432x288 with 1 Axes>"
            ]
          },
          "metadata": {
            "needs_background": "light"
          }
        }
      ]
    },
    {
      "cell_type": "code",
      "metadata": {
        "colab": {
          "base_uri": "https://localhost:8080/"
        },
        "id": "FoHTZAetkD_O",
        "outputId": "338bd53c-6921-4308-f6a7-554534c3f7a7"
      },
      "source": [
        "# samples from the posterior\n",
        "posterior = approximation.sample(5000)\n",
        "\n",
        "# prediction\n",
        "ll=np.mean(posterior['alpha']) + np.dot(np.mean(posterior['beta'],axis=0), Xn_test.T)\n",
        "y_pred_BLR = np.exp(yscaler.inverse_transform(ll.reshape(-1,1)))[:,0]\n",
        "print(\"MAE = \",(np.mean(abs(y_pred_BLR - y_test.values))))\n",
        "print(\"MAPE = \",(np.mean(abs(y_pred_BLR - y_test.values) / y_test.values)))"
      ],
      "execution_count": 40,
      "outputs": [
        {
          "output_type": "stream",
          "name": "stdout",
          "text": [
            "MAE =  38284.882583210354\n",
            "MAPE =  0.13032458209214198\n"
          ]
        }
      ]
    },
    {
      "cell_type": "markdown",
      "metadata": {
        "id": "Eh46fQhZw5y5"
      },
      "source": [
        "## Clustering"
      ]
    },
    {
      "cell_type": "code",
      "metadata": {
        "id": "o0vOiS97wcXy",
        "outputId": "cea0fc04-5fca-47fb-a9ed-85567ec685da",
        "colab": {
          "base_uri": "https://localhost:8080/",
          "height": 284
        }
      },
      "source": [
        "# training gaussian mixture model \n",
        "from sklearn.mixture import GaussianMixture\n",
        "\n",
        "gmm = GaussianMixture(n_components=4)\n",
        "\n",
        "# training gaussian mixture model \n",
        "from sklearn.mixture import GaussianMixture\n",
        "\n",
        "gmm = GaussianMixture(n_components=4)\n",
        "# clustering by features 1, 2\n",
        "ind=[0,1]\n",
        "X_ind = np.vstack([Xn_train[:,ind],Xn_test[:,ind]])\n",
        "# Gaussian Mixture\n",
        "gmm.fit(X_ind)\n",
        "# plot blue dots\n",
        "plt.scatter(X_ind[:,0],X_ind[:,1])\n",
        "# centroids:  orange dots\n",
        "plt.scatter(gmm.means_[:,0],gmm.means_[:,1])"
      ],
      "execution_count": 41,
      "outputs": [
        {
          "output_type": "execute_result",
          "data": {
            "text/plain": [
              "<matplotlib.collections.PathCollection at 0x7f64cf7b1190>"
            ]
          },
          "metadata": {},
          "execution_count": 41
        },
        {
          "output_type": "display_data",
          "data": {
            "image/png": "[encoded data removed]",
            "text/plain": [
              "<Figure size 432x288 with 1 Axes>"
            ]
          },
          "metadata": {
            "needs_background": "light"
          }
        }
      ]
    },
    {
      "cell_type": "code",
      "metadata": {
        "id": "yAZwzwFWxITR"
      },
      "source": [
        "# train clusters\n",
        "clusters_train = gmm.predict(Xn_train[:,ind])\n",
        "unique_train, counts_train = np.unique(clusters_train, return_counts=True)\n",
        "dict(zip(unique_train, counts_train))\n",
        "\n",
        "# test clusters\n",
        "clusters_test = gmm.predict(Xn_test[:,ind])\n",
        "unique_test, counts_test = np.unique(clusters_test, return_counts=True)\n",
        "dict(zip(unique_test, counts_test))\n",
        "\n",
        "def cluster(Xn_train, Xn_test, ys_train, lower_thresh):\n",
        "  # cluster\n",
        "  Xn = Xn_train[clusters_train==lower_thresh,:]\n",
        "  Xtestn = Xn_test[clusters_test==lower_thresh,:]\n",
        "\n",
        "  ylog = np.log(ys_train.astype('float')[clusters_train==lower_thresh,:])\n",
        "  # ylog = np.nan_to_num(ylog, copy=True)\n",
        "  yscaler = StandardScaler().fit(ylog)\n",
        "  yn = yscaler.transform(ylog)\n",
        "  return Xn, Xtestn, ylog, yscaler, yn\n",
        "\n",
        "\n",
        "Xn0 ,Xtestn0 ,ylog0 ,yscaler0, yn0 = cluster(Xn_train, Xn_test, ys_train, 0)\n",
        "Xn1 ,Xtestn1 ,ylog1 ,yscaler1, yn1 = cluster(Xn_train, Xn_test, ys_train, 1)\n",
        "Xn2 ,Xtestn2 ,ylog2 ,yscaler2, yn2 = cluster(Xn_train, Xn_test, ys_train, 2)\n",
        "Xn3 ,Xtestn3 ,ylog3 ,yscaler3, yn3 = cluster(Xn_train, Xn_test, ys_train, 3)"
      ],
      "execution_count": 42,
      "outputs": []
    },
    {
      "cell_type": "markdown",
      "metadata": {
        "id": "vcwNdgyuxTOp"
      },
      "source": [
        "## Piecewise Model"
      ]
    },
    {
      "cell_type": "code",
      "metadata": {
        "id": "GONtlSGCxSeJ",
        "outputId": "da360035-4032-4fd3-dc27-339f9f47bc18",
        "colab": {
          "base_uri": "https://localhost:8080/",
          "height": 173
        }
      },
      "source": [
        "def run_model(Xn ,Xtestn ,ylog ,yscaler, yn):\n",
        "  with pm.Model() as model_0:\n",
        "    # prior over the parameters of linear regression\n",
        "    alpha = pm.Normal('alpha', mu=0, sigma=30)\n",
        "    # we have a beta for each column of Xn0\n",
        "    beta = pm.Normal('beta', mu=0, sigma=30, shape=Xn.shape[1])\n",
        "    # prior over the variance of the noise\n",
        "    sigma = pm.HalfCauchy('sigma_n', 5)\n",
        "    # linear regression relationship\n",
        "    #linear regression model in matrix form\n",
        "    mu = alpha + pm.math.dot(beta, Xn.T)\n",
        "    # likelihood, be sure that observed is a 1d vector\n",
        "    like = pm.Normal('like', mu=mu, sigma=sigma, observed=yn[:,0])\n",
        "\n",
        "  with model_0:\n",
        "    # iterations of the algorithm\n",
        "    approximation = pm.fit(40000,method='advi')\n",
        "\n",
        "  # samples from the posterior   \n",
        "  posterior = approximation.sample(5000)\n",
        "  return posterior\n",
        "\n",
        "posterior0 = run_model(Xn0 ,Xtestn0 ,ylog0 ,yscaler0, yn0)\n",
        "posterior1 = run_model(Xn1 ,Xtestn1 ,ylog1 ,yscaler1, yn1)\n",
        "posterior2 = run_model(Xn2 ,Xtestn2 ,ylog2 ,yscaler2, yn2)\n",
        "posterior3 = run_model(Xn3 ,Xtestn3 ,ylog3 ,yscaler3, yn3)"
      ],
      "execution_count": 43,
      "outputs": [
        {
          "output_type": "display_data",
          "data": {
            "text/html": [
              "\n",
              "    <div>\n",
              "        <style>\n",
              "            /* Turns off some styling */\n",
              "            progress {\n",
              "                /* gets rid of default border in Firefox and Opera. */\n",
              "                border: none;\n",
              "                /* Needs to be in here for Safari polyfill so background images work as expected. */\n",
              "                background-size: auto;\n",
              "            }\n",
              "            .progress-bar-interrupted, .progress-bar-interrupted::-webkit-progress-bar {\n",
              "                background: #F44336;\n",
              "            }\n",
              "        </style>\n",
              "      <progress value='40000' class='' max='40000' style='width:300px; height:20px; vertical-align: middle;'></progress>\n",
              "      100.00% [40000/40000 00:04<00:00 Average Loss = 439.28]\n",
              "    </div>\n",
              "    "
            ],
            "text/plain": [
              "<IPython.core.display.HTML object>"
            ]
          },
          "metadata": {}
        },
        {
          "output_type": "stream",
          "name": "stderr",
          "text": [
            "Finished [100%]: Average Loss = 439.28\n"
          ]
        },
        {
          "output_type": "display_data",
          "data": {
            "text/html": [
              "\n",
              "    <div>\n",
              "        <style>\n",
              "            /* Turns off some styling */\n",
              "            progress {\n",
              "                /* gets rid of default border in Firefox and Opera. */\n",
              "                border: none;\n",
              "                /* Needs to be in here for Safari polyfill so background images work as expected. */\n",
              "                background-size: auto;\n",
              "            }\n",
              "            .progress-bar-interrupted, .progress-bar-interrupted::-webkit-progress-bar {\n",
              "                background: #F44336;\n",
              "            }\n",
              "        </style>\n",
              "      <progress value='40000' class='' max='40000' style='width:300px; height:20px; vertical-align: middle;'></progress>\n",
              "      100.00% [40000/40000 00:04<00:00 Average Loss = 427.93]\n",
              "    </div>\n",
              "    "
            ],
            "text/plain": [
              "<IPython.core.display.HTML object>"
            ]
          },
          "metadata": {}
        },
        {
          "output_type": "stream",
          "name": "stderr",
          "text": [
            "Finished [100%]: Average Loss = 427.92\n"
          ]
        },
        {
          "output_type": "display_data",
          "data": {
            "text/html": [
              "\n",
              "    <div>\n",
              "        <style>\n",
              "            /* Turns off some styling */\n",
              "            progress {\n",
              "                /* gets rid of default border in Firefox and Opera. */\n",
              "                border: none;\n",
              "                /* Needs to be in here for Safari polyfill so background images work as expected. */\n",
              "                background-size: auto;\n",
              "            }\n",
              "            .progress-bar-interrupted, .progress-bar-interrupted::-webkit-progress-bar {\n",
              "                background: #F44336;\n",
              "            }\n",
              "        </style>\n",
              "      <progress value='40000' class='' max='40000' style='width:300px; height:20px; vertical-align: middle;'></progress>\n",
              "      100.00% [40000/40000 00:04<00:00 Average Loss = 170.48]\n",
              "    </div>\n",
              "    "
            ],
            "text/plain": [
              "<IPython.core.display.HTML object>"
            ]
          },
          "metadata": {}
        },
        {
          "output_type": "stream",
          "name": "stderr",
          "text": [
            "Finished [100%]: Average Loss = 170.45\n"
          ]
        },
        {
          "output_type": "display_data",
          "data": {
            "text/html": [
              "\n",
              "    <div>\n",
              "        <style>\n",
              "            /* Turns off some styling */\n",
              "            progress {\n",
              "                /* gets rid of default border in Firefox and Opera. */\n",
              "                border: none;\n",
              "                /* Needs to be in here for Safari polyfill so background images work as expected. */\n",
              "                background-size: auto;\n",
              "            }\n",
              "            .progress-bar-interrupted, .progress-bar-interrupted::-webkit-progress-bar {\n",
              "                background: #F44336;\n",
              "            }\n",
              "        </style>\n",
              "      <progress value='40000' class='' max='40000' style='width:300px; height:20px; vertical-align: middle;'></progress>\n",
              "      100.00% [40000/40000 00:04<00:00 Average Loss = 293.05]\n",
              "    </div>\n",
              "    "
            ],
            "text/plain": [
              "<IPython.core.display.HTML object>"
            ]
          },
          "metadata": {}
        },
        {
          "output_type": "stream",
          "name": "stderr",
          "text": [
            "Finished [100%]: Average Loss = 293.04\n"
          ]
        }
      ]
    },
    {
      "cell_type": "code",
      "metadata": {
        "id": "3mw_hAamxXKQ"
      },
      "source": [
        "# Posterior predictive checks (PPCs)\n",
        "def ppc(alpha,beta,sigma, X,  nsamples=500):\n",
        "    #we select nsamples random samples from the posterior\n",
        "    ind = np.random.randint(0,beta.shape[0],size=nsamples)\n",
        "    alphai = alpha[ind]\n",
        "    betai = beta[ind,:]\n",
        "    sigmai = sigma[ind]\n",
        "\n",
        "    Ypred = np.zeros((nsamples,X.shape[0]))\n",
        "    for i in range(X.shape[0]):\n",
        "        #we generate data from linear model\n",
        "        y_pred = alphai + np.dot(betai, X[i:i+1,:].T).T +np.random.randn(len(sigmai))*sigmai\n",
        "        Ypred[:,i]=y_pred[0,:]\n",
        "    return Ypred\n",
        "\n",
        "def plot_simulation(Ypred, ylog):\n",
        "  for i in range(Ypred.shape[0]):\n",
        "      az.plot_dist( Ypred[i,:],color='r',plot_kwargs={\"linewidth\": 0.2})\n",
        "  az.plot_dist(Ypred[i,:],color='r',plot_kwargs={\"linewidth\": 0.2}, label=\"prediction\")\n",
        "  #plt.plot(np.linspace(-8,8,100),norm.pdf(np.linspace(-8,8,100),df=np.mean(posterior_1['nu'])))\n",
        "  plt.xlim([8,16])\n",
        "  az.plot_dist(ylog,label='true observations');\n",
        "  plt.legend()\n",
        "  plt.xlabel(\"log(y) - output variable\")\n",
        "  plt.ylabel(\"density plot\");"
      ],
      "execution_count": 44,
      "outputs": []
    },
    {
      "cell_type": "code",
      "metadata": {
        "id": "7sJ0VK5A0Ejw",
        "outputId": "ebb0e088-c974-4012-9a37-e3176295d483",
        "colab": {
          "base_uri": "https://localhost:8080/",
          "height": 283
        }
      },
      "source": [
        "#Simulation\n",
        "Ypred0 = yscaler0.inverse_transform(ppc(posterior0['alpha'],posterior0['beta'],posterior0['sigma_n'],Xn0,  nsamples=200))\n",
        "plot_simulation(Ypred0, ylog0)\n"
      ],
      "execution_count": 45,
      "outputs": [
        {
          "output_type": "display_data",
          "data": {
            "image/png": "[encoded data removed]",
            "text/plain": [
              "<Figure size 432x288 with 1 Axes>"
            ]
          },
          "metadata": {
            "needs_background": "light"
          }
        }
      ]
    },
    {
      "cell_type": "code",
      "metadata": {
        "id": "NPXmFQOO4H2U",
        "outputId": "87b72447-b81c-4e51-d22e-bb96c62b53e5",
        "colab": {
          "base_uri": "https://localhost:8080/",
          "height": 283
        }
      },
      "source": [
        "#Simulation\n",
        "Ypred1 = yscaler1.inverse_transform(ppc(posterior1['alpha'],posterior1['beta'],posterior1['sigma_n'],Xn1,  nsamples=200))\n",
        "plot_simulation(Ypred1, ylog1)"
      ],
      "execution_count": 46,
      "outputs": [
        {
          "output_type": "display_data",
          "data": {
            "image/png": "[encoded data removed]",
            "text/plain": [
              "<Figure size 432x288 with 1 Axes>"
            ]
          },
          "metadata": {
            "needs_background": "light"
          }
        }
      ]
    },
    {
      "cell_type": "code",
      "metadata": {
        "id": "XlZfAQBm4Jmz",
        "outputId": "9ee294de-bfaa-461e-bd64-a8db7cfba338",
        "colab": {
          "base_uri": "https://localhost:8080/",
          "height": 283
        }
      },
      "source": [
        "#Simulation\n",
        "Ypred2 = yscaler2.inverse_transform(ppc(posterior2['alpha'],posterior2['beta'],posterior2['sigma_n'],Xn2,  nsamples=200))\n",
        "plot_simulation(Ypred2, ylog2)"
      ],
      "execution_count": 47,
      "outputs": [
        {
          "output_type": "display_data",
          "data": {
            "image/png": "[encoded data removed]",
            "text/plain": [
              "<Figure size 432x288 with 1 Axes>"
            ]
          },
          "metadata": {
            "needs_background": "light"
          }
        }
      ]
    },
    {
      "cell_type": "code",
      "metadata": {
        "id": "VU6AMtM44JtC",
        "outputId": "38dd9162-f5ff-4c81-c085-8d948e54e6f8",
        "colab": {
          "base_uri": "https://localhost:8080/",
          "height": 283
        }
      },
      "source": [
        "#Simulation\n",
        "Ypred3 = yscaler3.inverse_transform(ppc(posterior3['alpha'],posterior3['beta'],posterior3['sigma_n'],Xn3,  nsamples=200))\n",
        "plot_simulation(Ypred3, ylog3)"
      ],
      "execution_count": 48,
      "outputs": [
        {
          "output_type": "display_data",
          "data": {
            "image/png": "[encoded data removed]",
            "text/plain": [
              "<Figure size 432x288 with 1 Axes>"
            ]
          },
          "metadata": {
            "needs_background": "light"
          }
        }
      ]
    },
    {
      "cell_type": "code",
      "metadata": {
        "id": "W7gwgtsG-Xqv",
        "outputId": "22456e7d-f07f-4541-b58c-3c2d035cccbf",
        "colab": {
          "base_uri": "https://localhost:8080/",
          "height": 283
        }
      },
      "source": [
        "# posteriors\n",
        "Ypred0 = ppc(posterior0['alpha'],posterior0['beta'],posterior0['sigma_n'],Xn0,  nsamples=200)\n",
        "Ypred1 = ppc(posterior1['alpha'],posterior1['beta'],posterior1['sigma_n'],Xn1,  nsamples=200)\n",
        "Ypred2 = ppc(posterior2['alpha'],posterior2['beta'],posterior2['sigma_n'],Xn2,  nsamples=200)\n",
        "Ypred3 = ppc(posterior3['alpha'],posterior3['beta'],posterior3['sigma_n'],Xn3,  nsamples=200)\n",
        "\n",
        "# simulation\n",
        "Ypred = np.hstack([ yscaler0.inverse_transform(Ypred0),\n",
        "                 yscaler1.inverse_transform(Ypred1),\n",
        "                 yscaler2.inverse_transform(Ypred2),\n",
        "                 yscaler3.inverse_transform(Ypred3)])\n",
        "\n",
        "# prediction\n",
        "for i in range(Ypred.shape[0]):\n",
        "    az.plot_dist( Ypred[i,:],color='r',plot_kwargs={\"linewidth\": 0.2})\n",
        "\n",
        "# plot\n",
        "az.plot_dist(Ypred[i,:],color='r',plot_kwargs={\"linewidth\": 0.2}, label=\"prediction\")\n",
        "ylog=np.vstack([ylog0,ylog1,ylog2,ylog3])\n",
        "az.plot_dist(ylog,label='true observations');\n",
        "plt.legend()\n",
        "plt.xlabel(\"log(y) - output variable\")\n",
        "plt.ylabel(\"density plot\");"
      ],
      "execution_count": 49,
      "outputs": [
        {
          "output_type": "display_data",
          "data": {
            "image/png": "[encoded data removed]",
            "text/plain": [
              "<Figure size 432x288 with 1 Axes>"
            ]
          },
          "metadata": {
            "needs_background": "light"
          }
        }
      ]
    },
    {
      "cell_type": "code",
      "metadata": {
        "id": "v3rE9jDnEC0T",
        "outputId": "0a788028-653b-4a3b-af28-e364d9bbb4f8",
        "colab": {
          "base_uri": "https://localhost:8080/",
          "height": 241
        }
      },
      "source": [
        "display(y_test)"
      ],
      "execution_count": 50,
      "outputs": [
        {
          "output_type": "display_data",
          "data": {
            "text/plain": [
              "1270    375000.0\n",
              "643     250000.0\n",
              "1509    275000.0\n",
              "1132    295000.0\n",
              "1297    270000.0\n",
              "          ...   \n",
              "302     390000.0\n",
              "1360    265000.0\n",
              "1306    290000.0\n",
              "102     350000.0\n",
              "1576    325000.0\n",
              "Name: Price, Length: 171, dtype: float64"
            ]
          },
          "metadata": {}
        }
      ]
    },
    {
      "cell_type": "code",
      "metadata": {
        "id": "-tlRbQBo-bMv",
        "outputId": "3b95effc-54e3-49cf-83ad-f3b9bfb999d2",
        "colab": {
          "base_uri": "https://localhost:8080/"
        }
      },
      "source": [
        "# cluster 0\n",
        "y_pred_BLR0 = np.exp(yscaler0.inverse_transform(np.mean(posterior0['alpha']) \n",
        "              + np.dot(np.mean(posterior0['beta'],axis=0), Xtestn0.T)))\n",
        "print(\"Size Cluster0\", np.sum(clusters_test==0), \", MAE Cluster0=\",\n",
        "      (np.mean(abs(y_pred_BLR0 - y_test.values[clusters_test==0]))))\n",
        "\n",
        "# cluster 1\n",
        "y_pred_BLR1 = np.exp(yscaler1.inverse_transform(np.mean(posterior1['alpha']) \n",
        "              + np.dot(np.mean(posterior1['beta'],axis=0), Xtestn1.T)))\n",
        "print(\"Size Cluster1\", np.sum(clusters_test==1), \", MAE Cluster1=\",\n",
        "      (np.mean(abs(y_pred_BLR1 - y_test.values[clusters_test==1]))))\n",
        "\n",
        "# cluster 2\n",
        "y_pred_BLR2 = np.exp(yscaler2.inverse_transform(np.mean(posterior2['alpha']) \n",
        "              + np.dot(np.mean(posterior2['beta'],axis=0), Xtestn2.T)))\n",
        "print(\"Size Cluster2\", np.sum(clusters_test==2), \", MAE Cluster2=\",\n",
        "      (np.mean(abs(y_pred_BLR2 - y_test.values[clusters_test==2]))))\n",
        "\n",
        "# cluster 3\n",
        "y_pred_BLR3 = np.exp(yscaler3.inverse_transform(np.mean(posterior3['alpha']) \n",
        "              + np.dot(np.mean(posterior3['beta'],axis=0), Xtestn3.T)))\n",
        "print(\"Size Cluster3\", np.sum(clusters_test==3), \", MAE Cluster3=\",\n",
        "      (np.mean(abs(y_pred_BLR3 - y_test.values[clusters_test==3]))))\n",
        "\n",
        "# joint\n",
        "joint=np.hstack([abs(y_pred_BLR0 - y_test.values[clusters_test==0]),\n",
        "                 abs(y_pred_BLR1 - y_test.values[clusters_test==1]),\n",
        "                 abs(y_pred_BLR2 - y_test.values[clusters_test==2]),\n",
        "                 abs(y_pred_BLR3 - y_test.values[clusters_test==3])])\n",
        "\n",
        "# MAE\n",
        "print(\"MAE=\",np.mean(joint))"
      ],
      "execution_count": 51,
      "outputs": [
        {
          "output_type": "stream",
          "name": "stdout",
          "text": [
            "Size Cluster0 55 , MAE Cluster0= 32281.21001526384\n",
            "Size Cluster1 60 , MAE Cluster1= 37100.0362036804\n",
            "Size Cluster2 8 , MAE Cluster2= 41637.385296717766\n",
            "Size Cluster3 48 , MAE Cluster3= 34715.73582072874\n",
            "MAE= 35093.11768905881\n"
          ]
        }
      ]
    },
    {
      "cell_type": "code",
      "metadata": {
        "id": "q5ShShPw-dMW",
        "outputId": "71a90136-d69c-42df-9eee-4771881c5369",
        "colab": {
          "base_uri": "https://localhost:8080/",
          "height": 302
        }
      },
      "source": [
        "## Posterior predictive checks (PPCs)\n",
        "\n",
        "num_samples2 = 200\n",
        "Ypred0 = ppc(posterior0['alpha'],posterior0['beta'],posterior0['sigma_n'],Xtestn0, nsamples=num_samples2)\n",
        "Ypred1 = ppc(posterior1['alpha'],posterior1['beta'],posterior1['sigma_n'],Xtestn1, nsamples=num_samples2)\n",
        "Ypred2 = ppc(posterior2['alpha'],posterior2['beta'],posterior2['sigma_n'],Xtestn2, nsamples=num_samples2)\n",
        "Ypred3 = ppc(posterior3['alpha'],posterior3['beta'],posterior3['sigma_n'],Xtestn3, nsamples=num_samples2)\n",
        "\n",
        "# Stack arrays in sequence horizontally (column wise)\n",
        "Ypred = np.hstack([yscaler0.inverse_transform(Ypred0),\n",
        "                 yscaler1.inverse_transform(Ypred1),\n",
        "                 yscaler2.inverse_transform(Ypred2),\n",
        "                 yscaler3.inverse_transform(Ypred3)])\n",
        "\n",
        "# plot prediction shape\n",
        "for i in range(Ypred.shape[0]):\n",
        "    az.plot_dist( Ypred[i,:],color='r',plot_kwargs={\"linewidth\": 0.2})\n",
        "# label\n",
        "az.plot_dist(Ypred[i,:],color='r',plot_kwargs={\"linewidth\": 0.2}, label=\"prediction\")\n",
        "\n",
        "# true observations\n",
        "az.plot_dist(np.log(y_test),label='true observations');\n",
        "plt.legend()\n",
        "plt.xlabel(\"log(y) - output variable\")\n",
        "plt.ylabel(\"density plot\");\n",
        "plt.xlim(10, 16)"
      ],
      "execution_count": 52,
      "outputs": [
        {
          "output_type": "execute_result",
          "data": {
            "text/plain": [
              "(10.0, 16.0)"
            ]
          },
          "metadata": {},
          "execution_count": 52
        },
        {
          "output_type": "display_data",
          "data": {
            "image/png": "[encoded data removed]",
            "text/plain": [
              "<Figure size 432x288 with 1 Axes>"
            ]
          },
          "metadata": {
            "needs_background": "light"
          }
        }
      ]
    },
    {
      "cell_type": "markdown",
      "metadata": {
        "id": "_kFgkUA85_pn"
      },
      "source": [
        "# BAYESIAN NN"
      ]
    },
    {
      "cell_type": "markdown",
      "metadata": {
        "id": "ELer5PV37ftX"
      },
      "source": [
        "A [Bayesian network](https://en.wikipedia.org/wiki/Bayesian_network) (also known as a Bayes network, Bayes net, belief network, or decision network) is a probabilistic graphical model that represents a set of variables and their conditional dependencies via a directed acyclic graph (DAG). \n",
        "\n",
        "* Bayesian networks are ideal for taking an event that occurred and predicting the likelihood that any one of several possible known causes was the contributing factor. \n",
        "* For example, a Bayesian network could represent the probabilistic relationships between diseases and symptoms. \n",
        "* Given symptoms, the network can be used to compute the probabilities of the presence of various diseases."
      ]
    },
    {
      "cell_type": "markdown",
      "metadata": {
        "id": "z0kauv1L5_po"
      },
      "source": [
        "Your comments, explanation, and references here."
      ]
    },
    {
      "cell_type": "code",
      "metadata": {
        "id": "zyQoOOzMwCHy",
        "outputId": "098f1401-88a8-4474-bab8-a3cd9323db48",
        "colab": {
          "base_uri": "https://localhost:8080/"
        }
      },
      "source": [
        "# your code here\n",
        "bnn_df = df.drop(['Description', 'Features'], axis=1)\n",
        "X = pwr_df.drop(\"Price\", axis = 1)\n",
        "y = pwr_df[\"Price\"]\n",
        "bnn_df.info(verbose=True)\n",
        "\n",
        "print('Number of nan in dataset: ',X.isnull().sum().sum())\n",
        "print('Number of nan in dataset: ',y.isnull().sum().sum())\n",
        "\n",
        "X_train, X_test, y_train, y_test = train_test_split(X, y, test_size = 0.20, random_state = 0)"
      ],
      "execution_count": 53,
      "outputs": [
        {
          "output_type": "stream",
          "name": "stdout",
          "text": [
            "<class 'pandas.core.frame.DataFrame'>\n",
            "Int64Index: 852 entries, 0 to 1637\n",
            "Data columns (total 59 columns):\n",
            " #   Column                              Non-Null Count  Dtype  \n",
            "---  ------                              --------------  -----  \n",
            " 0   BER_class                           852 non-null    float64\n",
            " 1   Dist_from_dub_center                852 non-null    float64\n",
            " 2   Latitude                            852 non-null    float64\n",
            " 3   Location_Artane                     852 non-null    uint8  \n",
            " 4   Location_Balbriggan                 852 non-null    uint8  \n",
            " 5   Location_Ballsbridge                852 non-null    uint8  \n",
            " 6   Location_Blackrock                  852 non-null    uint8  \n",
            " 7   Location_Castleknock                852 non-null    uint8  \n",
            " 8   Location_Clondalkin                 852 non-null    uint8  \n",
            " 9   Location_Clonsilla                  852 non-null    uint8  \n",
            " 10  Location_Clontarf                   852 non-null    uint8  \n",
            " 11  Location_Dalkey                     852 non-null    uint8  \n",
            " 12  Location_Donnybrook                 852 non-null    uint8  \n",
            " 13  Location_Drumcondra                 852 non-null    uint8  \n",
            " 14  Location_Dublin 1                   852 non-null    uint8  \n",
            " 15  Location_Dublin 2                   852 non-null    uint8  \n",
            " 16  Location_Dublin 8                   852 non-null    uint8  \n",
            " 17  Location_Dun Laoghaire              852 non-null    uint8  \n",
            " 18  Location_Dundrum                    852 non-null    uint8  \n",
            " 19  Location_Finglas                    852 non-null    uint8  \n",
            " 20  Location_Foxrock                    852 non-null    uint8  \n",
            " 21  Location_Glasnevin                  852 non-null    uint8  \n",
            " 22  Location_Howth                      852 non-null    uint8  \n",
            " 23  Location_Killiney                   852 non-null    uint8  \n",
            " 24  Location_Knocklyon                  852 non-null    uint8  \n",
            " 25  Location_Lucan                      852 non-null    uint8  \n",
            " 26  Location_Malahide                   852 non-null    uint8  \n",
            " 27  Location_Raheny                     852 non-null    uint8  \n",
            " 28  Location_Rathfarnham                852 non-null    uint8  \n",
            " 29  Location_Sandyford                  852 non-null    uint8  \n",
            " 30  Location_Sandymount                 852 non-null    uint8  \n",
            " 31  Location_Santry                     852 non-null    uint8  \n",
            " 32  Location_Swords                     852 non-null    uint8  \n",
            " 33  Location_Tallaght                   852 non-null    uint8  \n",
            " 34  Location_Terenure                   852 non-null    uint8  \n",
            " 35  Location_nan                        852 non-null    uint8  \n",
            " 36  Location_others                     852 non-null    uint8  \n",
            " 37  Longitude                           852 non-null    float64\n",
            " 38  Num_Bathrooms                       852 non-null    int64  \n",
            " 39  Num_Beds                            852 non-null    int64  \n",
            " 40  Price                               852 non-null    float64\n",
            " 41  Service_Alarm                       852 non-null    float64\n",
            " 42  Service_Gas Fired Central Heating   852 non-null    float64\n",
            " 43  Service_Oil Fired Central Heating   852 non-null    float64\n",
            " 44  Service_Parking                     852 non-null    float64\n",
            " 45  Service_Wheelchair Access           852 non-null    float64\n",
            " 46  Service_Wired for Cable Television  852 non-null    float64\n",
            " 47  Surface                             852 non-null    float64\n",
            " 48  Type_apartment                      852 non-null    uint8  \n",
            " 49  Type_bungalow                       852 non-null    uint8  \n",
            " 50  Type_detached                       852 non-null    uint8  \n",
            " 51  Type_duplex                         852 non-null    uint8  \n",
            " 52  Type_end-of-terrace                 852 non-null    uint8  \n",
            " 53  Type_nan                            852 non-null    uint8  \n",
            " 54  Type_semi-detached                  852 non-null    uint8  \n",
            " 55  Type_site                           852 non-null    uint8  \n",
            " 56  Type_studio                         852 non-null    uint8  \n",
            " 57  Type_terraced                       852 non-null    uint8  \n",
            " 58  Type_townhouse                      852 non-null    uint8  \n",
            "dtypes: float64(12), int64(2), uint8(45)\n",
            "memory usage: 137.3 KB\n",
            "Number of nan in dataset:  0\n",
            "Number of nan in dataset:  0\n"
          ]
        }
      ]
    },
    {
      "cell_type": "code",
      "metadata": {
        "id": "0smpwCET5_pp"
      },
      "source": [
        "# https://theano-pymc.readthedocs.io/en/latest/\n",
        "import theano\n",
        "\n",
        "# add a column of ones to include an intercept in the model\n",
        "x1 = np.hstack([np.ones((Xn_train.shape[0],1)), Xn_train])\n",
        "floatX = theano.config.floatX\n",
        "\n",
        "l = 15\n",
        "# Initialize random weights between each layer\n",
        "# we do that to help the numerical algorithm that computes the posterior\n",
        "init_1 = np.random.randn(x1.shape[1], l).astype(floatX)\n",
        "init_out = np.random.randn(l).astype(floatX)\n",
        "\n",
        "# pymc3 model as neural_network\n",
        "with pm.Model() as neural_network:\n",
        "    # we convert the data in theano type so we can do dot products with the correct type.\n",
        "    ann_input = pm.Data('ann_input', x1)\n",
        "    ann_output = pm.Data('ann_output', yn_train)\n",
        "    # Priors \n",
        "    # Weights from input to hidden layer\n",
        "    weights_in_1 = pm.Normal('w_1', 0, sigma=1,\n",
        "                             shape=(x1.shape[1], l), testval=init_1)\n",
        "    # Weights from hidden layer to output\n",
        "    weights_2_out = pm.Normal('w_0', 0, sigma=1,\n",
        "                              shape=(l,),testval=init_out)\n",
        "\n",
        "    # Build neural-network using tanh activation function\n",
        "    # Inner layer\n",
        "    act_1 = pm.math.tanh(pm.math.dot(ann_input,weights_in_1))\n",
        "    # Linear layer, like in Linear regression\n",
        "    act_out = pm.Deterministic('act_out',pm.math.dot(act_1, weights_2_out))\n",
        "\n",
        "    # standard deviation of noise\n",
        "    sigma = pm.HalfCauchy('sigma',5)\n",
        "\n",
        "    # Normal likelihood\n",
        "    out = pm.Normal('out',\n",
        "                       act_out,\n",
        "                       sigma=sigma,\n",
        "                       observed=ann_output[:,0])"
      ],
      "execution_count": 54,
      "outputs": []
    },
    {
      "cell_type": "code",
      "metadata": {
        "id": "DD-fl69JYgn-",
        "outputId": "cc7f9b75-3b5f-4369-f115-91f594d3c788",
        "colab": {
          "base_uri": "https://localhost:8080/",
          "height": 489
        }
      },
      "source": [
        "# some parameters\n",
        "par1 = 10  # start with 100, then use 1000+\n",
        "par2 = 100 # start with 1000, then use 10000+\n",
        "\n",
        "# neural network\n",
        "with neural_network:\n",
        "    posterior = pm.sample(par1,tune=par2,chains=1)\n",
        "\n",
        "# we can do instead an approximated inference\n",
        "param3 = 80000 # start with 1000, then use 50000+\n",
        "VI = 'advi'  # 'advi', 'fullrank_advi', 'svgd', 'asvgd', 'nfvi'\n",
        "OP = pm.adam # pm.adam, pm.sgd, pm.adagrad, pm.adagrad_window, pm.adadelta\n",
        "LR = 0.0008    \n",
        "\n",
        "with neural_network:\n",
        "    approx = pm.fit(param3, method=VI, obj_optimizer=pm.adam(learning_rate=LR))\n",
        "\n",
        "# plot \n",
        "pb.plot(approx.hist, label='Variational Inference: '+ VI.upper(), alpha=.3)\n",
        "pb.legend(loc='upper right')\n",
        "pb.ylabel('ELBO')\n",
        "pb.xlabel('iteration');\n",
        "\n",
        "\n",
        "# draw samples from variational posterior\n",
        "D = 300\n",
        "posterior = approx.sample(draws=D)"
      ],
      "execution_count": 55,
      "outputs": [
        {
          "output_type": "stream",
          "name": "stderr",
          "text": [
            "WARNING (theano.tensor.blas): We did not find a dynamic library in the library_dir of the library we use for blas. If you use ATLAS, make sure to compile it with dynamics library.\n",
            "Only 10 samples in chain.\n",
            "Auto-assigning NUTS sampler...\n",
            "Initializing NUTS using jitter+adapt_diag...\n",
            "Sequential sampling (1 chains in 1 job)\n",
            "NUTS: [sigma, w_0, w_1]\n"
          ]
        },
        {
          "output_type": "display_data",
          "data": {
            "text/html": [
              "\n",
              "    <div>\n",
              "        <style>\n",
              "            /* Turns off some styling */\n",
              "            progress {\n",
              "                /* gets rid of default border in Firefox and Opera. */\n",
              "                border: none;\n",
              "                /* Needs to be in here for Safari polyfill so background images work as expected. */\n",
              "                background-size: auto;\n",
              "            }\n",
              "            .progress-bar-interrupted, .progress-bar-interrupted::-webkit-progress-bar {\n",
              "                background: #F44336;\n",
              "            }\n",
              "        </style>\n",
              "      <progress value='110' class='' max='110' style='width:300px; height:20px; vertical-align: middle;'></progress>\n",
              "      100.00% [110/110 00:24<00:00 Sampling chain 0, 0 divergences]\n",
              "    </div>\n",
              "    "
            ],
            "text/plain": [
              "<IPython.core.display.HTML object>"
            ]
          },
          "metadata": {}
        },
        {
          "output_type": "stream",
          "name": "stderr",
          "text": [
            "Sampling 1 chain for 100 tune and 10 draw iterations (100 + 10 draws total) took 25 seconds.\n"
          ]
        },
        {
          "output_type": "display_data",
          "data": {
            "text/html": [
              "\n",
              "    <div>\n",
              "        <style>\n",
              "            /* Turns off some styling */\n",
              "            progress {\n",
              "                /* gets rid of default border in Firefox and Opera. */\n",
              "                border: none;\n",
              "                /* Needs to be in here for Safari polyfill so background images work as expected. */\n",
              "                background-size: auto;\n",
              "            }\n",
              "            .progress-bar-interrupted, .progress-bar-interrupted::-webkit-progress-bar {\n",
              "                background: #F44336;\n",
              "            }\n",
              "        </style>\n",
              "      <progress value='80000' class='' max='80000' style='width:300px; height:20px; vertical-align: middle;'></progress>\n",
              "      100.00% [80000/80000 01:40<00:00 Average Loss = 904.34]\n",
              "    </div>\n",
              "    "
            ],
            "text/plain": [
              "<IPython.core.display.HTML object>"
            ]
          },
          "metadata": {}
        },
        {
          "output_type": "stream",
          "name": "stderr",
          "text": [
            "Finished [100%]: Average Loss = 904.36\n"
          ]
        },
        {
          "output_type": "display_data",
          "data": {
            "image/png": "[encoded data removed]",
            "text/plain": [
              "<Figure size 432x288 with 1 Axes>"
            ]
          },
          "metadata": {
            "needs_background": "light"
          }
        }
      ]
    },
    {
      "cell_type": "code",
      "metadata": {
        "id": "9NaIaeCmYzeu",
        "outputId": "4e00c3b0-dd4f-492a-9ba3-9f9a0d677d7b",
        "colab": {
          "base_uri": "https://localhost:8080/"
        }
      },
      "source": [
        "# add a column of ones to include an intercept in the model\n",
        "x2 = np.hstack([np.ones((Xn_test.shape[0],1)), Xn_test])\n",
        "y_final_pred = []\n",
        "for i in range(posterior['w_1'].shape[0]):\n",
        "    #inner layer\n",
        "    t1 = np.tanh(np.dot(posterior['w_1'][i,:,:].T,x2.T))\n",
        "    #outer layer\n",
        "    y_final_pred.append(np.dot(posterior['w_0'][i,:],t1))\n",
        "\n",
        "# predictions   \n",
        "y_final_pred = np.array(y_final_pred).mean(axis=0)\n",
        "\n",
        "\n",
        "#We need to do the inverse transformation and scaling that was carried out on the y values at the start\n",
        "y_val_pred_final = np.exp(yscaler.inverse_transform(y_final_pred))\n",
        "\n",
        "print(\"MAE = \",(np.mean(abs(y_val_pred_final - ys_test))))\n",
        "print(\"MAPE = \",(np.mean(abs(y_val_pred_final - ys_test) / ys_test)))"
      ],
      "execution_count": 56,
      "outputs": [
        {
          "output_type": "stream",
          "name": "stdout",
          "text": [
            "MAE =  37842.7077958052\n",
            "MAPE =  0.1315054113727997\n"
          ]
        }
      ]
    },
    {
      "cell_type": "code",
      "metadata": {
        "id": "lfFm40GdY5iL"
      },
      "source": [
        "y_pred = []\n",
        "for i in range(posterior['w_1'].shape[0]):\n",
        "    #inner layer\n",
        "    t1 = np.tanh(np.dot(posterior['w_1'][i,:,:].T,x2.T))\n",
        "    #outer layer\n",
        "    y_pred.append(np.dot(posterior['w_0'][i,:],t1))\n",
        "\n",
        "# predictions   \n",
        "y_pred = np.array(y_pred).mean(axis=0)"
      ],
      "execution_count": 58,
      "outputs": []
    },
    {
      "cell_type": "code",
      "metadata": {
        "id": "fY6MR5yWZAel"
      },
      "source": [
        "y_pred_out = np.exp(yscaler.inverse_transform(y_pred))"
      ],
      "execution_count": 60,
      "outputs": []
    },
    {
      "cell_type": "markdown",
      "metadata": {
        "id": "f0GYCpwEM09T"
      },
      "source": [
        "# SUMMARY"
      ]
    },
    {
      "cell_type": "markdown",
      "metadata": {
        "id": "rBDzsZSJ7HZp"
      },
      "source": [
        "Your summary here."
      ]
    }
  ]
}