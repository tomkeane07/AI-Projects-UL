{
  "nbformat": 4,
  "nbformat_minor": 0,
  "metadata": {
    "colab": {
      "name": "ET5003_KaggleCompetition.ipynb",
      "provenance": []
    },
    "kernelspec": {
      "name": "python3",
      "display_name": "Python 3"
    },
    "language_info": {
      "name": "python"
    }
  },
  "cells": [
    {
      "cell_type": "markdown",
      "metadata": {
        "id": "930vlW5BrOtq"
      },
      "source": [
        "<div>\n",
        "<img src=\"https://drive.google.com/uc?export=view&id=1vK33e_EqaHgBHcbRV_m38hx6IkG0blK_\" width=\"350\"/>\n",
        "</div> \n",
        "\n",
        "#**Artificial Intelligence - MSc**\n",
        "##ET5003 - MACHINE LEARNING APPLICATIONS \n",
        "\n",
        "###Instructor: Enrique Naredo\n",
        "###ET5003_KaggleCompetition"
      ]
    },
    {
      "cell_type": "code",
      "metadata": {
        "id": "LqXD_IwUQuBF",
        "cellView": "form"
      },
      "source": [
        "#@title Current Date\n",
        "Today = '2021-10-05' #@param {type:\"date\"}\n"
      ],
      "execution_count": 1,
      "outputs": []
    },
    {
      "cell_type": "code",
      "metadata": {
        "id": "uzDKau31OjVO"
      },
      "source": [
        "#@markdown ---\n",
        "#@markdown ### Enter your details here:\n",
        "Team_Number = \"1\" #@param {type:\"string\"}\n",
        "Student_ID_Name = \"20214537 Tom Keane\" #@param {type:\"string\"}\n",
        "Student_ID_Name = \"\" #@param {type:\"string\"}\n",
        "Student_ID_Name = \"\" #@param {type:\"string\"}\n",
        "Student_ID_Name = \"\" #@param {type:\"string\"}\n",
        "Student_ID_Name = \"\" #@param {type:\"string\"}\n",
        "#@markdown ---"
      ],
      "execution_count": 2,
      "outputs": []
    },
    {
      "cell_type": "code",
      "metadata": {
        "id": "r39xGZckTpKx"
      },
      "source": [
        "#@title Notebook information\n",
        "Notebook_type = 'Etivity' #@param [\"Example\", \"Lab\", \"Practice\", \"Etivity\", \"Assignment\", \"Exam\"]\n",
        "Version = \"Final\" #@param [\"Draft\", \"Final\"] {type:\"raw\"}\n",
        "Submission = False #@param {type:\"boolean\"}"
      ],
      "execution_count": 3,
      "outputs": []
    },
    {
      "cell_type": "markdown",
      "metadata": {
        "id": "_A0Z6S-r6DpA"
      },
      "source": [
        "# INTRODUCTION"
      ]
    },
    {
      "cell_type": "markdown",
      "metadata": {
        "id": "d2vlkUAJ7Pz7"
      },
      "source": [
        "Your introduction here."
      ]
    },
    {
      "cell_type": "markdown",
      "metadata": {
        "id": "aajlS0WCJ8pm"
      },
      "source": [
        "***The goal is to use advanced Machine Learning methods to predict House price.***"
      ]
    },
    {
      "cell_type": "markdown",
      "metadata": {
        "id": "Wg7VCbX77eAA"
      },
      "source": [
        "## Imports"
      ]
    },
    {
      "cell_type": "code",
      "metadata": {
        "id": "iFFLThrpwibd"
      },
      "source": [
        "# Suppressing Warnings:\n",
        "import warnings\n",
        "warnings.filterwarnings(\"ignore\")"
      ],
      "execution_count": 4,
      "outputs": []
    },
    {
      "cell_type": "code",
      "metadata": {
        "id": "k96-GLUGE2ux"
      },
      "source": [
        "# standard libraries\n",
        "import pandas as pd\n",
        "import numpy as np\n",
        "import matplotlib.pyplot as plt\n",
        "%matplotlib inline"
      ],
      "execution_count": 5,
      "outputs": []
    },
    {
      "cell_type": "code",
      "metadata": {
        "id": "sYPJU_Y6O6Dq"
      },
      "source": [
        "# to plot\n",
        "import matplotlib.colors\n",
        "from mpl_toolkits.mplot3d import Axes3D\n",
        "\n",
        "# to generate classification, regression and clustering datasets\n",
        "import sklearn.datasets as dt\n",
        "\n",
        "# to create data frames\n",
        "from pandas import DataFrame\n",
        "\n",
        "# to generate data from an existing dataset\n",
        "from sklearn.neighbors import KernelDensity\n",
        "from sklearn.model_selection import GridSearchCV\n",
        "\n",
        "import seaborn as sns"
      ],
      "execution_count": 6,
      "outputs": []
    },
    {
      "cell_type": "code",
      "metadata": {
        "id": "mxMYIOx1FONV"
      },
      "source": [
        "# Scikit-learn is an open source machine learning library \n",
        "# that supports supervised and unsupervised learning\n",
        "# https://scikit-learn.org/stable/\n",
        "from sklearn.model_selection import train_test_split\n",
        "from sklearn.feature_extraction.text import CountVectorizer\n",
        "from sklearn.naive_bayes import MultinomialNB\n",
        "from sklearn.metrics import accuracy_score, confusion_matrix"
      ],
      "execution_count": 7,
      "outputs": []
    },
    {
      "cell_type": "code",
      "metadata": {
        "id": "YLlFHWx4j7W6"
      },
      "source": [
        "# Regular expression operations\n",
        "#https://docs.python.org/3/library/re.html\n",
        "import re \n",
        "\n",
        "# Natural Language Toolkit\n",
        "# https://www.nltk.org/install.html\n",
        "import nltk\n",
        "\n",
        "# Stemming maps different forms of the same word to a common “stem” \n",
        "# https://pypi.org/project/snowballstemmer/\n",
        "from nltk.stem import SnowballStemmer\n",
        "\n",
        "# https://www.nltk.org/book/ch02.html\n",
        "from nltk.corpus import stopwords\n",
        "\n",
        "# https://scikit-learn.org/stable/modules/generated/sklearn.preprocessing.StandardScaler.html\n",
        "from sklearn.preprocessing import StandardScaler"
      ],
      "execution_count": 8,
      "outputs": []
    },
    {
      "cell_type": "code",
      "metadata": {
        "colab": {
          "base_uri": "https://localhost:8080/"
        },
        "id": "5cfDHD9BXh0s",
        "outputId": "885ad581-51a7-4d63-ecbd-6deee1969bc1"
      },
      "source": [
        "!pip install gpy"
      ],
      "execution_count": 9,
      "outputs": [
        {
          "output_type": "stream",
          "name": "stdout",
          "text": [
            "Collecting gpy\n",
            "  Downloading GPy-1.10.0.tar.gz (959 kB)\n",
            "\u001b[K     |████████████████████████████████| 959 kB 2.7 MB/s \n",
            "\u001b[?25hRequirement already satisfied: numpy>=1.7 in /usr/local/lib/python3.7/dist-packages (from gpy) (1.19.5)\n",
            "Requirement already satisfied: six in /usr/local/lib/python3.7/dist-packages (from gpy) (1.15.0)\n",
            "Collecting paramz>=0.9.0\n",
            "  Downloading paramz-0.9.5.tar.gz (71 kB)\n",
            "\u001b[K     |████████████████████████████████| 71 kB 7.9 MB/s \n",
            "\u001b[?25hRequirement already satisfied: cython>=0.29 in /usr/local/lib/python3.7/dist-packages (from gpy) (0.29.24)\n",
            "Requirement already satisfied: scipy>=1.3.0 in /usr/local/lib/python3.7/dist-packages (from gpy) (1.4.1)\n",
            "Requirement already satisfied: decorator>=4.0.10 in /usr/local/lib/python3.7/dist-packages (from paramz>=0.9.0->gpy) (4.4.2)\n",
            "Building wheels for collected packages: gpy, paramz\n",
            "  Building wheel for gpy (setup.py) ... \u001b[?25l\u001b[?25hdone\n",
            "  Created wheel for gpy: filename=GPy-1.10.0-cp37-cp37m-linux_x86_64.whl size=2565077 sha256=858635311f9e3c2dd00194c59fd2bf84db13350d73d72e5e1cb15d1a30d8887a\n",
            "  Stored in directory: /root/.cache/pip/wheels/f7/18/28/dd1ce0192a81b71a3b086fd952511d088b21e8359ea496860a\n",
            "  Building wheel for paramz (setup.py) ... \u001b[?25l\u001b[?25hdone\n",
            "  Created wheel for paramz: filename=paramz-0.9.5-py3-none-any.whl size=102565 sha256=49e0d53c3b0b19e34fc16a3c60342b9128ecc07fca078862d2600d5c424e2054\n",
            "  Stored in directory: /root/.cache/pip/wheels/c8/95/f5/ce28482da28162e6028c4b3a32c41d147395825b3cd62bc810\n",
            "Successfully built gpy paramz\n",
            "Installing collected packages: paramz, gpy\n",
            "Successfully installed gpy-1.10.0 paramz-0.9.5\n"
          ]
        }
      ]
    },
    {
      "cell_type": "code",
      "metadata": {
        "id": "SwGh2bagw4kg"
      },
      "source": [
        "import GPy as GPy\n",
        "import numpy as np\n",
        "import pylab as pb\n",
        "import pymc3 as pm\n",
        "import arviz as az"
      ],
      "execution_count": 10,
      "outputs": []
    },
    {
      "cell_type": "code",
      "metadata": {
        "id": "6MUJdlxSPSMM"
      },
      "source": [
        "# Define the seed so that results can be reproduced\n",
        "seed = 11\n",
        "rand_state = 11\n",
        "\n",
        "# Define the color maps for plots\n",
        "color_map = plt.cm.get_cmap('RdYlBu')\n",
        "color_map_discrete = matplotlib.colors.LinearSegmentedColormap.from_list(\"\", [\"red\",\"cyan\",\"magenta\",\"blue\"])"
      ],
      "execution_count": 11,
      "outputs": []
    },
    {
      "cell_type": "markdown",
      "metadata": {
        "id": "WL91ShB19RPw"
      },
      "source": [
        "# DATASET"
      ]
    },
    {
      "cell_type": "markdown",
      "metadata": {
        "id": "ESg5DGKWJSOf"
      },
      "source": [
        "Extract from this [paper](https://ieeexplore.ieee.org/document/9300074):\n",
        "\n",
        "* House prices are a significant impression of the economy, and its value ranges are of great concerns for the clients and property dealers. \n",
        "\n",
        "* Housing price escalate every year that eventually reinforced the need of strategy or technique that could predict house prices in future. \n",
        "\n",
        "* There are certain factors that influence house prices including physical conditions, locations, number of bedrooms and others.\n"
      ]
    },
    {
      "cell_type": "markdown",
      "metadata": {
        "id": "a8Y2pf50FlYL"
      },
      "source": [
        "1. [Download the dataset](https://github.com/UL-CS6134/CS6134_SEM1_2021-2/tree/main/Week-5). \n",
        "\n",
        "2. Upload the dataset into your folder.\n",
        "\n"
      ]
    },
    {
      "cell_type": "markdown",
      "metadata": {
        "id": "FMkdCQEmKTof"
      },
      "source": [
        "The challenge is to predict the final price of each house."
      ]
    },
    {
      "cell_type": "code",
      "metadata": {
        "id": "Dq1Afjlp5tA2"
      },
      "source": [
        "def import_datasets(git_link = 'https://raw.githubusercontent.com/tomkeane07/AI-Projects-UL/Etivity3/semester3/MachineLearningApplications/E3/'):\n",
        "  return {\n",
        "      'Test'  : pd.read_csv(git_link+'HousePrice_Test.csv'),\n",
        "      'Train' : pd.read_csv(git_link+'HousePrice_Train.csv'),\n",
        "      'true_price'  : pd.read_csv(git_link+'sample_submission.csv')}\n",
        "try:\n",
        "  dbs\n",
        "except:\n",
        "  dbs = import_datasets()\n",
        "\n",
        "dftest  =  dbs['Test' ]\n",
        "dftrain =  dbs['Train']\n",
        "dfcost = dbs['true_price']\n",
        "dftest['Price'] = dfcost['Price']\n",
        "\n",
        "df = dftrain.append(dftest)"
      ],
      "execution_count": 12,
      "outputs": []
    },
    {
      "cell_type": "code",
      "metadata": {
        "colab": {
          "base_uri": "https://localhost:8080/",
          "height": 207
        },
        "id": "oqCB1eUn-h85",
        "outputId": "5d042cc5-bc19-466f-82a3-176e22d0d7f1"
      },
      "source": [
        "display(dftrain.tail())"
      ],
      "execution_count": 13,
      "outputs": [
        {
          "output_type": "display_data",
          "data": {
            "text/html": [
              "<div>\n",
              "<style scoped>\n",
              "    .dataframe tbody tr th:only-of-type {\n",
              "        vertical-align: middle;\n",
              "    }\n",
              "\n",
              "    .dataframe tbody tr th {\n",
              "        vertical-align: top;\n",
              "    }\n",
              "\n",
              "    .dataframe thead th {\n",
              "        text-align: right;\n",
              "    }\n",
              "</style>\n",
              "<table border=\"1\" class=\"dataframe\">\n",
              "  <thead>\n",
              "    <tr style=\"text-align: right;\">\n",
              "      <th></th>\n",
              "      <th>Index</th>\n",
              "      <th>ID</th>\n",
              "      <th>Location</th>\n",
              "      <th>Num_Bathrooms</th>\n",
              "      <th>Num_Beds</th>\n",
              "      <th>BER_class</th>\n",
              "      <th>Description</th>\n",
              "      <th>Services</th>\n",
              "      <th>Features</th>\n",
              "      <th>Latitude</th>\n",
              "      <th>Longitude</th>\n",
              "      <th>Type</th>\n",
              "      <th>Surface</th>\n",
              "      <th>Price</th>\n",
              "    </tr>\n",
              "  </thead>\n",
              "  <tbody>\n",
              "    <tr>\n",
              "      <th>1633</th>\n",
              "      <td>1634</td>\n",
              "      <td>12424903</td>\n",
              "      <td>Blackrock</td>\n",
              "      <td>1</td>\n",
              "      <td>2</td>\n",
              "      <td>C2</td>\n",
              "      <td>Built in c.1930 38 Stradbrook Road is a deligh...</td>\n",
              "      <td>Parking,Gas Fired Central Heating,Alarm,Wheelc...</td>\n",
              "      <td>Extremely convenient location \\nWheelchair acc...</td>\n",
              "      <td>53.292767</td>\n",
              "      <td>-6.166668</td>\n",
              "      <td>bungalow</td>\n",
              "      <td>64.00</td>\n",
              "      <td>500000</td>\n",
              "    </tr>\n",
              "    <tr>\n",
              "      <th>1634</th>\n",
              "      <td>1635</td>\n",
              "      <td>12383142</td>\n",
              "      <td>Blackrock</td>\n",
              "      <td>3</td>\n",
              "      <td>5</td>\n",
              "      <td>C1</td>\n",
              "      <td>An impressive three-story family home superbly...</td>\n",
              "      <td>NaN</td>\n",
              "      <td>Gas fired central heating with underfloor heat...</td>\n",
              "      <td>53.284975</td>\n",
              "      <td>-6.178685</td>\n",
              "      <td>detached</td>\n",
              "      <td>175.96</td>\n",
              "      <td>795000</td>\n",
              "    </tr>\n",
              "    <tr>\n",
              "      <th>1635</th>\n",
              "      <td>1636</td>\n",
              "      <td>12426975</td>\n",
              "      <td>Lucan</td>\n",
              "      <td>2</td>\n",
              "      <td>3</td>\n",
              "      <td>A3</td>\n",
              "      <td>DNG Lucan's leading estate agents are delighte...</td>\n",
              "      <td>NaN</td>\n",
              "      <td>None</td>\n",
              "      <td>53.351667</td>\n",
              "      <td>-6.435278</td>\n",
              "      <td>semi-detached</td>\n",
              "      <td>98.00</td>\n",
              "      <td>340000</td>\n",
              "    </tr>\n",
              "    <tr>\n",
              "      <th>1636</th>\n",
              "      <td>1637</td>\n",
              "      <td>12198921</td>\n",
              "      <td>Sandymount</td>\n",
              "      <td>8</td>\n",
              "      <td>8</td>\n",
              "      <td>D2</td>\n",
              "      <td>Holyrood Castle is a most distinctive 19th cen...</td>\n",
              "      <td>NaN</td>\n",
              "      <td>None</td>\n",
              "      <td>53.328997</td>\n",
              "      <td>-6.221030</td>\n",
              "      <td>detached</td>\n",
              "      <td>507.00</td>\n",
              "      <td>2500000</td>\n",
              "    </tr>\n",
              "    <tr>\n",
              "      <th>1637</th>\n",
              "      <td>1638</td>\n",
              "      <td>12314237</td>\n",
              "      <td>Shankill</td>\n",
              "      <td>2</td>\n",
              "      <td>2</td>\n",
              "      <td>E1</td>\n",
              "      <td>A superb opportunity awaits to acquire this be...</td>\n",
              "      <td>NaN</td>\n",
              "      <td>Turn key condition\\nWood burning stove\\nSlider...</td>\n",
              "      <td>53.231438</td>\n",
              "      <td>-6.125022</td>\n",
              "      <td>semi-detached</td>\n",
              "      <td>50.00</td>\n",
              "      <td>370000</td>\n",
              "    </tr>\n",
              "  </tbody>\n",
              "</table>\n",
              "</div>"
            ],
            "text/plain": [
              "      Index        ID    Location  ...           Type  Surface    Price\n",
              "1633   1634  12424903   Blackrock  ...       bungalow    64.00   500000\n",
              "1634   1635  12383142   Blackrock  ...       detached   175.96   795000\n",
              "1635   1636  12426975       Lucan  ...  semi-detached    98.00   340000\n",
              "1636   1637  12198921  Sandymount  ...       detached   507.00  2500000\n",
              "1637   1638  12314237    Shankill  ...  semi-detached    50.00   370000\n",
              "\n",
              "[5 rows x 14 columns]"
            ]
          },
          "metadata": {}
        }
      ]
    },
    {
      "cell_type": "code",
      "metadata": {
        "colab": {
          "base_uri": "https://localhost:8080/",
          "height": 207
        },
        "id": "jbUe2fG6-iC_",
        "outputId": "c46c86d4-b928-4cbb-af23-24827e0d5e9d"
      },
      "source": [
        "display(dftest.tail())"
      ],
      "execution_count": 14,
      "outputs": [
        {
          "output_type": "display_data",
          "data": {
            "text/html": [
              "<div>\n",
              "<style scoped>\n",
              "    .dataframe tbody tr th:only-of-type {\n",
              "        vertical-align: middle;\n",
              "    }\n",
              "\n",
              "    .dataframe tbody tr th {\n",
              "        vertical-align: top;\n",
              "    }\n",
              "\n",
              "    .dataframe thead th {\n",
              "        text-align: right;\n",
              "    }\n",
              "</style>\n",
              "<table border=\"1\" class=\"dataframe\">\n",
              "  <thead>\n",
              "    <tr style=\"text-align: right;\">\n",
              "      <th></th>\n",
              "      <th>Index</th>\n",
              "      <th>ID</th>\n",
              "      <th>Location</th>\n",
              "      <th>Num_Bathrooms</th>\n",
              "      <th>Num_Beds</th>\n",
              "      <th>BER_class</th>\n",
              "      <th>Description</th>\n",
              "      <th>Services</th>\n",
              "      <th>Features</th>\n",
              "      <th>Latitude</th>\n",
              "      <th>Longitude</th>\n",
              "      <th>Type</th>\n",
              "      <th>Surface</th>\n",
              "      <th>Price</th>\n",
              "    </tr>\n",
              "  </thead>\n",
              "  <tbody>\n",
              "    <tr>\n",
              "      <th>697</th>\n",
              "      <td>2336</td>\n",
              "      <td>12392566</td>\n",
              "      <td>Kilmainham</td>\n",
              "      <td>1</td>\n",
              "      <td>1</td>\n",
              "      <td>G</td>\n",
              "      <td>Sherry FitzGerald is delighted to present 56 B...</td>\n",
              "      <td>NaN</td>\n",
              "      <td>Secure gated and well maintained development\\n...</td>\n",
              "      <td>53.343377</td>\n",
              "      <td>-6.296654</td>\n",
              "      <td>apartment</td>\n",
              "      <td>40.0</td>\n",
              "      <td>3835888.0</td>\n",
              "    </tr>\n",
              "    <tr>\n",
              "      <th>698</th>\n",
              "      <td>2337</td>\n",
              "      <td>12352487</td>\n",
              "      <td>Stoneybatter</td>\n",
              "      <td>1</td>\n",
              "      <td>2</td>\n",
              "      <td>D2</td>\n",
              "      <td>26 Viking Road is a well presented and moderni...</td>\n",
              "      <td>NaN</td>\n",
              "      <td>Well presented and modernised extended two bed...</td>\n",
              "      <td>53.351074</td>\n",
              "      <td>-6.285557</td>\n",
              "      <td>terraced</td>\n",
              "      <td>57.0</td>\n",
              "      <td>1106700.0</td>\n",
              "    </tr>\n",
              "    <tr>\n",
              "      <th>699</th>\n",
              "      <td>2338</td>\n",
              "      <td>12387290</td>\n",
              "      <td>Cabinteely</td>\n",
              "      <td>1</td>\n",
              "      <td>3</td>\n",
              "      <td>D1</td>\n",
              "      <td>FIRST OPEN VIEW SATURDAY 8TH FEBRUARY 11 - 11....</td>\n",
              "      <td>Parking,Gas Fired Central Heating</td>\n",
              "      <td>None</td>\n",
              "      <td>53.261710</td>\n",
              "      <td>-6.164979</td>\n",
              "      <td>semi-detached</td>\n",
              "      <td>93.0</td>\n",
              "      <td>1103343.0</td>\n",
              "    </tr>\n",
              "    <tr>\n",
              "      <th>700</th>\n",
              "      <td>2339</td>\n",
              "      <td>12382807</td>\n",
              "      <td>Clontarf</td>\n",
              "      <td>2</td>\n",
              "      <td>3</td>\n",
              "      <td>NaN</td>\n",
              "      <td>DNG are delighted to represent the sale of 109...</td>\n",
              "      <td>NaN</td>\n",
              "      <td>Gas fired central heating.\\nFully renovated an...</td>\n",
              "      <td>53.360515</td>\n",
              "      <td>-6.189661</td>\n",
              "      <td>terraced</td>\n",
              "      <td>118.0</td>\n",
              "      <td>1273647.0</td>\n",
              "    </tr>\n",
              "    <tr>\n",
              "      <th>701</th>\n",
              "      <td>2340</td>\n",
              "      <td>12393769</td>\n",
              "      <td>Glenageary</td>\n",
              "      <td>1</td>\n",
              "      <td>3</td>\n",
              "      <td>F</td>\n",
              "      <td>This is an instantly appealing Jennings built ...</td>\n",
              "      <td>NaN</td>\n",
              "      <td>Drenched in natural light\\nSuperb blank canvas...</td>\n",
              "      <td>53.280408</td>\n",
              "      <td>-6.132925</td>\n",
              "      <td>semi-detached</td>\n",
              "      <td>122.0</td>\n",
              "      <td>1820012.0</td>\n",
              "    </tr>\n",
              "  </tbody>\n",
              "</table>\n",
              "</div>"
            ],
            "text/plain": [
              "     Index        ID      Location  ...           Type  Surface      Price\n",
              "697   2336  12392566    Kilmainham  ...      apartment     40.0  3835888.0\n",
              "698   2337  12352487  Stoneybatter  ...       terraced     57.0  1106700.0\n",
              "699   2338  12387290    Cabinteely  ...  semi-detached     93.0  1103343.0\n",
              "700   2339  12382807      Clontarf  ...       terraced    118.0  1273647.0\n",
              "701   2340  12393769    Glenageary  ...  semi-detached    122.0  1820012.0\n",
              "\n",
              "[5 rows x 14 columns]"
            ]
          },
          "metadata": {}
        }
      ]
    },
    {
      "cell_type": "code",
      "metadata": {
        "colab": {
          "base_uri": "https://localhost:8080/",
          "height": 954
        },
        "id": "mHXy4uOw-iI4",
        "outputId": "35ce2249-5b5b-477b-dd25-62d6eb15fac0"
      },
      "source": [
        "display(dftrain.describe())\n",
        "\n",
        "print(\"\\n\\nmissing values _ %\")\n",
        "print(dftrain.isna().sum()* 100 / len(dftrain))\n",
        "print(\"_________\\nunique values\")\n",
        "print(dftrain.nunique(axis=0))"
      ],
      "execution_count": 15,
      "outputs": [
        {
          "output_type": "display_data",
          "data": {
            "text/html": [
              "<div>\n",
              "<style scoped>\n",
              "    .dataframe tbody tr th:only-of-type {\n",
              "        vertical-align: middle;\n",
              "    }\n",
              "\n",
              "    .dataframe tbody tr th {\n",
              "        vertical-align: top;\n",
              "    }\n",
              "\n",
              "    .dataframe thead th {\n",
              "        text-align: right;\n",
              "    }\n",
              "</style>\n",
              "<table border=\"1\" class=\"dataframe\">\n",
              "  <thead>\n",
              "    <tr style=\"text-align: right;\">\n",
              "      <th></th>\n",
              "      <th>Index</th>\n",
              "      <th>ID</th>\n",
              "      <th>Num_Bathrooms</th>\n",
              "      <th>Num_Beds</th>\n",
              "      <th>Latitude</th>\n",
              "      <th>Longitude</th>\n",
              "      <th>Surface</th>\n",
              "      <th>Price</th>\n",
              "    </tr>\n",
              "  </thead>\n",
              "  <tbody>\n",
              "    <tr>\n",
              "      <th>count</th>\n",
              "      <td>1638.000000</td>\n",
              "      <td>1.638000e+03</td>\n",
              "      <td>1638.000000</td>\n",
              "      <td>1638.000000</td>\n",
              "      <td>1638.000000</td>\n",
              "      <td>1638.000000</td>\n",
              "      <td>1638.000000</td>\n",
              "      <td>1.638000e+03</td>\n",
              "    </tr>\n",
              "    <tr>\n",
              "      <th>mean</th>\n",
              "      <td>819.500000</td>\n",
              "      <td>1.231930e+07</td>\n",
              "      <td>2.054335</td>\n",
              "      <td>3.043346</td>\n",
              "      <td>53.350473</td>\n",
              "      <td>-6.255086</td>\n",
              "      <td>169.540695</td>\n",
              "      <td>5.547196e+05</td>\n",
              "    </tr>\n",
              "    <tr>\n",
              "      <th>std</th>\n",
              "      <td>472.994186</td>\n",
              "      <td>1.447540e+05</td>\n",
              "      <td>1.241259</td>\n",
              "      <td>1.379650</td>\n",
              "      <td>0.076832</td>\n",
              "      <td>0.144430</td>\n",
              "      <td>1791.793934</td>\n",
              "      <td>5.652032e+05</td>\n",
              "    </tr>\n",
              "    <tr>\n",
              "      <th>min</th>\n",
              "      <td>1.000000</td>\n",
              "      <td>1.118567e+07</td>\n",
              "      <td>1.000000</td>\n",
              "      <td>1.000000</td>\n",
              "      <td>52.501856</td>\n",
              "      <td>-6.497000</td>\n",
              "      <td>3.400000</td>\n",
              "      <td>1.999500e+04</td>\n",
              "    </tr>\n",
              "    <tr>\n",
              "      <th>25%</th>\n",
              "      <td>410.250000</td>\n",
              "      <td>1.228104e+07</td>\n",
              "      <td>1.000000</td>\n",
              "      <td>2.000000</td>\n",
              "      <td>53.294261</td>\n",
              "      <td>-6.309613</td>\n",
              "      <td>73.000000</td>\n",
              "      <td>2.950000e+05</td>\n",
              "    </tr>\n",
              "    <tr>\n",
              "      <th>50%</th>\n",
              "      <td>819.500000</td>\n",
              "      <td>1.238055e+07</td>\n",
              "      <td>2.000000</td>\n",
              "      <td>3.000000</td>\n",
              "      <td>53.341386</td>\n",
              "      <td>-6.247780</td>\n",
              "      <td>97.050000</td>\n",
              "      <td>3.950000e+05</td>\n",
              "    </tr>\n",
              "    <tr>\n",
              "      <th>75%</th>\n",
              "      <td>1228.750000</td>\n",
              "      <td>1.240548e+07</td>\n",
              "      <td>3.000000</td>\n",
              "      <td>4.000000</td>\n",
              "      <td>53.382031</td>\n",
              "      <td>-6.193982</td>\n",
              "      <td>135.000000</td>\n",
              "      <td>5.950000e+05</td>\n",
              "    </tr>\n",
              "    <tr>\n",
              "      <th>max</th>\n",
              "      <td>1638.000000</td>\n",
              "      <td>1.242836e+07</td>\n",
              "      <td>18.000000</td>\n",
              "      <td>27.000000</td>\n",
              "      <td>53.630588</td>\n",
              "      <td>-1.744995</td>\n",
              "      <td>72236.387140</td>\n",
              "      <td>8.900000e+06</td>\n",
              "    </tr>\n",
              "  </tbody>\n",
              "</table>\n",
              "</div>"
            ],
            "text/plain": [
              "             Index            ID  ...       Surface         Price\n",
              "count  1638.000000  1.638000e+03  ...   1638.000000  1.638000e+03\n",
              "mean    819.500000  1.231930e+07  ...    169.540695  5.547196e+05\n",
              "std     472.994186  1.447540e+05  ...   1791.793934  5.652032e+05\n",
              "min       1.000000  1.118567e+07  ...      3.400000  1.999500e+04\n",
              "25%     410.250000  1.228104e+07  ...     73.000000  2.950000e+05\n",
              "50%     819.500000  1.238055e+07  ...     97.050000  3.950000e+05\n",
              "75%    1228.750000  1.240548e+07  ...    135.000000  5.950000e+05\n",
              "max    1638.000000  1.242836e+07  ...  72236.387140  8.900000e+06\n",
              "\n",
              "[8 rows x 8 columns]"
            ]
          },
          "metadata": {}
        },
        {
          "output_type": "stream",
          "name": "stdout",
          "text": [
            "\n",
            "\n",
            "missing values _ %\n",
            "Index             0.000000\n",
            "ID                0.000000\n",
            "Location          0.000000\n",
            "Num_Bathrooms     0.000000\n",
            "Num_Beds          0.000000\n",
            "BER_class        15.323565\n",
            "Description       0.000000\n",
            "Services         64.774115\n",
            "Features          0.000000\n",
            "Latitude          0.000000\n",
            "Longitude         0.000000\n",
            "Type              0.000000\n",
            "Surface           0.000000\n",
            "Price             0.000000\n",
            "dtype: float64\n",
            "_________\n",
            "unique values\n",
            "Index            1638\n",
            "ID               1638\n",
            "Location          142\n",
            "Num_Bathrooms      11\n",
            "Num_Beds           11\n",
            "BER_class          16\n",
            "Description      1638\n",
            "Services           31\n",
            "Features         1118\n",
            "Latitude         1604\n",
            "Longitude        1605\n",
            "Type               10\n",
            "Surface           666\n",
            "Price             267\n",
            "dtype: int64\n"
          ]
        }
      ]
    },
    {
      "cell_type": "code",
      "metadata": {
        "id": "wkf_k2a3-_d3"
      },
      "source": [
        "dropcols = ['Index', 'ID']"
      ],
      "execution_count": 16,
      "outputs": []
    },
    {
      "cell_type": "code",
      "metadata": {
        "id": "SZ9PsCcB_W4G"
      },
      "source": [
        "def inspect_data(df, dropcols):\n",
        "  df = df.drop(df[dropcols], axis=1)\n",
        "\n",
        "  sns.pairplot(data=df.dropna())\n",
        "  plt.show()\n",
        "\n",
        "  display(df.describe())\n",
        "  \n",
        "# inspect_data(dftrain, dropcols)"
      ],
      "execution_count": 17,
      "outputs": []
    },
    {
      "cell_type": "code",
      "metadata": {
        "id": "Bf72U9Z4ACMd",
        "colab": {
          "base_uri": "https://localhost:8080/"
        },
        "outputId": "9f29e37d-581b-422f-b239-a4bb1e653180"
      },
      "source": [
        "def print_text_col_examples(df):\n",
        "  cols = df[['Description', 'Features', 'Services']].notna()\n",
        "  print(\"Description\")\n",
        "  print(df[['Description']][cols].tail(5).values, end='\\n\\n')\n",
        "\n",
        "  print('Features')\n",
        "  print(df[['Features']][cols].tail(5).values, end=\"\\n\\n\")\n",
        "\n",
        "  print('Services')\n",
        "  print(df[['Services']][cols].tail(5).values, end=\"\\n\\n\")\n",
        "\n",
        "print_text_col_examples(dftrain)"
      ],
      "execution_count": 18,
      "outputs": [
        {
          "output_type": "stream",
          "name": "stdout",
          "text": [
            "Description\n",
            "[['Built in c.1930 38 Stradbrook Road is a delightful, 2-bedroom double fronted cottage of immense charm and character. The property has been tastefully upgraded by the present owner with no expense spared as a result the property comes to the market in walk-in condition. Viewing is highly recommended. The accommodation briefly comprises, hall, living room / kitchen, 2 bedrooms and large bathroom. Front garden with off street parking, extremely private low maintenance walled rear garden with garden shed.\\n\\nThe bustling town of Blackrock which needs no introduction is located just a short distance away with a host of speciality shops, restaurants and cafes. The DART at Seapoint and Blackrock are minutes away. The area is also very well serviced with several bus routes within close proximity, offering easy access to and from the city centre.']\n",
            " [\"An impressive three-story family home superbly located Off Newtownpark Avenue in an area of utmost convenience this property consists of five bedrooms and benefits from off street parking and a quiet and secluded garden to the rear.\\n\\n\\r\\nInternally, the property is presented in excellent decorative order and finished to a high standard throughout to include a large drawing room to front, a feature kitchen/breakfast room and family room to rear along with sperate utility room and guest w.c.. Upstairs there are five generous bedrooms including master ensuite and family bathroom. To the front of the property there is off-street car parking, while to the rear there is a well maintained garden with gated pedestrian side access.\\n\\n\\r\\nThe Meadows is most conveniently located in this much sought-after residential area off Newtownpark Avenue with a wealth of amenities close-by including the villages of Blackrock and Monkstown which both provide a wide array of shops, cafes and restaurants including Liath Restaurant in Blackrock Market. The new Frascati Centre, Blackrock Shopping Centre and Stillorgan Shopping Centre are nearby. The area also benefits from all the conveniences that Blackrock Park and the coastline have to offer. There is a great selection of primary and post primary schools in the locality such as Guardian Angels, Scoil Lorcain, Hollypark, Carysfort, CBS Monkstown, Blackrock College, Newpark and Willow Park. Beyond that the University College Dublin's campus at Belfield is also close by. Public transport links include the DART, a quality bus corridor connecting Blackrock with the city centre as well as the N11 and the M50 which are both easily accessible.\"]\n",
            " [\"DNG Lucan's leading estate agents are delighted to present 12B Esker Park, an A rated 3 bedroom (plus attic) semi-detached family home which is ideally located within St. Mary's Parish. Built c.2016, this property is finished to the highest specification throughout and measures 118 sq.m / 1,270 sq.ft including the large attic conversion.\\n\\r\\n12B Esker Park benefits from a large gated driveway with pedestrian side access to the rear where there is a beautifully maintained garden. Boasting immaculate interiors throughout and a well-designed layout, this property provides a turn key opportunity for the lucky buyer.\\n\\r\\nBuilt to a high specification, coupled with a well-designed layout throughout. This home benefits from the latest passive housing principles, which have been adopted to future proof this home, such as; superior levels of insulation, increased levels of air tightness, Solar PV systems for electricity savings and large high-end, triple glazed, Weatherglaze windows and doors.\\n\\r\\nAccommodation downstairs comprises of a wide hallway, wc, large living room to the front, light filled kitchen/dining to the rear and a separate utility room. Upstairs are three well-proportioned bedrooms and a family bathroom. The attic further benefits from a large room with a Velux window and eaves storage.\\n\\r\\nOutside to the front is a large gated driveway with parking for numerous vehicles. To the rear is a beautifully maintained garden which is laid in lawn with bedded planting, a decking area, shed to the rear and pedestrian side access. \\n\\r\\n12B Esker Park is superbly located within St. Mary's Parish. Within close proximity of Liffey Valley shopping centre, M50 &amp; N4 as well as a host of amenities that include shops, schools, public transport and sporting facilities. Both Griffeen Valley Park &amp; Willsbrook Park are a short walk away. Numerous bus routes and also nearby with a quality bus corridor leading to the city centre.\\n\\n\\r\\nFEATURES:\\r\\nSize -\\r\\n1,270sq ft / 118sq m (to include the attic conversion)\\n\\r\\nInternal Doors &amp; Floors -\\r\\nSolid Oak wood contemporary fitted doors. \\r\\nHigh quality semi-solid White Oak wood floors.\\r\\nBeautiful Porcelain floor tiles. \\n\\r\\nBathrooms -\\r\\nThe bathroom and guest wc are designed with a contemporary style. \\r\\nThe bathroom and guest wc are tiled to a high quality. \\n\\r\\nHeating -\\r\\nThe A rated Gas Condensing Boiler Central Heating System delivers greater than or equal to 86% efficiency. There has been careful thought given to the design of the heating system with three separate zones, 1. Ground Floor 2. First Floor &amp; 3. Hot water system. In addition to this there are two thermostatic controls one at ground floor and the second at first floor plus there are individual thermostatic valves fitted to each radiator giving the homeowner the flexibility and ultimate control of the heat settings within the home on a room by room basis if desired. System is complete with user friendly 3 channel 7 day time clock for ultimate control.\\n\\r\\nExternal Finishes -\\r\\nConcrete block built house for extra durability.\\r\\nFront elevation incorporating beautiful brickwork and plaster finishes.\\r\\nMaintenance-free uPVC triple glazed windows &amp; doors.\\r\\nuPVC fascia, soffit, gutters &amp; downpipes.\\n\\r\\nGardens -\\r\\nThe front is extensively tarmacadamed and provides excellent off-street parking. \\r\\nThe rear garden is approx. 25ft / 8m in lenght with a 6ft / 1.82m perimeter wall. \\n\\r\\nElectrical - \\r\\nThere are a generous number of light and power points throughout and over front and rear doors. \\r\\nAll wiring for low energy lighting.  \\n\\r\\nFire Safety Features \\r\\nThe home comes with added fire protection measures which meet the current building standards, such as; \\r\\nSmoke detectors fitted to all bedrooms, living room &amp; hallway. \\r\\nHeat detector to kitchen. \\r\\nCarbon Monoxide alarm to kitchen area. \\n\\r\\nSecurity - \\r\\nFully alarmed.\\r\\nExterior doors with a 5 Point Locking System.\\r\\nFront &amp; back door outside lights fitted.\\n\\r\\nTV &amp; Telephone - \\r\\nWired for connection of TV, Telephone, Broadband and Virgin Media.\\n\\n\\r\\nACCOMMODATION:\\r\\nEntrance Hall 5.9m x 1.95m\\r\\nBright and spacious entrance hallway with guest WC &amp; closet.\\n WC: 1.64m x 1.37m\\r\\nTiled wc with whb and wc\\n\\r\\nLiving Room  4.45m x 3.32m\\r\\nLarge living room to the front with wood flooring and recessed lighting. \\n\\r\\nKitchen / Dining Room 4m/4.32m x 5.42m\\r\\nBright and spacious openplan kitchen/dining a stunning fitted kitchen, recessed lighting, tiled flooring, Velux window and double patio doors.\\n\\r\\nUtility Room  1.64m x 1.83m\\r\\nWith counter top and plumbing for washing machine.\\n\\r\\nLanding  2.8m x 2.2m\\n\\r\\nMaster bedroom  3.75m x 3.15m\\r\\nSpacious bay windowed master bedroom to the front with built in wardrobes, carpeted flooring and tv point\\n\\r\\nBedroom 2  3.44m x 2.38m\\r\\nDouble bedroom to the rear with built in wardrobes and wood flooring\\n\\r\\nBedroom 3  2.42m x 2.95m\\r\\nDouble bedroom to the rear with carpeted flooring\\n\\r\\nFamily Bathroom  1.88m x 2.15m\\r\\nFully tiled bathroom with bath, Triton T90 electric shower, wc, whb and chrome towel rail\\n\\r\\nAttic Room  3.7m x 4.38m\\r\\nLight filled room with a large Velux window, carpeted flooring &amp; storage.\"]\n",
            " ['Holyrood Castle is a most distinctive 19th century four storey over basement castellated residence, tucked away in a quiet cul-de-sac off Sandymount Avenue making it an outstanding investment opportunity, stunning home or home and income. \\n\\nCurrently arranged in 3 spacious and elegant apartments including a 3 bedroom basement apartment (93sqm / 1,000sqft approx.), 2 bedroom ground floor apartment (85sqm / 915sqft approx.) and a dramatic triplex penthouse (297sqm / 3,200sqft plus roof garden of 64sqm / 690sqft approx.) offering a unique and creative bespoke interior where no expense has been spared with a stunning private roof garden offering 360 views over the city, mountains and sea. The large gardens provide extensive parking and possible mews potential, subject to planning permission. \\n\\nSituated in this most attractive and accessible location, Holyrood Castles convenience cannot be overstated, being within a short stroll of an extensive choice of amenities including the excellent shopping facilities of Sandymount Village with its many specialty shops, boutiques, cafes and restaurants not to mention Sandymount Strand for leisurely walks. The property which enjoys uninterrupted views over YMCA sports grounds also benefits from having Sandymount DART station on its doorstep and being within a 10-minute drive of many of the city s principal places of business such as the South Docklands IT hub, Merrion Square, Fitzwilliam Square, St Stephens Green and the I.F.S.C. Dublin airport is within 20 minutes drive via the port tunnel.\\n\\nBER s...\\n\\nBasement Apartment\\nBER: C2\\nBER No: 103356366\\nEPI: 197.05 kWh/m2/yr\\n\\nGround Floor Apartment\\nBER: D2\\nBER No: 107803728\\nEPI: 275.3 kWh/m2/yr\\n\\nTriplex Penthouse Apartment\\nBER: E1\\nBER No: 107223364\\nEPI: 323.96 kWh/m2/yr\\nMain Entrance Welcoming entrance hall with many period features including marble surround open fireplace, terrazzo floor, ceiling coving and centre rose.\\n\\nGROUND FLOOR APARTMENT 85sqm (915sqft)\\n\\nHall with alarm and intercom.\\n\\nLiving / Dining Room Light filled room with full height sash windows, marble surround fireplace with cast iron insert and gas fire, ceiling coving and centre rose. Off the living room there is a well-appointed guest w.c.\\n\\nKitchen Fully fitted kitchen with built in wall and floor units, integrated gas cooker, oven and extractor fan, dishwasher, washer/dryer and under stairs storage.\\n\\nBedroom 1 Superb double bedroom with bespoke built in wardrobes.\\n\\nEnsuite with bath, wc, wash hand basin, vanity unit and built in presses. Roof light allows for natural light.\\n\\nBedroom 2 Light filled double bedroom.\\n\\nEnsuite with wc, wash hand basin and shower.\\n\\nDRAMATIC TRIPLEX PENTHOUSE 297sqm (3,200sqft) plus roof garden of 64sqm (690sqft)\\n\\nFLOOR 1\\n\\nReception Hall with leather lined walls, laminate floor, large wall mirrors, Ebony bookcases and radiator cabinet.\\n\\nLiving Room large bright and well proportioned room with leather lined and padded walls, feature gas fire, padded leather window seats and recessed lights.\\n\\nBar with marble surfaces, 2 x fridges, ice maker, dishwasher, stainless steel sink unit and padded leather wall.\\n\\nBedroom 1 double room with recessed lights, feature gas fire, padded leather window seats, built-in wardrobe and radiator cabinet.\\n\\nEnsuite fully tiled with shower cubicle, rainwater shower head, wc and circular basin on marble top.\\n\\nGuest WC located on the return with marble floor, wc, glass circular basin on contemporary shelf with drawer beneath, recessed lights and mosaic wall tiles with 14 carat gold leaf detail.\\n\\nFLOOR 2\\n\\nUtility Room with plumbing for washing machine and dryer.\\n\\nKitchen / Breakfast Room with fitted wall and floor units, recessed lights, gas fire, American fridge/freezer, hob, oven, extractor fan and marble work surfaces and splashback.\\n\\nGym with marble floor, mosaic wall tiles with 14 carat gold leaf detail, Sauna, gas fire, shower area with rainwater shower head, heated towel rail and large wall mirrors.\\n\\nBedroom 2 double room with leather lined walls, laminate floor, recessed lights and door to:\\n\\nEnsuite fully tiled with wc, circular basin in vanity unit, large shower with rainwater shower head and door to:\\n\\nDressing Room with generous hanging and shelved storage.\\n\\nFLOOR 3\\n\\nMain Bedroom 3 / Living Room offering stunning views over YMCA grounds with large wall mirrors, laminate floor and leather lined walls. Steps to balcony and spiral staircase to roof garden.\\n\\nDressing Room with marble floor, Ebony hanging and storage cabinets and gas fire. Opening to:\\n\\nEnsuite luxuriously appointed with two wash hand basin on marble top with storage beneath, mosaic wall and ceiling tiles with 14 carat gold leaf detail, large mirror, recessed lights, shower area with rainwater shower head and side jets and heated towel rail.\\n\\nROOF GARDEN\\n\\nEnclosed Jacuzzi Area with large jacuzzi, mosaic wall and ceiling tiles with 14 carat gold leaf detail and stunning views over the city. Sliding doors to:\\n\\nRoof Garden offering impressive 360 views over the city, mountains and sea with imitation grass.\\n\\nBASEMENT APARTMENT 93sqm (1,000sqft)\\n\\nLiving / Dining Room spacious open plan room with stove.\\n\\nKitchen with a range of modern wall and floor units.\\n\\nBedroom 1 double room with shower room ensuite.\\n\\nBedroom 2 single room with shower room ensuite.\\n\\nBedroom 3 double room.\\n\\nBathroom']\n",
            " ['A superb opportunity awaits to acquire this beautiful bijou cottage in the heart of Shankill. Dating from the late 19th Century, Bloomfield Cottage has been tastefully upgraded and comes to the market in turn key condition. A little gem, the accommodation is cleverly laid out and features high quality engineered wood flooring throughout. On entering, one steps into the bright and welcoming open plan living room / diner / kitchen, featuring a wood burning stove, vaulted ceilings with Velux windows, and French doors from here open onto a private rear courtyard. A corridor off leads to a handy shelved utility room with combi-gas boiler and provision for washing machine and dryer. There are two double bedrooms, the principal with fitted Sliderobes and adjoining ensuite shower room. The attractively tiled main bathroom has a vaulted ceiling with Velux window, and features a modern suite with full bath. \\n\\nThe location is simply superb, just a stone s throw from Shankill village with its selection of local shops, supermarkets and eateries, including the recently opened Lidl. The wonderful amenity of Shanganagh Park is nearby with its playing fields, children s playground and winding pathways leading down to the beach at Shankill. \\nFor commuters, there s no shortage of transport links with bus routes 45 A, 84, 145 and 155 passing through the village along with the Aircoach to Dublin Airport. The Dart station is within a 10 minute walk and there s easy access to the N11/M11/M50 corridor and the Luas at Brides Glen. \\n\\nViewing is highly recommended.\\n\\n\\nLiving Room / Diner 4.78m x 3.25m.\\n\\nKitchen 3.20m x 1.86m.\\n\\nUtility Room 0.81m x 1.78m.\\n\\nBedroom 1 3.21m x 3.31m.\\n\\nEn-Suite 2.20m x 0.75m.\\n\\nBedroom 2 2.99m x 2.38m.\\n\\nBathroom 1.83m x 1.84m.\\n\\n\\nDIRECTIONS:\\nHeading south on the N11 take the first exit for Shankill at Loughlinstown roundabout, continue straight and take the 3rd exit at the roundabout towards Shankill village and then the first turn right onto Lower Road, Bloomfield Cottage is on the right hand side as identified by the Sherry FitzGerald for sale board.']]\n",
            "\n",
            "Features\n",
            "[['Extremely convenient location \\nWheelchair accessible\\nIntercom\\nTriple glazed windows to the front and double glazed to rear\\nTastefully refurbished with no expense spared\\nWalking distance to both Monkstown Village and Blackrock \\nGas fired central heating\\nPrivate walled low maintenance rear garden\\nOff street parking\\nAlarm\\n']\n",
            " ['Gas fired central heating with underfloor heating on the ground floor\\nDouble-glazed windows throughout\\nGated side access to garden\\nBeam Vacuum System\\nOff street parking\\nStriking open plan kitchen/breakfast and family room\\nA wealth of amenities close-by at villages of Blackrock and Monkstown\\nPublic transport links include the DART and Dublin Bus\\nThe N11 and the M50 are both easily accessed\\nOverall measurement 176 sqm (1,894 sqft)\\n']\n",
            " ['None']\n",
            " ['None']\n",
            " ['Turn key condition\\nWood burning stove\\nSliderobes in principal bedroom\\nSunny &amp; private decked courtyard\\nRear pedestrian access onto lower Road\\nBijou cottage in the heart of Shankill village\\nBeautifully upgraded with modern bathrooms\\nSERVICES\\nGFCH\\nMonitored Alarm\\n']]\n",
            "\n",
            "Services\n",
            "[['Parking,Gas Fired Central Heating,Alarm,Wheelchair Access']\n",
            " [nan]\n",
            " [nan]\n",
            " [nan]\n",
            " [nan]]\n",
            "\n"
          ]
        }
      ]
    },
    {
      "cell_type": "code",
      "metadata": {
        "id": "HOcbRwT6c3qw",
        "colab": {
          "base_uri": "https://localhost:8080/"
        },
        "outputId": "e168f0f6-7a6b-4061-9758-88a61a037609"
      },
      "source": [
        "df.drop_duplicates(subset=['BER_class'])['BER_class']"
      ],
      "execution_count": 19,
      "outputs": [
        {
          "output_type": "execute_result",
          "data": {
            "text/plain": [
              "0                       C3\n",
              "1                       D1\n",
              "2                       A3\n",
              "3                       E1\n",
              "7                      NaN\n",
              "10                       G\n",
              "11                      E2\n",
              "15                      C2\n",
              "16     SINo666of2006exempt\n",
              "19                       F\n",
              "24                      B2\n",
              "27                      C1\n",
              "36                      D2\n",
              "63                      B3\n",
              "146                     B1\n",
              "184                     A2\n",
              "800                     A1\n",
              "Name: BER_class, dtype: object"
            ]
          },
          "metadata": {},
          "execution_count": 19
        }
      ]
    },
    {
      "cell_type": "code",
      "metadata": {
        "id": "vB75ezVDACRd"
      },
      "source": [
        "def drop_cols(df, dropcols):\n",
        "  print(\"dropping\", end=\" \")\n",
        "  for col in dropcols:\n",
        "    print(col, end=\", \")\n",
        "    df.drop(col, axis=1, inplace=True)\n",
        "  print(\"...\")\n",
        "  return df\n",
        "\n",
        "def col_to_colCount(df, col, divider):\n",
        "  #this is designed for features and facilities to convert it to a rough count\n",
        "  # of features, based on how they're typically listed in the df\n",
        "  print(\"extracting \"+col +\"...\")\n",
        "  df[col] = df[col].fillna(\"\")\n",
        "  df[col+\"_count\"] = df[col].apply(lambda x: x.count(divider)+1)\n",
        "  return df\n",
        "\n",
        "def sort_Services(df, col):\n",
        "  # Courtesy of Tim Hrisikos\n",
        "  print(f\"extracting {col}...\")\n",
        "  df[col] = df[col].fillna(\"\")\n",
        "  df = df.join(\n",
        "      df[col].str.extractall('([^,]+)')[0].groupby(level=0).apply(pd.value_counts).unstack(fill_value=0).add_prefix('Service_')\n",
        "      )\n",
        "  df.drop('Services', axis=1, inplace=True)\n",
        "  return df\n",
        "\n",
        "BER_class_mapper = {\n",
        "    #Thanks Nigel Portley\n",
        "    \"SINo666of2006exempt\": 1,\n",
        "    \"A1\": 2,\n",
        "    \"A2\": 3,\n",
        "    \"A3\": 4,\n",
        "    \"B1\": 5,\n",
        "    \"B2\": 6,\n",
        "    \"B3\": 7,\n",
        "    \"C1\": 8,\n",
        "    \"C2\": 9,\n",
        "    \"C3\": 10,\n",
        "    \"D1\": 11,\n",
        "    \"D2\": 12,\n",
        "    \"E1\": 13,\n",
        "    \"E2\": 14,\n",
        "    \"F\": 15,\n",
        "    \"G\": 16\n",
        "}\n",
        "\n",
        "def onehotencode(df, col, drop_first=True):\n",
        "  print(\"one hot encoding \" + col)\n",
        "  return pd.get_dummies(df, columns=[col], \n",
        "                        dummy_na=True, \n",
        "                        drop_first=drop_first)\n",
        "\n",
        "def remove_locations_outside_Ire(df):\n",
        "  # Carlos Siqueira Do Amaral noticed that there are entries from outside of Ireland.\n",
        "  # This fiunction removes locations outside of Ireland's lat/ long bounds\n",
        "  print(\"removing locations outside of Ireland\")\n",
        "  long0, lat0, long1, lat1 = (-9.97708574059, 51.6693012559, -6.03298539878, 55.1316222195)\n",
        "  return df.loc[(df['Longitude'] > long0) & (df['Latitude'] > lat0)  & (df['Longitude'] < long1) & (df['Latitude'] < lat1)]\n",
        "\n",
        "def frame_coordinates_to_dublin_center(df):\n",
        "  print(\"centering coordinates around dublin city center\")\n",
        "  dublat, dublong = 53.350140, -6.266155\n",
        "  df['dist_from_dub_center'] = (df.Longitude - dublong)**2 +(df.Latitude - dublat)**2\n",
        "  df['Latitude'] = df.Latitude - dublat\n",
        "  df['Longitude'] = df.Longitude - dublong\n",
        "  return df\n",
        "\n",
        "def treat_data(df, dropcols = []):\n",
        "  # dropping columns listed below\n",
        "  try:\n",
        "    df = drop_cols(df, dropcols)\n",
        "  except:\n",
        "    pass\n",
        "  #filling values. Justifications outlined in Initial datasets inspection\n",
        "  df['Surface'].fillna(df['Surface'].median(), inplace=True)\n",
        "  df['Num_Bathrooms'].fillna(df['Num_Bathrooms'].median(), inplace=True)\n",
        "  df['Num_Beds'].fillna(df['Num_Beds'].median(), inplace=True)\n",
        "  #converting features. Justifications outlined in Initial datasets inspection\n",
        "  df = sort_Services(df, 'Services')\n",
        "  df['BER_class'] = df['BER_class'].replace(BER_class_mapper)\n",
        "  df['BER_class'].fillna(df['BER_class'].mean(), inplace=True)\n",
        "  df = onehotencode(df, 'Type', False)\n",
        "  df.fillna(0,inplace=True)\n",
        "  # a couple of extra columns added based on local features.\n",
        "  df = remove_locations_outside_Ire(df)\n",
        "  df = frame_coordinates_to_dublin_center(df)\n",
        "  try:\n",
        "    df = df[(df.price > 0)]\n",
        "  except:\n",
        "      pass\n",
        "  return df"
      ],
      "execution_count": 20,
      "outputs": []
    },
    {
      "cell_type": "code",
      "metadata": {
        "id": "gqlEk9svd550",
        "colab": {
          "base_uri": "https://localhost:8080/",
          "height": 50
        },
        "outputId": "56a786e4-11f8-4c01-ef96-14627f26409e"
      },
      "source": [
        "display(df.tail(0))"
      ],
      "execution_count": 21,
      "outputs": [
        {
          "output_type": "display_data",
          "data": {
            "text/html": [
              "<div>\n",
              "<style scoped>\n",
              "    .dataframe tbody tr th:only-of-type {\n",
              "        vertical-align: middle;\n",
              "    }\n",
              "\n",
              "    .dataframe tbody tr th {\n",
              "        vertical-align: top;\n",
              "    }\n",
              "\n",
              "    .dataframe thead th {\n",
              "        text-align: right;\n",
              "    }\n",
              "</style>\n",
              "<table border=\"1\" class=\"dataframe\">\n",
              "  <thead>\n",
              "    <tr style=\"text-align: right;\">\n",
              "      <th></th>\n",
              "      <th>Index</th>\n",
              "      <th>ID</th>\n",
              "      <th>Location</th>\n",
              "      <th>Num_Bathrooms</th>\n",
              "      <th>Num_Beds</th>\n",
              "      <th>BER_class</th>\n",
              "      <th>Description</th>\n",
              "      <th>Services</th>\n",
              "      <th>Features</th>\n",
              "      <th>Latitude</th>\n",
              "      <th>Longitude</th>\n",
              "      <th>Type</th>\n",
              "      <th>Surface</th>\n",
              "      <th>Price</th>\n",
              "    </tr>\n",
              "  </thead>\n",
              "  <tbody>\n",
              "  </tbody>\n",
              "</table>\n",
              "</div>"
            ],
            "text/plain": [
              "Empty DataFrame\n",
              "Columns: [Index, ID, Location, Num_Bathrooms, Num_Beds, BER_class, Description, Services, Features, Latitude, Longitude, Type, Surface, Price]\n",
              "Index: []"
            ]
          },
          "metadata": {}
        }
      ]
    },
    {
      "cell_type": "code",
      "metadata": {
        "id": "MdWC0Jbfc-DW",
        "colab": {
          "base_uri": "https://localhost:8080/"
        },
        "outputId": "f3b47cf0-55ca-47a7-9ead-f24a8c433409"
      },
      "source": [
        "df = treat_data(df, dropcols)"
      ],
      "execution_count": 22,
      "outputs": [
        {
          "output_type": "stream",
          "name": "stdout",
          "text": [
            "dropping Index, ID, ...\n",
            "extracting Services...\n",
            "one hot encoding Type\n",
            "removing locations outside of Ireland\n",
            "centering coordinates around dublin city center\n"
          ]
        }
      ]
    },
    {
      "cell_type": "code",
      "metadata": {
        "id": "l_MymiNFdBrN",
        "colab": {
          "base_uri": "https://localhost:8080/",
          "height": 990
        },
        "outputId": "7d17b78e-95c7-4207-87ff-491e05d1ce3b"
      },
      "source": [
        "print(df.isna().sum())\n",
        "display(sns.heatmap(df.corr()))"
      ],
      "execution_count": 23,
      "outputs": [
        {
          "output_type": "stream",
          "name": "stdout",
          "text": [
            "Location                              0\n",
            "Num_Bathrooms                         0\n",
            "Num_Beds                              0\n",
            "BER_class                             0\n",
            "Description                           0\n",
            "Features                              0\n",
            "Latitude                              0\n",
            "Longitude                             0\n",
            "Surface                               0\n",
            "Price                                 0\n",
            "Service_Alarm                         0\n",
            "Service_Gas Fired Central Heating     0\n",
            "Service_Oil Fired Central Heating     0\n",
            "Service_Parking                       0\n",
            "Service_Wheelchair Access             0\n",
            "Service_Wired for Cable Television    0\n",
            "Type_apartment                        0\n",
            "Type_bungalow                         0\n",
            "Type_detached                         0\n",
            "Type_duplex                           0\n",
            "Type_end-of-terrace                   0\n",
            "Type_semi-detached                    0\n",
            "Type_site                             0\n",
            "Type_studio                           0\n",
            "Type_terraced                         0\n",
            "Type_townhouse                        0\n",
            "Type_nan                              0\n",
            "dist_from_dub_center                  0\n",
            "dtype: int64\n"
          ]
        },
        {
          "output_type": "display_data",
          "data": {
            "text/plain": [
              "<matplotlib.axes._subplots.AxesSubplot at 0x7f12e9ff4450>"
            ]
          },
          "metadata": {}
        },
        {
          "output_type": "display_data",
          "data": {
            "image/png": "[encoded data removed]",
            "text/plain": [
              "<Figure size 432x288 with 2 Axes>"
            ]
          },
          "metadata": {
            "needs_background": "light"
          }
        }
      ]
    },
    {
      "cell_type": "code",
      "metadata": {
        "id": "KvvU3En-NL_H",
        "outputId": "aa9aa8e2-062c-49e1-a2c8-8f93f23a337f",
        "colab": {
          "base_uri": "https://localhost:8080/",
          "height": 306
        }
      },
      "source": [
        "display(df.tail(2))"
      ],
      "execution_count": 24,
      "outputs": [
        {
          "output_type": "display_data",
          "data": {
            "text/html": [
              "<div>\n",
              "<style scoped>\n",
              "    .dataframe tbody tr th:only-of-type {\n",
              "        vertical-align: middle;\n",
              "    }\n",
              "\n",
              "    .dataframe tbody tr th {\n",
              "        vertical-align: top;\n",
              "    }\n",
              "\n",
              "    .dataframe thead th {\n",
              "        text-align: right;\n",
              "    }\n",
              "</style>\n",
              "<table border=\"1\" class=\"dataframe\">\n",
              "  <thead>\n",
              "    <tr style=\"text-align: right;\">\n",
              "      <th></th>\n",
              "      <th>Location</th>\n",
              "      <th>Num_Bathrooms</th>\n",
              "      <th>Num_Beds</th>\n",
              "      <th>BER_class</th>\n",
              "      <th>Description</th>\n",
              "      <th>Features</th>\n",
              "      <th>Latitude</th>\n",
              "      <th>Longitude</th>\n",
              "      <th>Surface</th>\n",
              "      <th>Price</th>\n",
              "      <th>Service_Alarm</th>\n",
              "      <th>Service_Gas Fired Central Heating</th>\n",
              "      <th>Service_Oil Fired Central Heating</th>\n",
              "      <th>Service_Parking</th>\n",
              "      <th>Service_Wheelchair Access</th>\n",
              "      <th>Service_Wired for Cable Television</th>\n",
              "      <th>Type_apartment</th>\n",
              "      <th>Type_bungalow</th>\n",
              "      <th>Type_detached</th>\n",
              "      <th>Type_duplex</th>\n",
              "      <th>Type_end-of-terrace</th>\n",
              "      <th>Type_semi-detached</th>\n",
              "      <th>Type_site</th>\n",
              "      <th>Type_studio</th>\n",
              "      <th>Type_terraced</th>\n",
              "      <th>Type_townhouse</th>\n",
              "      <th>Type_nan</th>\n",
              "      <th>dist_from_dub_center</th>\n",
              "    </tr>\n",
              "  </thead>\n",
              "  <tbody>\n",
              "    <tr>\n",
              "      <th>1636</th>\n",
              "      <td>Sandymount</td>\n",
              "      <td>8</td>\n",
              "      <td>8</td>\n",
              "      <td>12.0</td>\n",
              "      <td>Holyrood Castle is a most distinctive 19th cen...</td>\n",
              "      <td>None</td>\n",
              "      <td>-0.021143</td>\n",
              "      <td>0.045125</td>\n",
              "      <td>507.0</td>\n",
              "      <td>2500000.0</td>\n",
              "      <td>0.0</td>\n",
              "      <td>0.0</td>\n",
              "      <td>0.0</td>\n",
              "      <td>0.0</td>\n",
              "      <td>0.0</td>\n",
              "      <td>0.0</td>\n",
              "      <td>0</td>\n",
              "      <td>0</td>\n",
              "      <td>1</td>\n",
              "      <td>0</td>\n",
              "      <td>0</td>\n",
              "      <td>0</td>\n",
              "      <td>0</td>\n",
              "      <td>0</td>\n",
              "      <td>0</td>\n",
              "      <td>0</td>\n",
              "      <td>0</td>\n",
              "      <td>0.002483</td>\n",
              "    </tr>\n",
              "    <tr>\n",
              "      <th>1637</th>\n",
              "      <td>Shankill</td>\n",
              "      <td>2</td>\n",
              "      <td>2</td>\n",
              "      <td>13.0</td>\n",
              "      <td>A superb opportunity awaits to acquire this be...</td>\n",
              "      <td>Turn key condition\\nWood burning stove\\nSlider...</td>\n",
              "      <td>-0.118702</td>\n",
              "      <td>0.141133</td>\n",
              "      <td>50.0</td>\n",
              "      <td>370000.0</td>\n",
              "      <td>0.0</td>\n",
              "      <td>0.0</td>\n",
              "      <td>0.0</td>\n",
              "      <td>0.0</td>\n",
              "      <td>0.0</td>\n",
              "      <td>0.0</td>\n",
              "      <td>0</td>\n",
              "      <td>0</td>\n",
              "      <td>0</td>\n",
              "      <td>0</td>\n",
              "      <td>0</td>\n",
              "      <td>1</td>\n",
              "      <td>0</td>\n",
              "      <td>0</td>\n",
              "      <td>0</td>\n",
              "      <td>0</td>\n",
              "      <td>0</td>\n",
              "      <td>0.034009</td>\n",
              "    </tr>\n",
              "  </tbody>\n",
              "</table>\n",
              "</div>"
            ],
            "text/plain": [
              "        Location  Num_Bathrooms  ...  Type_nan  dist_from_dub_center\n",
              "1636  Sandymount              8  ...         0              0.002483\n",
              "1637    Shankill              2  ...         0              0.034009\n",
              "\n",
              "[2 rows x 28 columns]"
            ]
          },
          "metadata": {}
        }
      ]
    },
    {
      "cell_type": "markdown",
      "metadata": {
        "id": "2PMoPLlUJ1Ly"
      },
      "source": [
        "## Training & Test Data"
      ]
    },
    {
      "cell_type": "code",
      "metadata": {
        "id": "f590A0xtbQA0"
      },
      "source": [
        "X_train,X_test,y_train,y_test = train_test_split(df.drop(df[['Price']],axis=1), df[['Price']], test_size=0.3)"
      ],
      "execution_count": 116,
      "outputs": []
    },
    {
      "cell_type": "markdown",
      "metadata": {
        "id": "UjMH1CSEUA1A"
      },
      "source": [
        "### Expected Cost dataset"
      ]
    },
    {
      "cell_type": "markdown",
      "metadata": {
        "id": "G5oRiZxo2gpN"
      },
      "source": [
        "# NATURAL LANGUAGE PROCESSING"
      ]
    },
    {
      "cell_type": "markdown",
      "metadata": {
        "id": "e8s0Wi3a8yjN"
      },
      "source": [
        "Natural language processing ([NLP](https://en.wikipedia.org/wiki/Natural_language_processing)) is a subfield of linguistics, computer science, and artificial intelligence.\n",
        "\n",
        "* NLP concerned with the interactions between computers and human language.\n",
        "* In particular how to program computers to process and analyze large amounts of natural language data. \n",
        "* The goal is a computer capable of \"understanding\" the contents of documents.\n",
        "* Including the contextual nuances of the language within them. \n",
        "* The technology can then accurately extract information and insights contained in the documents.\n",
        "* As well as categorize and organize the documents themselves. "
      ]
    },
    {
      "cell_type": "markdown",
      "metadata": {
        "id": "oValFP-z2gpN"
      },
      "source": [
        "Your comments, explanation, and references here."
      ]
    },
    {
      "cell_type": "markdown",
      "metadata": {
        "id": "hKNemRseM70p"
      },
      "source": [
        "Description and Features are two columns which have potential for NLP. Though **Services** is also a text based feature, it is simply listing utilities availiable at each property, and does not illicit any descriptive or connotative language which would be useful for NLP.\n",
        "Similarly **Location** not a useful column."
      ]
    },
    {
      "cell_type": "code",
      "metadata": {
        "id": "e_WND6NP2gpN"
      },
      "source": [
        "# your code here\n",
        "nlp_df = df[['Description', 'Features', 'Price']]\n",
        "nlp_df['Descr_Featu'] = df['Description']+ ' '+df['Features']\n",
        "\n",
        "def remove_not_letters_from_col(df, col):\n",
        "  df[col] = [re.sub('[^a-zA-Z]', ' ', phrase) for phrase in df[col]]\n",
        "  return df\n",
        "\n",
        "def list_of_words(df, col):\n",
        "  return [sms.split() for sms in df[col]]\n",
        "\n",
        "\n",
        "# function to normalize words\n",
        "def normalize(words, stemmer, stop):\n",
        "  normalized_words = list()\n",
        "  for word in words:\n",
        "    # remove  the most common words\n",
        "    if word.lower() not in stop: \n",
        "      # stemming\n",
        "      new_word = stemmer.stem(word) \n",
        "      # lower case\n",
        "      normalized_words.append(new_word.lower()) \n",
        "  return normalized_words\n",
        "\n",
        "def normalize_words(words):\n",
        "  nltk.download('stopwords')\n",
        "  stop = set(stopwords.words('english'))\n",
        "  stemmer = SnowballStemmer('english', ignore_stopwords=False)\n",
        "  return [normalize(word, stemmer, stop) for word in words]\n",
        "\n",
        "def removing_stopwords_and_stemming(df, col):\n",
        "  df = remove_not_letters_from_col(df, col)\n",
        "  col_words = list_of_words(df, col)\n",
        "  return df, col_words\n",
        "\n",
        "def removing_short_words(df, col, short_word = 4):\n",
        "  df[col] = df[col].apply(lambda x: ' '.join([w for w in x.split() if len(w)>short_word]))\n",
        "  return df\n",
        "\n",
        "def update_col_with_normd_words(df, col, col_words_norm):\n",
        "  df[col] = [\" \".join(word) for word in col_words_norm]\n",
        "  return df\n",
        "\n",
        "def nlp_preprocessing(df, col):\n",
        "  df, col_words = removing_stopwords_and_stemming(df, col)\n",
        "  col_words_norm = normalize_words(col_words)\n",
        "  df = update_col_with_normd_words(df, col, col_words_norm)\n",
        "  df = removing_short_words(df, col)\n",
        "  return df"
      ],
      "execution_count": 133,
      "outputs": []
    },
    {
      "cell_type": "code",
      "metadata": {
        "id": "GobkLyrqkPgE"
      },
      "source": [
        "# nlp_df = nlp_preprocessing(nlp_df, 'Description')"
      ],
      "execution_count": 134,
      "outputs": []
    },
    {
      "cell_type": "code",
      "metadata": {
        "id": "i2asAd5bpiER"
      },
      "source": [
        "# nlp_df = nlp_preprocessing(nlp_df, 'Features')"
      ],
      "execution_count": 135,
      "outputs": []
    },
    {
      "cell_type": "code",
      "metadata": {
        "id": "u4pIumJ_wq1D",
        "outputId": "0b3b916f-99a8-4881-bd7d-064d2bb0d703",
        "colab": {
          "base_uri": "https://localhost:8080/",
          "height": 166
        }
      },
      "source": [
        "nlp_df = nlp_preprocessing(nlp_df, 'Descr_Featu')\n",
        "display(nlp_df['Descr_Featu'].tail())"
      ],
      "execution_count": 136,
      "outputs": [
        {
          "output_type": "stream",
          "name": "stdout",
          "text": [
            "[nltk_data] Downloading package stopwords to /root/nltk_data...\n",
            "[nltk_data]   Package stopwords is already up-to-date!\n"
          ]
        },
        {
          "output_type": "display_data",
          "data": {
            "text/plain": [
              "1633    built stradbrook delight bedroom doubl front c...\n",
              "1634    impress three stori famili superbl locat newto...\n",
              "1635    lucan estat agent delight present esker bedroo...\n",
              "1636    holyrood castl distinct centuri storey basemen...\n",
              "1637    superb opportun await acquir beauti bijou cott...\n",
              "Name: Descr_Featu, dtype: object"
            ]
          },
          "metadata": {}
        }
      ]
    },
    {
      "cell_type": "markdown",
      "metadata": {
        "id": "zFxisvPOsRV-"
      },
      "source": [
        "## [TfidfVectorizer](https://scikit-learn.org/stable/modules/generated/sklearn.feature_extraction.text.TfidfVectorizer.html)\n",
        "- Convert a collection of raw documents to a matrix of TF-IDF features."
      ]
    },
    {
      "cell_type": "code",
      "metadata": {
        "id": "-j8ou6_JsMPu"
      },
      "source": [
        "from sklearn.feature_extraction.text import TfidfVectorizer\n",
        "from imblearn.combine import SMOTETomek \n",
        "\n",
        "vectorizer = TfidfVectorizer(stop_words='english', max_features= 300, max_df=0.5, smooth_idf=True)\n",
        "# print(vectorizer)\n",
        "X = vectorizer.fit_transform(nlp_df['Descr_Featu'])\n",
        "y = nlp_df['Price']\n",
        "smk= SMOTETomek()\n",
        "\n"
      ],
      "execution_count": 137,
      "outputs": []
    },
    {
      "cell_type": "code",
      "metadata": {
        "id": "NoVXlsYutC6O",
        "outputId": "ca9549a4-a31d-4020-f8dd-c472f9b58b04",
        "colab": {
          "base_uri": "https://localhost:8080/",
          "height": 298
        }
      },
      "source": [
        "X_train, X_test, y_train, y_test = train_test_split(X, y, test_size = 0.20, random_state = 0)\n",
        "\n",
        "# X_bal, y_bal = smk.fit_sample(X, y)\n",
        "display(sns.countplot(y))"
      ],
      "execution_count": 140,
      "outputs": [
        {
          "output_type": "display_data",
          "data": {
            "text/plain": [
              "<matplotlib.axes._subplots.AxesSubplot at 0x7f12d2e51910>"
            ]
          },
          "metadata": {}
        },
        {
          "output_type": "display_data",
          "data": {
            "image/png": "[encoded data removed]",
            "text/plain": [
              "<Figure size 432x288 with 1 Axes>"
            ]
          },
          "metadata": {
            "needs_background": "light"
          }
        }
      ]
    },
    {
      "cell_type": "code",
      "metadata": {
        "id": "4CzbqzIpzM3R",
        "outputId": "f7c1be22-6a5b-4481-8dd2-827d1788e4fd",
        "colab": {
          "base_uri": "https://localhost:8080/"
        }
      },
      "source": [
        "# create a model\n",
        "MNB = MultinomialNB()\n",
        "\n",
        "# fit to data\n",
        "MNB.fit(X_train, y_train)"
      ],
      "execution_count": 141,
      "outputs": [
        {
          "output_type": "execute_result",
          "data": {
            "text/plain": [
              "MultinomialNB(alpha=1.0, class_prior=None, fit_prior=True)"
            ]
          },
          "metadata": {},
          "execution_count": 141
        }
      ]
    },
    {
      "cell_type": "code",
      "metadata": {
        "id": "F7a9WF5KzSp4",
        "outputId": "89808a96-e906-4649-e8ec-5466e71fa67b",
        "colab": {
          "base_uri": "https://localhost:8080/"
        }
      },
      "source": [
        "# testing the model\n",
        "\n",
        "prediction_train = MNB.predict(X_train)\n",
        "print('training prediction\\t', prediction_train)\n",
        "\n",
        "prediction_test = MNB.predict(X_test)\n",
        "print('test prediction\\t\\t', prediction_test)"
      ],
      "execution_count": 142,
      "outputs": [
        {
          "output_type": "stream",
          "name": "stdout",
          "text": [
            "training prediction\t [325000. 325000. 395000. ... 350000. 325000. 295000.]\n",
            "test prediction\t\t [395000. 325000. 325000. 250000. 350000. 325000. 395000. 350000. 450000.\n",
            " 350000. 450000. 350000. 350000. 325000. 350000. 595000. 325000. 395000.\n",
            " 350000. 450000. 350000. 350000. 350000. 395000. 350000. 350000. 395000.\n",
            " 395000. 395000. 395000. 350000. 395000. 450000. 395000. 350000. 325000.\n",
            " 395000. 325000. 395000. 350000. 350000. 395000. 395000. 475000. 350000.\n",
            " 325000. 295000. 375000. 325000. 350000. 350000. 350000. 375000. 295000.\n",
            " 295000. 395000. 395000. 350000. 375000. 350000. 325000. 350000. 350000.\n",
            " 375000. 325000. 295000. 350000. 350000. 250000. 450000. 295000. 350000.\n",
            " 375000. 325000. 350000. 395000. 395000. 395000. 395000. 495000. 350000.\n",
            " 450000. 325000. 395000. 350000. 325000. 350000. 595000. 395000. 395000.\n",
            " 350000. 350000. 595000. 350000. 325000. 450000. 250000. 350000. 595000.\n",
            " 450000. 495000. 395000. 325000. 325000. 350000. 350000. 350000. 325000.\n",
            " 450000. 395000. 350000. 395000. 350000. 325000. 450000. 495000. 395000.\n",
            " 395000. 395000. 350000. 395000. 295000. 350000. 395000. 395000. 250000.\n",
            " 350000. 325000. 395000. 395000. 350000. 350000. 395000. 395000. 350000.\n",
            " 450000. 350000. 250000. 395000. 350000. 250000. 350000. 395000. 450000.\n",
            " 395000. 325000. 325000. 595000. 475000. 350000. 350000. 395000. 395000.\n",
            " 350000. 325000. 350000. 350000. 350000. 395000. 395000. 350000. 450000.\n",
            " 450000. 395000. 350000. 350000. 350000. 395000. 450000. 495000. 395000.\n",
            " 395000. 295000. 475000. 350000. 395000. 395000. 395000. 350000. 250000.\n",
            " 395000. 350000. 350000. 350000. 350000. 295000. 395000. 350000. 325000.\n",
            " 325000. 395000. 450000. 450000. 325000. 325000. 325000. 350000. 250000.\n",
            " 325000. 395000. 395000. 350000. 395000. 325000. 395000. 350000. 450000.\n",
            " 350000. 450000. 350000. 350000. 395000. 395000. 395000. 250000. 350000.\n",
            " 350000. 450000. 395000. 295000. 350000. 250000. 350000. 395000. 395000.\n",
            " 325000. 395000. 395000. 395000. 350000. 450000. 325000. 395000. 325000.\n",
            " 350000. 350000. 395000. 350000. 250000. 350000. 395000. 395000. 325000.\n",
            " 395000. 395000. 395000. 450000. 325000. 395000. 350000. 325000. 350000.\n",
            " 595000. 450000. 350000. 350000. 295000. 395000. 250000. 395000. 395000.\n",
            " 375000. 395000. 395000. 450000. 395000. 395000. 395000. 295000. 325000.\n",
            " 325000. 350000. 475000. 325000. 450000. 295000. 350000. 295000. 325000.\n",
            " 250000. 450000. 350000. 325000. 375000. 325000. 325000. 350000. 350000.\n",
            " 450000. 295000. 295000. 325000. 395000. 350000. 395000. 350000. 350000.\n",
            " 350000. 450000. 395000. 450000. 395000. 295000. 295000. 395000. 350000.\n",
            " 395000. 350000. 350000. 450000. 395000. 375000. 395000. 395000. 325000.\n",
            " 350000. 325000. 350000. 295000. 325000. 325000. 450000. 395000. 325000.\n",
            " 395000. 450000. 325000. 325000. 325000. 395000. 325000. 325000. 395000.\n",
            " 350000. 450000. 595000. 450000. 375000. 350000. 350000. 350000. 350000.\n",
            " 395000. 495000. 595000. 350000. 325000. 350000. 295000. 395000. 395000.\n",
            " 495000. 395000. 325000. 450000. 395000. 450000. 350000. 395000. 395000.\n",
            " 350000. 395000. 295000. 395000. 350000. 375000. 350000. 395000. 350000.\n",
            " 395000. 250000. 325000. 375000. 395000. 295000. 395000. 350000. 395000.\n",
            " 325000. 395000. 325000. 350000. 325000. 350000. 325000. 325000. 325000.\n",
            " 350000. 350000. 295000. 395000. 395000. 350000. 350000. 395000. 350000.\n",
            " 250000. 350000. 350000. 375000. 395000. 395000. 395000. 325000. 450000.\n",
            " 350000. 395000. 295000. 350000. 350000. 250000. 450000. 325000. 375000.\n",
            " 325000. 395000. 350000. 395000. 395000. 375000. 450000. 450000. 250000.\n",
            " 295000. 350000. 395000. 495000. 350000. 395000. 375000. 450000. 395000.\n",
            " 395000. 350000. 395000. 350000. 395000. 395000. 395000. 395000. 450000.\n",
            " 395000. 325000. 350000. 295000. 350000. 450000. 350000. 495000. 350000.\n",
            " 350000. 395000. 450000. 325000. 395000. 350000. 695000. 350000. 325000.\n",
            " 375000. 350000. 325000. 350000. 350000. 450000. 295000. 375000. 295000.]\n"
          ]
        }
      ]
    },
    {
      "cell_type": "code",
      "metadata": {
        "id": "_lzmWXuwzUL5",
        "outputId": "a22e98a4-9171-4fa5-d4bb-3878b246b375",
        "colab": {
          "base_uri": "https://localhost:8080/"
        }
      },
      "source": [
        "np.set_printoptions(suppress=True)\n",
        "\n",
        "#  probabilities in test\n",
        "class_prob = MNB.predict_proba(X_test)\n",
        "print(class_prob)"
      ],
      "execution_count": 143,
      "outputs": [
        {
          "output_type": "stream",
          "name": "stdout",
          "text": [
            "[[0.00045125 0.00044163 0.00048226 ... 0.00047891 0.00043741 0.00042507]\n",
            " [0.00041    0.00034751 0.0003908  ... 0.00047137 0.0003633  0.00036537]\n",
            " [0.00044911 0.00046787 0.00048719 ... 0.00045177 0.00045219 0.00043367]\n",
            " ...\n",
            " [0.00044645 0.00042982 0.00043949 ... 0.00045988 0.00041243 0.00042813]\n",
            " [0.00047744 0.00043958 0.00040843 ... 0.00046217 0.00042143 0.00039865]\n",
            " [0.00042743 0.00037095 0.0003679  ... 0.00040303 0.00037508 0.00036012]]\n"
          ]
        }
      ]
    },
    {
      "cell_type": "code",
      "metadata": {
        "id": "wRHJICB3zVbp"
      },
      "source": [
        "# show emails classified as 'spam'\n",
        "threshold = 0.5\n",
        "spam_ind = np.where(class_prob[:,1]>threshold)[0]"
      ],
      "execution_count": 144,
      "outputs": []
    },
    {
      "cell_type": "code",
      "metadata": {
        "id": "-WXGya2TzW3x",
        "outputId": "70302423-b596-42b0-c441-fe9d1cce52d6",
        "colab": {
          "base_uri": "https://localhost:8080/"
        }
      },
      "source": [
        "# accuracy in training set\n",
        "y_pred_train = prediction_train\n",
        "print(\"Train Accuracy: \"+str(accuracy_score(y_train, y_pred_train)))"
      ],
      "execution_count": 145,
      "outputs": [
        {
          "output_type": "stream",
          "name": "stdout",
          "text": [
            "Train Accuracy: 0.12346338856226617\n"
          ]
        }
      ]
    },
    {
      "cell_type": "code",
      "metadata": {
        "id": "Y9utGKlJzYCw",
        "outputId": "57b8c1b7-7834-44b3-f58f-e098b62c7129",
        "colab": {
          "base_uri": "https://localhost:8080/"
        }
      },
      "source": [
        "# accuracy in test set (unseen data)\n",
        "y_true = y_test\n",
        "y_pred_test = prediction_test\n",
        "print(\"Test Accuracy: \"+str(accuracy_score(y_true, y_pred_test)))"
      ],
      "execution_count": 146,
      "outputs": [
        {
          "output_type": "stream",
          "name": "stdout",
          "text": [
            "Test Accuracy: 0.021367521367521368\n"
          ]
        }
      ]
    },
    {
      "cell_type": "code",
      "metadata": {
        "id": "ldisOFXUzZIB",
        "outputId": "95497dcd-cf7d-48e6-9672-75381f1191b2",
        "colab": {
          "base_uri": "https://localhost:8080/"
        }
      },
      "source": [
        "# confusion matrix\n",
        "conf_mat = confusion_matrix(y_true, y_pred_test)\n",
        "print(\"Confusion Matrix\\n\", conf_mat)"
      ],
      "execution_count": 147,
      "outputs": [
        {
          "output_type": "stream",
          "name": "stdout",
          "text": [
            "Confusion Matrix\n",
            " [[0 0 0 ... 0 0 0]\n",
            " [0 0 0 ... 0 0 0]\n",
            " [0 0 0 ... 0 0 0]\n",
            " ...\n",
            " [0 0 0 ... 0 0 0]\n",
            " [0 0 0 ... 0 0 0]\n",
            " [0 0 0 ... 0 0 0]]\n"
          ]
        }
      ]
    },
    {
      "cell_type": "code",
      "metadata": {
        "id": "4FQSfn0gzbOw",
        "outputId": "daf5a6ae-39f8-4264-cf8e-1f185e9679b4",
        "colab": {
          "base_uri": "https://localhost:8080/",
          "height": 304
        }
      },
      "source": [
        "import matplotlib.pyplot as plt\n",
        "from sklearn.metrics import ConfusionMatrixDisplay\n",
        "\n",
        "labels = ['Ham','Spam']\n",
        "\n",
        "fig = plt.figure()\n",
        "ax = fig.add_subplot(111)\n",
        "cax = ax.matshow(conf_mat)\n",
        "plt.title('Confusion matrix of the classifier\\n')\n",
        "fig.colorbar(cax)\n",
        "ax.set_xticklabels([''] + labels)\n",
        "ax.set_yticklabels([''] + labels)\n",
        "plt.xlabel('Predicted')\n",
        "plt.ylabel('True')\n",
        "plt.show()"
      ],
      "execution_count": 148,
      "outputs": [
        {
          "output_type": "display_data",
          "data": {
            "image/png": "[encoded data removed]",
            "text/plain": [
              "<Figure size 432x288 with 2 Axes>"
            ]
          },
          "metadata": {
            "needs_background": "light"
          }
        }
      ]
    },
    {
      "cell_type": "markdown",
      "metadata": {
        "id": "bJFJQxAS9HZK"
      },
      "source": [
        "# PIECEWISE REGRESSION"
      ]
    },
    {
      "cell_type": "markdown",
      "metadata": {
        "id": "QkRchZtf6IV-"
      },
      "source": [
        "**Piecewise regression**, extract from [Wikipedia](https://en.wikipedia.org/wiki/Segmented_regression):\n",
        "\n",
        "Segmented regression, also known as piecewise regression or broken-stick regression, is a method in regression analysis in which the independent variable is partitioned into intervals and a separate line segment is fit to each interval. \n",
        "\n",
        "* Segmented regression analysis can also be performed on \n",
        "multivariate data by partitioning the various independent variables. \n",
        "* Segmented regression is useful when the independent variables, clustered into different groups, exhibit different relationships between the variables in these regions. \n",
        "\n",
        "* The boundaries between the segments are breakpoints.\n",
        "\n",
        "* Segmented linear regression is segmented regression whereby the relations in the intervals are obtained by linear regression. "
      ]
    },
    {
      "cell_type": "markdown",
      "metadata": {
        "id": "po84zvge2NS7"
      },
      "source": [
        "Your comments, explanation, and references here."
      ]
    },
    {
      "cell_type": "code",
      "metadata": {
        "id": "pXX7Mq2Y2NrK"
      },
      "source": [
        "# your code here"
      ],
      "execution_count": 149,
      "outputs": []
    },
    {
      "cell_type": "markdown",
      "metadata": {
        "id": "_kFgkUA85_pn"
      },
      "source": [
        "# BAYESIAN NN"
      ]
    },
    {
      "cell_type": "markdown",
      "metadata": {
        "id": "ELer5PV37ftX"
      },
      "source": [
        "A [Bayesian network](https://en.wikipedia.org/wiki/Bayesian_network) (also known as a Bayes network, Bayes net, belief network, or decision network) is a probabilistic graphical model that represents a set of variables and their conditional dependencies via a directed acyclic graph (DAG). \n",
        "\n",
        "* Bayesian networks are ideal for taking an event that occurred and predicting the likelihood that any one of several possible known causes was the contributing factor. \n",
        "* For example, a Bayesian network could represent the probabilistic relationships between diseases and symptoms. \n",
        "* Given symptoms, the network can be used to compute the probabilities of the presence of various diseases."
      ]
    },
    {
      "cell_type": "markdown",
      "metadata": {
        "id": "z0kauv1L5_po"
      },
      "source": [
        "Your comments, explanation, and references here."
      ]
    },
    {
      "cell_type": "code",
      "metadata": {
        "id": "0smpwCET5_pp"
      },
      "source": [
        "# your code here"
      ],
      "execution_count": 150,
      "outputs": []
    },
    {
      "cell_type": "markdown",
      "metadata": {
        "id": "f0GYCpwEM09T"
      },
      "source": [
        "# SUMMARY"
      ]
    },
    {
      "cell_type": "markdown",
      "metadata": {
        "id": "rBDzsZSJ7HZp"
      },
      "source": [
        "Your summary here."
      ]
    }
  ]
}