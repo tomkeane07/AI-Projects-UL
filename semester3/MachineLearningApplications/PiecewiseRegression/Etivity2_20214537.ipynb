{
  "nbformat": 4,
  "nbformat_minor": 0,
  "metadata": {
    "colab": {
      "name": "ET5003_Etivity2_template.ipynb",
      "provenance": []
    },
    "kernelspec": {
      "name": "python3",
      "display_name": "Python 3"
    },
    "language_info": {
      "name": "python"
    }
  },
  "cells": [
    {
      "cell_type": "markdown",
      "metadata": {
        "id": "930vlW5BrOtq"
      },
      "source": [
        "<div>\n",
        "<img src=\"https://drive.google.com/uc?export=view&id=1vK33e_EqaHgBHcbRV_m38hx6IkG0blK_\" width=\"350\"/>\n",
        "</div> \n",
        "\n",
        "#**Artificial Intelligence - MSc**\n",
        "##ET5003 - MACHINE LEARNING APPLICATIONS \n",
        "\n",
        "###Instructor: Enrique Naredo\n",
        "###ET5003_Etivity-2"
      ]
    },
    {
      "cell_type": "code",
      "metadata": {
        "id": "LqXD_IwUQuBF",
        "cellView": "form"
      },
      "source": [
        "#@title Current Date\n",
        "Today = '2021-08-22' #@param {type:\"date\"}\n"
      ],
      "execution_count": 52,
      "outputs": []
    },
    {
      "cell_type": "code",
      "metadata": {
        "id": "uzDKau31OjVO",
        "cellView": "form"
      },
      "source": [
        "#@markdown ---\n",
        "#@markdown ### Enter your details here:\n",
        "Student_ID = \"20214537\" #@param {type:\"string\"}\n",
        "Student_full_name = \"Tom Keane\" #@param {type:\"string\"}\n",
        "#@markdown ---"
      ],
      "execution_count": 53,
      "outputs": []
    },
    {
      "cell_type": "code",
      "metadata": {
        "id": "r39xGZckTpKx",
        "cellView": "form"
      },
      "source": [
        "#@title Notebook information\n",
        "Notebook_type = 'Example' #@param [\"Example\", \"Lab\", \"Practice\", \"Etivity\", \"Assignment\", \"Exam\"]\n",
        "Version = 'Draft' #@param [\"Draft\", \"Final\"] {type:\"raw\"}\n",
        "Submission = False #@param {type:\"boolean\"}"
      ],
      "execution_count": 54,
      "outputs": []
    },
    {
      "cell_type": "markdown",
      "metadata": {
        "id": "_A0Z6S-r6DpA"
      },
      "source": [
        "# INTRODUCTION"
      ]
    },
    {
      "cell_type": "markdown",
      "metadata": {
        "id": "QkRchZtf6IV-"
      },
      "source": [
        "**Piecewise regression**, extract from [Wikipedia](https://en.wikipedia.org/wiki/Segmented_regression):\n",
        "\n",
        "Segmented regression, also known as piecewise regression or broken-stick regression, is a method in regression analysis in which the independent variable is partitioned into intervals and a separate line segment is fit to each interval. \n",
        "\n",
        "* Segmented regression analysis can also be performed on \n",
        "multivariate data by partitioning the various independent variables. \n",
        "* Segmented regression is useful when the independent variables, clustered into different groups, exhibit different relationships between the variables in these regions. \n",
        "\n",
        "* The boundaries between the segments are breakpoints.\n",
        "\n",
        "* Segmented linear regression is segmented regression whereby the relations in the intervals are obtained by linear regression. "
      ]
    },
    {
      "cell_type": "markdown",
      "metadata": {
        "id": "aajlS0WCJ8pm"
      },
      "source": [
        "***The goal is to use advanced Machine Learning methods to predict House price.***"
      ]
    },
    {
      "cell_type": "markdown",
      "metadata": {
        "id": "Wg7VCbX77eAA"
      },
      "source": [
        "## Imports"
      ]
    },
    {
      "cell_type": "code",
      "metadata": {
        "id": "iFFLThrpwibd"
      },
      "source": [
        "# Suppressing Warnings:\n",
        "import warnings\n",
        "warnings.filterwarnings(\"ignore\")"
      ],
      "execution_count": 55,
      "outputs": []
    },
    {
      "cell_type": "code",
      "metadata": {
        "id": "d1770_fNrCWn"
      },
      "source": [
        "import pandas as pd\n",
        "import matplotlib.pyplot as plt\n",
        "import numpy as np\n",
        "import pymc3 as pm\n",
        "import arviz as az\n",
        "from sklearn.preprocessing import StandardScaler\n",
        "import seaborn as sns"
      ],
      "execution_count": 56,
      "outputs": []
    },
    {
      "cell_type": "code",
      "metadata": {
        "id": "sYPJU_Y6O6Dq"
      },
      "source": [
        "# to plot\n",
        "import matplotlib.colors\n",
        "from mpl_toolkits.mplot3d import Axes3D\n",
        "\n",
        "# to generate classification, regression and clustering datasets\n",
        "import sklearn.datasets as dt\n",
        "\n",
        "# to create data frames\n",
        "from pandas import DataFrame\n",
        "\n",
        "# to generate data from an existing dataset\n",
        "from sklearn.neighbors import KernelDensity\n",
        "from sklearn.model_selection import GridSearchCV"
      ],
      "execution_count": 57,
      "outputs": []
    },
    {
      "cell_type": "code",
      "metadata": {
        "id": "6MUJdlxSPSMM"
      },
      "source": [
        "# Define the seed so that results can be reproduced\n",
        "seed = 11\n",
        "rand_state = 11\n",
        "\n",
        "# Define the color maps for plots\n",
        "color_map = plt.cm.get_cmap('RdYlBu')\n",
        "color_map_discrete = matplotlib.colors.LinearSegmentedColormap.from_list(\"\", [\"red\",\"cyan\",\"magenta\",\"blue\"])"
      ],
      "execution_count": 58,
      "outputs": []
    },
    {
      "cell_type": "markdown",
      "metadata": {
        "id": "WL91ShB19RPw"
      },
      "source": [
        "# DATASET"
      ]
    },
    {
      "cell_type": "markdown",
      "metadata": {
        "id": "ESg5DGKWJSOf"
      },
      "source": [
        "Extract from this [paper](https://ieeexplore.ieee.org/document/9300074):\n",
        "\n",
        "* House prices are a significant impression of the economy, and its value ranges are of great concerns for the clients and property dealers. \n",
        "\n",
        "* Housing price escalate every year that eventually reinforced the need of strategy or technique that could predict house prices in future. \n",
        "\n",
        "* There are certain factors that influence house prices including physical conditions, locations, number of bedrooms and others.\n"
      ]
    },
    {
      "cell_type": "markdown",
      "metadata": {
        "id": "a8Y2pf50FlYL"
      },
      "source": [
        "1. [Download the dataset](https://github.com/UL-ET5003/ET5003_SEM1_2021-2/tree/main/Week-3). \n",
        "\n",
        "2. Upload the dataset into your folder.\n",
        "\n"
      ]
    },
    {
      "cell_type": "markdown",
      "metadata": {
        "id": "FMkdCQEmKTof"
      },
      "source": [
        "The challenge is to predict the final price of each house."
      ]
    },
    {
      "cell_type": "markdown",
      "metadata": {
        "id": "2PMoPLlUJ1Ly"
      },
      "source": [
        "## Training & Test Data"
      ]
    },
    {
      "cell_type": "code",
      "metadata": {
        "id": "loLTHklwKGnV"
      },
      "source": [
        "def import_datasets(git_link = 'https://raw.githubusercontent.com/tomkeane07/AI-Projects-UL/main/semester3/MachineLearningApplications/PiecewiseRegression'):\n",
        "  return {\n",
        "      'house_test' : pd.read_csv(git_link+'/house_test.csv'),\n",
        "      'house_train' : pd.read_csv(git_link+'/house_train.csv'),\n",
        "      'true_price'  : pd.read_csv(git_link+'/true_price.csv')}\n",
        "\n",
        "# try:\n",
        "#   dbs\n",
        "# except:\n",
        "#   dbs = import_datasets()\n",
        "dbs = import_datasets()\n",
        "\n",
        "\n",
        "# split data into training and test\n",
        "from sklearn.model_selection import train_test_split\n",
        "\n",
        "# training: 70% (0.7), test: 30% (0.3) \n",
        "# you could try any other combination \n",
        "# but consider 50% of training as the low boundary\n",
        "# X_train,X_test,y_train,y_test = train_test_split(X, y, test_size=0.3)"
      ],
      "execution_count": 59,
      "outputs": []
    },
    {
      "cell_type": "markdown",
      "metadata": {
        "id": "ztBkSZluye87"
      },
      "source": [
        "### Train dataset"
      ]
    },
    {
      "cell_type": "code",
      "metadata": {
        "id": "4rosmH4665uJ"
      },
      "source": [
        "dftest = dbs['house_test' ]\n",
        "dftrain =  dbs['house_train']\n",
        "dfcost = dbs['true_price']"
      ],
      "execution_count": 60,
      "outputs": []
    },
    {
      "cell_type": "code",
      "metadata": {
        "id": "6XUFUPABMHfF",
        "colab": {
          "base_uri": "https://localhost:8080/",
          "height": 0
        },
        "outputId": "48b909fe-fcb4-46dd-e6e5-5475c0f3a2d1"
      },
      "source": [
        "# show first data frame rows \n",
        "display(dftrain.head())"
      ],
      "execution_count": 61,
      "outputs": [
        {
          "output_type": "display_data",
          "data": {
            "text/html": [
              "<div>\n",
              "<style scoped>\n",
              "    .dataframe tbody tr th:only-of-type {\n",
              "        vertical-align: middle;\n",
              "    }\n",
              "\n",
              "    .dataframe tbody tr th {\n",
              "        vertical-align: top;\n",
              "    }\n",
              "\n",
              "    .dataframe thead th {\n",
              "        text-align: right;\n",
              "    }\n",
              "</style>\n",
              "<table border=\"1\" class=\"dataframe\">\n",
              "  <thead>\n",
              "    <tr style=\"text-align: right;\">\n",
              "      <th></th>\n",
              "      <th>ad_id</th>\n",
              "      <th>area</th>\n",
              "      <th>bathrooms</th>\n",
              "      <th>beds</th>\n",
              "      <th>ber_classification</th>\n",
              "      <th>county</th>\n",
              "      <th>description_block</th>\n",
              "      <th>environment</th>\n",
              "      <th>facility</th>\n",
              "      <th>features</th>\n",
              "      <th>latitude</th>\n",
              "      <th>longitude</th>\n",
              "      <th>no_of_units</th>\n",
              "      <th>price</th>\n",
              "      <th>property_category</th>\n",
              "      <th>property_type</th>\n",
              "      <th>surface</th>\n",
              "    </tr>\n",
              "  </thead>\n",
              "  <tbody>\n",
              "    <tr>\n",
              "      <th>0</th>\n",
              "      <td>996887</td>\n",
              "      <td>Portmarnock</td>\n",
              "      <td>NaN</td>\n",
              "      <td>NaN</td>\n",
              "      <td>NaN</td>\n",
              "      <td>Dublin</td>\n",
              "      <td>A SELECTION OF 4 AND 5 BEDROOM FAMILY HOMES LO...</td>\n",
              "      <td>prod</td>\n",
              "      <td>NaN</td>\n",
              "      <td>None</td>\n",
              "      <td>53.418216</td>\n",
              "      <td>-6.149329</td>\n",
              "      <td>18.0</td>\n",
              "      <td>NaN</td>\n",
              "      <td>new_development_parent</td>\n",
              "      <td>NaN</td>\n",
              "      <td>NaN</td>\n",
              "    </tr>\n",
              "    <tr>\n",
              "      <th>1</th>\n",
              "      <td>999327</td>\n",
              "      <td>Lucan</td>\n",
              "      <td>NaN</td>\n",
              "      <td>NaN</td>\n",
              "      <td>NaN</td>\n",
              "      <td>Dublin</td>\n",
              "      <td>**Last 2 remaining houses for sale ***\\n\\nOn v...</td>\n",
              "      <td>prod</td>\n",
              "      <td>NaN</td>\n",
              "      <td>None</td>\n",
              "      <td>53.364917</td>\n",
              "      <td>-6.454935</td>\n",
              "      <td>3.0</td>\n",
              "      <td>NaN</td>\n",
              "      <td>new_development_parent</td>\n",
              "      <td>NaN</td>\n",
              "      <td>NaN</td>\n",
              "    </tr>\n",
              "    <tr>\n",
              "      <th>2</th>\n",
              "      <td>999559</td>\n",
              "      <td>Rathfarnham</td>\n",
              "      <td>NaN</td>\n",
              "      <td>NaN</td>\n",
              "      <td>NaN</td>\n",
              "      <td>Dublin</td>\n",
              "      <td>Final 4 &amp;amp; 5 Bedroom Homes for Sale\\n\\nOn V...</td>\n",
              "      <td>prod</td>\n",
              "      <td>NaN</td>\n",
              "      <td>None</td>\n",
              "      <td>53.273447</td>\n",
              "      <td>-6.313821</td>\n",
              "      <td>3.0</td>\n",
              "      <td>NaN</td>\n",
              "      <td>new_development_parent</td>\n",
              "      <td>NaN</td>\n",
              "      <td>NaN</td>\n",
              "    </tr>\n",
              "    <tr>\n",
              "      <th>3</th>\n",
              "      <td>9102986</td>\n",
              "      <td>Balbriggan</td>\n",
              "      <td>NaN</td>\n",
              "      <td>NaN</td>\n",
              "      <td>NaN</td>\n",
              "      <td>Dublin</td>\n",
              "      <td>Glenveagh Taylor Hill, Balbriggan\\n\\n*Ideal st...</td>\n",
              "      <td>prod</td>\n",
              "      <td>NaN</td>\n",
              "      <td>None</td>\n",
              "      <td>53.608167</td>\n",
              "      <td>-6.210914</td>\n",
              "      <td>30.0</td>\n",
              "      <td>NaN</td>\n",
              "      <td>new_development_parent</td>\n",
              "      <td>NaN</td>\n",
              "      <td>NaN</td>\n",
              "    </tr>\n",
              "    <tr>\n",
              "      <th>4</th>\n",
              "      <td>9106028</td>\n",
              "      <td>Foxrock</td>\n",
              "      <td>NaN</td>\n",
              "      <td>NaN</td>\n",
              "      <td>NaN</td>\n",
              "      <td>Dublin</td>\n",
              "      <td>*New phase launching this weekend Sat &amp;amp; Su...</td>\n",
              "      <td>prod</td>\n",
              "      <td>NaN</td>\n",
              "      <td>None</td>\n",
              "      <td>53.262531</td>\n",
              "      <td>-6.181527</td>\n",
              "      <td>8.0</td>\n",
              "      <td>NaN</td>\n",
              "      <td>new_development_parent</td>\n",
              "      <td>NaN</td>\n",
              "      <td>NaN</td>\n",
              "    </tr>\n",
              "  </tbody>\n",
              "</table>\n",
              "</div>"
            ],
            "text/plain": [
              "     ad_id         area  ...  property_type  surface\n",
              "0   996887  Portmarnock  ...            NaN      NaN\n",
              "1   999327        Lucan  ...            NaN      NaN\n",
              "2   999559  Rathfarnham  ...            NaN      NaN\n",
              "3  9102986   Balbriggan  ...            NaN      NaN\n",
              "4  9106028      Foxrock  ...            NaN      NaN\n",
              "\n",
              "[5 rows x 17 columns]"
            ]
          },
          "metadata": {}
        }
      ]
    },
    {
      "cell_type": "code",
      "metadata": {
        "id": "3tOn8EBhCRW3",
        "colab": {
          "base_uri": "https://localhost:8080/",
          "height": 0
        },
        "outputId": "1c4fa311-4bd7-4cf2-af87-e6f0dd9fb22b"
      },
      "source": [
        "display(dftest.head())"
      ],
      "execution_count": 62,
      "outputs": [
        {
          "output_type": "display_data",
          "data": {
            "text/html": [
              "<div>\n",
              "<style scoped>\n",
              "    .dataframe tbody tr th:only-of-type {\n",
              "        vertical-align: middle;\n",
              "    }\n",
              "\n",
              "    .dataframe tbody tr th {\n",
              "        vertical-align: top;\n",
              "    }\n",
              "\n",
              "    .dataframe thead th {\n",
              "        text-align: right;\n",
              "    }\n",
              "</style>\n",
              "<table border=\"1\" class=\"dataframe\">\n",
              "  <thead>\n",
              "    <tr style=\"text-align: right;\">\n",
              "      <th></th>\n",
              "      <th>ad_id</th>\n",
              "      <th>area</th>\n",
              "      <th>bathrooms</th>\n",
              "      <th>beds</th>\n",
              "      <th>ber_classification</th>\n",
              "      <th>county</th>\n",
              "      <th>description_block</th>\n",
              "      <th>environment</th>\n",
              "      <th>facility</th>\n",
              "      <th>features</th>\n",
              "      <th>latitude</th>\n",
              "      <th>longitude</th>\n",
              "      <th>no_of_units</th>\n",
              "      <th>property_category</th>\n",
              "      <th>property_type</th>\n",
              "      <th>surface</th>\n",
              "    </tr>\n",
              "  </thead>\n",
              "  <tbody>\n",
              "    <tr>\n",
              "      <th>0</th>\n",
              "      <td>12373510</td>\n",
              "      <td>Skerries</td>\n",
              "      <td>2.0</td>\n",
              "      <td>4.0</td>\n",
              "      <td>G</td>\n",
              "      <td>Dublin</td>\n",
              "      <td>It's all in the name \"Island View\";. Truly won...</td>\n",
              "      <td>prod</td>\n",
              "      <td>Parking,Alarm,Oil Fired Central Heating</td>\n",
              "      <td>Breath-taking panoramic views radiate from thi...</td>\n",
              "      <td>53.566881</td>\n",
              "      <td>-6.101148</td>\n",
              "      <td>NaN</td>\n",
              "      <td>sale</td>\n",
              "      <td>bungalow</td>\n",
              "      <td>142.0</td>\n",
              "    </tr>\n",
              "    <tr>\n",
              "      <th>1</th>\n",
              "      <td>12422623</td>\n",
              "      <td>Lucan</td>\n",
              "      <td>2.0</td>\n",
              "      <td>3.0</td>\n",
              "      <td>C1</td>\n",
              "      <td>Dublin</td>\n",
              "      <td>REA McDonald - Lucan' s longest established es...</td>\n",
              "      <td>prod</td>\n",
              "      <td>NaN</td>\n",
              "      <td>Gas fired central heating.\\nDouble glazed wind...</td>\n",
              "      <td>53.362992</td>\n",
              "      <td>-6.452909</td>\n",
              "      <td>NaN</td>\n",
              "      <td>sale</td>\n",
              "      <td>terraced</td>\n",
              "      <td>114.0</td>\n",
              "    </tr>\n",
              "    <tr>\n",
              "      <th>2</th>\n",
              "      <td>12377408</td>\n",
              "      <td>Swords</td>\n",
              "      <td>3.0</td>\n",
              "      <td>4.0</td>\n",
              "      <td>B3</td>\n",
              "      <td>Dublin</td>\n",
              "      <td>REA Grimes are proud to present to the market ...</td>\n",
              "      <td>prod</td>\n",
              "      <td>NaN</td>\n",
              "      <td>Pristine condition throughout\\nHighly sought-a...</td>\n",
              "      <td>53.454198</td>\n",
              "      <td>-6.262964</td>\n",
              "      <td>NaN</td>\n",
              "      <td>sale</td>\n",
              "      <td>semi-detached</td>\n",
              "      <td>172.0</td>\n",
              "    </tr>\n",
              "    <tr>\n",
              "      <th>3</th>\n",
              "      <td>12420093</td>\n",
              "      <td>Lucan</td>\n",
              "      <td>4.0</td>\n",
              "      <td>3.0</td>\n",
              "      <td>A3</td>\n",
              "      <td>Dublin</td>\n",
              "      <td>REA McDonald, Lucan' s longest established est...</td>\n",
              "      <td>prod</td>\n",
              "      <td>NaN</td>\n",
              "      <td>A-rated home within a short walk of Lucan Vill...</td>\n",
              "      <td>53.354402</td>\n",
              "      <td>-6.458647</td>\n",
              "      <td>NaN</td>\n",
              "      <td>sale</td>\n",
              "      <td>semi-detached</td>\n",
              "      <td>132.4</td>\n",
              "    </tr>\n",
              "    <tr>\n",
              "      <th>4</th>\n",
              "      <td>12417338</td>\n",
              "      <td>Clondalkin</td>\n",
              "      <td>1.0</td>\n",
              "      <td>3.0</td>\n",
              "      <td>E2</td>\n",
              "      <td>Dublin</td>\n",
              "      <td>Hibernian Auctioneers are delighted to bring, ...</td>\n",
              "      <td>prod</td>\n",
              "      <td>Parking,Gas Fired Central Heating,Wired for Ca...</td>\n",
              "      <td>Mature Location \\nGas Heating \\nClose to Ameni...</td>\n",
              "      <td>53.336530</td>\n",
              "      <td>-6.393587</td>\n",
              "      <td>NaN</td>\n",
              "      <td>sale</td>\n",
              "      <td>semi-detached</td>\n",
              "      <td>88.0</td>\n",
              "    </tr>\n",
              "  </tbody>\n",
              "</table>\n",
              "</div>"
            ],
            "text/plain": [
              "      ad_id        area  bathrooms  ...  property_category  property_type surface\n",
              "0  12373510    Skerries        2.0  ...               sale       bungalow   142.0\n",
              "1  12422623       Lucan        2.0  ...               sale       terraced   114.0\n",
              "2  12377408      Swords        3.0  ...               sale  semi-detached   172.0\n",
              "3  12420093       Lucan        4.0  ...               sale  semi-detached   132.4\n",
              "4  12417338  Clondalkin        1.0  ...               sale  semi-detached    88.0\n",
              "\n",
              "[5 rows x 16 columns]"
            ]
          },
          "metadata": {}
        }
      ]
    },
    {
      "cell_type": "code",
      "metadata": {
        "id": "wtO72PcBVOdt",
        "colab": {
          "base_uri": "https://localhost:8080/",
          "height": 0
        },
        "outputId": "c3af4feb-842b-4888-e39f-8a13228d3db6"
      },
      "source": [
        "display(dfcost.head())"
      ],
      "execution_count": 63,
      "outputs": [
        {
          "output_type": "display_data",
          "data": {
            "text/html": [
              "<div>\n",
              "<style scoped>\n",
              "    .dataframe tbody tr th:only-of-type {\n",
              "        vertical-align: middle;\n",
              "    }\n",
              "\n",
              "    .dataframe tbody tr th {\n",
              "        vertical-align: top;\n",
              "    }\n",
              "\n",
              "    .dataframe thead th {\n",
              "        text-align: right;\n",
              "    }\n",
              "</style>\n",
              "<table border=\"1\" class=\"dataframe\">\n",
              "  <thead>\n",
              "    <tr style=\"text-align: right;\">\n",
              "      <th></th>\n",
              "      <th>Id</th>\n",
              "      <th>Expected</th>\n",
              "    </tr>\n",
              "  </thead>\n",
              "  <tbody>\n",
              "    <tr>\n",
              "      <th>0</th>\n",
              "      <td>12373510</td>\n",
              "      <td>875000.0</td>\n",
              "    </tr>\n",
              "    <tr>\n",
              "      <th>1</th>\n",
              "      <td>12422623</td>\n",
              "      <td>355000.0</td>\n",
              "    </tr>\n",
              "    <tr>\n",
              "      <th>2</th>\n",
              "      <td>12377408</td>\n",
              "      <td>440000.0</td>\n",
              "    </tr>\n",
              "    <tr>\n",
              "      <th>3</th>\n",
              "      <td>12420093</td>\n",
              "      <td>425000.0</td>\n",
              "    </tr>\n",
              "    <tr>\n",
              "      <th>4</th>\n",
              "      <td>12417338</td>\n",
              "      <td>265000.0</td>\n",
              "    </tr>\n",
              "  </tbody>\n",
              "</table>\n",
              "</div>"
            ],
            "text/plain": [
              "         Id  Expected\n",
              "0  12373510  875000.0\n",
              "1  12422623  355000.0\n",
              "2  12377408  440000.0\n",
              "3  12420093  425000.0\n",
              "4  12417338  265000.0"
            ]
          },
          "metadata": {}
        }
      ]
    },
    {
      "cell_type": "code",
      "metadata": {
        "id": "zID12_9yVfV1"
      },
      "source": [
        "### join train and test to split later\n",
        "dftest['price'] = dfcost['Expected']\n",
        "\n",
        "df = dftrain.append(dftest)"
      ],
      "execution_count": 64,
      "outputs": []
    },
    {
      "cell_type": "code",
      "metadata": {
        "id": "5rq_p-D4yLBe",
        "colab": {
          "base_uri": "https://localhost:8080/",
          "height": 0
        },
        "outputId": "33c3a397-5b4f-4d58-dd33-6f27aa077e7e"
      },
      "source": [
        "display(df.head())\n",
        "display(df.describe())\n",
        "\n",
        "print(\"missing values _ %\")\n",
        "print(df.isna().sum()* 100 / len(df))\n",
        "print(\"_________\\nunique values\")\n",
        "print(df.nunique(axis=0))"
      ],
      "execution_count": 65,
      "outputs": [
        {
          "output_type": "display_data",
          "data": {
            "text/html": [
              "<div>\n",
              "<style scoped>\n",
              "    .dataframe tbody tr th:only-of-type {\n",
              "        vertical-align: middle;\n",
              "    }\n",
              "\n",
              "    .dataframe tbody tr th {\n",
              "        vertical-align: top;\n",
              "    }\n",
              "\n",
              "    .dataframe thead th {\n",
              "        text-align: right;\n",
              "    }\n",
              "</style>\n",
              "<table border=\"1\" class=\"dataframe\">\n",
              "  <thead>\n",
              "    <tr style=\"text-align: right;\">\n",
              "      <th></th>\n",
              "      <th>ad_id</th>\n",
              "      <th>area</th>\n",
              "      <th>bathrooms</th>\n",
              "      <th>beds</th>\n",
              "      <th>ber_classification</th>\n",
              "      <th>county</th>\n",
              "      <th>description_block</th>\n",
              "      <th>environment</th>\n",
              "      <th>facility</th>\n",
              "      <th>features</th>\n",
              "      <th>latitude</th>\n",
              "      <th>longitude</th>\n",
              "      <th>no_of_units</th>\n",
              "      <th>price</th>\n",
              "      <th>property_category</th>\n",
              "      <th>property_type</th>\n",
              "      <th>surface</th>\n",
              "    </tr>\n",
              "  </thead>\n",
              "  <tbody>\n",
              "    <tr>\n",
              "      <th>0</th>\n",
              "      <td>996887</td>\n",
              "      <td>Portmarnock</td>\n",
              "      <td>NaN</td>\n",
              "      <td>NaN</td>\n",
              "      <td>NaN</td>\n",
              "      <td>Dublin</td>\n",
              "      <td>A SELECTION OF 4 AND 5 BEDROOM FAMILY HOMES LO...</td>\n",
              "      <td>prod</td>\n",
              "      <td>NaN</td>\n",
              "      <td>None</td>\n",
              "      <td>53.418216</td>\n",
              "      <td>-6.149329</td>\n",
              "      <td>18.0</td>\n",
              "      <td>NaN</td>\n",
              "      <td>new_development_parent</td>\n",
              "      <td>NaN</td>\n",
              "      <td>NaN</td>\n",
              "    </tr>\n",
              "    <tr>\n",
              "      <th>1</th>\n",
              "      <td>999327</td>\n",
              "      <td>Lucan</td>\n",
              "      <td>NaN</td>\n",
              "      <td>NaN</td>\n",
              "      <td>NaN</td>\n",
              "      <td>Dublin</td>\n",
              "      <td>**Last 2 remaining houses for sale ***\\n\\nOn v...</td>\n",
              "      <td>prod</td>\n",
              "      <td>NaN</td>\n",
              "      <td>None</td>\n",
              "      <td>53.364917</td>\n",
              "      <td>-6.454935</td>\n",
              "      <td>3.0</td>\n",
              "      <td>NaN</td>\n",
              "      <td>new_development_parent</td>\n",
              "      <td>NaN</td>\n",
              "      <td>NaN</td>\n",
              "    </tr>\n",
              "    <tr>\n",
              "      <th>2</th>\n",
              "      <td>999559</td>\n",
              "      <td>Rathfarnham</td>\n",
              "      <td>NaN</td>\n",
              "      <td>NaN</td>\n",
              "      <td>NaN</td>\n",
              "      <td>Dublin</td>\n",
              "      <td>Final 4 &amp;amp; 5 Bedroom Homes for Sale\\n\\nOn V...</td>\n",
              "      <td>prod</td>\n",
              "      <td>NaN</td>\n",
              "      <td>None</td>\n",
              "      <td>53.273447</td>\n",
              "      <td>-6.313821</td>\n",
              "      <td>3.0</td>\n",
              "      <td>NaN</td>\n",
              "      <td>new_development_parent</td>\n",
              "      <td>NaN</td>\n",
              "      <td>NaN</td>\n",
              "    </tr>\n",
              "    <tr>\n",
              "      <th>3</th>\n",
              "      <td>9102986</td>\n",
              "      <td>Balbriggan</td>\n",
              "      <td>NaN</td>\n",
              "      <td>NaN</td>\n",
              "      <td>NaN</td>\n",
              "      <td>Dublin</td>\n",
              "      <td>Glenveagh Taylor Hill, Balbriggan\\n\\n*Ideal st...</td>\n",
              "      <td>prod</td>\n",
              "      <td>NaN</td>\n",
              "      <td>None</td>\n",
              "      <td>53.608167</td>\n",
              "      <td>-6.210914</td>\n",
              "      <td>30.0</td>\n",
              "      <td>NaN</td>\n",
              "      <td>new_development_parent</td>\n",
              "      <td>NaN</td>\n",
              "      <td>NaN</td>\n",
              "    </tr>\n",
              "    <tr>\n",
              "      <th>4</th>\n",
              "      <td>9106028</td>\n",
              "      <td>Foxrock</td>\n",
              "      <td>NaN</td>\n",
              "      <td>NaN</td>\n",
              "      <td>NaN</td>\n",
              "      <td>Dublin</td>\n",
              "      <td>*New phase launching this weekend Sat &amp;amp; Su...</td>\n",
              "      <td>prod</td>\n",
              "      <td>NaN</td>\n",
              "      <td>None</td>\n",
              "      <td>53.262531</td>\n",
              "      <td>-6.181527</td>\n",
              "      <td>8.0</td>\n",
              "      <td>NaN</td>\n",
              "      <td>new_development_parent</td>\n",
              "      <td>NaN</td>\n",
              "      <td>NaN</td>\n",
              "    </tr>\n",
              "  </tbody>\n",
              "</table>\n",
              "</div>"
            ],
            "text/plain": [
              "     ad_id         area  ...  property_type  surface\n",
              "0   996887  Portmarnock  ...            NaN      NaN\n",
              "1   999327        Lucan  ...            NaN      NaN\n",
              "2   999559  Rathfarnham  ...            NaN      NaN\n",
              "3  9102986   Balbriggan  ...            NaN      NaN\n",
              "4  9106028      Foxrock  ...            NaN      NaN\n",
              "\n",
              "[5 rows x 17 columns]"
            ]
          },
          "metadata": {}
        },
        {
          "output_type": "display_data",
          "data": {
            "text/html": [
              "<div>\n",
              "<style scoped>\n",
              "    .dataframe tbody tr th:only-of-type {\n",
              "        vertical-align: middle;\n",
              "    }\n",
              "\n",
              "    .dataframe tbody tr th {\n",
              "        vertical-align: top;\n",
              "    }\n",
              "\n",
              "    .dataframe thead th {\n",
              "        text-align: right;\n",
              "    }\n",
              "</style>\n",
              "<table border=\"1\" class=\"dataframe\">\n",
              "  <thead>\n",
              "    <tr style=\"text-align: right;\">\n",
              "      <th></th>\n",
              "      <th>ad_id</th>\n",
              "      <th>bathrooms</th>\n",
              "      <th>beds</th>\n",
              "      <th>latitude</th>\n",
              "      <th>longitude</th>\n",
              "      <th>no_of_units</th>\n",
              "      <th>price</th>\n",
              "      <th>surface</th>\n",
              "    </tr>\n",
              "  </thead>\n",
              "  <tbody>\n",
              "    <tr>\n",
              "      <th>count</th>\n",
              "      <td>3.482000e+03</td>\n",
              "      <td>3431.000000</td>\n",
              "      <td>3431.000000</td>\n",
              "      <td>3482.000000</td>\n",
              "      <td>3482.000000</td>\n",
              "      <td>59.000000</td>\n",
              "      <td>3.392000e+03</td>\n",
              "      <td>2931.000000</td>\n",
              "    </tr>\n",
              "    <tr>\n",
              "      <th>mean</th>\n",
              "      <td>1.225161e+07</td>\n",
              "      <td>1.997960</td>\n",
              "      <td>2.972020</td>\n",
              "      <td>53.355998</td>\n",
              "      <td>-6.255835</td>\n",
              "      <td>7.440678</td>\n",
              "      <td>5.395296e+05</td>\n",
              "      <td>291.072169</td>\n",
              "    </tr>\n",
              "    <tr>\n",
              "      <th>std</th>\n",
              "      <td>5.396944e+05</td>\n",
              "      <td>1.266407</td>\n",
              "      <td>1.431356</td>\n",
              "      <td>0.086058</td>\n",
              "      <td>0.135572</td>\n",
              "      <td>8.937081</td>\n",
              "      <td>5.729834e+05</td>\n",
              "      <td>4000.388801</td>\n",
              "    </tr>\n",
              "    <tr>\n",
              "      <th>min</th>\n",
              "      <td>9.968870e+05</td>\n",
              "      <td>0.000000</td>\n",
              "      <td>0.000000</td>\n",
              "      <td>51.458439</td>\n",
              "      <td>-6.521183</td>\n",
              "      <td>0.000000</td>\n",
              "      <td>1.999500e+04</td>\n",
              "      <td>3.400000</td>\n",
              "    </tr>\n",
              "    <tr>\n",
              "      <th>25%</th>\n",
              "      <td>1.226969e+07</td>\n",
              "      <td>1.000000</td>\n",
              "      <td>2.000000</td>\n",
              "      <td>53.298454</td>\n",
              "      <td>-6.311559</td>\n",
              "      <td>2.000000</td>\n",
              "      <td>2.800000e+05</td>\n",
              "      <td>73.900000</td>\n",
              "    </tr>\n",
              "    <tr>\n",
              "      <th>50%</th>\n",
              "      <td>1.237778e+07</td>\n",
              "      <td>2.000000</td>\n",
              "      <td>3.000000</td>\n",
              "      <td>53.344409</td>\n",
              "      <td>-6.250564</td>\n",
              "      <td>3.000000</td>\n",
              "      <td>3.850000e+05</td>\n",
              "      <td>99.900000</td>\n",
              "    </tr>\n",
              "    <tr>\n",
              "      <th>75%</th>\n",
              "      <td>1.240319e+07</td>\n",
              "      <td>3.000000</td>\n",
              "      <td>4.000000</td>\n",
              "      <td>53.388415</td>\n",
              "      <td>-6.193062</td>\n",
              "      <td>8.000000</td>\n",
              "      <td>5.750000e+05</td>\n",
              "      <td>141.000000</td>\n",
              "    </tr>\n",
              "    <tr>\n",
              "      <th>max</th>\n",
              "      <td>1.242836e+07</td>\n",
              "      <td>18.000000</td>\n",
              "      <td>27.000000</td>\n",
              "      <td>53.630588</td>\n",
              "      <td>-1.744995</td>\n",
              "      <td>36.000000</td>\n",
              "      <td>9.995000e+06</td>\n",
              "      <td>182108.539008</td>\n",
              "    </tr>\n",
              "  </tbody>\n",
              "</table>\n",
              "</div>"
            ],
            "text/plain": [
              "              ad_id    bathrooms  ...         price        surface\n",
              "count  3.482000e+03  3431.000000  ...  3.392000e+03    2931.000000\n",
              "mean   1.225161e+07     1.997960  ...  5.395296e+05     291.072169\n",
              "std    5.396944e+05     1.266407  ...  5.729834e+05    4000.388801\n",
              "min    9.968870e+05     0.000000  ...  1.999500e+04       3.400000\n",
              "25%    1.226969e+07     1.000000  ...  2.800000e+05      73.900000\n",
              "50%    1.237778e+07     2.000000  ...  3.850000e+05      99.900000\n",
              "75%    1.240319e+07     3.000000  ...  5.750000e+05     141.000000\n",
              "max    1.242836e+07    18.000000  ...  9.995000e+06  182108.539008\n",
              "\n",
              "[8 rows x 8 columns]"
            ]
          },
          "metadata": {}
        },
        {
          "output_type": "stream",
          "name": "stdout",
          "text": [
            "missing values _ %\n",
            "ad_id                  0.000000\n",
            "area                   0.000000\n",
            "bathrooms              1.464675\n",
            "beds                   1.464675\n",
            "ber_classification    21.051120\n",
            "county                 0.000000\n",
            "description_block      0.000000\n",
            "environment            0.000000\n",
            "facility              66.858128\n",
            "features               0.000000\n",
            "latitude               0.000000\n",
            "longitude              0.000000\n",
            "no_of_units           98.305572\n",
            "price                  2.584721\n",
            "property_category      0.000000\n",
            "property_type          1.464675\n",
            "surface               15.824239\n",
            "dtype: float64\n",
            "_________\n",
            "unique values\n",
            "ad_id                 3482\n",
            "area                   157\n",
            "bathrooms               13\n",
            "beds                    15\n",
            "ber_classification      16\n",
            "county                   1\n",
            "description_block     3476\n",
            "environment              1\n",
            "facility                35\n",
            "features              2378\n",
            "latitude              3353\n",
            "longitude             3361\n",
            "no_of_units             22\n",
            "price                  373\n",
            "property_category        2\n",
            "property_type           10\n",
            "surface               1034\n",
            "dtype: int64\n"
          ]
        }
      ]
    },
    {
      "cell_type": "markdown",
      "metadata": {
        "id": "_btUyMLDfIp1"
      },
      "source": [
        "**no_of_units** can go as there is too little data there.\n",
        "\n",
        " **county**, **environment**  can also go as there's only one value for each.\n",
        " \n",
        " **area** will also have to go as it has too many values to encode\n",
        "\n",
        "facility has a lot of missing values. Though this field being missing may be valid data anyway.\n",
        "\n",
        "One-hot encoding and simple imputation can be applied to the other categories with missing values less than 25 %\n",
        "\n"
      ]
    },
    {
      "cell_type": "code",
      "metadata": {
        "id": "8Jwv4-hqbyNw"
      },
      "source": [
        "dropcols = ['no_of_units', 'county', 'environment', 'area', 'ad_id']"
      ],
      "execution_count": 66,
      "outputs": []
    },
    {
      "cell_type": "code",
      "metadata": {
        "colab": {
          "base_uri": "https://localhost:8080/"
        },
        "id": "EZlFJnCClxqO",
        "outputId": "59f467a8-b5b1-4b47-f18f-6b1fc20e54a4"
      },
      "source": [
        "print(\"\\n\\ndescription_block\")\n",
        "print(list(df.head(3)['description_block']))\n",
        "print(\"\\n\\nfacility\")\n",
        "print(list(df.head(3)['facility']))\n",
        "print(\"\\n\\nfeatures\")\n",
        "print(list(df.head(3)['features']))"
      ],
      "execution_count": 67,
      "outputs": [
        {
          "output_type": "stream",
          "name": "stdout",
          "text": [
            "\n",
            "\n",
            "description_block\n",
            "[\"A SELECTION OF 4 AND 5 BEDROOM FAMILY HOMES LOCATED BY THE SEA\\n\\nON VIEW BY APPOINTMENT ONLY\\n\\nBRAND NEW SHOW HOME\\n\\nStation Manor is a prestigious 'A' Rated development situated within walking distance of the historic village of Portmarnock. These generously sized, elegant 3, 4 &amp; 5 bedroom homes are ideally located just minutes from the sea front. \\n\\nSituated in a highly sought-after seaside village, Station Manor is an exclusive development of luxurious new homes, designed with exemplary attention to detail throughout, and offering all the relaxation and serenity of a small seaside town with the convenience of city living. \\n\\nFeatures\\n\\nPortmarnock is undoubtedly one of North Dublin's most picturesque locations, with clear views of Lambay Island and Ireland's Eye. Portmarnock is home to the famous 5 mile long stretch of white sandy beaches known as the 'Velvet Strand', which stretches all the way from Malahide to Sutton. Station Manor has this beautiful amenity right on its doorstep. \\n\\nThe development is within close proximity to both Portmarnock and Malahide villages, which host a wealth of amenities including excellent dining options, shops, schools and fantastic sports &amp; leisure facilities. The historic grounds of Malahide Castle &amp; Demesne are a short distance away with over 260 acres of estate parkland and gardens at your disposal, together with a children's playground and Avoca café. \\n\\nStation Manor is ideally located directly across from Portmarnock train station providing direct access to the city centre within 15-20 minutes via the DART commuter line. Portmarnock is also well-served by Dublin Bus with an excellent selection of routes (102, 32, 32X, 42, 42N (Nitelink) and 142). \\n\\nPortmarnock is a mere 10km away from Dublin International Airport, 15km from Dublin City Centre and a short distance from the pretty fishing village at Howth.Location:AMENITIES As well as the famous \\x93Velvet Strand\\x94 beaches, Portmarnock village also boasts two national landmarks, the Martello Tower and the Kiosk, both on the promenade.   The Outdoors The village is surrounded by golf courses on all sides, including Portmarnock Golf Club (host to a number of international professional and amateur events including the Irish Open Championships, the Walker Cup and the Irish Amateur Close Championships). There are also several active sports clubs, such as Portmarnock Tennis Club, Portmarnock A.F.C., Seaview Celtic F.C. and the Portmarnock Sport and Leisure Club. Other golf courses in the area include Malahide Golf Club, Portmarnock Golf Hotel &amp; Links (designed by Bernhard Langer) and Sutton Golf Club. With Naomh Mearnóg serving as the local Gaelic Athletic Association club, all recreational interests will be facilitated within a short distance of your home.   Dining When it comes to dining out, residents of Station Manor can enjoy a vast array of the best eateries Dublin has to offer including McHugh\\x92s Fine Dining, IL Panorama Lali\\x92s and the \\x91Jameson Bar\\x92 at the Portmarnock Links Hotel. In nearby Malahide and Howth, household names such as Avoca, Bon Appetite and Gibneys of Malahide are situated nearby alongside a range of local cafes, bistros and bars, catering to all appetites.  Shopping Portmarnock has a host of local shops bars and businesses. The Pavilions Shopping centre and Airside Retail Park are all within a short drive of Portmarnock Village \\x96 these retail centres include many world famous shopping centres, restaurants and bars.  Schools There is a wide choice of local primary and secondary schools in the area which include primary schools such as \\x96 St. Marnock's National School and St. Helen's \\x96 Portmarnock Community School is the local secondary school.\", '**Last 2 remaining houses for sale ***\\n\\nOn view Saturday from 12pm to 2pm\\n\\nRokeby Park comprises 71 large four and five bedroom detached A rated homes on an exclusive site near Lucan Village, located only moments from St. Catherine s Park and next door to Laraghcon in Lucan.\\n\\nO Flynn Capital Partners have brought all their experience to bear on the design of these stunning detached family homes. These homes designed by Hogan Architecture take maximum advantage of the large sites, the verdant setting and are built to the highest development standards including increased floor to ceiling heights, triple glazing, well-proportioned reception rooms including an attractive wood burning stove, hand-crafted shaker style kitchens and luxurious bathrooms and en-suites.\\n\\nLucan has a wide variety of shops, cafes, restaurants, bars and retail outlets. Local sports clubs include golf at the Hermitage and Lucan golf clubs. For the shopping enthusiasts there is The Liffey Valley shopping centre. Local schools include Castleknock College, Kings Hospital and Mount Sackville.\\n\\nFor further information please visit www.rokebypark.ie\\n\\nBER: A2\\nCertificates can be viewed with agent\\nEPI range 39.44 - 49.67 kwh/m2/yr', 'Final 4 &amp; 5 Bedroom Homes for Sale\\n\\nOn View Saturday and Sunday from 12pm to 2pm\\n\\nPRICES FROM 495,000\\n\\nRegister your interest on www.whitepines.ie or with Sherry FitzGerald New Homes on 01 667 1888 or Dillon Marshall New Homes on 01 496 757\\n\\nWhite Pines is a contemporary new development built by Ardstone Homes, comprising of 3, 4 &amp; 5 bedroom family homes located along Stocking Avenue in the long established suburb of Rathfarnham. \\n\\nLocated at the foothills of the Dublin Mountains, White Pines is surrounded by beautiful scenery, and is close by to both Rathfarnham and Templeogue villages home to a host of local shops, restaurants and cafes. Numerous transport links, including the bus (15 &amp; 15b) and the M50 (Exit 12) just a short drive away, means that access to all parts of Dublin city are within easy reach. \\n\\nThose who enjoy the great outdoors will not be disappointed with a choice of beautiful parks to explore, from Marlay Park to St Enda s Park, along with the picturesque mountain walks at the Hellfire Club and Massy s Wood.\\n\\nFor the sporting enthusiast, White Pines is situated near a number of highly regarded sporting clubs, including Edmondstown, Rathfarnham and Grange golf clubs, Ballyboden St. Enda s GAA Club and Templeogue Tennis Club to name just a few. \\nAlso close by are host of South Dublin s best primary and secondary schools including Saint Colmcilles National and Secondary Schools, Terenure College, Beaufort and Our Lady s Templeogue.\\n\\nIn order to register your interest in these exciting A-rated homes, please visit www.whitepines.ie or call Sherry FitzGerald on 01 667 1888. \\n\\nBER: A3 (BER numbers can be viewed on request with the Agent)']\n",
            "\n",
            "\n",
            "facility\n",
            "[nan, nan, nan]\n",
            "\n",
            "\n",
            "features\n",
            "['None', 'None', 'None']\n"
          ]
        }
      ]
    },
    {
      "cell_type": "markdown",
      "metadata": {
        "id": "TfMpe5O6DmnL"
      },
      "source": [
        "Having looked at the '**features**, I have surmised that each feature is marked by a '\\n' new line. Similarly **facilities** are listed and separated by commas - ','.\n",
        "**description_block** has too much text to treat the same way"
      ]
    },
    {
      "cell_type": "code",
      "metadata": {
        "id": "RAAPIRpZBU0X"
      },
      "source": [
        "# sns.pairplot(data=dftrain)\n",
        "# plt.show()"
      ],
      "execution_count": 68,
      "outputs": []
    },
    {
      "cell_type": "markdown",
      "metadata": {
        "id": "UjMH1CSEUA1A"
      },
      "source": [
        "### Expected Cost dataset"
      ]
    },
    {
      "cell_type": "markdown",
      "metadata": {
        "id": "fYUM6qtJ_iXV"
      },
      "source": [
        "### Data Encoding"
      ]
    },
    {
      "cell_type": "code",
      "metadata": {
        "id": "TPEvDexMAZNc"
      },
      "source": [
        "def col_to_colCount(df, col, divider):\n",
        "  #this is designed for features and facilities to convert it to a rough count\n",
        "  # of features, based on how they're typically listed in the df\n",
        "  df[col] = df[col].fillna(\"\")\n",
        "  df[col] = df[col].apply(lambda x: x.count(divider)+1)\n",
        "  return df\n",
        "\n",
        "def sort_facilities(df, col):\n",
        "  # Courtesy of Tim Hrisikos\n",
        "  df[col] = df[col].fillna(\"\")\n",
        "  df = df.join(\n",
        "      df[col].str.extractall('([^,]+)')[0].groupby(level=0).apply(pd.value_counts).unstack(fill_value=0).add_prefix('facility_')\n",
        "      )\n",
        "  df.drop('facility', axis=1, inplace=True)\n",
        "  return df\n",
        "\n",
        "ber_classification_mapper = {\n",
        "    #Thanks Nigel Portley\n",
        "    \"SINo666of2006exempt\": 1,\n",
        "    \"A1\": 2,\n",
        "    \"A2\": 3,\n",
        "    \"A3\": 4,\n",
        "    \"B1\": 5,\n",
        "    \"B2\": 6,\n",
        "    \"B3\": 7,\n",
        "    \"C1\": 8,\n",
        "    \"C2\": 9,\n",
        "    \"C3\": 10,\n",
        "    \"D1\": 11,\n",
        "    \"D2\": 12,\n",
        "    \"E1\": 13,\n",
        "    \"E2\": 14,\n",
        "    \"F\": 15,\n",
        "    \"G\": 16\n",
        "}\n",
        "\n",
        "\n",
        "property_category_mapper = {\n",
        "  \"new_development_parent\": 1,\n",
        "  \"sale\": 2,\n",
        "}\n",
        "\n",
        "def drop_cols(df, dropcols):\n",
        "  for col in dropcols:\n",
        "    df.drop(col, axis=1, inplace=True)\n",
        "  return df\n",
        "\n",
        "def onehotencode(df, col, drop_first=True):\n",
        "  return pd.get_dummies(df, columns=[col], \n",
        "                        dummy_na=True, \n",
        "                        drop_first=drop_first)\n",
        "\n",
        "def treat_data(df, dropcols = []):\n",
        "  # drops\n",
        "  df = drop_cols(df, dropcols)\n",
        "  #fillna\n",
        "  df['surface'].fillna(df['surface'].median(), inplace=True)\n",
        "  df['bathrooms'].fillna(df['bathrooms'].median(), inplace=True)\n",
        "  df['beds'].fillna(df['beds'].median(), inplace=True)\n",
        "  df['property_category'].fillna(0, inplace=True)\n",
        "  #conversions\n",
        "  df = col_to_colCount(df, 'features' ,'\\n')\n",
        "  df = sort_facilities(df, 'facility')\n",
        "  df = col_to_colCount(df, 'description_block' ,'\\n\\n')\n",
        "  df['ber_classification'] = df['ber_classification'].replace(ber_classification_mapper)\n",
        "  df['ber_classification'].fillna(df['ber_classification'].mean(), inplace=True)\n",
        "  df['property_category'] = df['property_category'].replace(property_category_mapper)\n",
        "  df.property_type = pd.get_dummies(df.property_type, columns=['property_type'], \n",
        "                        dummy_na=True, \n",
        "                        drop_first=True)\n",
        "  df.fillna(0,inplace=True)\n",
        "  # print(df)\n",
        "  try:\n",
        "    df = df[(df.price > 0)]\n",
        "  except:\n",
        "      pass\n",
        "  return df"
      ],
      "execution_count": 69,
      "outputs": []
    },
    {
      "cell_type": "code",
      "metadata": {
        "id": "xFD4TvCRVW7f",
        "colab": {
          "base_uri": "https://localhost:8080/"
        },
        "outputId": "80d89a86-1458-4be4-b992-d2df8381da84"
      },
      "source": [
        "df = treat_data(df, dropcols)\n",
        "\n",
        "X_train,X_test,y_train,y_test = train_test_split(df.drop(df[['price']],axis=1), df[['price']], test_size=0.3)\n",
        "\n",
        "print(\n",
        "    X_train.shape,\n",
        "    X_test.shape,\n",
        "    y_train.shape,\n",
        "    y_test.shape\n",
        ")"
      ],
      "execution_count": 70,
      "outputs": [
        {
          "output_type": "stream",
          "name": "stdout",
          "text": [
            "(2374, 16) (1018, 16) (2374, 1) (1018, 1)\n"
          ]
        }
      ]
    },
    {
      "cell_type": "code",
      "metadata": {
        "colab": {
          "base_uri": "https://localhost:8080/"
        },
        "id": "WbLOLw_uu303",
        "outputId": "076e5d89-f413-46ff-b102-d942b7404cda"
      },
      "source": [
        "print(df.isna().sum())\n",
        "# display(sns.heatmap(df.corr()))"
      ],
      "execution_count": 71,
      "outputs": [
        {
          "output_type": "stream",
          "name": "stdout",
          "text": [
            "bathrooms                              0\n",
            "beds                                   0\n",
            "ber_classification                     0\n",
            "description_block                      0\n",
            "features                               0\n",
            "latitude                               0\n",
            "longitude                              0\n",
            "price                                  0\n",
            "property_category                      0\n",
            "property_type                          0\n",
            "surface                                0\n",
            "facility_Alarm                         0\n",
            "facility_Gas Fired Central Heating     0\n",
            "facility_Oil Fired Central Heating     0\n",
            "facility_Parking                       0\n",
            "facility_Wheelchair Access             0\n",
            "facility_Wired for Cable Television    0\n",
            "dtype: int64\n"
          ]
        }
      ]
    },
    {
      "cell_type": "markdown",
      "metadata": {
        "id": "KRg9lCklAf9f"
      },
      "source": [
        "####Train"
      ]
    },
    {
      "cell_type": "code",
      "metadata": {
        "colab": {
          "base_uri": "https://localhost:8080/",
          "height": 413
        },
        "id": "v9eJZMrWXPwE",
        "outputId": "b05afbf9-03f2-4a84-88b1-4b03cb37d96c"
      },
      "source": [
        "display(X_train.head())\n",
        "display(y_train.head())"
      ],
      "execution_count": 72,
      "outputs": [
        {
          "output_type": "display_data",
          "data": {
            "text/html": [
              "<div>\n",
              "<style scoped>\n",
              "    .dataframe tbody tr th:only-of-type {\n",
              "        vertical-align: middle;\n",
              "    }\n",
              "\n",
              "    .dataframe tbody tr th {\n",
              "        vertical-align: top;\n",
              "    }\n",
              "\n",
              "    .dataframe thead th {\n",
              "        text-align: right;\n",
              "    }\n",
              "</style>\n",
              "<table border=\"1\" class=\"dataframe\">\n",
              "  <thead>\n",
              "    <tr style=\"text-align: right;\">\n",
              "      <th></th>\n",
              "      <th>bathrooms</th>\n",
              "      <th>beds</th>\n",
              "      <th>ber_classification</th>\n",
              "      <th>description_block</th>\n",
              "      <th>features</th>\n",
              "      <th>latitude</th>\n",
              "      <th>longitude</th>\n",
              "      <th>property_category</th>\n",
              "      <th>property_type</th>\n",
              "      <th>surface</th>\n",
              "      <th>facility_Alarm</th>\n",
              "      <th>facility_Gas Fired Central Heating</th>\n",
              "      <th>facility_Oil Fired Central Heating</th>\n",
              "      <th>facility_Parking</th>\n",
              "      <th>facility_Wheelchair Access</th>\n",
              "      <th>facility_Wired for Cable Television</th>\n",
              "    </tr>\n",
              "  </thead>\n",
              "  <tbody>\n",
              "    <tr>\n",
              "      <th>2391</th>\n",
              "      <td>1.0</td>\n",
              "      <td>3.0</td>\n",
              "      <td>10.00000</td>\n",
              "      <td>11</td>\n",
              "      <td>11</td>\n",
              "      <td>53.374202</td>\n",
              "      <td>-6.224021</td>\n",
              "      <td>2</td>\n",
              "      <td>0</td>\n",
              "      <td>75.000000</td>\n",
              "      <td>0.0</td>\n",
              "      <td>0.0</td>\n",
              "      <td>0.0</td>\n",
              "      <td>0.0</td>\n",
              "      <td>0.0</td>\n",
              "      <td>0.0</td>\n",
              "    </tr>\n",
              "    <tr>\n",
              "      <th>110</th>\n",
              "      <td>0.0</td>\n",
              "      <td>0.0</td>\n",
              "      <td>10.69116</td>\n",
              "      <td>4</td>\n",
              "      <td>5</td>\n",
              "      <td>53.346284</td>\n",
              "      <td>-6.282482</td>\n",
              "      <td>2</td>\n",
              "      <td>0</td>\n",
              "      <td>445.154206</td>\n",
              "      <td>0.0</td>\n",
              "      <td>0.0</td>\n",
              "      <td>0.0</td>\n",
              "      <td>0.0</td>\n",
              "      <td>0.0</td>\n",
              "      <td>0.0</td>\n",
              "    </tr>\n",
              "    <tr>\n",
              "      <th>239</th>\n",
              "      <td>2.0</td>\n",
              "      <td>2.0</td>\n",
              "      <td>8.00000</td>\n",
              "      <td>4</td>\n",
              "      <td>5</td>\n",
              "      <td>53.282524</td>\n",
              "      <td>-6.439625</td>\n",
              "      <td>2</td>\n",
              "      <td>0</td>\n",
              "      <td>84.000000</td>\n",
              "      <td>0.0</td>\n",
              "      <td>2.0</td>\n",
              "      <td>0.0</td>\n",
              "      <td>1.0</td>\n",
              "      <td>0.0</td>\n",
              "      <td>1.0</td>\n",
              "    </tr>\n",
              "    <tr>\n",
              "      <th>1833</th>\n",
              "      <td>1.0</td>\n",
              "      <td>1.0</td>\n",
              "      <td>15.00000</td>\n",
              "      <td>6</td>\n",
              "      <td>1</td>\n",
              "      <td>53.318720</td>\n",
              "      <td>-6.230083</td>\n",
              "      <td>2</td>\n",
              "      <td>0</td>\n",
              "      <td>41.000000</td>\n",
              "      <td>0.0</td>\n",
              "      <td>0.0</td>\n",
              "      <td>0.0</td>\n",
              "      <td>0.0</td>\n",
              "      <td>0.0</td>\n",
              "      <td>0.0</td>\n",
              "    </tr>\n",
              "    <tr>\n",
              "      <th>399</th>\n",
              "      <td>2.0</td>\n",
              "      <td>5.0</td>\n",
              "      <td>12.00000</td>\n",
              "      <td>6</td>\n",
              "      <td>6</td>\n",
              "      <td>53.276491</td>\n",
              "      <td>-6.251348</td>\n",
              "      <td>2</td>\n",
              "      <td>0</td>\n",
              "      <td>138.000000</td>\n",
              "      <td>0.0</td>\n",
              "      <td>1.0</td>\n",
              "      <td>0.0</td>\n",
              "      <td>2.0</td>\n",
              "      <td>0.0</td>\n",
              "      <td>0.0</td>\n",
              "    </tr>\n",
              "  </tbody>\n",
              "</table>\n",
              "</div>"
            ],
            "text/plain": [
              "      bathrooms  ...  facility_Wired for Cable Television\n",
              "2391        1.0  ...                                  0.0\n",
              "110         0.0  ...                                  0.0\n",
              "239         2.0  ...                                  1.0\n",
              "1833        1.0  ...                                  0.0\n",
              "399         2.0  ...                                  0.0\n",
              "\n",
              "[5 rows x 16 columns]"
            ]
          },
          "metadata": {}
        },
        {
          "output_type": "display_data",
          "data": {
            "text/html": [
              "<div>\n",
              "<style scoped>\n",
              "    .dataframe tbody tr th:only-of-type {\n",
              "        vertical-align: middle;\n",
              "    }\n",
              "\n",
              "    .dataframe tbody tr th {\n",
              "        vertical-align: top;\n",
              "    }\n",
              "\n",
              "    .dataframe thead th {\n",
              "        text-align: right;\n",
              "    }\n",
              "</style>\n",
              "<table border=\"1\" class=\"dataframe\">\n",
              "  <thead>\n",
              "    <tr style=\"text-align: right;\">\n",
              "      <th></th>\n",
              "      <th>price</th>\n",
              "    </tr>\n",
              "  </thead>\n",
              "  <tbody>\n",
              "    <tr>\n",
              "      <th>2391</th>\n",
              "      <td>350000.0</td>\n",
              "    </tr>\n",
              "    <tr>\n",
              "      <th>110</th>\n",
              "      <td>700000.0</td>\n",
              "    </tr>\n",
              "    <tr>\n",
              "      <th>239</th>\n",
              "      <td>140000.0</td>\n",
              "    </tr>\n",
              "    <tr>\n",
              "      <th>1833</th>\n",
              "      <td>300000.0</td>\n",
              "    </tr>\n",
              "    <tr>\n",
              "      <th>399</th>\n",
              "      <td>524950.0</td>\n",
              "    </tr>\n",
              "  </tbody>\n",
              "</table>\n",
              "</div>"
            ],
            "text/plain": [
              "         price\n",
              "2391  350000.0\n",
              "110   700000.0\n",
              "239   140000.0\n",
              "1833  300000.0\n",
              "399   524950.0"
            ]
          },
          "metadata": {}
        }
      ]
    },
    {
      "cell_type": "markdown",
      "metadata": {
        "id": "rxAxKXxxAibQ"
      },
      "source": [
        "####Test"
      ]
    },
    {
      "cell_type": "code",
      "metadata": {
        "id": "iS1TZAvOAkqQ",
        "colab": {
          "base_uri": "https://localhost:8080/",
          "height": 413
        },
        "outputId": "2118ece7-61ca-4d4c-c8d6-5353466ac25e"
      },
      "source": [
        "# display(dftest.describe())\n",
        "display(X_test.head())\n",
        "display(y_test.head())"
      ],
      "execution_count": 73,
      "outputs": [
        {
          "output_type": "display_data",
          "data": {
            "text/html": [
              "<div>\n",
              "<style scoped>\n",
              "    .dataframe tbody tr th:only-of-type {\n",
              "        vertical-align: middle;\n",
              "    }\n",
              "\n",
              "    .dataframe tbody tr th {\n",
              "        vertical-align: top;\n",
              "    }\n",
              "\n",
              "    .dataframe thead th {\n",
              "        text-align: right;\n",
              "    }\n",
              "</style>\n",
              "<table border=\"1\" class=\"dataframe\">\n",
              "  <thead>\n",
              "    <tr style=\"text-align: right;\">\n",
              "      <th></th>\n",
              "      <th>bathrooms</th>\n",
              "      <th>beds</th>\n",
              "      <th>ber_classification</th>\n",
              "      <th>description_block</th>\n",
              "      <th>features</th>\n",
              "      <th>latitude</th>\n",
              "      <th>longitude</th>\n",
              "      <th>property_category</th>\n",
              "      <th>property_type</th>\n",
              "      <th>surface</th>\n",
              "      <th>facility_Alarm</th>\n",
              "      <th>facility_Gas Fired Central Heating</th>\n",
              "      <th>facility_Oil Fired Central Heating</th>\n",
              "      <th>facility_Parking</th>\n",
              "      <th>facility_Wheelchair Access</th>\n",
              "      <th>facility_Wired for Cable Television</th>\n",
              "    </tr>\n",
              "  </thead>\n",
              "  <tbody>\n",
              "    <tr>\n",
              "      <th>2210</th>\n",
              "      <td>2.0</td>\n",
              "      <td>3.0</td>\n",
              "      <td>10.69116</td>\n",
              "      <td>13</td>\n",
              "      <td>5</td>\n",
              "      <td>53.455300</td>\n",
              "      <td>-6.185215</td>\n",
              "      <td>2</td>\n",
              "      <td>0</td>\n",
              "      <td>120.0</td>\n",
              "      <td>0.0</td>\n",
              "      <td>0.0</td>\n",
              "      <td>0.0</td>\n",
              "      <td>0.0</td>\n",
              "      <td>0.0</td>\n",
              "      <td>0.0</td>\n",
              "    </tr>\n",
              "    <tr>\n",
              "      <th>1258</th>\n",
              "      <td>2.0</td>\n",
              "      <td>2.0</td>\n",
              "      <td>6.00000</td>\n",
              "      <td>14</td>\n",
              "      <td>8</td>\n",
              "      <td>53.261273</td>\n",
              "      <td>-6.151613</td>\n",
              "      <td>2</td>\n",
              "      <td>0</td>\n",
              "      <td>70.0</td>\n",
              "      <td>0.0</td>\n",
              "      <td>0.0</td>\n",
              "      <td>0.0</td>\n",
              "      <td>0.0</td>\n",
              "      <td>0.0</td>\n",
              "      <td>0.0</td>\n",
              "    </tr>\n",
              "    <tr>\n",
              "      <th>1127</th>\n",
              "      <td>2.0</td>\n",
              "      <td>2.0</td>\n",
              "      <td>6.00000</td>\n",
              "      <td>12</td>\n",
              "      <td>9</td>\n",
              "      <td>53.311920</td>\n",
              "      <td>-6.249458</td>\n",
              "      <td>2</td>\n",
              "      <td>0</td>\n",
              "      <td>92.0</td>\n",
              "      <td>0.0</td>\n",
              "      <td>1.0</td>\n",
              "      <td>0.0</td>\n",
              "      <td>1.0</td>\n",
              "      <td>0.0</td>\n",
              "      <td>0.0</td>\n",
              "    </tr>\n",
              "    <tr>\n",
              "      <th>971</th>\n",
              "      <td>1.0</td>\n",
              "      <td>3.0</td>\n",
              "      <td>10.69116</td>\n",
              "      <td>13</td>\n",
              "      <td>1</td>\n",
              "      <td>53.338106</td>\n",
              "      <td>-6.392495</td>\n",
              "      <td>2</td>\n",
              "      <td>0</td>\n",
              "      <td>78.0</td>\n",
              "      <td>0.0</td>\n",
              "      <td>0.0</td>\n",
              "      <td>0.0</td>\n",
              "      <td>0.0</td>\n",
              "      <td>0.0</td>\n",
              "      <td>0.0</td>\n",
              "    </tr>\n",
              "    <tr>\n",
              "      <th>1367</th>\n",
              "      <td>0.0</td>\n",
              "      <td>0.0</td>\n",
              "      <td>10.69116</td>\n",
              "      <td>5</td>\n",
              "      <td>1</td>\n",
              "      <td>53.257135</td>\n",
              "      <td>-6.168450</td>\n",
              "      <td>2</td>\n",
              "      <td>0</td>\n",
              "      <td>99.9</td>\n",
              "      <td>0.0</td>\n",
              "      <td>0.0</td>\n",
              "      <td>0.0</td>\n",
              "      <td>0.0</td>\n",
              "      <td>0.0</td>\n",
              "      <td>0.0</td>\n",
              "    </tr>\n",
              "  </tbody>\n",
              "</table>\n",
              "</div>"
            ],
            "text/plain": [
              "      bathrooms  ...  facility_Wired for Cable Television\n",
              "2210        2.0  ...                                  0.0\n",
              "1258        2.0  ...                                  0.0\n",
              "1127        2.0  ...                                  0.0\n",
              "971         1.0  ...                                  0.0\n",
              "1367        0.0  ...                                  0.0\n",
              "\n",
              "[5 rows x 16 columns]"
            ]
          },
          "metadata": {}
        },
        {
          "output_type": "display_data",
          "data": {
            "text/html": [
              "<div>\n",
              "<style scoped>\n",
              "    .dataframe tbody tr th:only-of-type {\n",
              "        vertical-align: middle;\n",
              "    }\n",
              "\n",
              "    .dataframe tbody tr th {\n",
              "        vertical-align: top;\n",
              "    }\n",
              "\n",
              "    .dataframe thead th {\n",
              "        text-align: right;\n",
              "    }\n",
              "</style>\n",
              "<table border=\"1\" class=\"dataframe\">\n",
              "  <thead>\n",
              "    <tr style=\"text-align: right;\">\n",
              "      <th></th>\n",
              "      <th>price</th>\n",
              "    </tr>\n",
              "  </thead>\n",
              "  <tbody>\n",
              "    <tr>\n",
              "      <th>2210</th>\n",
              "      <td>475000.0</td>\n",
              "    </tr>\n",
              "    <tr>\n",
              "      <th>1258</th>\n",
              "      <td>350000.0</td>\n",
              "    </tr>\n",
              "    <tr>\n",
              "      <th>1127</th>\n",
              "      <td>570000.0</td>\n",
              "    </tr>\n",
              "    <tr>\n",
              "      <th>971</th>\n",
              "      <td>199950.0</td>\n",
              "    </tr>\n",
              "    <tr>\n",
              "      <th>1367</th>\n",
              "      <td>595000.0</td>\n",
              "    </tr>\n",
              "  </tbody>\n",
              "</table>\n",
              "</div>"
            ],
            "text/plain": [
              "         price\n",
              "2210  475000.0\n",
              "1258  350000.0\n",
              "1127  570000.0\n",
              "971   199950.0\n",
              "1367  595000.0"
            ]
          },
          "metadata": {}
        }
      ]
    },
    {
      "cell_type": "markdown",
      "metadata": {
        "id": "Ej-_PSL7-pgH"
      },
      "source": [
        "### Further inspection"
      ]
    },
    {
      "cell_type": "code",
      "metadata": {
        "id": "A_pcFwnwxTf5"
      },
      "source": [
        "# sns.pairplot(data=dftrain)\n",
        "# plt.show()"
      ],
      "execution_count": 74,
      "outputs": []
    },
    {
      "cell_type": "markdown",
      "metadata": {
        "id": "bJFJQxAS9HZK"
      },
      "source": [
        "# PIECEWISE REGRESSION"
      ]
    },
    {
      "cell_type": "markdown",
      "metadata": {
        "id": "uQ_1QsLToIDi"
      },
      "source": [
        "## Full Model"
      ]
    },
    {
      "cell_type": "code",
      "metadata": {
        "id": "VPFFOS49X5pq"
      },
      "source": [
        "# select some features columns just for the baseline model\n",
        "# assume not all of the features are informative or useful\n",
        "# in this exercise you could try all of them if possible\n",
        "\n",
        "# featrain = ['feature_1','feature_2','feature_3','cost']\n",
        "# dropna: remove missing values\n",
        "df_subset_train = X_train.dropna(axis=0)\n",
        "\n",
        "# featest = ['feature_1','feature_2','feature_3']\n",
        "df_subset_test = X_test.dropna(axis=0)"
      ],
      "execution_count": 75,
      "outputs": []
    },
    {
      "cell_type": "code",
      "metadata": {
        "colab": {
          "base_uri": "https://localhost:8080/"
        },
        "id": "QcpXcQ1nxmzc",
        "outputId": "34db99f6-0455-4407-b8ce-5bd271063215"
      },
      "source": [
        "print('Number of nan in df_subset_train dataset: ',X_train.isnull().sum().sum())\n",
        "print('Number of nan in df_subset_test dataset: ',X_test.isnull().sum().sum())"
      ],
      "execution_count": 76,
      "outputs": [
        {
          "output_type": "stream",
          "name": "stdout",
          "text": [
            "Number of nan in df_subset_train dataset:  0\n",
            "Number of nan in df_subset_test dataset:  0\n"
          ]
        }
      ]
    },
    {
      "cell_type": "code",
      "metadata": {
        "id": "kcRM50-WxuCt"
      },
      "source": [
        "# train set, input columns\n",
        "Xs_train = X_train.iloc[:,0:-1].values \n",
        "# train set, output column, cost\n",
        "ys_train = y_train.iloc[:,-1].values.reshape(-1,1)   \n",
        "\n",
        "# test set, input columns\n",
        "Xs_test = X_test.iloc[:,0:-1].values \n",
        "# test set, output column, cost\n",
        "ys_test = y_test.iloc[:,0:-1].values"
      ],
      "execution_count": 77,
      "outputs": []
    },
    {
      "cell_type": "code",
      "metadata": {
        "id": "pyFpdqV6x2BD"
      },
      "source": [
        "# StandardScaler() will normalize the features i.e. each column of X, \n",
        "# so, each column/feature/variable will have μ = 0 and σ = 1\n",
        "sc = StandardScaler()\n",
        "\n",
        "Xss_train = np.hstack([Xs_train,Xs_train[:,[2]]**2])\n",
        "xscaler = sc.fit(Xss_train)\n",
        "Xn_train = xscaler.transform(Xss_train)\n",
        "\n",
        "Xss_test = np.hstack([Xs_test,Xs_test[:,[2]]**2])\n",
        "Xn_test = xscaler.transform(Xss_test)\n",
        "\n",
        "ylog = np.log(ys_train.astype('float'))\n",
        "yscaler = StandardScaler().fit(ylog)\n",
        "yn_train = yscaler.transform(ylog)"
      ],
      "execution_count": 78,
      "outputs": []
    },
    {
      "cell_type": "code",
      "metadata": {
        "id": "Yv5j1KzzMUnm"
      },
      "source": [
        "# # select some features columns just for the baseline model\n",
        "# # assume not all of the features are informative or useful\n",
        "# # in this exercise you could try all of them if possible\n",
        "\n",
        "# featrain = ['latitude', 'longitude', 'bathrooms', 'beds', 'surface']\n",
        "# # dropna: remove missing values\n",
        "# df_subset_train = dftrain[featrain].dropna(axis=0)\n",
        "\n",
        "# featest = featrain\n",
        "# df_subset_test  =  dftest[featest].dropna(axis=0)\n",
        "\n",
        "# # cost\n",
        "# dfcost = dfcost[dfcost.index.isin(df_subset_test.index)]"
      ],
      "execution_count": 79,
      "outputs": []
    },
    {
      "cell_type": "code",
      "metadata": {
        "id": "PZK2kfygoIDi",
        "colab": {
          "base_uri": "https://localhost:8080/",
          "height": 304
        },
        "outputId": "90e0e956-64dc-4117-a4bf-91e71457f951"
      },
      "source": [
        "# model\n",
        "with pm.Model() as model:\n",
        "    #prior over the parameters of linear regression\n",
        "    alpha = pm.Normal('alpha', mu=0, sigma=30)\n",
        "    #we have one beta for each column of Xn\n",
        "    beta = pm.Normal('beta', mu=0, sigma=30, shape=Xn_train.shape[1])\n",
        "    #prior over the variance of the noise\n",
        "    sigma = pm.HalfCauchy('sigma_n', 5)\n",
        "    #linear regression model in matrix form\n",
        "    mu = alpha + pm.math.dot(beta, Xn_train.T)\n",
        "    #likelihood, be sure that observed is a 1d vector\n",
        "    like = pm.Normal('like', mu=mu, sigma=sigma, observed=yn_train[:,0])\n",
        "\n",
        "    \n",
        "\n",
        "#number of iterations of the algorithms\n",
        "iter = 50000 \n",
        "\n",
        "# run the model\n",
        "with model:\n",
        "    approximation = pm.fit(iter,method='advi')\n",
        "    \n",
        "# check the convergence\n",
        "plt.plot(approximation.hist);    "
      ],
      "execution_count": 80,
      "outputs": [
        {
          "output_type": "display_data",
          "data": {
            "text/html": [
              "\n",
              "    <div>\n",
              "        <style>\n",
              "            /* Turns off some styling */\n",
              "            progress {\n",
              "                /* gets rid of default border in Firefox and Opera. */\n",
              "                border: none;\n",
              "                /* Needs to be in here for Safari polyfill so background images work as expected. */\n",
              "                background-size: auto;\n",
              "            }\n",
              "            .progress-bar-interrupted, .progress-bar-interrupted::-webkit-progress-bar {\n",
              "                background: #F44336;\n",
              "            }\n",
              "        </style>\n",
              "      <progress value='50000' class='' max='50000' style='width:300px; height:20px; vertical-align: middle;'></progress>\n",
              "      100.00% [50000/50000 00:13<00:00 Average Loss = 2,658.7]\n",
              "    </div>\n",
              "    "
            ],
            "text/plain": [
              "<IPython.core.display.HTML object>"
            ]
          },
          "metadata": {}
        },
        {
          "output_type": "stream",
          "name": "stderr",
          "text": [
            "Finished [100%]: Average Loss = 2,658.7\n"
          ]
        },
        {
          "output_type": "display_data",
          "data": {
            "image/png": "[encoded data removed]",
            "text/plain": [
              "<Figure size 432x288 with 1 Axes>"
            ]
          },
          "metadata": {
            "needs_background": "light"
          }
        }
      ]
    },
    {
      "cell_type": "code",
      "metadata": {
        "id": "cIskuS3ToIDk",
        "colab": {
          "base_uri": "https://localhost:8080/"
        },
        "outputId": "d3a7c34e-a627-4365-b7f0-cbd6a70b5123"
      },
      "source": [
        "# samples from the posterior\n",
        "posterior = approximation.sample(5000)\n",
        "\n",
        "# prediction\n",
        "ll=np.mean(posterior['alpha']) + np.dot(np.mean(posterior['beta'],axis=0), Xn_test.T)\n",
        "y_pred_BLR = np.exp(yscaler.inverse_transform(ll.reshape(-1,1)))[:,0]\n",
        "print(\"MAE = \",(np.mean(abs(y_pred_BLR - y_test.price.values))))\n",
        "print(\"MAPE = \",(np.mean(abs(y_pred_BLR - y_test.price.values) / y_test.price.values)))"
      ],
      "execution_count": 81,
      "outputs": [
        {
          "output_type": "stream",
          "name": "stdout",
          "text": [
            "MAE =  200745.5989722096\n",
            "MAPE =  0.3112187123044911\n"
          ]
        }
      ]
    },
    {
      "cell_type": "markdown",
      "metadata": {
        "id": "q_jBBKvtoIDk"
      },
      "source": [
        "## Clustering"
      ]
    },
    {
      "cell_type": "markdown",
      "metadata": {
        "id": "VYFvbgYDaEOS"
      },
      "source": [
        "### Full Model"
      ]
    },
    {
      "cell_type": "code",
      "metadata": {
        "id": "iphQ53UE0iVw",
        "colab": {
          "base_uri": "https://localhost:8080/",
          "height": 284
        },
        "outputId": "22dc3f3c-d7b2-445a-c009-9a63fec9d2ba"
      },
      "source": [
        "# training gaussian mixture model \n",
        "from sklearn.mixture import GaussianMixture\n",
        "\n",
        "gmm = GaussianMixture(n_components=4)\n",
        "\n",
        "# training gaussian mixture model \n",
        "from sklearn.mixture import GaussianMixture\n",
        "\n",
        "gmm = GaussianMixture(n_components=4)\n",
        "# clustering by features 1, 2\n",
        "ind=[0,1]\n",
        "X_ind = np.vstack([Xn_train[:,ind],Xn_test[:,ind]])\n",
        "# Gaussian Mixture\n",
        "gmm.fit(X_ind)\n",
        "# plot blue dots\n",
        "plt.scatter(X_ind[:,0],X_ind[:,1])\n",
        "# centroids:  orange dots\n",
        "plt.scatter(gmm.means_[:,0],gmm.means_[:,1])"
      ],
      "execution_count": 82,
      "outputs": [
        {
          "output_type": "execute_result",
          "data": {
            "text/plain": [
              "<matplotlib.collections.PathCollection at 0x7f5793860790>"
            ]
          },
          "metadata": {},
          "execution_count": 82
        },
        {
          "output_type": "display_data",
          "data": {
            "image/png": "[encoded data removed]",
            "text/plain": [
              "<Figure size 432x288 with 1 Axes>"
            ]
          },
          "metadata": {
            "needs_background": "light"
          }
        }
      ]
    },
    {
      "cell_type": "markdown",
      "metadata": {
        "id": "h51OhBV5Z4tY"
      },
      "source": [
        "### Clusters"
      ]
    },
    {
      "cell_type": "code",
      "metadata": {
        "id": "vNvx_KxrLt90",
        "colab": {
          "base_uri": "https://localhost:8080/"
        },
        "outputId": "1639ca78-aa9e-4a56-9781-4ae4b78b5943"
      },
      "source": [
        "# train clusters\n",
        "\n",
        "# train clusters\n",
        "clusters_train = gmm.predict(Xn_train[:,ind])\n",
        "unique_train, counts_train = np.unique(clusters_train, return_counts=True)\n",
        "dict(zip(unique_train, counts_train))"
      ],
      "execution_count": 84,
      "outputs": [
        {
          "output_type": "execute_result",
          "data": {
            "text/plain": [
              "{0: 1726, 1: 556, 2: 89, 3: 3}"
            ]
          },
          "metadata": {},
          "execution_count": 84
        }
      ]
    },
    {
      "cell_type": "code",
      "metadata": {
        "id": "-wTT4220zFNx",
        "colab": {
          "base_uri": "https://localhost:8080/"
        },
        "outputId": "22e12676-a90e-44b5-8d55-b396b16dff1b"
      },
      "source": [
        "# test clusters\n",
        "clusters_test = gmm.predict(Xn_test[:,ind])\n",
        "unique_test, counts_test = np.unique(clusters_test, return_counts=True)\n",
        "dict(zip(unique_test, counts_test))"
      ],
      "execution_count": 85,
      "outputs": [
        {
          "output_type": "execute_result",
          "data": {
            "text/plain": [
              "{0: 761, 1: 227, 2: 29, 3: 1}"
            ]
          },
          "metadata": {},
          "execution_count": 85
        }
      ]
    },
    {
      "cell_type": "code",
      "metadata": {
        "id": "wIdbOZQeEzRv"
      },
      "source": [
        "# cluster 0\n",
        "Xn0 = Xn_train[clusters_train==0,:]\n",
        "Xtestn0 = Xn_test[clusters_test==0,:]\n",
        "\n",
        "ylog0 = np.log(ys_train.astype('float')[clusters_train==0,:])\n",
        "yscaler0 = StandardScaler().fit(ylog0)\n",
        "yn0 = yscaler0.transform(ylog0)"
      ],
      "execution_count": 86,
      "outputs": []
    },
    {
      "cell_type": "code",
      "metadata": {
        "id": "IuQl5lk3EHVG"
      },
      "source": [
        "# cluster 1\n",
        "Xn1 = Xn_train[clusters_train==1,:]\n",
        "Xtestn1 = Xn_test[clusters_test==1,:]\n",
        "ylog1 = np.log(ys_train.astype('float')[clusters_train==1,:])\n",
        "yscaler1 = StandardScaler().fit(ylog1)\n",
        "yn1 = yscaler1.transform(ylog1)\n"
      ],
      "execution_count": 87,
      "outputs": []
    },
    {
      "cell_type": "code",
      "metadata": {
        "id": "kA5s3YseEHae"
      },
      "source": [
        "# cluster 2\n",
        "Xn2 = Xn_train[clusters_train==2,:]\n",
        "Xtestn2 = Xn_test[clusters_test==2,:]\n",
        "ylog2 = np.log(ys_train.astype('float')[clusters_train==2,:])\n",
        "yscaler2 = StandardScaler().fit(ylog2)\n",
        "yn2 = yscaler2.transform(ylog2)"
      ],
      "execution_count": 88,
      "outputs": []
    },
    {
      "cell_type": "code",
      "metadata": {
        "id": "H2nHtUPzEHfa"
      },
      "source": [
        "# cluster 3\n",
        "Xn3 = Xn_train[clusters_train==3,:]\n",
        "Xtestn3 = Xn_test[clusters_test==3,:]\n",
        "ylog3 = np.log(ys_train.astype('float')[clusters_train==3,:])\n",
        "yscaler3 = StandardScaler().fit(ylog3)\n",
        "yn3 = yscaler3.transform(ylog3)"
      ],
      "execution_count": 89,
      "outputs": []
    },
    {
      "cell_type": "markdown",
      "metadata": {
        "id": "dXF25ZDYoIDl"
      },
      "source": [
        "## Piecewise Model"
      ]
    },
    {
      "cell_type": "code",
      "metadata": {
        "id": "N1e-4ruvaJci",
        "colab": {
          "base_uri": "https://localhost:8080/",
          "height": 56
        },
        "outputId": "2913849e-3c18-4167-d8b5-7174023359e4"
      },
      "source": [
        "# model_0\n",
        "with pm.Model() as model_0:\n",
        "  # prior over the parameters of linear regression\n",
        "  alpha = pm.Normal('alpha', mu=0, sigma=30)\n",
        "  # we have a beta for each column of Xn0\n",
        "  beta = pm.Normal('beta', mu=0, sigma=30, shape=Xn0.shape[1])\n",
        "  # prior over the variance of the noise\n",
        "  sigma = pm.HalfCauchy('sigma_n', 5)\n",
        "  # linear regression relationship\n",
        "  #linear regression model in matrix form\n",
        "  mu = alpha + pm.math.dot(beta, Xn0.T)\n",
        "  # likelihood, be sure that observed is a 1d vector\n",
        "  like = pm.Normal('like', mu=mu, sigma=sigma, observed=yn0[:,0])\n",
        "\n",
        "with model_0:\n",
        "  # iterations of the algorithm\n",
        "  approximation = pm.fit(40000,method='advi')\n",
        "\n",
        "# samples from the posterior   \n",
        "posterior0 = approximation.sample(5000)"
      ],
      "execution_count": 90,
      "outputs": [
        {
          "output_type": "display_data",
          "data": {
            "text/html": [
              "\n",
              "    <div>\n",
              "        <style>\n",
              "            /* Turns off some styling */\n",
              "            progress {\n",
              "                /* gets rid of default border in Firefox and Opera. */\n",
              "                border: none;\n",
              "                /* Needs to be in here for Safari polyfill so background images work as expected. */\n",
              "                background-size: auto;\n",
              "            }\n",
              "            .progress-bar-interrupted, .progress-bar-interrupted::-webkit-progress-bar {\n",
              "                background: #F44336;\n",
              "            }\n",
              "        </style>\n",
              "      <progress value='40000' class='' max='40000' style='width:300px; height:20px; vertical-align: middle;'></progress>\n",
              "      100.00% [40000/40000 00:09<00:00 Average Loss = 2,113.3]\n",
              "    </div>\n",
              "    "
            ],
            "text/plain": [
              "<IPython.core.display.HTML object>"
            ]
          },
          "metadata": {}
        },
        {
          "output_type": "stream",
          "name": "stderr",
          "text": [
            "Finished [100%]: Average Loss = 2,113.3\n"
          ]
        }
      ]
    },
    {
      "cell_type": "code",
      "metadata": {
        "colab": {
          "base_uri": "https://localhost:8080/",
          "height": 56
        },
        "id": "sG4YZfpNEeaO",
        "outputId": "6bba06aa-129c-4887-fc5b-6183958db434"
      },
      "source": [
        "# model_1\n",
        "with pm.Model() as model_1:\n",
        "  # prior over the parameters of linear regression\n",
        "  alpha = pm.Normal('alpha', mu=0, sigma=30)\n",
        "  # we have a beta for each column of Xn\n",
        "  beta = pm.Normal('beta', mu=0, sigma=30, shape=Xn1.shape[1])\n",
        "  # prior over the variance of the noise\n",
        "  sigma = pm.HalfCauchy('sigma_n', 5)\n",
        "  # linear regression relationship\n",
        "  #linear regression model in matrix form\n",
        "  mu = alpha + pm.math.dot(beta, Xn1.T)\n",
        "  # likelihood, # \n",
        "  like = pm.Normal('like', mu=mu, sigma=sigma, observed=yn1[:,0])\n",
        "  \n",
        "with model_1:\n",
        "  # iterations of the algorithm\n",
        "  approximation = pm.fit(40000,method='advi')\n",
        "\n",
        "# samples from the posterior    \n",
        "posterior1 = approximation.sample(5000)"
      ],
      "execution_count": 91,
      "outputs": [
        {
          "output_type": "display_data",
          "data": {
            "text/html": [
              "\n",
              "    <div>\n",
              "        <style>\n",
              "            /* Turns off some styling */\n",
              "            progress {\n",
              "                /* gets rid of default border in Firefox and Opera. */\n",
              "                border: none;\n",
              "                /* Needs to be in here for Safari polyfill so background images work as expected. */\n",
              "                background-size: auto;\n",
              "            }\n",
              "            .progress-bar-interrupted, .progress-bar-interrupted::-webkit-progress-bar {\n",
              "                background: #F44336;\n",
              "            }\n",
              "        </style>\n",
              "      <progress value='40000' class='' max='40000' style='width:300px; height:20px; vertical-align: middle;'></progress>\n",
              "      100.00% [40000/40000 00:04<00:00 Average Loss = 581.66]\n",
              "    </div>\n",
              "    "
            ],
            "text/plain": [
              "<IPython.core.display.HTML object>"
            ]
          },
          "metadata": {}
        },
        {
          "output_type": "stream",
          "name": "stderr",
          "text": [
            "Finished [100%]: Average Loss = 581.67\n"
          ]
        }
      ]
    },
    {
      "cell_type": "code",
      "metadata": {
        "colab": {
          "base_uri": "https://localhost:8080/",
          "height": 56
        },
        "id": "8SoH1TSvEel1",
        "outputId": "3e08f0fb-5e25-4fa3-c067-edb05b61299b"
      },
      "source": [
        "# model_2\n",
        "with pm.Model() as model_2:\n",
        "  # prior over the parameters of linear regression\n",
        "  alpha = pm.Normal('alpha', mu=0, sigma=30)\n",
        "  # we have a beta for each column of Xn\n",
        "  beta = pm.Normal('beta', mu=0, sigma=30, shape=Xn2.shape[1])\n",
        "  # prior over the variance of the noise\n",
        "  sigma = pm.HalfCauchy('sigma_n', 5)\n",
        "  # linear regression relationship\n",
        "  # linear regression model in matrix form\n",
        "  mu = alpha + pm.math.dot(beta, Xn2.T)\n",
        "  # likelihood, be sure that observed is a 1d vector\n",
        "  like = pm.Normal('like', mu=mu, sigma=sigma, observed=yn2[:,0])\n",
        "    \n",
        "with model_2:\n",
        "  # iterations of the algorithms\n",
        "  approximation = pm.fit(40000,method='advi')\n",
        "\n",
        "# samples from the posterior    \n",
        "posterior2 = approximation.sample(5000)"
      ],
      "execution_count": 92,
      "outputs": [
        {
          "output_type": "display_data",
          "data": {
            "text/html": [
              "\n",
              "    <div>\n",
              "        <style>\n",
              "            /* Turns off some styling */\n",
              "            progress {\n",
              "                /* gets rid of default border in Firefox and Opera. */\n",
              "                border: none;\n",
              "                /* Needs to be in here for Safari polyfill so background images work as expected. */\n",
              "                background-size: auto;\n",
              "            }\n",
              "            .progress-bar-interrupted, .progress-bar-interrupted::-webkit-progress-bar {\n",
              "                background: #F44336;\n",
              "            }\n",
              "        </style>\n",
              "      <progress value='40000' class='' max='40000' style='width:300px; height:20px; vertical-align: middle;'></progress>\n",
              "      100.00% [40000/40000 00:04<00:00 Average Loss = 187.66]\n",
              "    </div>\n",
              "    "
            ],
            "text/plain": [
              "<IPython.core.display.HTML object>"
            ]
          },
          "metadata": {}
        },
        {
          "output_type": "stream",
          "name": "stderr",
          "text": [
            "Finished [100%]: Average Loss = 187.65\n"
          ]
        }
      ]
    },
    {
      "cell_type": "code",
      "metadata": {
        "colab": {
          "base_uri": "https://localhost:8080/",
          "height": 56
        },
        "id": "u1I2R2EZEerW",
        "outputId": "2ca9b039-5231-4dc6-f778-d2af1b9c9255"
      },
      "source": [
        "# model_3\n",
        "with pm.Model() as model3:\n",
        "  # prior over the parameters of linear regression\n",
        "  alpha = pm.Normal('alpha', mu=0, sigma=30)\n",
        "  # we have a beta for each column of Xn\n",
        "  beta = pm.Normal('beta', mu=0, sigma=30, shape=Xn3.shape[1])\n",
        "  # prior over the variance of the noise\n",
        "  sigma = pm.HalfCauchy('sigma_n', 5)\n",
        "  # linear regression relationship\n",
        "  mu = alpha + pm.math.dot(beta, Xn3.T)#linear regression model in matrix form\n",
        "  # likelihood, be sure that observed is a 1d vector\n",
        "  like = pm.Normal('like', mu=mu, sigma=sigma, observed=yn3[:,0])\n",
        "    \n",
        "with model3:\n",
        "  # number of iterations of the algorithms\n",
        "  approximation = pm.fit(40000,method='advi')\n",
        "\n",
        "# samples from the posterior     \n",
        "posterior3 = approximation.sample(5000)"
      ],
      "execution_count": 93,
      "outputs": [
        {
          "output_type": "display_data",
          "data": {
            "text/html": [
              "\n",
              "    <div>\n",
              "        <style>\n",
              "            /* Turns off some styling */\n",
              "            progress {\n",
              "                /* gets rid of default border in Firefox and Opera. */\n",
              "                border: none;\n",
              "                /* Needs to be in here for Safari polyfill so background images work as expected. */\n",
              "                background-size: auto;\n",
              "            }\n",
              "            .progress-bar-interrupted, .progress-bar-interrupted::-webkit-progress-bar {\n",
              "                background: #F44336;\n",
              "            }\n",
              "        </style>\n",
              "      <progress value='40000' class='' max='40000' style='width:300px; height:20px; vertical-align: middle;'></progress>\n",
              "      100.00% [40000/40000 00:03<00:00 Average Loss = 34.383]\n",
              "    </div>\n",
              "    "
            ],
            "text/plain": [
              "<IPython.core.display.HTML object>"
            ]
          },
          "metadata": {}
        },
        {
          "output_type": "stream",
          "name": "stderr",
          "text": [
            "Finished [100%]: Average Loss = 34.373\n"
          ]
        }
      ]
    },
    {
      "cell_type": "code",
      "metadata": {
        "id": "YU6Ky4q8EevB"
      },
      "source": [
        "# Posterior predictive checks (PPCs)\n",
        "def ppc(alpha,beta,sigma, X,  nsamples=500):\n",
        "    #we select nsamples random samples from the posterior\n",
        "    ind = np.random.randint(0,beta.shape[0],size=nsamples)\n",
        "    alphai = alpha[ind]\n",
        "    betai = beta[ind,:]\n",
        "    sigmai = sigma[ind]\n",
        "\n",
        "    Ypred = np.zeros((nsamples,X.shape[0]))\n",
        "    for i in range(X.shape[0]):\n",
        "        #we generate data from linear model\n",
        "        y_pred = alphai + np.dot(betai, X[i:i+1,:].T).T +np.random.randn(len(sigmai))*sigmai\n",
        "        Ypred[:,i]=y_pred[0,:]\n",
        "    return Ypred"
      ],
      "execution_count": 94,
      "outputs": []
    },
    {
      "cell_type": "markdown",
      "metadata": {
        "id": "wHBgUe1pcZQQ"
      },
      "source": [
        "##Simulations"
      ]
    },
    {
      "cell_type": "code",
      "metadata": {
        "id": "7wCJtQPPP5o0"
      },
      "source": [
        "def plot_simulation(Ypred, ylog):\n",
        "  for i in range(Ypred.shape[0]):\n",
        "      az.plot_dist( Ypred[i,:],color='r',plot_kwargs={\"linewidth\": 0.2})\n",
        "  az.plot_dist(Ypred[i,:],color='r',plot_kwargs={\"linewidth\": 0.2}, label=\"prediction\")\n",
        "  #plt.plot(np.linspace(-8,8,100),norm.pdf(np.linspace(-8,8,100),df=np.mean(posterior_1['nu'])))\n",
        "  #plt.xlim([0,10e7])\n",
        "  az.plot_dist(ylog,label='true observations');\n",
        "  plt.legend()\n",
        "  plt.xlabel(\"log(y) - output variable\")\n",
        "  plt.ylabel(\"density plot\");"
      ],
      "execution_count": 95,
      "outputs": []
    },
    {
      "cell_type": "markdown",
      "metadata": {
        "id": "bfSEdYAUoIDn"
      },
      "source": [
        "### Only Cluster {0..3}"
      ]
    },
    {
      "cell_type": "code",
      "metadata": {
        "colab": {
          "base_uri": "https://localhost:8080/",
          "height": 313
        },
        "id": "4culQ-jSElun",
        "outputId": "de938196-0939-4f74-d908-efabfe4234b9"
      },
      "source": [
        "#Simulation\n",
        "Ypred0 = yscaler0.inverse_transform(ppc(posterior0['alpha'],posterior0['beta'],posterior0['sigma_n'],Xn0,  nsamples=200))\n",
        "plot_simulation(Ypred0, ylog0)"
      ],
      "execution_count": 96,
      "outputs": [
        {
          "output_type": "display_data",
          "data": {
            "image/png": "[encoded data removed]",
            "text/plain": [
              "<Figure size 432x288 with 1 Axes>"
            ]
          },
          "metadata": {
            "needs_background": "light"
          }
        }
      ]
    },
    {
      "cell_type": "code",
      "metadata": {
        "colab": {
          "base_uri": "https://localhost:8080/",
          "height": 313
        },
        "id": "GBmWAvofElw1",
        "outputId": "0233b47b-f0d0-424e-c3df-fbfa8ba60085"
      },
      "source": [
        "#Simulation\n",
        "Ypred1 = yscaler1.inverse_transform(ppc(posterior1['alpha'],posterior1['beta'],posterior1['sigma_n'],Xn1,  nsamples=200))\n",
        "plot_simulation(Ypred1, ylog1)"
      ],
      "execution_count": 97,
      "outputs": [
        {
          "output_type": "display_data",
          "data": {
            "image/png": "[encoded data removed]",
            "text/plain": [
              "<Figure size 432x288 with 1 Axes>"
            ]
          },
          "metadata": {
            "needs_background": "light"
          }
        }
      ]
    },
    {
      "cell_type": "code",
      "metadata": {
        "colab": {
          "base_uri": "https://localhost:8080/",
          "height": 313
        },
        "id": "Q7p1e5v9Elzd",
        "outputId": "74de06ab-72e4-4eb3-e441-da3b3dd46e55"
      },
      "source": [
        "#Simulation\n",
        "Ypred2 = yscaler2.inverse_transform(ppc(posterior2['alpha'],posterior2['beta'],posterior2['sigma_n'],Xn2,  nsamples=200))\n",
        "plot_simulation(Ypred2, ylog2)"
      ],
      "execution_count": 98,
      "outputs": [
        {
          "output_type": "display_data",
          "data": {
            "image/png": "[encoded data removed]",
            "text/plain": [
              "<Figure size 432x288 with 1 Axes>"
            ]
          },
          "metadata": {
            "needs_background": "light"
          }
        }
      ]
    },
    {
      "cell_type": "code",
      "metadata": {
        "colab": {
          "base_uri": "https://localhost:8080/",
          "height": 313
        },
        "id": "OGzoGrItEl12",
        "outputId": "842aadb2-0424-42a3-ea20-3847ca531614"
      },
      "source": [
        "#Simulation\n",
        "Ypred3 = yscaler3.inverse_transform(ppc(posterior3['alpha'],posterior3['beta'],posterior3['sigma_n'],Xn3,  nsamples=200))\n",
        "plot_simulation(Ypred3, ylog3)"
      ],
      "execution_count": 99,
      "outputs": [
        {
          "output_type": "display_data",
          "data": {
            "image/png": "[encoded data removed]",
            "text/plain": [
              "<Figure size 432x288 with 1 Axes>"
            ]
          },
          "metadata": {
            "needs_background": "light"
          }
        }
      ]
    },
    {
      "cell_type": "markdown",
      "metadata": {
        "id": "qgMUwBO7oIDq"
      },
      "source": [
        "## Overall"
      ]
    },
    {
      "cell_type": "code",
      "metadata": {
        "colab": {
          "base_uri": "https://localhost:8080/",
          "height": 313
        },
        "id": "-ggGpgx5El4V",
        "outputId": "0048228c-07f2-4681-cd6f-4c5c407ce237"
      },
      "source": [
        "# posteriors\n",
        "Ypred0 = ppc(posterior0['alpha'],posterior0['beta'],posterior0['sigma_n'],Xn0,  nsamples=200)\n",
        "Ypred1 = ppc(posterior1['alpha'],posterior1['beta'],posterior1['sigma_n'],Xn1,  nsamples=200)\n",
        "Ypred2 = ppc(posterior2['alpha'],posterior2['beta'],posterior2['sigma_n'],Xn2,  nsamples=200)\n",
        "Ypred3 = ppc(posterior3['alpha'],posterior3['beta'],posterior3['sigma_n'],Xn3,  nsamples=200)\n",
        "\n",
        "# simulation\n",
        "Ypred = np.hstack([ yscaler0.inverse_transform(Ypred0),\n",
        "                 yscaler1.inverse_transform(Ypred1),\n",
        "                 yscaler2.inverse_transform(Ypred2),\n",
        "                 yscaler3.inverse_transform(Ypred3)])\n",
        "\n",
        "# prediction\n",
        "for i in range(Ypred.shape[0]):\n",
        "    az.plot_dist( Ypred[i,:],color='r',plot_kwargs={\"linewidth\": 0.2})\n",
        "\n",
        "# plot\n",
        "az.plot_dist(Ypred[i,:],color='r',plot_kwargs={\"linewidth\": 0.2}, label=\"prediction\")\n",
        "ylog=np.vstack([ylog0,ylog1,ylog2,ylog3])\n",
        "az.plot_dist(ylog,label='true observations');\n",
        "plt.legend()\n",
        "plt.xlabel(\"log(y) - output variable\")\n",
        "plt.ylabel(\"density plot\");"
      ],
      "execution_count": 100,
      "outputs": [
        {
          "output_type": "display_data",
          "data": {
            "image/png": "[encoded data removed]",
            "text/plain": [
              "<Figure size 432x288 with 1 Axes>"
            ]
          },
          "metadata": {
            "needs_background": "light"
          }
        }
      ]
    },
    {
      "cell_type": "markdown",
      "metadata": {
        "id": "QMY9rDvVoIDq"
      },
      "source": [
        "## Test set performance"
      ]
    },
    {
      "cell_type": "code",
      "metadata": {
        "colab": {
          "base_uri": "https://localhost:8080/"
        },
        "id": "nGjv9-plEl6Y",
        "outputId": "97969166-4904-466a-dc24-315debafdc63"
      },
      "source": [
        "# cluster 0\n",
        "y_pred_BLR0 = np.exp(yscaler0.inverse_transform(np.mean(posterior0['alpha']) \n",
        "              + np.dot(np.mean(posterior0['beta'],axis=0), Xtestn0.T)))\n",
        "print(\"Size Cluster0\", np.sum(clusters_test==0), \", MAE Cluster0=\",\n",
        "      (np.mean(abs(y_pred_BLR0 - y_test.price.values[clusters_test==0]))))\n",
        "\n",
        "# cluster 1\n",
        "y_pred_BLR1 = np.exp(yscaler1.inverse_transform(np.mean(posterior1['alpha']) \n",
        "              + np.dot(np.mean(posterior1['beta'],axis=0), Xtestn1.T)))\n",
        "print(\"Size Cluster1\", np.sum(clusters_test==1), \", MAE Cluster1=\",\n",
        "      (np.mean(abs(y_pred_BLR1 - y_test.price.values[clusters_test==1]))))\n",
        "\n",
        "# cluster 2\n",
        "y_pred_BLR2 = np.exp(yscaler2.inverse_transform(np.mean(posterior2['alpha']) \n",
        "              + np.dot(np.mean(posterior2['beta'],axis=0), Xtestn2.T)))\n",
        "print(\"Size Cluster2\", np.sum(clusters_test==2), \", MAE Cluster2=\",\n",
        "      (np.mean(abs(y_pred_BLR2 - y_test.price.values[clusters_test==2]))))\n",
        "\n",
        "# cluster 3\n",
        "y_pred_BLR3 = np.exp(yscaler3.inverse_transform(np.mean(posterior3['alpha']) \n",
        "              + np.dot(np.mean(posterior3['beta'],axis=0), Xtestn3.T)))\n",
        "print(\"Size Cluster3\", np.sum(clusters_test==3), \", MAE Cluster3=\",\n",
        "      (np.mean(abs(y_pred_BLR3 - y_test.price.values[clusters_test==3]))))\n",
        "\n",
        "# joint\n",
        "joint=np.hstack([abs(y_pred_BLR0 - y_test.price.values[clusters_test==0]),\n",
        "                 abs(y_pred_BLR1 - y_test.price.values[clusters_test==1]),\n",
        "                 abs(y_pred_BLR2 - y_test.price.values[clusters_test==2]),\n",
        "                 abs(y_pred_BLR3 - y_test.price.values[clusters_test==3])])\n",
        "\n",
        "# MAE\n",
        "print(\"MAE=\",np.mean(joint))"
      ],
      "execution_count": 101,
      "outputs": [
        {
          "output_type": "stream",
          "name": "stdout",
          "text": [
            "Size Cluster0 761 , MAE Cluster0= 113188.81702307025\n",
            "Size Cluster1 227 , MAE Cluster1= 209414.47019919794\n",
            "Size Cluster2 29 , MAE Cluster2= 1127590.7124884666\n",
            "Size Cluster3 1 , MAE Cluster3= 303460.72227439494\n",
            "MAE= 163730.22188036772\n"
          ]
        }
      ]
    },
    {
      "cell_type": "markdown",
      "metadata": {
        "id": "YGmB9BNkoIDr"
      },
      "source": [
        "### PPC on the Test set\n",
        "\n"
      ]
    },
    {
      "cell_type": "code",
      "metadata": {
        "colab": {
          "base_uri": "https://localhost:8080/",
          "height": 332
        },
        "id": "WZIrr7pfFco-",
        "outputId": "afca3206-96e2-42a1-bec2-e07640a181d7"
      },
      "source": [
        "## Posterior predictive checks (PPCs)\n",
        "\n",
        "num_samples2 = 200\n",
        "Ypred0 = ppc(posterior0['alpha'],posterior0['beta'],posterior0['sigma_n'],Xtestn0, nsamples=num_samples2)\n",
        "Ypred1 = ppc(posterior1['alpha'],posterior1['beta'],posterior1['sigma_n'],Xtestn1, nsamples=num_samples2)\n",
        "Ypred2 = ppc(posterior2['alpha'],posterior2['beta'],posterior2['sigma_n'],Xtestn2, nsamples=num_samples2)\n",
        "Ypred3 = ppc(posterior3['alpha'],posterior3['beta'],posterior3['sigma_n'],Xtestn3, nsamples=num_samples2)\n",
        "\n",
        "# Stack arrays in sequence horizontally (column wise)\n",
        "Ypred = np.hstack([yscaler0.inverse_transform(Ypred0),\n",
        "                 yscaler1.inverse_transform(Ypred1),\n",
        "                 yscaler2.inverse_transform(Ypred2),\n",
        "                 yscaler3.inverse_transform(Ypred3)])\n",
        "\n",
        "# plot prediction shape\n",
        "for i in range(Ypred.shape[0]):\n",
        "    az.plot_dist( Ypred[i,:],color='r',plot_kwargs={\"linewidth\": 0.2})\n",
        "# label\n",
        "az.plot_dist(Ypred[i,:],color='r',plot_kwargs={\"linewidth\": 0.2}, label=\"prediction\")\n",
        "\n",
        "# true observations\n",
        "az.plot_dist(np.log(y_test),label='true observations');\n",
        "plt.legend()\n",
        "plt.xlabel(\"log(y) - output variable\")\n",
        "plt.ylabel(\"density plot\");\n",
        "plt.xlim(10, 16)"
      ],
      "execution_count": 102,
      "outputs": [
        {
          "output_type": "execute_result",
          "data": {
            "text/plain": [
              "(10.0, 16.0)"
            ]
          },
          "metadata": {},
          "execution_count": 102
        },
        {
          "output_type": "display_data",
          "data": {
            "image/png": "[encoded data removed]",
            "text/plain": [
              "<Figure size 432x288 with 1 Axes>"
            ]
          },
          "metadata": {
            "needs_background": "light"
          }
        }
      ]
    },
    {
      "cell_type": "markdown",
      "metadata": {
        "id": "f0GYCpwEM09T"
      },
      "source": [
        "# SUMMARY"
      ]
    }
  ]
}