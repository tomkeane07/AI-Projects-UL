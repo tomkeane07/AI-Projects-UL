{
  "nbformat": 4,
  "nbformat_minor": 0,
  "metadata": {
    "colab": {
      "name": "ET5003_Etivity2_template.ipynb",
      "provenance": []
    },
    "kernelspec": {
      "name": "python3",
      "display_name": "Python 3"
    },
    "language_info": {
      "name": "python"
    }
  },
  "cells": [
    {
      "cell_type": "markdown",
      "metadata": {
        "id": "930vlW5BrOtq"
      },
      "source": [
        "<div>\n",
        "<img src=\"https://drive.google.com/uc?export=view&id=1vK33e_EqaHgBHcbRV_m38hx6IkG0blK_\" width=\"350\"/>\n",
        "</div> \n",
        "\n",
        "#**Artificial Intelligence - MSc**\n",
        "##ET5003 - MACHINE LEARNING APPLICATIONS \n",
        "\n",
        "###Instructor: Enrique Naredo\n",
        "###ET5003_Etivity-2"
      ]
    },
    {
      "cell_type": "code",
      "metadata": {
        "id": "LqXD_IwUQuBF",
        "cellView": "form"
      },
      "source": [
        "#@title Current Date\n",
        "Today = '2021-08-22' #@param {type:\"date\"}\n"
      ],
      "execution_count": 7,
      "outputs": []
    },
    {
      "cell_type": "code",
      "metadata": {
        "id": "uzDKau31OjVO",
        "cellView": "form"
      },
      "source": [
        "#@markdown ---\n",
        "#@markdown ### Enter your details here:\n",
        "Student_ID = \"20214537\" #@param {type:\"string\"}\n",
        "Student_full_name = \"Tom Keane\" #@param {type:\"string\"}\n",
        "#@markdown ---"
      ],
      "execution_count": 8,
      "outputs": []
    },
    {
      "cell_type": "code",
      "metadata": {
        "id": "r39xGZckTpKx",
        "cellView": "form"
      },
      "source": [
        "#@title Notebook information\n",
        "Notebook_type = 'Example' #@param [\"Example\", \"Lab\", \"Practice\", \"Etivity\", \"Assignment\", \"Exam\"]\n",
        "Version = 'Draft' #@param [\"Draft\", \"Final\"] {type:\"raw\"}\n",
        "Submission = False #@param {type:\"boolean\"}"
      ],
      "execution_count": 9,
      "outputs": []
    },
    {
      "cell_type": "markdown",
      "metadata": {
        "id": "_A0Z6S-r6DpA"
      },
      "source": [
        "# INTRODUCTION"
      ]
    },
    {
      "cell_type": "markdown",
      "metadata": {
        "id": "QkRchZtf6IV-"
      },
      "source": [
        "**Piecewise regression**, extract from [Wikipedia](https://en.wikipedia.org/wiki/Segmented_regression):\n",
        "\n",
        "Segmented regression, also known as piecewise regression or broken-stick regression, is a method in regression analysis in which the independent variable is partitioned into intervals and a separate line segment is fit to each interval. \n",
        "\n",
        "* Segmented regression analysis can also be performed on \n",
        "multivariate data by partitioning the various independent variables. \n",
        "* Segmented regression is useful when the independent variables, clustered into different groups, exhibit different relationships between the variables in these regions. \n",
        "\n",
        "* The boundaries between the segments are breakpoints.\n",
        "\n",
        "* Segmented linear regression is segmented regression whereby the relations in the intervals are obtained by linear regression. "
      ]
    },
    {
      "cell_type": "markdown",
      "metadata": {
        "id": "aajlS0WCJ8pm"
      },
      "source": [
        "***The goal is to use advanced Machine Learning methods to predict House price.***"
      ]
    },
    {
      "cell_type": "markdown",
      "metadata": {
        "id": "Wg7VCbX77eAA"
      },
      "source": [
        "## Imports"
      ]
    },
    {
      "cell_type": "code",
      "metadata": {
        "id": "iFFLThrpwibd"
      },
      "source": [
        "# Suppressing Warnings:\n",
        "import warnings\n",
        "warnings.filterwarnings(\"ignore\")"
      ],
      "execution_count": 10,
      "outputs": []
    },
    {
      "cell_type": "code",
      "metadata": {
        "id": "d1770_fNrCWn"
      },
      "source": [
        "import pandas as pd\n",
        "import matplotlib.pyplot as plt\n",
        "import numpy as np\n",
        "import pymc3 as pm\n",
        "import arviz as az\n",
        "from sklearn.preprocessing import StandardScaler\n",
        "import seaborn as sns"
      ],
      "execution_count": 11,
      "outputs": []
    },
    {
      "cell_type": "code",
      "metadata": {
        "id": "sYPJU_Y6O6Dq"
      },
      "source": [
        "# to plot\n",
        "import matplotlib.colors\n",
        "from mpl_toolkits.mplot3d import Axes3D\n",
        "\n",
        "# to generate classification, regression and clustering datasets\n",
        "import sklearn.datasets as dt\n",
        "\n",
        "# to create data frames\n",
        "from pandas import DataFrame\n",
        "\n",
        "# to generate data from an existing dataset\n",
        "from sklearn.neighbors import KernelDensity\n",
        "from sklearn.model_selection import GridSearchCV"
      ],
      "execution_count": 12,
      "outputs": []
    },
    {
      "cell_type": "code",
      "metadata": {
        "id": "6MUJdlxSPSMM"
      },
      "source": [
        "# Define the seed so that results can be reproduced\n",
        "seed = 11\n",
        "rand_state = 11\n",
        "\n",
        "# Define the color maps for plots\n",
        "color_map = plt.cm.get_cmap('RdYlBu')\n",
        "color_map_discrete = matplotlib.colors.LinearSegmentedColormap.from_list(\"\", [\"red\",\"cyan\",\"magenta\",\"blue\"])"
      ],
      "execution_count": 13,
      "outputs": []
    },
    {
      "cell_type": "markdown",
      "metadata": {
        "id": "WL91ShB19RPw"
      },
      "source": [
        "# DATASET"
      ]
    },
    {
      "cell_type": "markdown",
      "metadata": {
        "id": "ESg5DGKWJSOf"
      },
      "source": [
        "Extract from this [paper](https://ieeexplore.ieee.org/document/9300074):\n",
        "\n",
        "* House prices are a significant impression of the economy, and its value ranges are of great concerns for the clients and property dealers. \n",
        "\n",
        "* Housing price escalate every year that eventually reinforced the need of strategy or technique that could predict house prices in future. \n",
        "\n",
        "* There are certain factors that influence house prices including physical conditions, locations, number of bedrooms and others.\n"
      ]
    },
    {
      "cell_type": "markdown",
      "metadata": {
        "id": "a8Y2pf50FlYL"
      },
      "source": [
        "1. [Download the dataset](https://github.com/UL-ET5003/ET5003_SEM1_2021-2/tree/main/Week-3). \n",
        "\n",
        "2. Upload the dataset into your folder.\n",
        "\n"
      ]
    },
    {
      "cell_type": "markdown",
      "metadata": {
        "id": "FMkdCQEmKTof"
      },
      "source": [
        "The challenge is to predict the final price of each house."
      ]
    },
    {
      "cell_type": "markdown",
      "metadata": {
        "id": "2PMoPLlUJ1Ly"
      },
      "source": [
        "### Importing Datasets"
      ]
    },
    {
      "cell_type": "code",
      "metadata": {
        "id": "loLTHklwKGnV"
      },
      "source": [
        "def import_datasets(git_link = 'https://raw.githubusercontent.com/tomkeane07/AI-Projects-UL/main/semester3/MachineLearningApplications/PiecewiseRegression'):\n",
        "  return {\n",
        "      'house_test' : pd.read_csv(git_link+'/house_test.csv'),\n",
        "      'house_train' : pd.read_csv(git_link+'/house_train.csv'),\n",
        "      'true_price'  : pd.read_csv(git_link+'/true_price.csv')}\n",
        "\n",
        "try:\n",
        "  dbs\n",
        "except:\n",
        "  dbs = import_datasets()\n",
        "\n",
        "# split data into training and test\n",
        "from sklearn.model_selection import train_test_split\n",
        "\n",
        "# training: 70% (0.7), test: 30% (0.3) \n",
        "# you could try any other combination \n",
        "# but consider 50% of training as the low boundary\n",
        "# X_train,X_test,y_train,y_test = train_test_split(X, y, test_size=0.3)\n",
        "\n",
        "dftest = dbs['house_test' ]\n",
        "dftrain =  dbs['house_train']\n",
        "dfcost = dbs['true_price']"
      ],
      "execution_count": 14,
      "outputs": []
    },
    {
      "cell_type": "markdown",
      "metadata": {
        "id": "3EuMmLog-7XS"
      },
      "source": [
        "### Initial datasets inspection"
      ]
    },
    {
      "cell_type": "code",
      "metadata": {
        "id": "6XUFUPABMHfF",
        "colab": {
          "base_uri": "https://localhost:8080/",
          "height": 293
        },
        "outputId": "f37e9da3-a13f-4125-eb6b-dad8cce45ffe"
      },
      "source": [
        "# show first data frame rows \n",
        "display(dftrain.tail())"
      ],
      "execution_count": 15,
      "outputs": [
        {
          "output_type": "display_data",
          "data": {
            "text/html": [
              "<div>\n",
              "<style scoped>\n",
              "    .dataframe tbody tr th:only-of-type {\n",
              "        vertical-align: middle;\n",
              "    }\n",
              "\n",
              "    .dataframe tbody tr th {\n",
              "        vertical-align: top;\n",
              "    }\n",
              "\n",
              "    .dataframe thead th {\n",
              "        text-align: right;\n",
              "    }\n",
              "</style>\n",
              "<table border=\"1\" class=\"dataframe\">\n",
              "  <thead>\n",
              "    <tr style=\"text-align: right;\">\n",
              "      <th></th>\n",
              "      <th>ad_id</th>\n",
              "      <th>area</th>\n",
              "      <th>bathrooms</th>\n",
              "      <th>beds</th>\n",
              "      <th>ber_classification</th>\n",
              "      <th>county</th>\n",
              "      <th>description_block</th>\n",
              "      <th>environment</th>\n",
              "      <th>facility</th>\n",
              "      <th>features</th>\n",
              "      <th>latitude</th>\n",
              "      <th>longitude</th>\n",
              "      <th>no_of_units</th>\n",
              "      <th>price</th>\n",
              "      <th>property_category</th>\n",
              "      <th>property_type</th>\n",
              "      <th>surface</th>\n",
              "    </tr>\n",
              "  </thead>\n",
              "  <tbody>\n",
              "    <tr>\n",
              "      <th>2977</th>\n",
              "      <td>12428232</td>\n",
              "      <td>Ballsbridge</td>\n",
              "      <td>2.0</td>\n",
              "      <td>2.0</td>\n",
              "      <td>C3</td>\n",
              "      <td>Dublin</td>\n",
              "      <td>Sherry FitzGerald are delighted to present Apa...</td>\n",
              "      <td>prod</td>\n",
              "      <td>NaN</td>\n",
              "      <td>Prime Location\\nManagement Co: Core Property M...</td>\n",
              "      <td>53.338738</td>\n",
              "      <td>-6.237199</td>\n",
              "      <td>NaN</td>\n",
              "      <td>415000.0</td>\n",
              "      <td>sale</td>\n",
              "      <td>apartment</td>\n",
              "      <td>56.0</td>\n",
              "    </tr>\n",
              "    <tr>\n",
              "      <th>2978</th>\n",
              "      <td>12428240</td>\n",
              "      <td>Rialto</td>\n",
              "      <td>1.0</td>\n",
              "      <td>3.0</td>\n",
              "      <td>B2</td>\n",
              "      <td>Dublin</td>\n",
              "      <td>Property Team Patrick Moran is delighted to pr...</td>\n",
              "      <td>prod</td>\n",
              "      <td>NaN</td>\n",
              "      <td>Totally refurbished to the highest standard. \\...</td>\n",
              "      <td>53.335793</td>\n",
              "      <td>-6.294268</td>\n",
              "      <td>NaN</td>\n",
              "      <td>485000.0</td>\n",
              "      <td>sale</td>\n",
              "      <td>terraced</td>\n",
              "      <td>101.0</td>\n",
              "    </tr>\n",
              "    <tr>\n",
              "      <th>2979</th>\n",
              "      <td>12428247</td>\n",
              "      <td>Smithfield</td>\n",
              "      <td>1.0</td>\n",
              "      <td>2.0</td>\n",
              "      <td>C3</td>\n",
              "      <td>Dublin</td>\n",
              "      <td>Earnest estate agents are delighted to present...</td>\n",
              "      <td>prod</td>\n",
              "      <td>Wired for Cable Television</td>\n",
              "      <td>OVERLOOKING THE RIVER LIFFEY \\n3RD FLOOR APART...</td>\n",
              "      <td>53.346098</td>\n",
              "      <td>-6.276856</td>\n",
              "      <td>NaN</td>\n",
              "      <td>299000.0</td>\n",
              "      <td>sale</td>\n",
              "      <td>apartment</td>\n",
              "      <td>55.6</td>\n",
              "    </tr>\n",
              "    <tr>\n",
              "      <th>2980</th>\n",
              "      <td>12428254</td>\n",
              "      <td>Foxrock</td>\n",
              "      <td>2.0</td>\n",
              "      <td>3.0</td>\n",
              "      <td>C3</td>\n",
              "      <td>Dublin</td>\n",
              "      <td>Janet Carroll Estate Agents are pleased to pre...</td>\n",
              "      <td>prod</td>\n",
              "      <td>Parking,Gas Fired Central Heating</td>\n",
              "      <td>None</td>\n",
              "      <td>53.273518</td>\n",
              "      <td>-6.178500</td>\n",
              "      <td>NaN</td>\n",
              "      <td>495000.0</td>\n",
              "      <td>sale</td>\n",
              "      <td>end-of-terrace</td>\n",
              "      <td>97.0</td>\n",
              "    </tr>\n",
              "    <tr>\n",
              "      <th>2981</th>\n",
              "      <td>12428358</td>\n",
              "      <td>Terenure</td>\n",
              "      <td>2.0</td>\n",
              "      <td>3.0</td>\n",
              "      <td>D2</td>\n",
              "      <td>Dublin</td>\n",
              "      <td>ON VIEW SATURDAY 7 TH MARCH 2020 11:30 AM - 12...</td>\n",
              "      <td>prod</td>\n",
              "      <td>NaN</td>\n",
              "      <td>Charming three-bedroom family home\\nMinutes aw...</td>\n",
              "      <td>53.310073</td>\n",
              "      <td>-6.325158</td>\n",
              "      <td>NaN</td>\n",
              "      <td>525000.0</td>\n",
              "      <td>sale</td>\n",
              "      <td>semi-detached</td>\n",
              "      <td>129.3</td>\n",
              "    </tr>\n",
              "  </tbody>\n",
              "</table>\n",
              "</div>"
            ],
            "text/plain": [
              "         ad_id         area  ...   property_type  surface\n",
              "2977  12428232  Ballsbridge  ...       apartment     56.0\n",
              "2978  12428240       Rialto  ...        terraced    101.0\n",
              "2979  12428247   Smithfield  ...       apartment     55.6\n",
              "2980  12428254      Foxrock  ...  end-of-terrace     97.0\n",
              "2981  12428358     Terenure  ...   semi-detached    129.3\n",
              "\n",
              "[5 rows x 17 columns]"
            ]
          },
          "metadata": {}
        }
      ]
    },
    {
      "cell_type": "code",
      "metadata": {
        "id": "3tOn8EBhCRW3",
        "colab": {
          "base_uri": "https://localhost:8080/",
          "height": 293
        },
        "outputId": "9e3a8efa-a915-4b3c-ca5a-0e60071c5eb0"
      },
      "source": [
        "display(dftest.tail())"
      ],
      "execution_count": 16,
      "outputs": [
        {
          "output_type": "display_data",
          "data": {
            "text/html": [
              "<div>\n",
              "<style scoped>\n",
              "    .dataframe tbody tr th:only-of-type {\n",
              "        vertical-align: middle;\n",
              "    }\n",
              "\n",
              "    .dataframe tbody tr th {\n",
              "        vertical-align: top;\n",
              "    }\n",
              "\n",
              "    .dataframe thead th {\n",
              "        text-align: right;\n",
              "    }\n",
              "</style>\n",
              "<table border=\"1\" class=\"dataframe\">\n",
              "  <thead>\n",
              "    <tr style=\"text-align: right;\">\n",
              "      <th></th>\n",
              "      <th>ad_id</th>\n",
              "      <th>area</th>\n",
              "      <th>bathrooms</th>\n",
              "      <th>beds</th>\n",
              "      <th>ber_classification</th>\n",
              "      <th>county</th>\n",
              "      <th>description_block</th>\n",
              "      <th>environment</th>\n",
              "      <th>facility</th>\n",
              "      <th>features</th>\n",
              "      <th>latitude</th>\n",
              "      <th>longitude</th>\n",
              "      <th>no_of_units</th>\n",
              "      <th>property_category</th>\n",
              "      <th>property_type</th>\n",
              "      <th>surface</th>\n",
              "    </tr>\n",
              "  </thead>\n",
              "  <tbody>\n",
              "    <tr>\n",
              "      <th>495</th>\n",
              "      <td>12369815</td>\n",
              "      <td>Ringsend</td>\n",
              "      <td>1.0</td>\n",
              "      <td>2.0</td>\n",
              "      <td>NaN</td>\n",
              "      <td>Dublin</td>\n",
              "      <td>***SUPERB LOCATION / PRIVATE PARKING OPTION AV...</td>\n",
              "      <td>prod</td>\n",
              "      <td>NaN</td>\n",
              "      <td>Adjacent to Grand Canal Dock\\nClose to a host ...</td>\n",
              "      <td>53.342207</td>\n",
              "      <td>-6.226101</td>\n",
              "      <td>NaN</td>\n",
              "      <td>sale</td>\n",
              "      <td>apartment</td>\n",
              "      <td>65.0</td>\n",
              "    </tr>\n",
              "    <tr>\n",
              "      <th>496</th>\n",
              "      <td>12416011</td>\n",
              "      <td>Cabinteely</td>\n",
              "      <td>3.0</td>\n",
              "      <td>5.0</td>\n",
              "      <td>E1</td>\n",
              "      <td>Dublin</td>\n",
              "      <td>OPEN VIEWING SATURDAY 7TH MARCH, 10.00AM - 10....</td>\n",
              "      <td>prod</td>\n",
              "      <td>Parking,Alarm,Oil Fired Central Heating</td>\n",
              "      <td>Excellently presented 5 bedroom family home\\nE...</td>\n",
              "      <td>53.261475</td>\n",
              "      <td>-6.147720</td>\n",
              "      <td>NaN</td>\n",
              "      <td>sale</td>\n",
              "      <td>detached</td>\n",
              "      <td>191.3</td>\n",
              "    </tr>\n",
              "    <tr>\n",
              "      <th>497</th>\n",
              "      <td>12232222</td>\n",
              "      <td>Artane</td>\n",
              "      <td>1.0</td>\n",
              "      <td>3.0</td>\n",
              "      <td>G</td>\n",
              "      <td>Dublin</td>\n",
              "      <td>Sherry FitzGerald is delighted to present to t...</td>\n",
              "      <td>prod</td>\n",
              "      <td>NaN</td>\n",
              "      <td>Detached Family Home\\nOnly One Owner\\nMature C...</td>\n",
              "      <td>53.391619</td>\n",
              "      <td>-6.205157</td>\n",
              "      <td>NaN</td>\n",
              "      <td>sale</td>\n",
              "      <td>detached</td>\n",
              "      <td>105.0</td>\n",
              "    </tr>\n",
              "    <tr>\n",
              "      <th>498</th>\n",
              "      <td>11905630</td>\n",
              "      <td>Clontarf</td>\n",
              "      <td>2.0</td>\n",
              "      <td>4.0</td>\n",
              "      <td>E2</td>\n",
              "      <td>Dublin</td>\n",
              "      <td>Modernised yet still in touch with it's period...</td>\n",
              "      <td>prod</td>\n",
              "      <td>Parking,Gas Fired Central Heating,Alarm,Wired ...</td>\n",
              "      <td>Stunning coastal views.\\nExcellent condition t...</td>\n",
              "      <td>53.360578</td>\n",
              "      <td>-6.183701</td>\n",
              "      <td>NaN</td>\n",
              "      <td>sale</td>\n",
              "      <td>end-of-terrace</td>\n",
              "      <td>130.0</td>\n",
              "    </tr>\n",
              "    <tr>\n",
              "      <th>499</th>\n",
              "      <td>12394865</td>\n",
              "      <td>Drumcondra</td>\n",
              "      <td>2.0</td>\n",
              "      <td>2.0</td>\n",
              "      <td>C1</td>\n",
              "      <td>Dublin</td>\n",
              "      <td>MOVEHOME ESTATE AGENTS .. are delighted to pre...</td>\n",
              "      <td>prod</td>\n",
              "      <td>NaN</td>\n",
              "      <td>* Spacious two Bedroom master ensuite apartmen...</td>\n",
              "      <td>53.366827</td>\n",
              "      <td>-6.248329</td>\n",
              "      <td>NaN</td>\n",
              "      <td>sale</td>\n",
              "      <td>apartment</td>\n",
              "      <td>71.0</td>\n",
              "    </tr>\n",
              "  </tbody>\n",
              "</table>\n",
              "</div>"
            ],
            "text/plain": [
              "        ad_id        area  bathrooms  ...  property_category   property_type surface\n",
              "495  12369815    Ringsend        1.0  ...               sale       apartment    65.0\n",
              "496  12416011  Cabinteely        3.0  ...               sale        detached   191.3\n",
              "497  12232222      Artane        1.0  ...               sale        detached   105.0\n",
              "498  11905630    Clontarf        2.0  ...               sale  end-of-terrace   130.0\n",
              "499  12394865  Drumcondra        2.0  ...               sale       apartment    71.0\n",
              "\n",
              "[5 rows x 16 columns]"
            ]
          },
          "metadata": {}
        }
      ]
    },
    {
      "cell_type": "code",
      "metadata": {
        "id": "wtO72PcBVOdt",
        "colab": {
          "base_uri": "https://localhost:8080/",
          "height": 206
        },
        "outputId": "bfc9fe39-66db-494a-e645-d8ec5fd0b320"
      },
      "source": [
        "display(dfcost.tail())"
      ],
      "execution_count": 17,
      "outputs": [
        {
          "output_type": "display_data",
          "data": {
            "text/html": [
              "<div>\n",
              "<style scoped>\n",
              "    .dataframe tbody tr th:only-of-type {\n",
              "        vertical-align: middle;\n",
              "    }\n",
              "\n",
              "    .dataframe tbody tr th {\n",
              "        vertical-align: top;\n",
              "    }\n",
              "\n",
              "    .dataframe thead th {\n",
              "        text-align: right;\n",
              "    }\n",
              "</style>\n",
              "<table border=\"1\" class=\"dataframe\">\n",
              "  <thead>\n",
              "    <tr style=\"text-align: right;\">\n",
              "      <th></th>\n",
              "      <th>Id</th>\n",
              "      <th>Expected</th>\n",
              "    </tr>\n",
              "  </thead>\n",
              "  <tbody>\n",
              "    <tr>\n",
              "      <th>495</th>\n",
              "      <td>12369815</td>\n",
              "      <td>345000.0</td>\n",
              "    </tr>\n",
              "    <tr>\n",
              "      <th>496</th>\n",
              "      <td>12416011</td>\n",
              "      <td>775000.0</td>\n",
              "    </tr>\n",
              "    <tr>\n",
              "      <th>497</th>\n",
              "      <td>12232222</td>\n",
              "      <td>360000.0</td>\n",
              "    </tr>\n",
              "    <tr>\n",
              "      <th>498</th>\n",
              "      <td>11905630</td>\n",
              "      <td>925000.0</td>\n",
              "    </tr>\n",
              "    <tr>\n",
              "      <th>499</th>\n",
              "      <td>12394865</td>\n",
              "      <td>325000.0</td>\n",
              "    </tr>\n",
              "  </tbody>\n",
              "</table>\n",
              "</div>"
            ],
            "text/plain": [
              "           Id  Expected\n",
              "495  12369815  345000.0\n",
              "496  12416011  775000.0\n",
              "497  12232222  360000.0\n",
              "498  11905630  925000.0\n",
              "499  12394865  325000.0"
            ]
          },
          "metadata": {}
        }
      ]
    },
    {
      "cell_type": "code",
      "metadata": {
        "id": "5rq_p-D4yLBe",
        "colab": {
          "base_uri": "https://localhost:8080/",
          "height": 1000
        },
        "outputId": "7d391831-fe62-499a-aedc-5740a7b7dbfa"
      },
      "source": [
        "display(dftrain.describe())\n",
        "\n",
        "print(\"\\n\\nmissing values _ %\")\n",
        "print(dftrain.isna().sum()* 100 / len(dftrain))\n",
        "print(\"_________\\nunique values\")\n",
        "print(dftrain.nunique(axis=0))"
      ],
      "execution_count": 18,
      "outputs": [
        {
          "output_type": "display_data",
          "data": {
            "text/html": [
              "<div>\n",
              "<style scoped>\n",
              "    .dataframe tbody tr th:only-of-type {\n",
              "        vertical-align: middle;\n",
              "    }\n",
              "\n",
              "    .dataframe tbody tr th {\n",
              "        vertical-align: top;\n",
              "    }\n",
              "\n",
              "    .dataframe thead th {\n",
              "        text-align: right;\n",
              "    }\n",
              "</style>\n",
              "<table border=\"1\" class=\"dataframe\">\n",
              "  <thead>\n",
              "    <tr style=\"text-align: right;\">\n",
              "      <th></th>\n",
              "      <th>ad_id</th>\n",
              "      <th>bathrooms</th>\n",
              "      <th>beds</th>\n",
              "      <th>latitude</th>\n",
              "      <th>longitude</th>\n",
              "      <th>no_of_units</th>\n",
              "      <th>price</th>\n",
              "      <th>surface</th>\n",
              "    </tr>\n",
              "  </thead>\n",
              "  <tbody>\n",
              "    <tr>\n",
              "      <th>count</th>\n",
              "      <td>2.982000e+03</td>\n",
              "      <td>2931.000000</td>\n",
              "      <td>2931.000000</td>\n",
              "      <td>2982.000000</td>\n",
              "      <td>2982.000000</td>\n",
              "      <td>59.000000</td>\n",
              "      <td>2.892000e+03</td>\n",
              "      <td>2431.000000</td>\n",
              "    </tr>\n",
              "    <tr>\n",
              "      <th>mean</th>\n",
              "      <td>1.224065e+07</td>\n",
              "      <td>1.998635</td>\n",
              "      <td>2.979188</td>\n",
              "      <td>53.355991</td>\n",
              "      <td>-6.257175</td>\n",
              "      <td>7.440678</td>\n",
              "      <td>5.323536e+05</td>\n",
              "      <td>318.851787</td>\n",
              "    </tr>\n",
              "    <tr>\n",
              "      <th>std</th>\n",
              "      <td>5.793037e+05</td>\n",
              "      <td>1.291875</td>\n",
              "      <td>1.468408</td>\n",
              "      <td>0.086748</td>\n",
              "      <td>0.141906</td>\n",
              "      <td>8.937081</td>\n",
              "      <td>5.678148e+05</td>\n",
              "      <td>4389.423136</td>\n",
              "    </tr>\n",
              "    <tr>\n",
              "      <th>min</th>\n",
              "      <td>9.968870e+05</td>\n",
              "      <td>0.000000</td>\n",
              "      <td>0.000000</td>\n",
              "      <td>51.458439</td>\n",
              "      <td>-6.521183</td>\n",
              "      <td>0.000000</td>\n",
              "      <td>1.999500e+04</td>\n",
              "      <td>3.400000</td>\n",
              "    </tr>\n",
              "    <tr>\n",
              "      <th>25%</th>\n",
              "      <td>1.226813e+07</td>\n",
              "      <td>1.000000</td>\n",
              "      <td>2.000000</td>\n",
              "      <td>53.298929</td>\n",
              "      <td>-6.314064</td>\n",
              "      <td>2.000000</td>\n",
              "      <td>2.800000e+05</td>\n",
              "      <td>74.100000</td>\n",
              "    </tr>\n",
              "    <tr>\n",
              "      <th>50%</th>\n",
              "      <td>1.237758e+07</td>\n",
              "      <td>2.000000</td>\n",
              "      <td>3.000000</td>\n",
              "      <td>53.345497</td>\n",
              "      <td>-6.252254</td>\n",
              "      <td>3.000000</td>\n",
              "      <td>3.800000e+05</td>\n",
              "      <td>100.000000</td>\n",
              "    </tr>\n",
              "    <tr>\n",
              "      <th>75%</th>\n",
              "      <td>1.240294e+07</td>\n",
              "      <td>3.000000</td>\n",
              "      <td>4.000000</td>\n",
              "      <td>53.388845</td>\n",
              "      <td>-6.196049</td>\n",
              "      <td>8.000000</td>\n",
              "      <td>5.750000e+05</td>\n",
              "      <td>142.000000</td>\n",
              "    </tr>\n",
              "    <tr>\n",
              "      <th>max</th>\n",
              "      <td>1.242836e+07</td>\n",
              "      <td>18.000000</td>\n",
              "      <td>27.000000</td>\n",
              "      <td>53.630588</td>\n",
              "      <td>-1.744995</td>\n",
              "      <td>36.000000</td>\n",
              "      <td>9.995000e+06</td>\n",
              "      <td>182108.539008</td>\n",
              "    </tr>\n",
              "  </tbody>\n",
              "</table>\n",
              "</div>"
            ],
            "text/plain": [
              "              ad_id    bathrooms  ...         price        surface\n",
              "count  2.982000e+03  2931.000000  ...  2.892000e+03    2431.000000\n",
              "mean   1.224065e+07     1.998635  ...  5.323536e+05     318.851787\n",
              "std    5.793037e+05     1.291875  ...  5.678148e+05    4389.423136\n",
              "min    9.968870e+05     0.000000  ...  1.999500e+04       3.400000\n",
              "25%    1.226813e+07     1.000000  ...  2.800000e+05      74.100000\n",
              "50%    1.237758e+07     2.000000  ...  3.800000e+05     100.000000\n",
              "75%    1.240294e+07     3.000000  ...  5.750000e+05     142.000000\n",
              "max    1.242836e+07    18.000000  ...  9.995000e+06  182108.539008\n",
              "\n",
              "[8 rows x 8 columns]"
            ]
          },
          "metadata": {}
        },
        {
          "output_type": "stream",
          "name": "stdout",
          "text": [
            "\n",
            "\n",
            "missing values _ %\n",
            "ad_id                  0.000000\n",
            "area                   0.000000\n",
            "bathrooms              1.710262\n",
            "beds                   1.710262\n",
            "ber_classification    22.702884\n",
            "county                 0.000000\n",
            "description_block      0.000000\n",
            "environment            0.000000\n",
            "facility              67.639168\n",
            "features               0.000000\n",
            "latitude               0.000000\n",
            "longitude              0.000000\n",
            "no_of_units           98.021462\n",
            "price                  3.018109\n",
            "property_category      0.000000\n",
            "property_type          1.710262\n",
            "surface               18.477532\n",
            "dtype: float64\n",
            "_________\n",
            "unique values\n",
            "ad_id                 2982\n",
            "area                   156\n",
            "bathrooms               13\n",
            "beds                    15\n",
            "ber_classification      16\n",
            "county                   1\n",
            "description_block     2976\n",
            "environment              1\n",
            "facility                34\n",
            "features              1882\n",
            "latitude              2879\n",
            "longitude             2889\n",
            "no_of_units             22\n",
            "price                  355\n",
            "property_category        2\n",
            "property_type           10\n",
            "surface                909\n",
            "dtype: int64\n"
          ]
        }
      ]
    },
    {
      "cell_type": "markdown",
      "metadata": {
        "id": "_btUyMLDfIp1"
      },
      "source": [
        "- **no_of_units** can go as there is too little data there.\n",
        "\n",
        "- **county**, **environment**  can also go as there's only one value for each.\n",
        " \n",
        "- **area** will also have to go as it has too many values to encode\n",
        "\n",
        "- facility has a lot of missing values. Though this field being missing may be valid data anyway.\n",
        "\n",
        "- ber_classification may be able to be mapped ordinally.\n",
        "\n",
        "- One-hot encoding and simple imputation can be applied to the other categories with missing values less than 25 %\n",
        "\n",
        "- Facility, Features and description_block may have some relevant data based on content length, or other variables, despite their current type being \"String\"\n",
        "\n",
        "This data-set has many potential options for pre-processing, but having the data split before pre-processing may lead to issues, so it will be recombined for later."
      ]
    },
    {
      "cell_type": "code",
      "metadata": {
        "id": "8Jwv4-hqbyNw"
      },
      "source": [
        "dropcols = ['no_of_units', 'county', 'environment', 'area', 'ad_id']"
      ],
      "execution_count": 19,
      "outputs": []
    },
    {
      "cell_type": "markdown",
      "metadata": {
        "id": "ztBkSZluye87"
      },
      "source": [
        "\n",
        "\n",
        "### Combining imported dbs to be processed, shuffled and split later."
      ]
    },
    {
      "cell_type": "code",
      "metadata": {
        "id": "zID12_9yVfV1"
      },
      "source": [
        "### join train and test to split later\n",
        "dftest['price'] = dfcost['Expected']\n",
        "\n",
        "df = dftrain.append(dftest)"
      ],
      "execution_count": 20,
      "outputs": []
    },
    {
      "cell_type": "code",
      "metadata": {
        "id": "A502z1stzgKm"
      },
      "source": [
        "def inspect_data(df, dropcols):\n",
        "  df = df.drop(df[dropcols], axis=1)\n",
        "\n",
        "  sns.pairplot(data=df.dropna())\n",
        "  plt.show()\n",
        "\n",
        "  display(df.describe())"
      ],
      "execution_count": 21,
      "outputs": []
    },
    {
      "cell_type": "code",
      "metadata": {
        "id": "L5ktX6jqx-NR",
        "colab": {
          "base_uri": "https://localhost:8080/",
          "height": 0
        },
        "outputId": "3d2e85c1-30d1-4002-b5a4-54e51174705e"
      },
      "source": [
        "inspect_data(dftrain, dropcols)"
      ],
      "execution_count": 22,
      "outputs": [
        {
          "output_type": "display_data",
          "data": {
            "image/png": "[encoded data removed]",
            "text/plain": [
              "<Figure size 1080x1080 with 42 Axes>"
            ]
          },
          "metadata": {
            "needs_background": "light"
          }
        },
        {
          "output_type": "display_data",
          "data": {
            "text/html": [
              "<div>\n",
              "<style scoped>\n",
              "    .dataframe tbody tr th:only-of-type {\n",
              "        vertical-align: middle;\n",
              "    }\n",
              "\n",
              "    .dataframe tbody tr th {\n",
              "        vertical-align: top;\n",
              "    }\n",
              "\n",
              "    .dataframe thead th {\n",
              "        text-align: right;\n",
              "    }\n",
              "</style>\n",
              "<table border=\"1\" class=\"dataframe\">\n",
              "  <thead>\n",
              "    <tr style=\"text-align: right;\">\n",
              "      <th></th>\n",
              "      <th>bathrooms</th>\n",
              "      <th>beds</th>\n",
              "      <th>latitude</th>\n",
              "      <th>longitude</th>\n",
              "      <th>price</th>\n",
              "      <th>surface</th>\n",
              "    </tr>\n",
              "  </thead>\n",
              "  <tbody>\n",
              "    <tr>\n",
              "      <th>count</th>\n",
              "      <td>2931.000000</td>\n",
              "      <td>2931.000000</td>\n",
              "      <td>2982.000000</td>\n",
              "      <td>2982.000000</td>\n",
              "      <td>2.892000e+03</td>\n",
              "      <td>2431.000000</td>\n",
              "    </tr>\n",
              "    <tr>\n",
              "      <th>mean</th>\n",
              "      <td>1.998635</td>\n",
              "      <td>2.979188</td>\n",
              "      <td>53.355991</td>\n",
              "      <td>-6.257175</td>\n",
              "      <td>5.323536e+05</td>\n",
              "      <td>318.851787</td>\n",
              "    </tr>\n",
              "    <tr>\n",
              "      <th>std</th>\n",
              "      <td>1.291875</td>\n",
              "      <td>1.468408</td>\n",
              "      <td>0.086748</td>\n",
              "      <td>0.141906</td>\n",
              "      <td>5.678148e+05</td>\n",
              "      <td>4389.423136</td>\n",
              "    </tr>\n",
              "    <tr>\n",
              "      <th>min</th>\n",
              "      <td>0.000000</td>\n",
              "      <td>0.000000</td>\n",
              "      <td>51.458439</td>\n",
              "      <td>-6.521183</td>\n",
              "      <td>1.999500e+04</td>\n",
              "      <td>3.400000</td>\n",
              "    </tr>\n",
              "    <tr>\n",
              "      <th>25%</th>\n",
              "      <td>1.000000</td>\n",
              "      <td>2.000000</td>\n",
              "      <td>53.298929</td>\n",
              "      <td>-6.314064</td>\n",
              "      <td>2.800000e+05</td>\n",
              "      <td>74.100000</td>\n",
              "    </tr>\n",
              "    <tr>\n",
              "      <th>50%</th>\n",
              "      <td>2.000000</td>\n",
              "      <td>3.000000</td>\n",
              "      <td>53.345497</td>\n",
              "      <td>-6.252254</td>\n",
              "      <td>3.800000e+05</td>\n",
              "      <td>100.000000</td>\n",
              "    </tr>\n",
              "    <tr>\n",
              "      <th>75%</th>\n",
              "      <td>3.000000</td>\n",
              "      <td>4.000000</td>\n",
              "      <td>53.388845</td>\n",
              "      <td>-6.196049</td>\n",
              "      <td>5.750000e+05</td>\n",
              "      <td>142.000000</td>\n",
              "    </tr>\n",
              "    <tr>\n",
              "      <th>max</th>\n",
              "      <td>18.000000</td>\n",
              "      <td>27.000000</td>\n",
              "      <td>53.630588</td>\n",
              "      <td>-1.744995</td>\n",
              "      <td>9.995000e+06</td>\n",
              "      <td>182108.539008</td>\n",
              "    </tr>\n",
              "  </tbody>\n",
              "</table>\n",
              "</div>"
            ],
            "text/plain": [
              "         bathrooms         beds  ...         price        surface\n",
              "count  2931.000000  2931.000000  ...  2.892000e+03    2431.000000\n",
              "mean      1.998635     2.979188  ...  5.323536e+05     318.851787\n",
              "std       1.291875     1.468408  ...  5.678148e+05    4389.423136\n",
              "min       0.000000     0.000000  ...  1.999500e+04       3.400000\n",
              "25%       1.000000     2.000000  ...  2.800000e+05      74.100000\n",
              "50%       2.000000     3.000000  ...  3.800000e+05     100.000000\n",
              "75%       3.000000     4.000000  ...  5.750000e+05     142.000000\n",
              "max      18.000000    27.000000  ...  9.995000e+06  182108.539008\n",
              "\n",
              "[8 rows x 6 columns]"
            ]
          },
          "metadata": {}
        }
      ]
    },
    {
      "cell_type": "markdown",
      "metadata": {
        "id": "0thpk50OzD-P"
      },
      "source": [
        "#### Outliers\n",
        "- bathrooms and beds both have outliers beyond 7, but there may be other features which explain these outliers, so I will keep them in the df.\n",
        "- Similarly *surface* has a large outlier. This is investigated below, perhaps it's a site which would explain it's outlier status."
      ]
    },
    {
      "cell_type": "code",
      "metadata": {
        "id": "4IdIpTOc2h1b",
        "colab": {
          "base_uri": "https://localhost:8080/",
          "height": 0
        },
        "outputId": "69a3628d-93fc-4e48-bc69-e3c89493c434"
      },
      "source": [
        "display(dftrain[['property_type', 'surface']].sort_values('surface').dropna())"
      ],
      "execution_count": 23,
      "outputs": [
        {
          "output_type": "display_data",
          "data": {
            "text/html": [
              "<div>\n",
              "<style scoped>\n",
              "    .dataframe tbody tr th:only-of-type {\n",
              "        vertical-align: middle;\n",
              "    }\n",
              "\n",
              "    .dataframe tbody tr th {\n",
              "        vertical-align: top;\n",
              "    }\n",
              "\n",
              "    .dataframe thead th {\n",
              "        text-align: right;\n",
              "    }\n",
              "</style>\n",
              "<table border=\"1\" class=\"dataframe\">\n",
              "  <thead>\n",
              "    <tr style=\"text-align: right;\">\n",
              "      <th></th>\n",
              "      <th>property_type</th>\n",
              "      <th>surface</th>\n",
              "    </tr>\n",
              "  </thead>\n",
              "  <tbody>\n",
              "    <tr>\n",
              "      <th>1733</th>\n",
              "      <td>apartment</td>\n",
              "      <td>3.400000</td>\n",
              "    </tr>\n",
              "    <tr>\n",
              "      <th>2300</th>\n",
              "      <td>apartment</td>\n",
              "      <td>18.600000</td>\n",
              "    </tr>\n",
              "    <tr>\n",
              "      <th>257</th>\n",
              "      <td>studio</td>\n",
              "      <td>22.450000</td>\n",
              "    </tr>\n",
              "    <tr>\n",
              "      <th>172</th>\n",
              "      <td>studio</td>\n",
              "      <td>25.000000</td>\n",
              "    </tr>\n",
              "    <tr>\n",
              "      <th>2355</th>\n",
              "      <td>apartment</td>\n",
              "      <td>27.500000</td>\n",
              "    </tr>\n",
              "    <tr>\n",
              "      <th>...</th>\n",
              "      <td>...</td>\n",
              "      <td>...</td>\n",
              "    </tr>\n",
              "    <tr>\n",
              "      <th>178</th>\n",
              "      <td>site</td>\n",
              "      <td>16187.425690</td>\n",
              "    </tr>\n",
              "    <tr>\n",
              "      <th>722</th>\n",
              "      <td>site</td>\n",
              "      <td>36178.896416</td>\n",
              "    </tr>\n",
              "    <tr>\n",
              "      <th>88</th>\n",
              "      <td>bungalow</td>\n",
              "      <td>72236.387140</td>\n",
              "    </tr>\n",
              "    <tr>\n",
              "      <th>99</th>\n",
              "      <td>site</td>\n",
              "      <td>80937.128448</td>\n",
              "    </tr>\n",
              "    <tr>\n",
              "      <th>586</th>\n",
              "      <td>site</td>\n",
              "      <td>182108.539008</td>\n",
              "    </tr>\n",
              "  </tbody>\n",
              "</table>\n",
              "<p>2431 rows × 2 columns</p>\n",
              "</div>"
            ],
            "text/plain": [
              "     property_type        surface\n",
              "1733     apartment       3.400000\n",
              "2300     apartment      18.600000\n",
              "257         studio      22.450000\n",
              "172         studio      25.000000\n",
              "2355     apartment      27.500000\n",
              "...            ...            ...\n",
              "178           site   16187.425690\n",
              "722           site   36178.896416\n",
              "88        bungalow   72236.387140\n",
              "99            site   80937.128448\n",
              "586           site  182108.539008\n",
              "\n",
              "[2431 rows x 2 columns]"
            ]
          },
          "metadata": {}
        }
      ]
    },
    {
      "cell_type": "markdown",
      "metadata": {
        "id": "Jrhz-OVw4xMZ"
      },
      "source": [
        "This outlier is a 'site'. It's status as an outlier is not grounds for dropping this sample. "
      ]
    },
    {
      "cell_type": "code",
      "metadata": {
        "colab": {
          "base_uri": "https://localhost:8080/"
        },
        "id": "EZlFJnCClxqO",
        "outputId": "14dcd4f4-6840-4006-81e4-dae4c33f60f5"
      },
      "source": [
        "print(\"description_block\")\n",
        "print(df[['description_block']][df[['description_block', 'facility', 'features']].notna()].tail(5).values, end='\\n\\n')\n",
        "\n",
        "print('facility')\n",
        "print(df[['facility']][df[['description_block', 'facility', 'features']].notna()].tail(5).values, end=\"\\n\\n\")\n",
        "\n",
        "print('features')\n",
        "print(df[['features']][df[['description_block', 'facility', 'features']].notna()].tail(5).values, end=\"\\n\\n\")"
      ],
      "execution_count": 24,
      "outputs": [
        {
          "output_type": "stream",
          "name": "stdout",
          "text": [
            "description_block\n",
            "[[\"***SUPERB LOCATION / PRIVATE PARKING OPTION AVAILABLE/ SMALL EXCLUSIVE DEVELOPMENT / RESIDENT ROOF-TOP GARDEN***\\n\\nKELLY BRADSHAW DALTON are delighted to announce 15 Ropewalk Place, Ringsend, Dublin 4 to the market.\\nOn Dublin cities doorstep, yet tucked away at the end of a quiet cul-de-sac, sits the small private and exclusive development of Ropewalk Place. Ropewalk is a wonderful red-brick building consisting of just 23 apartments, off of Cambridge Road. The development was constructed in 2003.\\n\\nUpon entering the well maintained foyer you are immediately aware of the privacy and seclusion within the building. Strolling through the beautifully manicured communal gardens with pretty paved walkways and stunning decorative flowerbeds you will find apartment 15 to the building on your left.\\n\\nNo.15 is perched on the second floor accessed via lift or stairs, and is deceptively spacious and very well laid out. There are two large storage units in the hallway, a must for any city apartment dwelling and a hot-press with shelving for further storage. Further down the hallway is the real gem, a large bright and open plan living room with dining area and kitchen. The living area is drenched in natural light, that floods the room through the floor to ceiling windows and door which provides access to your own private balcony. Each window gives you a different city view and the living room is no exception as one can catch a glimpse of St Patricks' steeple in the distance and the rooftops of bustling Dublin City. There is a dining area ideal for entertaining guests, and off of the dining area is the fully fitted kitchen. The kitchen has been fitted with shaker style units, and provides plenty of worktop space for cooking and preparation.\\n\\nMoving on from the living room there are two large double bedrooms. Each room has been fitted with built in wardrobes and carpet flooring. The rooms are of exceptional size and have ample floor space for additional storage if required. Completing the living accommodation is the fully tiled bathroom with bath and overhead shower.\\nThis well managed development with superb residents' roof-top communal garden enjoying all day sun and excellent views over the surrounding area, is adjacent to Ringsend Park, ideal for walking, running or outdoor activities. There are also a host of amenities on the doorstep with an excellent range of shops including Tesco Express, and trendy bars, cafes and restaurants. \\n\\nThis contemporary apartment is presented in excellent condition and would suit both an owner occupier or an investor given the large employers in the area including Google, Facebook, Linkedin and HSBC. The location is hugely sought just minutes from Grand Canal Dock, Sandymount Strand, the IFSC, The O2 Arena, Shelbourne Race Park and Ballsbridge. Both the Dart and Luas are a short walk away and Sandymount Strand a mere five minutes' walk. Viewing comes highly recommended.\"]\n",
            " [\"OPEN VIEWING SATURDAY 7TH MARCH, 10.00AM - 10.30AM\\n\\nHunters Estate Agent is proud to present No. 11 Shrewsbury Lawn for sale.  A well-appointed 5 bedroom two storey, detached family home extending to c.  191.3sqm/2,059sqft that has been extremely well maintained by the current and only owners. \\n\\nBuilt in the 1960s by Leinster Homes 11 Shrewsbury Lawn is located in a mature, residential development just off Johnstown Road, nestled in a quiet tree lined development. Accommodation briefly comprises of a large welcoming hallway, and a downstairs bathroom.  A large, light filled extremely impressive living/dining room to the rear of the property is complete with an open fire and a door leading to a large well-appointed kitchen/dining area overlooking the rear garden. The ground floor is further complete by a study and family room. There is also access to a large garage from the entrance hallway. \\n\\nUpstairs you are immediately greeted by a large landing space with a large shelved hot-press and there are five bedrooms, three double bedrooms, (master ensuite) and two generous single bedrooms and a family bathroom.  \\n\\nThe property is accessed via a paved driveway with parking for two cars and side access to the rear garden. There is a front lawn also. To the rear there is a large landscaped south-west garden complete with patio area ideal for al-fresco dining in the summer months or quiet relaxation.  These is also a large garage and there are outhouses leading from the garage to the rear garden.\\n\\nShrewsbury Lawn is conveniently located within a two-minute walk from all the amenities Cabinteely Village has to offer including cafes, restaurants, bijou shops, library, church and the beautiful Cabinteely Park and House. Cabinteely Park boasts stunning woodland walks, large children€TM playgrounds, sports fields and several cafés and restaurants.  There is a local Centra convenience store a mere 5-minute walk away on Johnstown Road.  Dunnes Stores, Cornelscourt and Tesco Express in The Park development are very accessible also.  Cabinteely is home to several sports clubs with GAA, soccer, rugby and tennis available locally.\\n\\nSeveral top-rated schools are within easy reach, including St Brigid's girls and boys national schools, Our Lady of Good Counsel Johnstown girls and boys national schools, Clonkeen College, Loreto College Foxrock, Cabinteely Community School, St Joseph of Cluny, CBC Monkstown, Colaiste Eoin, Colaiste Iosagain, Scoil Lorcain and Blackrock College.  UCD, IADT and Trinity College are all easily reached via public transport.\\n\\nShrewsbury Lawn benefits from excellent transport links.  The N11 (QBC), LUAS (Cherrywood or Carrickmines) and M50 are all easily accessed.  Dublin Bus routes that serve the area include 145, 46A, 84, 155 and 63 alongside the Aircoach.\\n\\nViewing is highly recommended. \\n\\nSPECIAL FEATURES\\nExcellently presented 5 bedroom family home\\nExtending to c. 191.3sqm/2,059sqft\\nThree bathrooms\\nTastefully extended and upgraded by the current owners\\nOil-fired central heating \\nDouble glazed windows \\nSecurity alarm system \\nClose to local schools, shops and recreational / leisure amenities\\nA short stroll from Cabinteely Park\\nExcellent transport links (N11 - QBC, M50 and LUAS)\\n\\nACCOMMODATION:\\n\\nENTRANCE HALL\\n4m (13.12ft) x 3.42m (11.22ft)\\nAttractive coving and centre piece, Amtico vinyl flooring, cloak cupboard, door to :\\n\\nDRAWING ROOM\\n4.94m (16.21ft) x 3.54m (11.61ft)\\nFeature fireplace with granite inset and slate hearth. Attractive ceiling coving and centre piece. Stripped and polished timber floor. Opening into:\\n\\nDINING ROOM\\n4.94m (16.21ft) x 3.46m (11.35ft)\\nAttractive ceiling coving and centre rose. Stripped and polished timber floor. French doors to the patio and garden.\\n\\nFAMILY ROOM\\n3.56m (11.68ft) x 3.32m (10.89ft)\\nPicture rail, centre rose. Stripped and polished timber floor.\\n\\nSTUDY\\n3.47m (11.38ft) x 3.31m (10.86ft)\\nCeiling coving, fitted double wardrobe.\\n\\nKITCHEN/BREAKFAST AREA\\n4.88m (16.01ft) x 3.32m (10.89ft)\\nRange of fitted units incorporating worktop area with tiled surround and stainless steel sink unit. Appliances to include Electrolux cooker, Bosch fridge freezer and dishwasher. Amtico vinyl flooring.\\n\\nBATHROOM\\n2.2m (7.22ft) x 2m (6.56ft)\\nWhite suite incorporating bath with tiled surround, Mira controlled shower unit, pedestal wash-hand basin, mirror door medicine cabinet, heated towel rail, w.c., tiled walls and floor, decorative coving.\\n\\nLANDING\\n5.94m (19.49ft) x 2.26m (7.41ft)\\nCarpet flooring, access to attic, ceiling light, smoke alarm, decorative ceiling coving, large shelved hotpress with water cylinder enclosed in lagging jacket. Radiator.\\n\\nMASTER BEDROOM SUITE\\n7m (22.97ft) x 3.26m (10.70ft)\\nCarpet flooring, double built-in wardrobes, ceiling light, radiator.\\n\\nENSUITE\\n2.26m (7.41ft) x 2.29m (7.51ft)\\nTiled floor, white suite incorporating Shires w.c., sink with built-in storage, wall mirror, ceiling light, radiator, shower enclosure incorporating Mira shower, glass doors.\\n\\nBEDROOM 2\\n3.6m (11.81ft) x 3.33m (10.93ft)\\nDual aspect windows, ensink, wall mirror, radiator, carpet flooring, picture rail, ceiling rose, ceiling light.\\n\\nBEDROOM 3\\n3.8m (12.47ft) x 3.54m (11.61ft)\\nCarpet, picture rail, ceiling rose, ceiling light, window overlooking rear garden, radiator.\\n\\nBEDROOM 4\\n2.6m (8.53ft) x 3.4m (11.15ft)\\nDual aspect, window, carpet flooring, radiator, ceiling light.\\n\\nFAMILY BATHROOM\\n2.45m (8.04ft) x 2.14m (7.02ft) (Max measurement)\\nTiled floor, tiled walls, white suite incorporating bath with Triton shower unit, Armitage Shanks w.c., pedestal wash-hand basin, glass shelf, wall mirror, towel rail, radiator, ceiling light.\\n\\nBEDROOM 5\\n3.39m (11.12ft) x 3.79m (12.43ft)\\nCarpet, window, radiator, picture rail, ceiling rose, ceiling light.\\n\\nOUTSIDE:\\nFRONT\\nThe front of the property is approached via a cobble lock drive affording off-street parking and boarded by mature hedging, lawn area and herbaceous borders.\\n\\nGARAGE\\n5.71m (18.73ft) x 2.5m (8.20ft)\\nUp and over door, to the front. Pedestrian door to garden, extensive shelving, plumbed for washing machine and dryer\\n\\nREAR GARDEN\\n24m (78.74ft) x 7m (22.97ft)\\nSouth-west facing, steps to slabbed patio area with mature planting and shrubbery, gated side passage allowing access to rear, private, manicured lawn.\\n\\nBER DETAILS\\nBER: E1\\nBER Number: 112807284\\nEnergy Performance Rating: 306.47 kwh/m2/yr\\n\\nFLOOR PLAN\\nNot to scale. For identification purposes only.\\n\\nDIRECTIONS\\nComing from the N11 southbound, take the left turn at the junction with Cabinteely Village, onto Johnstown Road.  Take the first right turn into Shrewsbury development. Number 11 will be on your right.\\n\\nVIEWING\\nStrictly by appointment through Hunters Estate Agent Dalkey on 01 275 1640.\\n\\nNo information, statement, description, quantity or measurement contained in any sales particulars or given orally or contained in any webpage, brochure, catalogue, email, letter, report, docket or hand out issued by or on behalf of Hunters Estate Agents or the vendor in respect of the property shall constitute a representation or a condition or a warranty on behalf of Hunters Estate Agents or the vendor. Any information, statement, description, quantity or measurement so given or contained in any such sales particulars, webpage, brochure, catalogue, email, letter, report or hand out issued by or on behalf of Hunters Estate Agents or the vendor are for illustration purposes only and are not to be taken as matters of fact. Any mistake, omission, inaccuracy or mis-description given orally or contained in any sales particulars, webpage, brochure, catalogue, email, letter, report or hand out issued by or on behalf of Hunters Estate Agents or the vendor shall not give rise to any right of action, claim, entitlement or compensation against Hunters Estate Agents or the vendor. Intending purchasers must satisfy themselves by carrying out their own independent due diligence, inspections or otherwise as to the correctness of any and all of the information, statements, descriptions, quantity or measurements contained in any such sales particulars, webpage, brochure, catalogue, email, letter, report or hand out issued by or on behalf of Hunters Estate Agents or the vendor. The services, systems and appliances shown have not been tested and no warranty is made or given by Hunters Estate Agents or the vendor as to their operability or efficiency.\"]\n",
            " ['Sherry FitzGerald is delighted to present to the market 41 Beechlawn Green.\\n\\nBuilt in the 1970 s, No. 41 is a well-proportioned spacious detached property situated in a quiet cul-de-sac setting adjacent to the Oscar Traynor Road. The accommodation briefly comprises entrance porch and large hallway, living room with brick fireplace, dining room and kitchen. Upstairs the accommodation is further enhanced by 3 good sized bedrooms and stylish family bathroom. The garden to the front is mainly laid in lawn with a shared driveway which provides access to the rear garden. The private and mature rear garden is mainly laid in lawn with a selection of hedging, plants and shrubs.\\n\\nBeechlawn Green is a wonderfully convenient location close to excellent primary and secondary schools, Artane and Northside shopping centres, banks, caf s, sports and recreational facilities, there is also a choice of well serviced bus routes providing access to the city centre. Dublin Airport, Beaumont Hospital, DCU, the M50 &amp; the M1 are also easily accessible.\\n\\nViewing is highly recommended to truly appreciate this fine family home.\\n\\n\\nEntrance Porch .8m x 2m. Sliding door to porch with tiled floor\\n\\nHallway 2m x 4.3m. Spacious entrance hallway with open under stairs storage.\\n\\nLiving Room 4.3m x 4.2m. Well-proportioned living room featuring brick open fireplace. Double doors lead to dining room.\\n\\nDining Room 3.3m x 4m. Bright and spacious dining room looking out to rear garden.\\n\\nKitchen/Breakfast Room 2.8m x 3.1m. Kitchen fitted with floor and wall level units and tiled splash back with access to rear garden. There is ample room for dining table and chairs.\\n\\nLanding 3m x 3.5. Spacious landing with walk-in hot press and access to attic.\\n\\nBedroom 1 3.6m x 4m. Large master bedroom featuring sliderobes\\n\\nBedroom 2 3.3 x 4m. Spacious double bedroom overlooking the front garden.\\n\\nBedroom 3 2.9m x 3.4m. Another good sized bedroom to the front of the house.\\n\\nShower Room 2.7m x 1.8m. Fully tiled room comprising corner shower cubicle, wash hand basin with storage, wc and heated hand rail.']\n",
            " ['Modernised yet still in touch with it\\'s period roots. This beautifully presented four bedroom end terrace property with many original features is a \"must see\" family home.  \\nIt is facing the sea, with  lovely walks along the promenade and an ever changing view through the windows.  Enjoy the lights in the bay at night or watch the giant cruise ships coming and going.  There is also  a cycleway straight to the City and a dedicated bus corridor.    \\nExtended to rear, offering ample living space and with the added benefit of a garage with parking for two cars to rear with remote controlled doors to let you in without getting wet.\\n\\nACCOMMODATION:\\n\\nLARGE OPEN HALLWAY: \\nWith under stairs storage.\\n\\nSITTING ROOM:   \\n4 X 5.4 m.  (Into Bay)\\nMarble fireplaces with tiled insert, double doors leading to:\\n\\nFORMAL DINING ROOM: \\n4  x 4.2 m.   \\nAlso with marble fireplace.\\n\\nGUEST BATHROOM:\\n2.3 x 1.5 m.\\nShower ,WC and WHB.\\n\\nKITCHEN: \\n2.6 X 3 m.\\nModern fully  fitted kitchen adjoining\\nFAMILY DINING ROOM:\\n3.4 x 3 m. \\nWooden floor, double velux ceiling lights  and  patio doors to garden.\\n\\nFIRST FLOOR (Return):   \\n\\nBATHROOM:  \\n2.5 x 2 m. \\nFully tiled, Shower, WC, WHB and storage.      \\n\\nBEDROOM 1:                                                \\n3.3 x 2.63m.   (Single)\\nHot press on  return landing. \\n\\nFIRST FLOOR:\\nBEDROOM 2: \\n4.2 X 4 m. \\nDouble with original Fireplace, Bay windows with fabulous sea views.\\n\\nBEDROOM 3:    \\n3.5 X 5.5 m.   \\nAlso with original fireplace intact\\n\\nBEDROOM 4: \\n3.2 x 2.2 m.\\nAlso with sea views.\\n\\nGarage with rear  access from lane with dual electric doors.']\n",
            " ['MOVEHOME ESTATE AGENTS .. are delighted to present Apartment 12 Garden House to the open market. A superbly appointed two bedroom ground floor apartment that is sure to appeal to all those who cross its threshold. The apartment is in turn key condition and boasts bright and generous proportions throughout with high quality fittings and specification.\\n\\nThis really is a home of distinction which combines enormous character with a classic contemporary style and all the comforts and conveniences one could wish for.Extending to approx. 71 sq.m./ 764 sq.ft. the accommodation comprises of an inviting hallway, two double bedrooms; One Ensuite, a large family bathroom, storage press/utility room, a generous living/dining room and a modern well designed kitchen area. Parking is by way of one designated spot and is located underground. With a flowing open plan scheme, kitchen equipped with a host of state-of-the-art-appliances we are confident this well finished apartment will tick all the boxes on the property search list.\\n\\nThe beautiful No 12 Garden House is situated on Waterfall Avenue, off Richmond Road which is ideally located within walking distance to the City Centre, yet within a stones throw to a host of local shops, cafes and restaurants which Drumcondra Village has to offer. For those working lives involve commuting and travelling - it is the ideal location! Dublin Airport is less than a 10 minute drive away in addition to both the M50 &amp; M1 Motorways. There are also a host of regular transport links and bus services directly to the City Centre. The Mater Hospital, Beaumont Hospital &amp; Dublin City University are also accessible on foot or within a short drive. A number of excellent schools are also located within close proximity.\\n\\nProperties of this calibre rarely come to the market so early viewing is essential, highly recommended and by appointment with MOVEHOME ESTATE AGENTS 01-8844690.\\n\\nACCOMMODATION\\n\\nGround Floor\\n\\nEntrance Hall\\n3.44m/1.07m x 1.05/3.99m\\n\\nLiving/Dining Area\\n5.70m x 3.27m\\n\\nKitchen Area\\n2.64m x 2.21m\\n\\nUtility Room\\n2.20m x 1.32m\\n\\nBathroom\\n2.20m x 1.02m\\n\\nMaster Bedroom\\n4.25m x 2.74m\\n\\nEn-Suite\\n2.39m x 1.55m\\n\\nBedroom 2\\n4.25m x 2.63m\\n\\n** Overall area approx. 71 sq mtrs **\\n**Please note all measurements and floor plans are approximate and provided for guidance only**\\n\\nAll information provided is to the best of our knowledge. The utmost of care and attention has been placed on providing factual and correct information. In certain cases some information may have been provided by the vendor to ourselves. While every care is taken in preparing particulars the firm do not hold themselves responsible for mistakes, errors or inaccuracies in our online advertising and give each and every viewer the right to get a professional opinion on any concern they may have.']]\n",
            "\n",
            "facility\n",
            "[[nan]\n",
            " ['Parking,Alarm,Oil Fired Central Heating']\n",
            " [nan]\n",
            " ['Parking,Gas Fired Central Heating,Alarm,Wired for Cable Television']\n",
            " [nan]]\n",
            "\n",
            "features\n",
            "[[\"Adjacent to Grand Canal Dock\\nClose to a host of amenities \\nFully fitted shaker style kitchen\\nElectric heating\\nManagement fees approx. €1800.00 per annum\\nGreat location next door to Ringsend Park\\nSuperb resident's roof-top garden access via lift\\nTurn-key condition\\nWest facing balcony\\nParking space comes as an option\\n\"]\n",
            " ['Excellently presented 5 bedroom family home\\nExtending to c. 191.3sqm/2,059sqft\\nThree bathrooms\\nTastefully extended and upgraded by the current owners\\nOil-fired central heating \\nDouble glazed windows \\nSecurity alarm system \\nClose to local schools, shops and recreational / leisure amenities\\nA short stroll from Cabinteely Park\\nExcellent transport links (N11 - QBC, M50 and LUAS)\\n']\n",
            " ['Detached Family Home\\nOnly One Owner\\nMature Cul-De-Sac Setting\\nWell-Proportioned Rooms Throughout\\nLarge Private Rear Garden - South-East Facing\\nShared Side Access\\nDouble Glazed Windows\\nGas Fired Central Heating\\nConvenient Location\\nWalking Distance to All Local Amenities\\n']\n",
            " ['Stunning coastal views.\\nExcellent condition throughout.\\nMany period features including high ceilings.\\nModern light filled extension to rear.\\nGuest shower room on ground floor.\\nGarage parking with electric doors to rear\\n']\n",
            " [\"* Spacious two Bedroom master ensuite apartment spanning approx. 764 sq ft.\\n* Superb landscaped areas throughout development\\n* Management fee - '¬2,080.00 per annum\\n* Ample Storage throughout\\n* Secure Gated Development\\n* Ideal first time buyer or investor home ready to move in or rent\\n* Excellent transport links including Drumcondra Train Station.\\n* Convenient to Dublin city centre and is well served by public transport\\n\"]]\n",
            "\n"
          ]
        }
      ]
    },
    {
      "cell_type": "markdown",
      "metadata": {
        "id": "TfMpe5O6DmnL"
      },
      "source": [
        "- Having looked at the '**features**, I have surmised that each feature is marked by a '\\n' new line \n",
        "\n",
        "- Similarly **facilities** are listed and separated by commas      **,**\n",
        "\n",
        "- description_block is separated by \\n\\n  - double new lines\n",
        "\n",
        "\n",
        "These columns can be used by counting the number of entries for **description_block** and **features**.\n",
        "\n",
        "**facilities** on the other hand reuses a series of keywords, which can be processed and on-hot -encoded.\n",
        "\n",
        " I give Tim Hrisikos full credit for this method, as it is much more sophisticated than my initial idea of counting entries. "
      ]
    },
    {
      "cell_type": "code",
      "metadata": {
        "id": "cm0Hy0uALcaA",
        "outputId": "739487d3-2a03-44df-f0b3-2b3ab95acaf7",
        "colab": {
          "base_uri": "https://localhost:8080/"
        }
      },
      "source": [
        "df.drop_duplicates(subset=['ber_classification'])['ber_classification']"
      ],
      "execution_count": 25,
      "outputs": [
        {
          "output_type": "execute_result",
          "data": {
            "text/plain": [
              "0                      NaN\n",
              "15                      A3\n",
              "35                      A2\n",
              "60                      E2\n",
              "61                       G\n",
              "62                      C1\n",
              "64                       F\n",
              "66                      C2\n",
              "67                      C3\n",
              "71                      D2\n",
              "73                      D1\n",
              "75                      B2\n",
              "88                      E1\n",
              "89     SINo666of2006exempt\n",
              "101                     B3\n",
              "356                     B1\n",
              "425                     A1\n",
              "Name: ber_classification, dtype: object"
            ]
          },
          "metadata": {},
          "execution_count": 25
        }
      ]
    },
    {
      "cell_type": "markdown",
      "metadata": {
        "id": "wQ-5MgjmM6h-"
      },
      "source": [
        "ber_classification clearly has a numeric order, and can be mapped ordinally.\n"
      ]
    },
    {
      "cell_type": "markdown",
      "metadata": {
        "id": "fYUM6qtJ_iXV"
      },
      "source": [
        "## Data Transformations"
      ]
    },
    {
      "cell_type": "code",
      "metadata": {
        "id": "TPEvDexMAZNc"
      },
      "source": [
        "def col_to_colCount(df, col, divider):\n",
        "  #this is designed for features and facilities to convert it to a rough count\n",
        "  # of features, based on how they're typically listed in the df\n",
        "  print(\"extracting \"+col +\"...\")\n",
        "  df[col] = df[col].fillna(\"\")\n",
        "  df[col] = df[col].apply(lambda x: x.count(divider)+1)\n",
        "  return df\n",
        "\n",
        "def sort_facilities(df, col):\n",
        "  # Courtesy of Tim Hrisikos\n",
        "  print(\"extracting facitilities...\")\n",
        "  df[col] = df[col].fillna(\"\")\n",
        "  df = df.join(\n",
        "      df[col].str.extractall('([^,]+)')[0].groupby(level=0).apply(pd.value_counts).unstack(fill_value=0).add_prefix('facility_')\n",
        "      )\n",
        "  df.drop('facility', axis=1, inplace=True)\n",
        "  return df\n",
        "\n",
        "ber_classification_mapper = {\n",
        "    #Thanks Nigel Portley\n",
        "    \"SINo666of2006exempt\": 1,\n",
        "    \"A1\": 2,\n",
        "    \"A2\": 3,\n",
        "    \"A3\": 4,\n",
        "    \"B1\": 5,\n",
        "    \"B2\": 6,\n",
        "    \"B3\": 7,\n",
        "    \"C1\": 8,\n",
        "    \"C2\": 9,\n",
        "    \"C3\": 10,\n",
        "    \"D1\": 11,\n",
        "    \"D2\": 12,\n",
        "    \"E1\": 13,\n",
        "    \"E2\": 14,\n",
        "    \"F\": 15,\n",
        "    \"G\": 16\n",
        "}\n",
        "\n",
        "\n",
        "property_category_mapper = {\n",
        "  \"new_development_parent\": 1,\n",
        "  \"sale\": 2,\n",
        "}\n",
        "\n",
        "def drop_cols(df, dropcols):\n",
        "  print(\"dropping\", end=\" \")\n",
        "  for col in dropcols:\n",
        "    print(col, end=\", \")\n",
        "    df.drop(col, axis=1, inplace=True)\n",
        "  print(\"...\")\n",
        "  return df\n",
        "\n",
        "def onehotencode(df, col, drop_first=True):\n",
        "  print(\"one hot encoding \" + col)\n",
        "  return pd.get_dummies(df, columns=[col], \n",
        "                        dummy_na=True, \n",
        "                        drop_first=drop_first)\n",
        "  \n",
        "def remove_locations_outside_Ire(df):\n",
        "  # Carlos Siqueira Do Amaral noticed that there are entries from outside of Ireland.\n",
        "  # This fiunction removes locations outside of Ireland's lat/ long bounds\n",
        "  print(\"removing locations outside of Ireland\")\n",
        "  long0, lat0, long1, lat1 = (-9.97708574059, 51.6693012559, -6.03298539878, 55.1316222195)\n",
        "  return df.loc[(df['longitude'] > long0) & (df['latitude'] > lat0)  & (df['longitude'] < long1) & (df['latitude'] < lat1)]\n",
        "\n",
        "def frame_coordinates_to_dublin_center(df):\n",
        "  print(\"centering coordinates around dublin city center\")\n",
        "  dublat, dublong = 53.350140, -6.266155\n",
        "  df['dist_from_dub_center'] = (df.longitude - dublong)**2 +(df.latitude - dublat)**2\n",
        "  df['latitude'] = df.latitude - dublat\n",
        "  df['longitude'] = df.longitude - dublong\n",
        "  return df\n",
        "\n",
        "def treat_data(df, dropcols = []):\n",
        "  # dropping columns listed below\n",
        "  df = drop_cols(df, dropcols)\n",
        "  #filling values. Justifications outlined in Initial datasets inspection\n",
        "  df['surface'].fillna(df['surface'].median(), inplace=True)\n",
        "  df['bathrooms'].fillna(df['bathrooms'].median(), inplace=True)\n",
        "  df['beds'].fillna(df['beds'].median(), inplace=True)\n",
        "  df['property_category'].fillna(0, inplace=True)\n",
        "  #converting features. Justifications outlined in Initial datasets inspection\n",
        "  df = col_to_colCount(df, 'features' ,'\\n')\n",
        "  df = sort_facilities(df, 'facility')\n",
        "  df = col_to_colCount(df, 'description_block' ,'\\n\\n')\n",
        "  df['ber_classification'] = df['ber_classification'].replace(ber_classification_mapper)\n",
        "  df['ber_classification'].fillna(df['ber_classification'].mean(), inplace=True)\n",
        "  df['property_category'] = df['property_category'].replace(property_category_mapper)\n",
        "  df = onehotencode(df, 'property_type', False)\n",
        "  df.fillna(0,inplace=True)\n",
        "  # a couple of extra columns added based on local features.\n",
        "  df = remove_locations_outside_Ire(df)\n",
        "  df = frame_coordinates_to_dublin_center(df)\n",
        "  try:\n",
        "    df = df[(df.price > 0)]\n",
        "  except:\n",
        "      pass\n",
        "  return df"
      ],
      "execution_count": 26,
      "outputs": []
    },
    {
      "cell_type": "code",
      "metadata": {
        "id": "xFD4TvCRVW7f",
        "colab": {
          "base_uri": "https://localhost:8080/"
        },
        "outputId": "5a058115-ed86-4ae0-ce2f-e61c7da32067"
      },
      "source": [
        "df = treat_data(df, dropcols)\n",
        "\n",
        "X_train,X_test,y_train,y_test = train_test_split(df.drop(df[['price']],axis=1), df[['price']], test_size=0.3)\n",
        "\n",
        "print(\"\\nX_train shape\",\n",
        "    X_train.shape,\n",
        "    X_test.shape,\n",
        "    y_train.shape,\n",
        "    y_test.shape\n",
        ")"
      ],
      "execution_count": 27,
      "outputs": [
        {
          "output_type": "stream",
          "name": "stdout",
          "text": [
            "dropping no_of_units, county, environment, area, ad_id, ...\n",
            "extracting features...\n",
            "extracting facitilities...\n",
            "extracting description_block...\n",
            "one hot encoding property_type\n",
            "removing locations outside of Ireland\n",
            "centering coordinates around dublin city center\n",
            "\n",
            "X_train shape (2373, 27) (1017, 27) (2373, 1) (1017, 1)\n"
          ]
        }
      ]
    },
    {
      "cell_type": "code",
      "metadata": {
        "colab": {
          "base_uri": "https://localhost:8080/",
          "height": 996
        },
        "id": "WbLOLw_uu303",
        "outputId": "913d5927-831d-40f0-f19c-4544588cb816"
      },
      "source": [
        "print(df.isna().sum())\n",
        "display(sns.heatmap(df.corr()))"
      ],
      "execution_count": 28,
      "outputs": [
        {
          "output_type": "stream",
          "name": "stdout",
          "text": [
            "bathrooms                              0\n",
            "beds                                   0\n",
            "ber_classification                     0\n",
            "description_block                      0\n",
            "features                               0\n",
            "latitude                               0\n",
            "longitude                              0\n",
            "price                                  0\n",
            "property_category                      0\n",
            "surface                                0\n",
            "facility_Alarm                         0\n",
            "facility_Gas Fired Central Heating     0\n",
            "facility_Oil Fired Central Heating     0\n",
            "facility_Parking                       0\n",
            "facility_Wheelchair Access             0\n",
            "facility_Wired for Cable Television    0\n",
            "property_type_apartment                0\n",
            "property_type_bungalow                 0\n",
            "property_type_detached                 0\n",
            "property_type_duplex                   0\n",
            "property_type_end-of-terrace           0\n",
            "property_type_semi-detached            0\n",
            "property_type_site                     0\n",
            "property_type_studio                   0\n",
            "property_type_terraced                 0\n",
            "property_type_townhouse                0\n",
            "property_type_nan                      0\n",
            "dist_from_dub_center                   0\n",
            "dtype: int64\n"
          ]
        },
        {
          "output_type": "display_data",
          "data": {
            "text/plain": [
              "<matplotlib.axes._subplots.AxesSubplot at 0x7f3fcfb72410>"
            ]
          },
          "metadata": {}
        },
        {
          "output_type": "display_data",
          "data": {
            "image/png": "[encoded data removed]",
            "text/plain": [
              "<Figure size 432x288 with 2 Axes>"
            ]
          },
          "metadata": {
            "needs_background": "light"
          }
        }
      ]
    },
    {
      "cell_type": "markdown",
      "metadata": {
        "id": "Ej-_PSL7-pgH"
      },
      "source": [
        "### final look at the data"
      ]
    },
    {
      "cell_type": "markdown",
      "metadata": {
        "id": "KRg9lCklAf9f"
      },
      "source": [
        "####Train"
      ]
    },
    {
      "cell_type": "code",
      "metadata": {
        "colab": {
          "base_uri": "https://localhost:8080/",
          "height": 562
        },
        "id": "v9eJZMrWXPwE",
        "outputId": "48271afc-51d8-4d49-aa31-2a1288fdfe97"
      },
      "source": [
        "display(X_train.describe())\n",
        "display(y_train.head())"
      ],
      "execution_count": 29,
      "outputs": [
        {
          "output_type": "display_data",
          "data": {
            "text/html": [
              "<div>\n",
              "<style scoped>\n",
              "    .dataframe tbody tr th:only-of-type {\n",
              "        vertical-align: middle;\n",
              "    }\n",
              "\n",
              "    .dataframe tbody tr th {\n",
              "        vertical-align: top;\n",
              "    }\n",
              "\n",
              "    .dataframe thead th {\n",
              "        text-align: right;\n",
              "    }\n",
              "</style>\n",
              "<table border=\"1\" class=\"dataframe\">\n",
              "  <thead>\n",
              "    <tr style=\"text-align: right;\">\n",
              "      <th></th>\n",
              "      <th>bathrooms</th>\n",
              "      <th>beds</th>\n",
              "      <th>ber_classification</th>\n",
              "      <th>description_block</th>\n",
              "      <th>features</th>\n",
              "      <th>latitude</th>\n",
              "      <th>longitude</th>\n",
              "      <th>property_category</th>\n",
              "      <th>surface</th>\n",
              "      <th>facility_Alarm</th>\n",
              "      <th>facility_Gas Fired Central Heating</th>\n",
              "      <th>facility_Oil Fired Central Heating</th>\n",
              "      <th>facility_Parking</th>\n",
              "      <th>facility_Wheelchair Access</th>\n",
              "      <th>facility_Wired for Cable Television</th>\n",
              "      <th>property_type_apartment</th>\n",
              "      <th>property_type_bungalow</th>\n",
              "      <th>property_type_detached</th>\n",
              "      <th>property_type_duplex</th>\n",
              "      <th>property_type_end-of-terrace</th>\n",
              "      <th>property_type_semi-detached</th>\n",
              "      <th>property_type_site</th>\n",
              "      <th>property_type_studio</th>\n",
              "      <th>property_type_terraced</th>\n",
              "      <th>property_type_townhouse</th>\n",
              "      <th>property_type_nan</th>\n",
              "      <th>dist_from_dub_center</th>\n",
              "    </tr>\n",
              "  </thead>\n",
              "  <tbody>\n",
              "    <tr>\n",
              "      <th>count</th>\n",
              "      <td>2373.000000</td>\n",
              "      <td>2373.000000</td>\n",
              "      <td>2373.000000</td>\n",
              "      <td>2373.000000</td>\n",
              "      <td>2373.000000</td>\n",
              "      <td>2373.000000</td>\n",
              "      <td>2373.000000</td>\n",
              "      <td>2373.000000</td>\n",
              "      <td>2373.000000</td>\n",
              "      <td>2373.000000</td>\n",
              "      <td>2373.000000</td>\n",
              "      <td>2373.000000</td>\n",
              "      <td>2373.000000</td>\n",
              "      <td>2373.000000</td>\n",
              "      <td>2373.000000</td>\n",
              "      <td>2373.000000</td>\n",
              "      <td>2373.000000</td>\n",
              "      <td>2373.000000</td>\n",
              "      <td>2373.000000</td>\n",
              "      <td>2373.000000</td>\n",
              "      <td>2373.000000</td>\n",
              "      <td>2373.000000</td>\n",
              "      <td>2373.000000</td>\n",
              "      <td>2373.000000</td>\n",
              "      <td>2373.000000</td>\n",
              "      <td>2373.0</td>\n",
              "      <td>2.373000e+03</td>\n",
              "    </tr>\n",
              "    <tr>\n",
              "      <th>mean</th>\n",
              "      <td>1.991993</td>\n",
              "      <td>2.973451</td>\n",
              "      <td>10.687511</td>\n",
              "      <td>11.098188</td>\n",
              "      <td>6.058154</td>\n",
              "      <td>0.004754</td>\n",
              "      <td>0.007744</td>\n",
              "      <td>1.998314</td>\n",
              "      <td>290.872051</td>\n",
              "      <td>0.155499</td>\n",
              "      <td>0.271808</td>\n",
              "      <td>0.040034</td>\n",
              "      <td>0.384745</td>\n",
              "      <td>0.028234</td>\n",
              "      <td>0.183734</td>\n",
              "      <td>0.269279</td>\n",
              "      <td>0.026549</td>\n",
              "      <td>0.128529</td>\n",
              "      <td>0.019806</td>\n",
              "      <td>0.079646</td>\n",
              "      <td>0.260008</td>\n",
              "      <td>0.017278</td>\n",
              "      <td>0.000843</td>\n",
              "      <td>0.188791</td>\n",
              "      <td>0.009271</td>\n",
              "      <td>0.0</td>\n",
              "      <td>1.423586e-02</td>\n",
              "    </tr>\n",
              "    <tr>\n",
              "      <th>std</th>\n",
              "      <td>1.261849</td>\n",
              "      <td>1.471386</td>\n",
              "      <td>2.876895</td>\n",
              "      <td>7.676812</td>\n",
              "      <td>3.789685</td>\n",
              "      <td>0.076544</td>\n",
              "      <td>0.091106</td>\n",
              "      <td>0.041030</td>\n",
              "      <td>4374.660037</td>\n",
              "      <td>0.373907</td>\n",
              "      <td>0.475222</td>\n",
              "      <td>0.196080</td>\n",
              "      <td>0.543134</td>\n",
              "      <td>0.165676</td>\n",
              "      <td>0.402297</td>\n",
              "      <td>0.443679</td>\n",
              "      <td>0.160794</td>\n",
              "      <td>0.334749</td>\n",
              "      <td>0.139363</td>\n",
              "      <td>0.270801</td>\n",
              "      <td>0.438731</td>\n",
              "      <td>0.130332</td>\n",
              "      <td>0.029025</td>\n",
              "      <td>0.391425</td>\n",
              "      <td>0.095859</td>\n",
              "      <td>0.0</td>\n",
              "      <td>1.712121e-02</td>\n",
              "    </tr>\n",
              "    <tr>\n",
              "      <th>min</th>\n",
              "      <td>0.000000</td>\n",
              "      <td>0.000000</td>\n",
              "      <td>1.000000</td>\n",
              "      <td>1.000000</td>\n",
              "      <td>1.000000</td>\n",
              "      <td>-0.135913</td>\n",
              "      <td>-0.255028</td>\n",
              "      <td>1.000000</td>\n",
              "      <td>18.600000</td>\n",
              "      <td>0.000000</td>\n",
              "      <td>0.000000</td>\n",
              "      <td>0.000000</td>\n",
              "      <td>0.000000</td>\n",
              "      <td>0.000000</td>\n",
              "      <td>0.000000</td>\n",
              "      <td>0.000000</td>\n",
              "      <td>0.000000</td>\n",
              "      <td>0.000000</td>\n",
              "      <td>0.000000</td>\n",
              "      <td>0.000000</td>\n",
              "      <td>0.000000</td>\n",
              "      <td>0.000000</td>\n",
              "      <td>0.000000</td>\n",
              "      <td>0.000000</td>\n",
              "      <td>0.000000</td>\n",
              "      <td>0.0</td>\n",
              "      <td>5.129816e-07</td>\n",
              "    </tr>\n",
              "    <tr>\n",
              "      <th>25%</th>\n",
              "      <td>1.000000</td>\n",
              "      <td>2.000000</td>\n",
              "      <td>9.000000</td>\n",
              "      <td>5.000000</td>\n",
              "      <td>1.000000</td>\n",
              "      <td>-0.051909</td>\n",
              "      <td>-0.043998</td>\n",
              "      <td>2.000000</td>\n",
              "      <td>77.000000</td>\n",
              "      <td>0.000000</td>\n",
              "      <td>0.000000</td>\n",
              "      <td>0.000000</td>\n",
              "      <td>0.000000</td>\n",
              "      <td>0.000000</td>\n",
              "      <td>0.000000</td>\n",
              "      <td>0.000000</td>\n",
              "      <td>0.000000</td>\n",
              "      <td>0.000000</td>\n",
              "      <td>0.000000</td>\n",
              "      <td>0.000000</td>\n",
              "      <td>0.000000</td>\n",
              "      <td>0.000000</td>\n",
              "      <td>0.000000</td>\n",
              "      <td>0.000000</td>\n",
              "      <td>0.000000</td>\n",
              "      <td>0.0</td>\n",
              "      <td>2.220255e-03</td>\n",
              "    </tr>\n",
              "    <tr>\n",
              "      <th>50%</th>\n",
              "      <td>2.000000</td>\n",
              "      <td>3.000000</td>\n",
              "      <td>10.691160</td>\n",
              "      <td>10.000000</td>\n",
              "      <td>7.000000</td>\n",
              "      <td>-0.007120</td>\n",
              "      <td>0.015573</td>\n",
              "      <td>2.000000</td>\n",
              "      <td>99.900000</td>\n",
              "      <td>0.000000</td>\n",
              "      <td>0.000000</td>\n",
              "      <td>0.000000</td>\n",
              "      <td>0.000000</td>\n",
              "      <td>0.000000</td>\n",
              "      <td>0.000000</td>\n",
              "      <td>0.000000</td>\n",
              "      <td>0.000000</td>\n",
              "      <td>0.000000</td>\n",
              "      <td>0.000000</td>\n",
              "      <td>0.000000</td>\n",
              "      <td>0.000000</td>\n",
              "      <td>0.000000</td>\n",
              "      <td>0.000000</td>\n",
              "      <td>0.000000</td>\n",
              "      <td>0.000000</td>\n",
              "      <td>0.0</td>\n",
              "      <td>7.006516e-03</td>\n",
              "    </tr>\n",
              "    <tr>\n",
              "      <th>75%</th>\n",
              "      <td>3.000000</td>\n",
              "      <td>4.000000</td>\n",
              "      <td>12.000000</td>\n",
              "      <td>16.000000</td>\n",
              "      <td>9.000000</td>\n",
              "      <td>0.036734</td>\n",
              "      <td>0.069647</td>\n",
              "      <td>2.000000</td>\n",
              "      <td>128.900000</td>\n",
              "      <td>0.000000</td>\n",
              "      <td>1.000000</td>\n",
              "      <td>0.000000</td>\n",
              "      <td>1.000000</td>\n",
              "      <td>0.000000</td>\n",
              "      <td>0.000000</td>\n",
              "      <td>1.000000</td>\n",
              "      <td>0.000000</td>\n",
              "      <td>0.000000</td>\n",
              "      <td>0.000000</td>\n",
              "      <td>0.000000</td>\n",
              "      <td>1.000000</td>\n",
              "      <td>0.000000</td>\n",
              "      <td>0.000000</td>\n",
              "      <td>0.000000</td>\n",
              "      <td>0.000000</td>\n",
              "      <td>0.0</td>\n",
              "      <td>2.078424e-02</td>\n",
              "    </tr>\n",
              "    <tr>\n",
              "      <th>max</th>\n",
              "      <td>18.000000</td>\n",
              "      <td>27.000000</td>\n",
              "      <td>16.000000</td>\n",
              "      <td>50.000000</td>\n",
              "      <td>11.000000</td>\n",
              "      <td>0.280448</td>\n",
              "      <td>0.211436</td>\n",
              "      <td>2.000000</td>\n",
              "      <td>182108.539008</td>\n",
              "      <td>2.000000</td>\n",
              "      <td>2.000000</td>\n",
              "      <td>1.000000</td>\n",
              "      <td>2.000000</td>\n",
              "      <td>1.000000</td>\n",
              "      <td>2.000000</td>\n",
              "      <td>1.000000</td>\n",
              "      <td>1.000000</td>\n",
              "      <td>1.000000</td>\n",
              "      <td>1.000000</td>\n",
              "      <td>1.000000</td>\n",
              "      <td>1.000000</td>\n",
              "      <td>1.000000</td>\n",
              "      <td>1.000000</td>\n",
              "      <td>1.000000</td>\n",
              "      <td>1.000000</td>\n",
              "      <td>0.0</td>\n",
              "      <td>8.115278e-02</td>\n",
              "    </tr>\n",
              "  </tbody>\n",
              "</table>\n",
              "</div>"
            ],
            "text/plain": [
              "         bathrooms         beds  ...  property_type_nan  dist_from_dub_center\n",
              "count  2373.000000  2373.000000  ...             2373.0          2.373000e+03\n",
              "mean      1.991993     2.973451  ...                0.0          1.423586e-02\n",
              "std       1.261849     1.471386  ...                0.0          1.712121e-02\n",
              "min       0.000000     0.000000  ...                0.0          5.129816e-07\n",
              "25%       1.000000     2.000000  ...                0.0          2.220255e-03\n",
              "50%       2.000000     3.000000  ...                0.0          7.006516e-03\n",
              "75%       3.000000     4.000000  ...                0.0          2.078424e-02\n",
              "max      18.000000    27.000000  ...                0.0          8.115278e-02\n",
              "\n",
              "[8 rows x 27 columns]"
            ]
          },
          "metadata": {}
        },
        {
          "output_type": "display_data",
          "data": {
            "text/html": [
              "<div>\n",
              "<style scoped>\n",
              "    .dataframe tbody tr th:only-of-type {\n",
              "        vertical-align: middle;\n",
              "    }\n",
              "\n",
              "    .dataframe tbody tr th {\n",
              "        vertical-align: top;\n",
              "    }\n",
              "\n",
              "    .dataframe thead th {\n",
              "        text-align: right;\n",
              "    }\n",
              "</style>\n",
              "<table border=\"1\" class=\"dataframe\">\n",
              "  <thead>\n",
              "    <tr style=\"text-align: right;\">\n",
              "      <th></th>\n",
              "      <th>price</th>\n",
              "    </tr>\n",
              "  </thead>\n",
              "  <tbody>\n",
              "    <tr>\n",
              "      <th>2367</th>\n",
              "      <td>795000.0</td>\n",
              "    </tr>\n",
              "    <tr>\n",
              "      <th>204</th>\n",
              "      <td>5750000.0</td>\n",
              "    </tr>\n",
              "    <tr>\n",
              "      <th>26</th>\n",
              "      <td>495000.0</td>\n",
              "    </tr>\n",
              "    <tr>\n",
              "      <th>931</th>\n",
              "      <td>350000.0</td>\n",
              "    </tr>\n",
              "    <tr>\n",
              "      <th>2875</th>\n",
              "      <td>325000.0</td>\n",
              "    </tr>\n",
              "  </tbody>\n",
              "</table>\n",
              "</div>"
            ],
            "text/plain": [
              "          price\n",
              "2367   795000.0\n",
              "204   5750000.0\n",
              "26     495000.0\n",
              "931    350000.0\n",
              "2875   325000.0"
            ]
          },
          "metadata": {}
        }
      ]
    },
    {
      "cell_type": "markdown",
      "metadata": {
        "id": "rxAxKXxxAibQ"
      },
      "source": [
        "####Test"
      ]
    },
    {
      "cell_type": "code",
      "metadata": {
        "id": "iS1TZAvOAkqQ",
        "colab": {
          "base_uri": "https://localhost:8080/",
          "height": 0
        },
        "outputId": "c5eb5a12-be3b-409c-bb86-ecfb1407d75c"
      },
      "source": [
        "display(X_test.head())\n",
        "display(y_test.head())"
      ],
      "execution_count": 31,
      "outputs": [
        {
          "output_type": "display_data",
          "data": {
            "text/html": [
              "<div>\n",
              "<style scoped>\n",
              "    .dataframe tbody tr th:only-of-type {\n",
              "        vertical-align: middle;\n",
              "    }\n",
              "\n",
              "    .dataframe tbody tr th {\n",
              "        vertical-align: top;\n",
              "    }\n",
              "\n",
              "    .dataframe thead th {\n",
              "        text-align: right;\n",
              "    }\n",
              "</style>\n",
              "<table border=\"1\" class=\"dataframe\">\n",
              "  <thead>\n",
              "    <tr style=\"text-align: right;\">\n",
              "      <th></th>\n",
              "      <th>bathrooms</th>\n",
              "      <th>beds</th>\n",
              "      <th>ber_classification</th>\n",
              "      <th>description_block</th>\n",
              "      <th>features</th>\n",
              "      <th>latitude</th>\n",
              "      <th>longitude</th>\n",
              "      <th>property_category</th>\n",
              "      <th>surface</th>\n",
              "      <th>facility_Alarm</th>\n",
              "      <th>facility_Gas Fired Central Heating</th>\n",
              "      <th>facility_Oil Fired Central Heating</th>\n",
              "      <th>facility_Parking</th>\n",
              "      <th>facility_Wheelchair Access</th>\n",
              "      <th>facility_Wired for Cable Television</th>\n",
              "      <th>property_type_apartment</th>\n",
              "      <th>property_type_bungalow</th>\n",
              "      <th>property_type_detached</th>\n",
              "      <th>property_type_duplex</th>\n",
              "      <th>property_type_end-of-terrace</th>\n",
              "      <th>property_type_semi-detached</th>\n",
              "      <th>property_type_site</th>\n",
              "      <th>property_type_studio</th>\n",
              "      <th>property_type_terraced</th>\n",
              "      <th>property_type_townhouse</th>\n",
              "      <th>property_type_nan</th>\n",
              "      <th>dist_from_dub_center</th>\n",
              "    </tr>\n",
              "  </thead>\n",
              "  <tbody>\n",
              "    <tr>\n",
              "      <th>459</th>\n",
              "      <td>1.0</td>\n",
              "      <td>2.0</td>\n",
              "      <td>9.0</td>\n",
              "      <td>5</td>\n",
              "      <td>11</td>\n",
              "      <td>-0.006060</td>\n",
              "      <td>-0.006381</td>\n",
              "      <td>2</td>\n",
              "      <td>61.4</td>\n",
              "      <td>0.0</td>\n",
              "      <td>1.0</td>\n",
              "      <td>0.0</td>\n",
              "      <td>1.0</td>\n",
              "      <td>0.0</td>\n",
              "      <td>2.0</td>\n",
              "      <td>0</td>\n",
              "      <td>0</td>\n",
              "      <td>0</td>\n",
              "      <td>0</td>\n",
              "      <td>0</td>\n",
              "      <td>0</td>\n",
              "      <td>0</td>\n",
              "      <td>0</td>\n",
              "      <td>1</td>\n",
              "      <td>0</td>\n",
              "      <td>0</td>\n",
              "      <td>0.000077</td>\n",
              "    </tr>\n",
              "    <tr>\n",
              "      <th>2665</th>\n",
              "      <td>1.0</td>\n",
              "      <td>4.0</td>\n",
              "      <td>13.0</td>\n",
              "      <td>21</td>\n",
              "      <td>1</td>\n",
              "      <td>-0.058183</td>\n",
              "      <td>-0.032846</td>\n",
              "      <td>2</td>\n",
              "      <td>123.0</td>\n",
              "      <td>0.0</td>\n",
              "      <td>0.0</td>\n",
              "      <td>0.0</td>\n",
              "      <td>0.0</td>\n",
              "      <td>0.0</td>\n",
              "      <td>0.0</td>\n",
              "      <td>0</td>\n",
              "      <td>0</td>\n",
              "      <td>0</td>\n",
              "      <td>0</td>\n",
              "      <td>0</td>\n",
              "      <td>1</td>\n",
              "      <td>0</td>\n",
              "      <td>0</td>\n",
              "      <td>0</td>\n",
              "      <td>0</td>\n",
              "      <td>0</td>\n",
              "      <td>0.004464</td>\n",
              "    </tr>\n",
              "    <tr>\n",
              "      <th>1276</th>\n",
              "      <td>3.0</td>\n",
              "      <td>5.0</td>\n",
              "      <td>8.0</td>\n",
              "      <td>19</td>\n",
              "      <td>4</td>\n",
              "      <td>-0.018551</td>\n",
              "      <td>-0.013253</td>\n",
              "      <td>2</td>\n",
              "      <td>175.0</td>\n",
              "      <td>0.0</td>\n",
              "      <td>0.0</td>\n",
              "      <td>0.0</td>\n",
              "      <td>0.0</td>\n",
              "      <td>0.0</td>\n",
              "      <td>0.0</td>\n",
              "      <td>0</td>\n",
              "      <td>0</td>\n",
              "      <td>0</td>\n",
              "      <td>0</td>\n",
              "      <td>0</td>\n",
              "      <td>0</td>\n",
              "      <td>0</td>\n",
              "      <td>0</td>\n",
              "      <td>1</td>\n",
              "      <td>0</td>\n",
              "      <td>0</td>\n",
              "      <td>0.000520</td>\n",
              "    </tr>\n",
              "    <tr>\n",
              "      <th>2248</th>\n",
              "      <td>1.0</td>\n",
              "      <td>4.0</td>\n",
              "      <td>1.0</td>\n",
              "      <td>4</td>\n",
              "      <td>1</td>\n",
              "      <td>-0.021619</td>\n",
              "      <td>0.007176</td>\n",
              "      <td>2</td>\n",
              "      <td>96.0</td>\n",
              "      <td>0.0</td>\n",
              "      <td>1.0</td>\n",
              "      <td>0.0</td>\n",
              "      <td>0.0</td>\n",
              "      <td>0.0</td>\n",
              "      <td>0.0</td>\n",
              "      <td>0</td>\n",
              "      <td>0</td>\n",
              "      <td>0</td>\n",
              "      <td>0</td>\n",
              "      <td>1</td>\n",
              "      <td>0</td>\n",
              "      <td>0</td>\n",
              "      <td>0</td>\n",
              "      <td>0</td>\n",
              "      <td>0</td>\n",
              "      <td>0</td>\n",
              "      <td>0.000519</td>\n",
              "    </tr>\n",
              "    <tr>\n",
              "      <th>418</th>\n",
              "      <td>3.0</td>\n",
              "      <td>4.0</td>\n",
              "      <td>14.0</td>\n",
              "      <td>19</td>\n",
              "      <td>9</td>\n",
              "      <td>-0.072611</td>\n",
              "      <td>0.112706</td>\n",
              "      <td>2</td>\n",
              "      <td>155.0</td>\n",
              "      <td>0.0</td>\n",
              "      <td>1.0</td>\n",
              "      <td>0.0</td>\n",
              "      <td>0.0</td>\n",
              "      <td>0.0</td>\n",
              "      <td>0.0</td>\n",
              "      <td>0</td>\n",
              "      <td>0</td>\n",
              "      <td>1</td>\n",
              "      <td>0</td>\n",
              "      <td>0</td>\n",
              "      <td>0</td>\n",
              "      <td>0</td>\n",
              "      <td>0</td>\n",
              "      <td>0</td>\n",
              "      <td>0</td>\n",
              "      <td>0</td>\n",
              "      <td>0.017975</td>\n",
              "    </tr>\n",
              "  </tbody>\n",
              "</table>\n",
              "</div>"
            ],
            "text/plain": [
              "      bathrooms  beds  ...  property_type_nan  dist_from_dub_center\n",
              "459         1.0   2.0  ...                  0              0.000077\n",
              "2665        1.0   4.0  ...                  0              0.004464\n",
              "1276        3.0   5.0  ...                  0              0.000520\n",
              "2248        1.0   4.0  ...                  0              0.000519\n",
              "418         3.0   4.0  ...                  0              0.017975\n",
              "\n",
              "[5 rows x 27 columns]"
            ]
          },
          "metadata": {}
        },
        {
          "output_type": "display_data",
          "data": {
            "text/html": [
              "<div>\n",
              "<style scoped>\n",
              "    .dataframe tbody tr th:only-of-type {\n",
              "        vertical-align: middle;\n",
              "    }\n",
              "\n",
              "    .dataframe tbody tr th {\n",
              "        vertical-align: top;\n",
              "    }\n",
              "\n",
              "    .dataframe thead th {\n",
              "        text-align: right;\n",
              "    }\n",
              "</style>\n",
              "<table border=\"1\" class=\"dataframe\">\n",
              "  <thead>\n",
              "    <tr style=\"text-align: right;\">\n",
              "      <th></th>\n",
              "      <th>price</th>\n",
              "    </tr>\n",
              "  </thead>\n",
              "  <tbody>\n",
              "    <tr>\n",
              "      <th>459</th>\n",
              "      <td>325000.0</td>\n",
              "    </tr>\n",
              "    <tr>\n",
              "      <th>2665</th>\n",
              "      <td>535000.0</td>\n",
              "    </tr>\n",
              "    <tr>\n",
              "      <th>1276</th>\n",
              "      <td>650000.0</td>\n",
              "    </tr>\n",
              "    <tr>\n",
              "      <th>2248</th>\n",
              "      <td>750000.0</td>\n",
              "    </tr>\n",
              "    <tr>\n",
              "      <th>418</th>\n",
              "      <td>645000.0</td>\n",
              "    </tr>\n",
              "  </tbody>\n",
              "</table>\n",
              "</div>"
            ],
            "text/plain": [
              "         price\n",
              "459   325000.0\n",
              "2665  535000.0\n",
              "1276  650000.0\n",
              "2248  750000.0\n",
              "418   645000.0"
            ]
          },
          "metadata": {}
        }
      ]
    },
    {
      "cell_type": "markdown",
      "metadata": {
        "id": "bJFJQxAS9HZK"
      },
      "source": [
        "# PIECEWISE REGRESSION"
      ]
    },
    {
      "cell_type": "markdown",
      "metadata": {
        "id": "uQ_1QsLToIDi"
      },
      "source": [
        "## Full Model"
      ]
    },
    {
      "cell_type": "code",
      "metadata": {
        "id": "VPFFOS49X5pq"
      },
      "source": [
        "# select some features columns just for the baseline model\n",
        "# assume not all of the features are informative or useful\n",
        "# in this exercise you could try all of them if possible\n",
        "\n",
        "# featrain = ['feature_1','feature_2','feature_3','cost']\n",
        "# dropna: remove missing values\n",
        "df_subset_train = X_train.dropna(axis=0)\n",
        "\n",
        "# featest = ['feature_1','feature_2','feature_3']\n",
        "df_subset_test = X_test.dropna(axis=0)"
      ],
      "execution_count": 32,
      "outputs": []
    },
    {
      "cell_type": "code",
      "metadata": {
        "colab": {
          "base_uri": "https://localhost:8080/"
        },
        "id": "QcpXcQ1nxmzc",
        "outputId": "474a8a3d-9e20-40d9-9f00-40748f8f40f7"
      },
      "source": [
        "print('Number of nan in df_subset_train dataset: ',X_train.isnull().sum().sum())\n",
        "print('Number of nan in df_subset_test dataset: ',X_test.isnull().sum().sum())"
      ],
      "execution_count": 33,
      "outputs": [
        {
          "output_type": "stream",
          "name": "stdout",
          "text": [
            "Number of nan in df_subset_train dataset:  0\n",
            "Number of nan in df_subset_test dataset:  0\n"
          ]
        }
      ]
    },
    {
      "cell_type": "code",
      "metadata": {
        "id": "kcRM50-WxuCt"
      },
      "source": [
        "# train set, input columns\n",
        "Xs_train = X_train.iloc[:,0:-1].values \n",
        "# train set, output column, cost\n",
        "ys_train = y_train.iloc[:,-1].values.reshape(-1,1)   \n",
        "\n",
        "# test set, input columns\n",
        "Xs_test = X_test.iloc[:,0:-1].values \n",
        "# test set, output column, cost\n",
        "ys_test = y_test.iloc[:,0:-1].values"
      ],
      "execution_count": 34,
      "outputs": []
    },
    {
      "cell_type": "code",
      "metadata": {
        "id": "pyFpdqV6x2BD"
      },
      "source": [
        "# StandardScaler() will normalize the features i.e. each column of X, \n",
        "# so, each column/feature/variable will have μ = 0 and σ = 1\n",
        "sc = StandardScaler()\n",
        "\n",
        "Xss_train = np.hstack([Xs_train,Xs_train[:,[2]]**2])\n",
        "xscaler = sc.fit(Xss_train)\n",
        "Xn_train = xscaler.transform(Xss_train)\n",
        "\n",
        "Xss_test = np.hstack([Xs_test,Xs_test[:,[2]]**2])\n",
        "Xn_test = xscaler.transform(Xss_test)\n",
        "\n",
        "ylog = np.log(ys_train.astype('float'))\n",
        "yscaler = StandardScaler().fit(ylog)\n",
        "yn_train = yscaler.transform(ylog)"
      ],
      "execution_count": 35,
      "outputs": []
    },
    {
      "cell_type": "code",
      "metadata": {
        "id": "PZK2kfygoIDi",
        "colab": {
          "base_uri": "https://localhost:8080/",
          "height": 324
        },
        "outputId": "5ca78fbd-9a59-4e59-96b0-ec750e8487e4"
      },
      "source": [
        "# model\n",
        "with pm.Model() as model:\n",
        "    #prior over the parameters of linear regression\n",
        "    alpha = pm.Normal('alpha', mu=0, sigma=30)\n",
        "    #we have one beta for each column of Xn\n",
        "    beta = pm.Normal('beta', mu=0, sigma=30, shape=Xn_train.shape[1])\n",
        "    #prior over the variance of the noise\n",
        "    sigma = pm.HalfCauchy('sigma_n', 5)\n",
        "    #linear regression model in matrix form\n",
        "    mu = alpha + pm.math.dot(beta, Xn_train.T)\n",
        "    #likelihood, be sure that observed is a 1d vector\n",
        "    like = pm.Normal('like', mu=mu, sigma=sigma, observed=yn_train[:,0])\n",
        "\n",
        "    \n",
        "\n",
        "#number of iterations of the algorithms\n",
        "iter = 50000 \n",
        "\n",
        "# run the model\n",
        "with model:\n",
        "    approximation = pm.fit(iter,method='advi')\n",
        "    \n",
        "# check the convergence\n",
        "plt.plot(approximation.hist);    "
      ],
      "execution_count": 36,
      "outputs": [
        {
          "output_type": "stream",
          "name": "stderr",
          "text": [
            "WARNING (theano.tensor.blas): We did not find a dynamic library in the library_dir of the library we use for blas. If you use ATLAS, make sure to compile it with dynamics library.\n"
          ]
        },
        {
          "output_type": "display_data",
          "data": {
            "text/html": [
              "\n",
              "    <div>\n",
              "        <style>\n",
              "            /* Turns off some styling */\n",
              "            progress {\n",
              "                /* gets rid of default border in Firefox and Opera. */\n",
              "                border: none;\n",
              "                /* Needs to be in here for Safari polyfill so background images work as expected. */\n",
              "                background-size: auto;\n",
              "            }\n",
              "            .progress-bar-interrupted, .progress-bar-interrupted::-webkit-progress-bar {\n",
              "                background: #F44336;\n",
              "            }\n",
              "        </style>\n",
              "      <progress value='50000' class='' max='50000' style='width:300px; height:20px; vertical-align: middle;'></progress>\n",
              "      100.00% [50000/50000 00:14<00:00 Average Loss = 2,406]\n",
              "    </div>\n",
              "    "
            ],
            "text/plain": [
              "<IPython.core.display.HTML object>"
            ]
          },
          "metadata": {}
        },
        {
          "output_type": "stream",
          "name": "stderr",
          "text": [
            "Finished [100%]: Average Loss = 2,406\n"
          ]
        },
        {
          "output_type": "display_data",
          "data": {
            "image/png": "[encoded data removed]",
            "text/plain": [
              "<Figure size 432x288 with 1 Axes>"
            ]
          },
          "metadata": {
            "needs_background": "light"
          }
        }
      ]
    },
    {
      "cell_type": "code",
      "metadata": {
        "id": "cIskuS3ToIDk",
        "colab": {
          "base_uri": "https://localhost:8080/"
        },
        "outputId": "9fe8a79a-949a-46db-d27c-5533591401e9"
      },
      "source": [
        "# samples from the posterior\n",
        "posterior = approximation.sample(5000)\n",
        "\n",
        "# prediction\n",
        "ll=np.mean(posterior['alpha']) + np.dot(np.mean(posterior['beta'],axis=0), Xn_test.T)\n",
        "y_pred_BLR = np.exp(yscaler.inverse_transform(ll.reshape(-1,1)))[:,0]\n",
        "print(\"MAE = \",(np.mean(abs(y_pred_BLR - y_test.price.values))))\n",
        "print(\"MAPE = \",(np.mean(abs(y_pred_BLR - y_test.price.values) / y_test.price.values)))"
      ],
      "execution_count": 37,
      "outputs": [
        {
          "output_type": "stream",
          "name": "stdout",
          "text": [
            "MAE =  166872.22899241428\n",
            "MAPE =  0.27203744907607513\n"
          ]
        }
      ]
    },
    {
      "cell_type": "markdown",
      "metadata": {
        "id": "q_jBBKvtoIDk"
      },
      "source": [
        "## Clustering"
      ]
    },
    {
      "cell_type": "markdown",
      "metadata": {
        "id": "VYFvbgYDaEOS"
      },
      "source": [
        "### Full Model"
      ]
    },
    {
      "cell_type": "code",
      "metadata": {
        "id": "iphQ53UE0iVw",
        "colab": {
          "base_uri": "https://localhost:8080/",
          "height": 0
        },
        "outputId": "71546861-4878-46bc-9aaa-835f7dd81d49"
      },
      "source": [
        "# training gaussian mixture model \n",
        "from sklearn.mixture import GaussianMixture\n",
        "\n",
        "gmm = GaussianMixture(n_components=4)\n",
        "\n",
        "# training gaussian mixture model \n",
        "from sklearn.mixture import GaussianMixture\n",
        "\n",
        "gmm = GaussianMixture(n_components=4)\n",
        "# clustering by features 1, 2\n",
        "ind=[0,1]\n",
        "X_ind = np.vstack([Xn_train[:,ind],Xn_test[:,ind]])\n",
        "# Gaussian Mixture\n",
        "gmm.fit(X_ind)\n",
        "# plot blue dots\n",
        "plt.scatter(X_ind[:,0],X_ind[:,1])\n",
        "# centroids:  orange dots\n",
        "plt.scatter(gmm.means_[:,0],gmm.means_[:,1])"
      ],
      "execution_count": 38,
      "outputs": [
        {
          "output_type": "execute_result",
          "data": {
            "text/plain": [
              "<matplotlib.collections.PathCollection at 0x7f3fcff94a10>"
            ]
          },
          "metadata": {},
          "execution_count": 38
        },
        {
          "output_type": "display_data",
          "data": {
            "image/png": "[encoded data removed]",
            "text/plain": [
              "<Figure size 432x288 with 1 Axes>"
            ]
          },
          "metadata": {
            "needs_background": "light"
          }
        }
      ]
    },
    {
      "cell_type": "markdown",
      "metadata": {
        "id": "h51OhBV5Z4tY"
      },
      "source": [
        "### Clusters"
      ]
    },
    {
      "cell_type": "code",
      "metadata": {
        "id": "vNvx_KxrLt90",
        "colab": {
          "base_uri": "https://localhost:8080/"
        },
        "outputId": "eb7a10d4-1145-44ff-a9af-073b8ccc2a42"
      },
      "source": [
        "# train clusters\n",
        "\n",
        "# train clusters\n",
        "clusters_train = gmm.predict(Xn_train[:,ind])\n",
        "unique_train, counts_train = np.unique(clusters_train, return_counts=True)\n",
        "dict(zip(unique_train, counts_train))"
      ],
      "execution_count": 39,
      "outputs": [
        {
          "output_type": "execute_result",
          "data": {
            "text/plain": [
              "{0: 439, 1: 1022, 2: 886, 3: 26}"
            ]
          },
          "metadata": {},
          "execution_count": 39
        }
      ]
    },
    {
      "cell_type": "code",
      "metadata": {
        "id": "-wTT4220zFNx",
        "colab": {
          "base_uri": "https://localhost:8080/"
        },
        "outputId": "225de68d-dc09-44c0-c746-e74c3d03c4f4"
      },
      "source": [
        "# test clusters\n",
        "clusters_test = gmm.predict(Xn_test[:,ind])\n",
        "unique_test, counts_test = np.unique(clusters_test, return_counts=True)\n",
        "dict(zip(unique_test, counts_test))"
      ],
      "execution_count": 40,
      "outputs": [
        {
          "output_type": "execute_result",
          "data": {
            "text/plain": [
              "{0: 189, 1: 449, 2: 367, 3: 12}"
            ]
          },
          "metadata": {},
          "execution_count": 40
        }
      ]
    },
    {
      "cell_type": "code",
      "metadata": {
        "id": "wIdbOZQeEzRv"
      },
      "source": [
        "# cluster 0\n",
        "Xn0 = Xn_train[clusters_train==0,:]\n",
        "Xtestn0 = Xn_test[clusters_test==0,:]\n",
        "\n",
        "ylog0 = np.log(ys_train.astype('float')[clusters_train==0,:])\n",
        "yscaler0 = StandardScaler().fit(ylog0)\n",
        "yn0 = yscaler0.transform(ylog0)"
      ],
      "execution_count": 41,
      "outputs": []
    },
    {
      "cell_type": "code",
      "metadata": {
        "id": "IuQl5lk3EHVG"
      },
      "source": [
        "# cluster 1\n",
        "Xn1 = Xn_train[clusters_train==1,:]\n",
        "Xtestn1 = Xn_test[clusters_test==1,:]\n",
        "ylog1 = np.log(ys_train.astype('float')[clusters_train==1,:])\n",
        "yscaler1 = StandardScaler().fit(ylog1)\n",
        "yn1 = yscaler1.transform(ylog1)\n"
      ],
      "execution_count": 42,
      "outputs": []
    },
    {
      "cell_type": "code",
      "metadata": {
        "id": "kA5s3YseEHae"
      },
      "source": [
        "# cluster 2\n",
        "Xn2 = Xn_train[clusters_train==2,:]\n",
        "Xtestn2 = Xn_test[clusters_test==2,:]\n",
        "ylog2 = np.log(ys_train.astype('float')[clusters_train==2,:])\n",
        "yscaler2 = StandardScaler().fit(ylog2)\n",
        "yn2 = yscaler2.transform(ylog2)"
      ],
      "execution_count": 43,
      "outputs": []
    },
    {
      "cell_type": "code",
      "metadata": {
        "id": "H2nHtUPzEHfa"
      },
      "source": [
        "# cluster 3\n",
        "Xn3 = Xn_train[clusters_train==3,:]\n",
        "Xtestn3 = Xn_test[clusters_test==3,:]\n",
        "ylog3 = np.log(ys_train.astype('float')[clusters_train==3,:])\n",
        "yscaler3 = StandardScaler().fit(ylog3)\n",
        "yn3 = yscaler3.transform(ylog3)"
      ],
      "execution_count": 44,
      "outputs": []
    },
    {
      "cell_type": "markdown",
      "metadata": {
        "id": "dXF25ZDYoIDl"
      },
      "source": [
        "## Piecewise Model"
      ]
    },
    {
      "cell_type": "code",
      "metadata": {
        "id": "N1e-4ruvaJci",
        "colab": {
          "base_uri": "https://localhost:8080/",
          "height": 57
        },
        "outputId": "91d70864-c2f7-4055-a876-83a0ecf2862d"
      },
      "source": [
        "# model_0\n",
        "with pm.Model() as model_0:\n",
        "  # prior over the parameters of linear regression\n",
        "  alpha = pm.Normal('alpha', mu=0, sigma=30)\n",
        "  # we have a beta for each column of Xn0\n",
        "  beta = pm.Normal('beta', mu=0, sigma=30, shape=Xn0.shape[1])\n",
        "  # prior over the variance of the noise\n",
        "  sigma = pm.HalfCauchy('sigma_n', 5)\n",
        "  # linear regression relationship\n",
        "  #linear regression model in matrix form\n",
        "  mu = alpha + pm.math.dot(beta, Xn0.T)\n",
        "  # likelihood, be sure that observed is a 1d vector\n",
        "  like = pm.Normal('like', mu=mu, sigma=sigma, observed=yn0[:,0])\n",
        "\n",
        "with model_0:\n",
        "  # iterations of the algorithm\n",
        "  approximation = pm.fit(40000,method='advi')\n",
        "\n",
        "# samples from the posterior   \n",
        "posterior0 = approximation.sample(5000)"
      ],
      "execution_count": 45,
      "outputs": [
        {
          "output_type": "display_data",
          "data": {
            "text/html": [
              "\n",
              "    <div>\n",
              "        <style>\n",
              "            /* Turns off some styling */\n",
              "            progress {\n",
              "                /* gets rid of default border in Firefox and Opera. */\n",
              "                border: none;\n",
              "                /* Needs to be in here for Safari polyfill so background images work as expected. */\n",
              "                background-size: auto;\n",
              "            }\n",
              "            .progress-bar-interrupted, .progress-bar-interrupted::-webkit-progress-bar {\n",
              "                background: #F44336;\n",
              "            }\n",
              "        </style>\n",
              "      <progress value='40000' class='' max='40000' style='width:300px; height:20px; vertical-align: middle;'></progress>\n",
              "      100.00% [40000/40000 00:08<00:00 Average Loss = 600.87]\n",
              "    </div>\n",
              "    "
            ],
            "text/plain": [
              "<IPython.core.display.HTML object>"
            ]
          },
          "metadata": {}
        },
        {
          "output_type": "stream",
          "name": "stderr",
          "text": [
            "Finished [100%]: Average Loss = 600.89\n"
          ]
        }
      ]
    },
    {
      "cell_type": "code",
      "metadata": {
        "colab": {
          "base_uri": "https://localhost:8080/",
          "height": 57
        },
        "id": "sG4YZfpNEeaO",
        "outputId": "1ad8dbfc-6788-4c37-c2e6-87706fcdc193"
      },
      "source": [
        "# model_1\n",
        "with pm.Model() as model_1:\n",
        "  # prior over the parameters of linear regression\n",
        "  alpha = pm.Normal('alpha', mu=0, sigma=30)\n",
        "  # we have a beta for each column of Xn\n",
        "  beta = pm.Normal('beta', mu=0, sigma=30, shape=Xn1.shape[1])\n",
        "  # prior over the variance of the noise\n",
        "  sigma = pm.HalfCauchy('sigma_n', 5)\n",
        "  # linear regression relationship\n",
        "  #linear regression model in matrix form\n",
        "  mu = alpha + pm.math.dot(beta, Xn1.T)\n",
        "  # likelihood, # \n",
        "  like = pm.Normal('like', mu=mu, sigma=sigma, observed=yn1[:,0])\n",
        "  \n",
        "with model_1:\n",
        "  # iterations of the algorithm\n",
        "  approximation = pm.fit(40000,method='advi')\n",
        "\n",
        "# samples from the posterior    \n",
        "posterior1 = approximation.sample(5000)"
      ],
      "execution_count": 46,
      "outputs": [
        {
          "output_type": "display_data",
          "data": {
            "text/html": [
              "\n",
              "    <div>\n",
              "        <style>\n",
              "            /* Turns off some styling */\n",
              "            progress {\n",
              "                /* gets rid of default border in Firefox and Opera. */\n",
              "                border: none;\n",
              "                /* Needs to be in here for Safari polyfill so background images work as expected. */\n",
              "                background-size: auto;\n",
              "            }\n",
              "            .progress-bar-interrupted, .progress-bar-interrupted::-webkit-progress-bar {\n",
              "                background: #F44336;\n",
              "            }\n",
              "        </style>\n",
              "      <progress value='40000' class='' max='40000' style='width:300px; height:20px; vertical-align: middle;'></progress>\n",
              "      100.00% [40000/40000 00:09<00:00 Average Loss = 1,285.1]\n",
              "    </div>\n",
              "    "
            ],
            "text/plain": [
              "<IPython.core.display.HTML object>"
            ]
          },
          "metadata": {}
        },
        {
          "output_type": "stream",
          "name": "stderr",
          "text": [
            "Finished [100%]: Average Loss = 1,285.1\n"
          ]
        }
      ]
    },
    {
      "cell_type": "code",
      "metadata": {
        "colab": {
          "base_uri": "https://localhost:8080/",
          "height": 57
        },
        "id": "8SoH1TSvEel1",
        "outputId": "5c68f263-1c86-475a-da01-75ba965754b0"
      },
      "source": [
        "# model_2\n",
        "with pm.Model() as model_2:\n",
        "  # prior over the parameters of linear regression\n",
        "  alpha = pm.Normal('alpha', mu=0, sigma=30)\n",
        "  # we have a beta for each column of Xn\n",
        "  beta = pm.Normal('beta', mu=0, sigma=30, shape=Xn2.shape[1])\n",
        "  # prior over the variance of the noise\n",
        "  sigma = pm.HalfCauchy('sigma_n', 5)\n",
        "  # linear regression relationship\n",
        "  # linear regression model in matrix form\n",
        "  mu = alpha + pm.math.dot(beta, Xn2.T)\n",
        "  # likelihood, be sure that observed is a 1d vector\n",
        "  like = pm.Normal('like', mu=mu, sigma=sigma, observed=yn2[:,0])\n",
        "    \n",
        "with model_2:\n",
        "  # iterations of the algorithms\n",
        "  approximation = pm.fit(40000,method='advi')\n",
        "\n",
        "# samples from the posterior    \n",
        "posterior2 = approximation.sample(5000)"
      ],
      "execution_count": 47,
      "outputs": [
        {
          "output_type": "display_data",
          "data": {
            "text/html": [
              "\n",
              "    <div>\n",
              "        <style>\n",
              "            /* Turns off some styling */\n",
              "            progress {\n",
              "                /* gets rid of default border in Firefox and Opera. */\n",
              "                border: none;\n",
              "                /* Needs to be in here for Safari polyfill so background images work as expected. */\n",
              "                background-size: auto;\n",
              "            }\n",
              "            .progress-bar-interrupted, .progress-bar-interrupted::-webkit-progress-bar {\n",
              "                background: #F44336;\n",
              "            }\n",
              "        </style>\n",
              "      <progress value='40000' class='' max='40000' style='width:300px; height:20px; vertical-align: middle;'></progress>\n",
              "      100.00% [40000/40000 00:08<00:00 Average Loss = 1,075.4]\n",
              "    </div>\n",
              "    "
            ],
            "text/plain": [
              "<IPython.core.display.HTML object>"
            ]
          },
          "metadata": {}
        },
        {
          "output_type": "stream",
          "name": "stderr",
          "text": [
            "Finished [100%]: Average Loss = 1,075.5\n"
          ]
        }
      ]
    },
    {
      "cell_type": "markdown",
      "metadata": {
        "id": "dXbONJbDud5l"
      },
      "source": [
        ""
      ]
    },
    {
      "cell_type": "code",
      "metadata": {
        "colab": {
          "base_uri": "https://localhost:8080/",
          "height": 57
        },
        "id": "u1I2R2EZEerW",
        "outputId": "f4f15abe-b190-4542-d081-af9019c8668c"
      },
      "source": [
        "# model_3\n",
        "with pm.Model() as model3:\n",
        "  # prior over the parameters of linear regression\n",
        "  alpha = pm.Normal('alpha', mu=0, sigma=30)\n",
        "  # we have a beta for each column of Xn\n",
        "  beta = pm.Normal('beta', mu=0, sigma=30, shape=Xn3.shape[1])\n",
        "  # prior over the variance of the noise\n",
        "  sigma = pm.HalfCauchy('sigma_n', 5)\n",
        "  # linear regression relationship\n",
        "  mu = alpha + pm.math.dot(beta, Xn3.T)#linear regression model in matrix form\n",
        "  # likelihood, be sure that observed is a 1d vector\n",
        "  like = pm.Normal('like', mu=mu, sigma=sigma, observed=yn3[:,0])\n",
        "    \n",
        "with model3:\n",
        "  # number of iterations of the algorithms\n",
        "  approximation = pm.fit(40000,method='advi')\n",
        "\n",
        "# samples from the posterior     \n",
        "posterior3 = approximation.sample(5000)"
      ],
      "execution_count": 48,
      "outputs": [
        {
          "output_type": "display_data",
          "data": {
            "text/html": [
              "\n",
              "    <div>\n",
              "        <style>\n",
              "            /* Turns off some styling */\n",
              "            progress {\n",
              "                /* gets rid of default border in Firefox and Opera. */\n",
              "                border: none;\n",
              "                /* Needs to be in here for Safari polyfill so background images work as expected. */\n",
              "                background-size: auto;\n",
              "            }\n",
              "            .progress-bar-interrupted, .progress-bar-interrupted::-webkit-progress-bar {\n",
              "                background: #F44336;\n",
              "            }\n",
              "        </style>\n",
              "      <progress value='40000' class='' max='40000' style='width:300px; height:20px; vertical-align: middle;'></progress>\n",
              "      100.00% [40000/40000 00:04<00:00 Average Loss = 152.76]\n",
              "    </div>\n",
              "    "
            ],
            "text/plain": [
              "<IPython.core.display.HTML object>"
            ]
          },
          "metadata": {}
        },
        {
          "output_type": "stream",
          "name": "stderr",
          "text": [
            "Finished [100%]: Average Loss = 152.74\n"
          ]
        }
      ]
    },
    {
      "cell_type": "code",
      "metadata": {
        "id": "YU6Ky4q8EevB"
      },
      "source": [
        "# Posterior predictive checks (PPCs)\n",
        "def ppc(alpha,beta,sigma, X,  nsamples=500):\n",
        "    #we select nsamples random samples from the posterior\n",
        "    ind = np.random.randint(0,beta.shape[0],size=nsamples)\n",
        "    alphai = alpha[ind]\n",
        "    betai = beta[ind,:]\n",
        "    sigmai = sigma[ind]\n",
        "\n",
        "    Ypred = np.zeros((nsamples,X.shape[0]))\n",
        "    for i in range(X.shape[0]):\n",
        "        #we generate data from linear model\n",
        "        y_pred = alphai + np.dot(betai, X[i:i+1,:].T).T +np.random.randn(len(sigmai))*sigmai\n",
        "        Ypred[:,i]=y_pred[0,:]\n",
        "    return Ypred"
      ],
      "execution_count": 49,
      "outputs": []
    },
    {
      "cell_type": "markdown",
      "metadata": {
        "id": "wHBgUe1pcZQQ"
      },
      "source": [
        "##Simulations"
      ]
    },
    {
      "cell_type": "code",
      "metadata": {
        "id": "7wCJtQPPP5o0"
      },
      "source": [
        "def plot_simulation(Ypred, ylog):\n",
        "  for i in range(Ypred.shape[0]):\n",
        "      az.plot_dist( Ypred[i,:],color='r',plot_kwargs={\"linewidth\": 0.2})\n",
        "  az.plot_dist(Ypred[i,:],color='r',plot_kwargs={\"linewidth\": 0.2}, label=\"prediction\")\n",
        "  #plt.plot(np.linspace(-8,8,100),norm.pdf(np.linspace(-8,8,100),df=np.mean(posterior_1['nu'])))\n",
        "  #plt.xlim([0,10e7])\n",
        "  az.plot_dist(ylog,label='true observations');\n",
        "  plt.legend()\n",
        "  plt.xlabel(\"log(y) - output variable\")\n",
        "  plt.ylabel(\"density plot\");"
      ],
      "execution_count": 50,
      "outputs": []
    },
    {
      "cell_type": "markdown",
      "metadata": {
        "id": "bfSEdYAUoIDn"
      },
      "source": [
        "### Only Cluster {0..3}"
      ]
    },
    {
      "cell_type": "code",
      "metadata": {
        "colab": {
          "base_uri": "https://localhost:8080/",
          "height": 0
        },
        "id": "4culQ-jSElun",
        "outputId": "6b846c4f-58b6-469d-be25-1659d1d9b41f"
      },
      "source": [
        "#Simulation\n",
        "Ypred0 = yscaler0.inverse_transform(ppc(posterior0['alpha'],posterior0['beta'],posterior0['sigma_n'],Xn0,  nsamples=200))\n",
        "plot_simulation(Ypred0, ylog0)"
      ],
      "execution_count": 51,
      "outputs": [
        {
          "output_type": "display_data",
          "data": {
            "image/png": "[encoded data removed]",
            "text/plain": [
              "<Figure size 432x288 with 1 Axes>"
            ]
          },
          "metadata": {
            "needs_background": "light"
          }
        }
      ]
    },
    {
      "cell_type": "code",
      "metadata": {
        "colab": {
          "base_uri": "https://localhost:8080/",
          "height": 0
        },
        "id": "GBmWAvofElw1",
        "outputId": "94f38bc9-34b8-41a6-a12f-875972ca2626"
      },
      "source": [
        "#Simulation\n",
        "Ypred1 = yscaler1.inverse_transform(ppc(posterior1['alpha'],posterior1['beta'],posterior1['sigma_n'],Xn1,  nsamples=200))\n",
        "plot_simulation(Ypred1, ylog1)"
      ],
      "execution_count": 52,
      "outputs": [
        {
          "output_type": "display_data",
          "data": {
            "image/png": "[encoded data removed]",
            "text/plain": [
              "<Figure size 432x288 with 1 Axes>"
            ]
          },
          "metadata": {
            "needs_background": "light"
          }
        }
      ]
    },
    {
      "cell_type": "code",
      "metadata": {
        "colab": {
          "base_uri": "https://localhost:8080/",
          "height": 0
        },
        "id": "Q7p1e5v9Elzd",
        "outputId": "1693b52d-8ffc-4a88-e3e3-3af876462256"
      },
      "source": [
        "#Simulation\n",
        "Ypred2 = yscaler2.inverse_transform(ppc(posterior2['alpha'],posterior2['beta'],posterior2['sigma_n'],Xn2,  nsamples=200))\n",
        "plot_simulation(Ypred2, ylog2)"
      ],
      "execution_count": 53,
      "outputs": [
        {
          "output_type": "display_data",
          "data": {
            "image/png": "[encoded data removed]",
            "text/plain": [
              "<Figure size 432x288 with 1 Axes>"
            ]
          },
          "metadata": {
            "needs_background": "light"
          }
        }
      ]
    },
    {
      "cell_type": "code",
      "metadata": {
        "colab": {
          "base_uri": "https://localhost:8080/",
          "height": 0
        },
        "id": "OGzoGrItEl12",
        "outputId": "10306f9f-4d6b-495c-9284-3ae9538f4aa2"
      },
      "source": [
        "#Simulation\n",
        "Ypred3 = yscaler3.inverse_transform(ppc(posterior3['alpha'],posterior3['beta'],posterior3['sigma_n'],Xn3,  nsamples=200))\n",
        "plot_simulation(Ypred3, ylog3)"
      ],
      "execution_count": 54,
      "outputs": [
        {
          "output_type": "display_data",
          "data": {
            "image/png": "[encoded data removed]",
            "text/plain": [
              "<Figure size 432x288 with 1 Axes>"
            ]
          },
          "metadata": {
            "needs_background": "light"
          }
        }
      ]
    },
    {
      "cell_type": "markdown",
      "metadata": {
        "id": "qgMUwBO7oIDq"
      },
      "source": [
        "## Overall"
      ]
    },
    {
      "cell_type": "code",
      "metadata": {
        "colab": {
          "base_uri": "https://localhost:8080/",
          "height": 313
        },
        "id": "-ggGpgx5El4V",
        "outputId": "86e524bf-8ace-42e1-8b42-5a66b636e2e2"
      },
      "source": [
        "# posteriors\n",
        "Ypred0 = ppc(posterior0['alpha'],posterior0['beta'],posterior0['sigma_n'],Xn0,  nsamples=200)\n",
        "Ypred1 = ppc(posterior1['alpha'],posterior1['beta'],posterior1['sigma_n'],Xn1,  nsamples=200)\n",
        "Ypred2 = ppc(posterior2['alpha'],posterior2['beta'],posterior2['sigma_n'],Xn2,  nsamples=200)\n",
        "Ypred3 = ppc(posterior3['alpha'],posterior3['beta'],posterior3['sigma_n'],Xn3,  nsamples=200)\n",
        "\n",
        "# simulation\n",
        "Ypred = np.hstack([ yscaler0.inverse_transform(Ypred0),\n",
        "                 yscaler1.inverse_transform(Ypred1),\n",
        "                 yscaler2.inverse_transform(Ypred2),\n",
        "                 yscaler3.inverse_transform(Ypred3)])\n",
        "\n",
        "# prediction\n",
        "for i in range(Ypred.shape[0]):\n",
        "    az.plot_dist( Ypred[i,:],color='r',plot_kwargs={\"linewidth\": 0.2})\n",
        "\n",
        "# plot\n",
        "az.plot_dist(Ypred[i,:],color='r',plot_kwargs={\"linewidth\": 0.2}, label=\"prediction\")\n",
        "ylog=np.vstack([ylog0,ylog1,ylog2,ylog3])\n",
        "az.plot_dist(ylog,label='true observations');\n",
        "plt.legend()\n",
        "plt.xlabel(\"log(y) - output variable\")\n",
        "plt.ylabel(\"density plot\");"
      ],
      "execution_count": 55,
      "outputs": [
        {
          "output_type": "display_data",
          "data": {
            "image/png": "[encoded data removed]",
            "text/plain": [
              "<Figure size 432x288 with 1 Axes>"
            ]
          },
          "metadata": {
            "needs_background": "light"
          }
        }
      ]
    },
    {
      "cell_type": "markdown",
      "metadata": {
        "id": "QMY9rDvVoIDq"
      },
      "source": [
        "## Test set performance"
      ]
    },
    {
      "cell_type": "code",
      "metadata": {
        "colab": {
          "base_uri": "https://localhost:8080/"
        },
        "id": "nGjv9-plEl6Y",
        "outputId": "c3dceae2-ed2a-45b7-aa15-26d2f9de9ab3"
      },
      "source": [
        "# cluster 0\n",
        "y_pred_BLR0 = np.exp(yscaler0.inverse_transform(np.mean(posterior0['alpha']) \n",
        "              + np.dot(np.mean(posterior0['beta'],axis=0), Xtestn0.T)))\n",
        "print(\"Size Cluster0\", np.sum(clusters_test==0), \", MAE Cluster0=\",\n",
        "      (np.mean(abs(y_pred_BLR0 - y_test.price.values[clusters_test==0]))))\n",
        "\n",
        "# cluster 1\n",
        "y_pred_BLR1 = np.exp(yscaler1.inverse_transform(np.mean(posterior1['alpha']) \n",
        "              + np.dot(np.mean(posterior1['beta'],axis=0), Xtestn1.T)))\n",
        "print(\"Size Cluster1\", np.sum(clusters_test==1), \", MAE Cluster1=\",\n",
        "      (np.mean(abs(y_pred_BLR1 - y_test.price.values[clusters_test==1]))))\n",
        "\n",
        "# cluster 2\n",
        "y_pred_BLR2 = np.exp(yscaler2.inverse_transform(np.mean(posterior2['alpha']) \n",
        "              + np.dot(np.mean(posterior2['beta'],axis=0), Xtestn2.T)))\n",
        "print(\"Size Cluster2\", np.sum(clusters_test==2), \", MAE Cluster2=\",\n",
        "      (np.mean(abs(y_pred_BLR2 - y_test.price.values[clusters_test==2]))))\n",
        "\n",
        "# cluster 3\n",
        "y_pred_BLR3 = np.exp(yscaler3.inverse_transform(np.mean(posterior3['alpha']) \n",
        "              + np.dot(np.mean(posterior3['beta'],axis=0), Xtestn3.T)))\n",
        "print(\"Size Cluster3\", np.sum(clusters_test==3), \", MAE Cluster3=\",\n",
        "      (np.mean(abs(y_pred_BLR3 - y_test.price.values[clusters_test==3]))))\n",
        "\n",
        "# joint\n",
        "joint=np.hstack([abs(y_pred_BLR0 - y_test.price.values[clusters_test==0]),\n",
        "                 abs(y_pred_BLR1 - y_test.price.values[clusters_test==1]),\n",
        "                 abs(y_pred_BLR2 - y_test.price.values[clusters_test==2]),\n",
        "                 abs(y_pred_BLR3 - y_test.price.values[clusters_test==3])])\n",
        "\n",
        "# MAE\n",
        "print(\"MAE=\",np.mean(joint))"
      ],
      "execution_count": 56,
      "outputs": [
        {
          "output_type": "stream",
          "name": "stdout",
          "text": [
            "Size Cluster0 189 , MAE Cluster0= 343280.6026391323\n",
            "Size Cluster1 449 , MAE Cluster1= 127989.0102716635\n",
            "Size Cluster2 367 , MAE Cluster2= 70167.5255519138\n",
            "Size Cluster3 12 , MAE Cluster3= 545374.3821236402\n",
            "MAE= 152058.08650325364\n"
          ]
        }
      ]
    },
    {
      "cell_type": "markdown",
      "metadata": {
        "id": "YGmB9BNkoIDr"
      },
      "source": [
        "### PPC on the Test set\n",
        "\n"
      ]
    },
    {
      "cell_type": "code",
      "metadata": {
        "colab": {
          "base_uri": "https://localhost:8080/",
          "height": 332
        },
        "id": "WZIrr7pfFco-",
        "outputId": "50cfcb7e-79f4-4249-e9e5-52cc64e4a8fe"
      },
      "source": [
        "## Posterior predictive checks (PPCs)\n",
        "\n",
        "num_samples2 = 200\n",
        "Ypred0 = ppc(posterior0['alpha'],posterior0['beta'],posterior0['sigma_n'],Xtestn0, nsamples=num_samples2)\n",
        "Ypred1 = ppc(posterior1['alpha'],posterior1['beta'],posterior1['sigma_n'],Xtestn1, nsamples=num_samples2)\n",
        "Ypred2 = ppc(posterior2['alpha'],posterior2['beta'],posterior2['sigma_n'],Xtestn2, nsamples=num_samples2)\n",
        "Ypred3 = ppc(posterior3['alpha'],posterior3['beta'],posterior3['sigma_n'],Xtestn3, nsamples=num_samples2)\n",
        "\n",
        "# Stack arrays in sequence horizontally (column wise)\n",
        "Ypred = np.hstack([yscaler0.inverse_transform(Ypred0),\n",
        "                 yscaler1.inverse_transform(Ypred1),\n",
        "                 yscaler2.inverse_transform(Ypred2),\n",
        "                 yscaler3.inverse_transform(Ypred3)])\n",
        "\n",
        "# plot prediction shape\n",
        "for i in range(Ypred.shape[0]):\n",
        "    az.plot_dist( Ypred[i,:],color='r',plot_kwargs={\"linewidth\": 0.2})\n",
        "# label\n",
        "az.plot_dist(Ypred[i,:],color='r',plot_kwargs={\"linewidth\": 0.2}, label=\"prediction\")\n",
        "\n",
        "# true observations\n",
        "az.plot_dist(np.log(y_test),label='true observations');\n",
        "plt.legend()\n",
        "plt.xlabel(\"log(y) - output variable\")\n",
        "plt.ylabel(\"density plot\");\n",
        "plt.xlim(10, 16)"
      ],
      "execution_count": 57,
      "outputs": [
        {
          "output_type": "execute_result",
          "data": {
            "text/plain": [
              "(10.0, 16.0)"
            ]
          },
          "metadata": {},
          "execution_count": 57
        },
        {
          "output_type": "display_data",
          "data": {
            "image/png": "[encoded data removed]",
            "text/plain": [
              "<Figure size 432x288 with 1 Axes>"
            ]
          },
          "metadata": {
            "needs_background": "light"
          }
        }
      ]
    },
    {
      "cell_type": "markdown",
      "metadata": {
        "id": "f0GYCpwEM09T"
      },
      "source": [
        "# SUMMARY\n",
        "\n"
      ]
    },
    {
      "cell_type": "markdown",
      "metadata": {
        "id": "KtC6AMhyRAV0"
      },
      "source": [
        "I spent a lot of time on the pre-processing steps for this Dataset.\n",
        "\n",
        "Initial issues with the dataset were:\n",
        "\n",
        "- It was already split before pre-processing\n",
        "- There were simple pre-processing steps, such as removing useless columns\n",
        "- Converting data to a useable form by simply on-hot-encoding, which could be done for **property_type**, or mapping **ber_classification** ordinally.\n",
        "- Recognising that **description_block**, **facility** and **features** may store useful information despite their current state as long Strings.\n",
        "\n",
        "The addition of more columnns had a noted improvement in the performance of the Piecewise Regression model. Initial drafts of this dataset used simple counters for **features** and did not store 'property_type' as a one-hot-encoded feature, which had the model scoring ~500k MAE regularly. With the addition of these features, the model scoers much better at ~150k MAE.\n",
        "\n",
        "[wiki/Segmented_regression](https://en.wikipedia.org/wiki/Segmented_regression) says that Segmented regression can be performed on multivariate data by partitioning the various independent variables. Segmented regression is useful when the independent variables, clustered into different groups, exhibit different relationships between the variables in these regions.\n",
        "\n",
        "With this in mind, it makes sense that the most important factor in obtaining decent results for predicting price from this dataset was by getting as much useful information from this dataset as possible."
      ]
    }
  ]
}