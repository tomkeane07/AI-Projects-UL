{
  "nbformat": 4,
  "nbformat_minor": 0,
  "metadata": {
    "colab": {
      "name": "ET5003_Etivity2_template.ipynb",
      "provenance": []
    },
    "kernelspec": {
      "name": "python3",
      "display_name": "Python 3"
    },
    "language_info": {
      "name": "python"
    }
  },
  "cells": [
    {
      "cell_type": "markdown",
      "metadata": {
        "id": "930vlW5BrOtq"
      },
      "source": [
        "<div>\n",
        "<img src=\"https://drive.google.com/uc?export=view&id=1vK33e_EqaHgBHcbRV_m38hx6IkG0blK_\" width=\"350\"/>\n",
        "</div> \n",
        "\n",
        "#**Artificial Intelligence - MSc**\n",
        "##ET5003 - MACHINE LEARNING APPLICATIONS \n",
        "\n",
        "###Instructor: Enrique Naredo\n",
        "###ET5003_Etivity-2"
      ]
    },
    {
      "cell_type": "code",
      "metadata": {
        "id": "LqXD_IwUQuBF",
        "cellView": "form"
      },
      "source": [
        "#@title Current Date\n",
        "Today = '2021-08-22' #@param {type:\"date\"}\n"
      ],
      "execution_count": 571,
      "outputs": []
    },
    {
      "cell_type": "code",
      "metadata": {
        "id": "uzDKau31OjVO",
        "cellView": "form"
      },
      "source": [
        "#@markdown ---\n",
        "#@markdown ### Enter your details here:\n",
        "Student_ID = \"20214537\" #@param {type:\"string\"}\n",
        "Student_full_name = \"Tom Keane\" #@param {type:\"string\"}\n",
        "#@markdown ---"
      ],
      "execution_count": 572,
      "outputs": []
    },
    {
      "cell_type": "code",
      "metadata": {
        "id": "r39xGZckTpKx",
        "cellView": "form"
      },
      "source": [
        "#@title Notebook information\n",
        "Notebook_type = 'Example' #@param [\"Example\", \"Lab\", \"Practice\", \"Etivity\", \"Assignment\", \"Exam\"]\n",
        "Version = 'Draft' #@param [\"Draft\", \"Final\"] {type:\"raw\"}\n",
        "Submission = False #@param {type:\"boolean\"}"
      ],
      "execution_count": 573,
      "outputs": []
    },
    {
      "cell_type": "markdown",
      "metadata": {
        "id": "_A0Z6S-r6DpA"
      },
      "source": [
        "# INTRODUCTION"
      ]
    },
    {
      "cell_type": "markdown",
      "metadata": {
        "id": "QkRchZtf6IV-"
      },
      "source": [
        "**Piecewise regression**, extract from [Wikipedia](https://en.wikipedia.org/wiki/Segmented_regression):\n",
        "\n",
        "Segmented regression, also known as piecewise regression or broken-stick regression, is a method in regression analysis in which the independent variable is partitioned into intervals and a separate line segment is fit to each interval. \n",
        "\n",
        "* Segmented regression analysis can also be performed on \n",
        "multivariate data by partitioning the various independent variables. \n",
        "* Segmented regression is useful when the independent variables, clustered into different groups, exhibit different relationships between the variables in these regions. \n",
        "\n",
        "* The boundaries between the segments are breakpoints.\n",
        "\n",
        "* Segmented linear regression is segmented regression whereby the relations in the intervals are obtained by linear regression. "
      ]
    },
    {
      "cell_type": "markdown",
      "metadata": {
        "id": "aajlS0WCJ8pm"
      },
      "source": [
        "***The goal is to use advanced Machine Learning methods to predict House price.***"
      ]
    },
    {
      "cell_type": "markdown",
      "metadata": {
        "id": "Wg7VCbX77eAA"
      },
      "source": [
        "## Imports"
      ]
    },
    {
      "cell_type": "code",
      "metadata": {
        "id": "iFFLThrpwibd"
      },
      "source": [
        "# Suppressing Warnings:\n",
        "import warnings\n",
        "warnings.filterwarnings(\"ignore\")"
      ],
      "execution_count": 574,
      "outputs": []
    },
    {
      "cell_type": "code",
      "metadata": {
        "id": "d1770_fNrCWn"
      },
      "source": [
        "import pandas as pd\n",
        "import matplotlib.pyplot as plt\n",
        "import numpy as np\n",
        "import pymc3 as pm\n",
        "import arviz as az\n",
        "from sklearn.preprocessing import StandardScaler\n",
        "import seaborn as sns"
      ],
      "execution_count": 575,
      "outputs": []
    },
    {
      "cell_type": "code",
      "metadata": {
        "id": "sYPJU_Y6O6Dq"
      },
      "source": [
        "# to plot\n",
        "import matplotlib.colors\n",
        "from mpl_toolkits.mplot3d import Axes3D\n",
        "\n",
        "# to generate classification, regression and clustering datasets\n",
        "import sklearn.datasets as dt\n",
        "\n",
        "# to create data frames\n",
        "from pandas import DataFrame\n",
        "\n",
        "# to generate data from an existing dataset\n",
        "from sklearn.neighbors import KernelDensity\n",
        "from sklearn.model_selection import GridSearchCV"
      ],
      "execution_count": 576,
      "outputs": []
    },
    {
      "cell_type": "code",
      "metadata": {
        "id": "6MUJdlxSPSMM"
      },
      "source": [
        "# Define the seed so that results can be reproduced\n",
        "seed = 11\n",
        "rand_state = 11\n",
        "\n",
        "# Define the color maps for plots\n",
        "color_map = plt.cm.get_cmap('RdYlBu')\n",
        "color_map_discrete = matplotlib.colors.LinearSegmentedColormap.from_list(\"\", [\"red\",\"cyan\",\"magenta\",\"blue\"])"
      ],
      "execution_count": 577,
      "outputs": []
    },
    {
      "cell_type": "markdown",
      "metadata": {
        "id": "WL91ShB19RPw"
      },
      "source": [
        "# DATASET"
      ]
    },
    {
      "cell_type": "markdown",
      "metadata": {
        "id": "ESg5DGKWJSOf"
      },
      "source": [
        "Extract from this [paper](https://ieeexplore.ieee.org/document/9300074):\n",
        "\n",
        "* House prices are a significant impression of the economy, and its value ranges are of great concerns for the clients and property dealers. \n",
        "\n",
        "* Housing price escalate every year that eventually reinforced the need of strategy or technique that could predict house prices in future. \n",
        "\n",
        "* There are certain factors that influence house prices including physical conditions, locations, number of bedrooms and others.\n"
      ]
    },
    {
      "cell_type": "markdown",
      "metadata": {
        "id": "a8Y2pf50FlYL"
      },
      "source": [
        "1. [Download the dataset](https://github.com/UL-ET5003/ET5003_SEM1_2021-2/tree/main/Week-3). \n",
        "\n",
        "2. Upload the dataset into your folder.\n",
        "\n"
      ]
    },
    {
      "cell_type": "markdown",
      "metadata": {
        "id": "FMkdCQEmKTof"
      },
      "source": [
        "The challenge is to predict the final price of each house."
      ]
    },
    {
      "cell_type": "markdown",
      "metadata": {
        "id": "2PMoPLlUJ1Ly"
      },
      "source": [
        "## Training & Test Data"
      ]
    },
    {
      "cell_type": "code",
      "metadata": {
        "id": "loLTHklwKGnV"
      },
      "source": [
        "def import_datasets(git_link = 'https://raw.githubusercontent.com/tomkeane07/AI-Projects-UL/main/semester3/MachineLearningApplications/PiecewiseRegression'):\n",
        "  return {\n",
        "      'house_test' : pd.read_csv(git_link+'/house_test.csv'),\n",
        "      'house_train' : pd.read_csv(git_link+'/house_train.csv'),\n",
        "      'true_price'  : pd.read_csv(git_link+'/true_price.csv')}\n",
        "\n",
        "# try:\n",
        "#   dbs\n",
        "# except:\n",
        "#   dbs = import_datasets()\n",
        "dbs = import_datasets()\n",
        "\n",
        "\n",
        "# split data into training and test\n",
        "from sklearn.model_selection import train_test_split\n",
        "\n",
        "# training: 70% (0.7), test: 30% (0.3) \n",
        "# you could try any other combination \n",
        "# but consider 50% of training as the low boundary\n",
        "# X_train,X_test,y_train,y_test = train_test_split(X, y, test_size=0.3)"
      ],
      "execution_count": 578,
      "outputs": []
    },
    {
      "cell_type": "markdown",
      "metadata": {
        "id": "ztBkSZluye87"
      },
      "source": [
        "### Train dataset"
      ]
    },
    {
      "cell_type": "code",
      "metadata": {
        "id": "4rosmH4665uJ"
      },
      "source": [
        "dftest = dbs['house_test' ]\n",
        "dftrain =  dbs['house_train']\n",
        "dfcost = dbs['true_price']\n",
        "df = dftrain.append(dftest)"
      ],
      "execution_count": 579,
      "outputs": []
    },
    {
      "cell_type": "code",
      "metadata": {
        "id": "6XUFUPABMHfF",
        "colab": {
          "base_uri": "https://localhost:8080/",
          "height": 293
        },
        "outputId": "6a911058-bd24-49b5-b2a3-7e7ac87dcd27"
      },
      "source": [
        "# show first data frame rows \n",
        "dftrain.head()"
      ],
      "execution_count": 580,
      "outputs": [
        {
          "output_type": "execute_result",
          "data": {
            "text/html": [
              "<div>\n",
              "<style scoped>\n",
              "    .dataframe tbody tr th:only-of-type {\n",
              "        vertical-align: middle;\n",
              "    }\n",
              "\n",
              "    .dataframe tbody tr th {\n",
              "        vertical-align: top;\n",
              "    }\n",
              "\n",
              "    .dataframe thead th {\n",
              "        text-align: right;\n",
              "    }\n",
              "</style>\n",
              "<table border=\"1\" class=\"dataframe\">\n",
              "  <thead>\n",
              "    <tr style=\"text-align: right;\">\n",
              "      <th></th>\n",
              "      <th>ad_id</th>\n",
              "      <th>area</th>\n",
              "      <th>bathrooms</th>\n",
              "      <th>beds</th>\n",
              "      <th>ber_classification</th>\n",
              "      <th>county</th>\n",
              "      <th>description_block</th>\n",
              "      <th>environment</th>\n",
              "      <th>facility</th>\n",
              "      <th>features</th>\n",
              "      <th>latitude</th>\n",
              "      <th>longitude</th>\n",
              "      <th>no_of_units</th>\n",
              "      <th>price</th>\n",
              "      <th>property_category</th>\n",
              "      <th>property_type</th>\n",
              "      <th>surface</th>\n",
              "    </tr>\n",
              "  </thead>\n",
              "  <tbody>\n",
              "    <tr>\n",
              "      <th>0</th>\n",
              "      <td>996887</td>\n",
              "      <td>Portmarnock</td>\n",
              "      <td>NaN</td>\n",
              "      <td>NaN</td>\n",
              "      <td>NaN</td>\n",
              "      <td>Dublin</td>\n",
              "      <td>A SELECTION OF 4 AND 5 BEDROOM FAMILY HOMES LO...</td>\n",
              "      <td>prod</td>\n",
              "      <td>NaN</td>\n",
              "      <td>None</td>\n",
              "      <td>53.418216</td>\n",
              "      <td>-6.149329</td>\n",
              "      <td>18.0</td>\n",
              "      <td>NaN</td>\n",
              "      <td>new_development_parent</td>\n",
              "      <td>NaN</td>\n",
              "      <td>NaN</td>\n",
              "    </tr>\n",
              "    <tr>\n",
              "      <th>1</th>\n",
              "      <td>999327</td>\n",
              "      <td>Lucan</td>\n",
              "      <td>NaN</td>\n",
              "      <td>NaN</td>\n",
              "      <td>NaN</td>\n",
              "      <td>Dublin</td>\n",
              "      <td>**Last 2 remaining houses for sale ***\\n\\nOn v...</td>\n",
              "      <td>prod</td>\n",
              "      <td>NaN</td>\n",
              "      <td>None</td>\n",
              "      <td>53.364917</td>\n",
              "      <td>-6.454935</td>\n",
              "      <td>3.0</td>\n",
              "      <td>NaN</td>\n",
              "      <td>new_development_parent</td>\n",
              "      <td>NaN</td>\n",
              "      <td>NaN</td>\n",
              "    </tr>\n",
              "    <tr>\n",
              "      <th>2</th>\n",
              "      <td>999559</td>\n",
              "      <td>Rathfarnham</td>\n",
              "      <td>NaN</td>\n",
              "      <td>NaN</td>\n",
              "      <td>NaN</td>\n",
              "      <td>Dublin</td>\n",
              "      <td>Final 4 &amp;amp; 5 Bedroom Homes for Sale\\n\\nOn V...</td>\n",
              "      <td>prod</td>\n",
              "      <td>NaN</td>\n",
              "      <td>None</td>\n",
              "      <td>53.273447</td>\n",
              "      <td>-6.313821</td>\n",
              "      <td>3.0</td>\n",
              "      <td>NaN</td>\n",
              "      <td>new_development_parent</td>\n",
              "      <td>NaN</td>\n",
              "      <td>NaN</td>\n",
              "    </tr>\n",
              "    <tr>\n",
              "      <th>3</th>\n",
              "      <td>9102986</td>\n",
              "      <td>Balbriggan</td>\n",
              "      <td>NaN</td>\n",
              "      <td>NaN</td>\n",
              "      <td>NaN</td>\n",
              "      <td>Dublin</td>\n",
              "      <td>Glenveagh Taylor Hill, Balbriggan\\n\\n*Ideal st...</td>\n",
              "      <td>prod</td>\n",
              "      <td>NaN</td>\n",
              "      <td>None</td>\n",
              "      <td>53.608167</td>\n",
              "      <td>-6.210914</td>\n",
              "      <td>30.0</td>\n",
              "      <td>NaN</td>\n",
              "      <td>new_development_parent</td>\n",
              "      <td>NaN</td>\n",
              "      <td>NaN</td>\n",
              "    </tr>\n",
              "    <tr>\n",
              "      <th>4</th>\n",
              "      <td>9106028</td>\n",
              "      <td>Foxrock</td>\n",
              "      <td>NaN</td>\n",
              "      <td>NaN</td>\n",
              "      <td>NaN</td>\n",
              "      <td>Dublin</td>\n",
              "      <td>*New phase launching this weekend Sat &amp;amp; Su...</td>\n",
              "      <td>prod</td>\n",
              "      <td>NaN</td>\n",
              "      <td>None</td>\n",
              "      <td>53.262531</td>\n",
              "      <td>-6.181527</td>\n",
              "      <td>8.0</td>\n",
              "      <td>NaN</td>\n",
              "      <td>new_development_parent</td>\n",
              "      <td>NaN</td>\n",
              "      <td>NaN</td>\n",
              "    </tr>\n",
              "  </tbody>\n",
              "</table>\n",
              "</div>"
            ],
            "text/plain": [
              "     ad_id         area  ...  property_type  surface\n",
              "0   996887  Portmarnock  ...            NaN      NaN\n",
              "1   999327        Lucan  ...            NaN      NaN\n",
              "2   999559  Rathfarnham  ...            NaN      NaN\n",
              "3  9102986   Balbriggan  ...            NaN      NaN\n",
              "4  9106028      Foxrock  ...            NaN      NaN\n",
              "\n",
              "[5 rows x 17 columns]"
            ]
          },
          "metadata": {},
          "execution_count": 580
        }
      ]
    },
    {
      "cell_type": "code",
      "metadata": {
        "id": "5rq_p-D4yLBe",
        "colab": {
          "base_uri": "https://localhost:8080/"
        },
        "outputId": "36b353d5-eed2-43f1-a2ff-4fca1deb77a5"
      },
      "source": [
        "print(\"missing values _ %\")\n",
        "print(df.isna().sum()* 100 / len(df))\n",
        "print(\"_________\\nunique values\")\n",
        "print(df.nunique(axis=0))"
      ],
      "execution_count": 581,
      "outputs": [
        {
          "output_type": "stream",
          "name": "stdout",
          "text": [
            "missing values _ %\n",
            "ad_id                  0.000000\n",
            "area                   0.000000\n",
            "bathrooms              1.464675\n",
            "beds                   1.464675\n",
            "ber_classification    21.051120\n",
            "county                 0.000000\n",
            "description_block      0.000000\n",
            "environment            0.000000\n",
            "facility              66.858128\n",
            "features               0.000000\n",
            "latitude               0.000000\n",
            "longitude              0.000000\n",
            "no_of_units           98.305572\n",
            "price                 16.944285\n",
            "property_category      0.000000\n",
            "property_type          1.464675\n",
            "surface               15.824239\n",
            "dtype: float64\n",
            "_________\n",
            "unique values\n",
            "ad_id                 3482\n",
            "area                   157\n",
            "bathrooms               13\n",
            "beds                    15\n",
            "ber_classification      16\n",
            "county                   1\n",
            "description_block     3476\n",
            "environment              1\n",
            "facility                35\n",
            "features              2378\n",
            "latitude              3353\n",
            "longitude             3361\n",
            "no_of_units             22\n",
            "price                  355\n",
            "property_category        2\n",
            "property_type           10\n",
            "surface               1034\n",
            "dtype: int64\n"
          ]
        }
      ]
    },
    {
      "cell_type": "code",
      "metadata": {
        "id": "fERrQZAZybIK"
      },
      "source": [
        ""
      ],
      "execution_count": 581,
      "outputs": []
    },
    {
      "cell_type": "markdown",
      "metadata": {
        "id": "_btUyMLDfIp1"
      },
      "source": [
        "**no_of_units** can go as there is too little data there.\n",
        "\n",
        " **county**, **environment**  can also go as there's only one value for each.\n",
        " \n",
        " **area** will also have to go as it has too many values to encode\n",
        "\n",
        "facility has a lot of missing values. Though this field being missing may be valid data anyway.\n",
        "\n",
        "One-hot encoding and simple imputation can be applied to the other categories with missing values less than 25 %\n",
        "\n"
      ]
    },
    {
      "cell_type": "code",
      "metadata": {
        "id": "8Jwv4-hqbyNw"
      },
      "source": [
        "dropcols = ['no_of_units', 'county', 'environment', 'area', 'ad_id']"
      ],
      "execution_count": 582,
      "outputs": []
    },
    {
      "cell_type": "code",
      "metadata": {
        "colab": {
          "base_uri": "https://localhost:8080/"
        },
        "id": "EZlFJnCClxqO",
        "outputId": "c544caf2-f3bc-4f60-bc53-abea0943137d"
      },
      "source": [
        "print(\"\\n\\ndescription_block\")\n",
        "print(list(df.head(3)['description_block']))\n",
        "print(\"\\n\\nfacility\")\n",
        "print(list(df.head(3)['facility']))\n",
        "print(\"\\n\\nfeatures\")\n",
        "print(list(df.head(3)['features']))"
      ],
      "execution_count": 583,
      "outputs": [
        {
          "output_type": "stream",
          "name": "stdout",
          "text": [
            "\n",
            "\n",
            "description_block\n",
            "[\"A SELECTION OF 4 AND 5 BEDROOM FAMILY HOMES LOCATED BY THE SEA\\n\\nON VIEW BY APPOINTMENT ONLY\\n\\nBRAND NEW SHOW HOME\\n\\nStation Manor is a prestigious 'A' Rated development situated within walking distance of the historic village of Portmarnock. These generously sized, elegant 3, 4 &amp; 5 bedroom homes are ideally located just minutes from the sea front. \\n\\nSituated in a highly sought-after seaside village, Station Manor is an exclusive development of luxurious new homes, designed with exemplary attention to detail throughout, and offering all the relaxation and serenity of a small seaside town with the convenience of city living. \\n\\nFeatures\\n\\nPortmarnock is undoubtedly one of North Dublin's most picturesque locations, with clear views of Lambay Island and Ireland's Eye. Portmarnock is home to the famous 5 mile long stretch of white sandy beaches known as the 'Velvet Strand', which stretches all the way from Malahide to Sutton. Station Manor has this beautiful amenity right on its doorstep. \\n\\nThe development is within close proximity to both Portmarnock and Malahide villages, which host a wealth of amenities including excellent dining options, shops, schools and fantastic sports &amp; leisure facilities. The historic grounds of Malahide Castle &amp; Demesne are a short distance away with over 260 acres of estate parkland and gardens at your disposal, together with a children's playground and Avoca café. \\n\\nStation Manor is ideally located directly across from Portmarnock train station providing direct access to the city centre within 15-20 minutes via the DART commuter line. Portmarnock is also well-served by Dublin Bus with an excellent selection of routes (102, 32, 32X, 42, 42N (Nitelink) and 142). \\n\\nPortmarnock is a mere 10km away from Dublin International Airport, 15km from Dublin City Centre and a short distance from the pretty fishing village at Howth.Location:AMENITIES As well as the famous \\x93Velvet Strand\\x94 beaches, Portmarnock village also boasts two national landmarks, the Martello Tower and the Kiosk, both on the promenade.   The Outdoors The village is surrounded by golf courses on all sides, including Portmarnock Golf Club (host to a number of international professional and amateur events including the Irish Open Championships, the Walker Cup and the Irish Amateur Close Championships). There are also several active sports clubs, such as Portmarnock Tennis Club, Portmarnock A.F.C., Seaview Celtic F.C. and the Portmarnock Sport and Leisure Club. Other golf courses in the area include Malahide Golf Club, Portmarnock Golf Hotel &amp; Links (designed by Bernhard Langer) and Sutton Golf Club. With Naomh Mearnóg serving as the local Gaelic Athletic Association club, all recreational interests will be facilitated within a short distance of your home.   Dining When it comes to dining out, residents of Station Manor can enjoy a vast array of the best eateries Dublin has to offer including McHugh\\x92s Fine Dining, IL Panorama Lali\\x92s and the \\x91Jameson Bar\\x92 at the Portmarnock Links Hotel. In nearby Malahide and Howth, household names such as Avoca, Bon Appetite and Gibneys of Malahide are situated nearby alongside a range of local cafes, bistros and bars, catering to all appetites.  Shopping Portmarnock has a host of local shops bars and businesses. The Pavilions Shopping centre and Airside Retail Park are all within a short drive of Portmarnock Village \\x96 these retail centres include many world famous shopping centres, restaurants and bars.  Schools There is a wide choice of local primary and secondary schools in the area which include primary schools such as \\x96 St. Marnock's National School and St. Helen's \\x96 Portmarnock Community School is the local secondary school.\", '**Last 2 remaining houses for sale ***\\n\\nOn view Saturday from 12pm to 2pm\\n\\nRokeby Park comprises 71 large four and five bedroom detached A rated homes on an exclusive site near Lucan Village, located only moments from St. Catherine s Park and next door to Laraghcon in Lucan.\\n\\nO Flynn Capital Partners have brought all their experience to bear on the design of these stunning detached family homes. These homes designed by Hogan Architecture take maximum advantage of the large sites, the verdant setting and are built to the highest development standards including increased floor to ceiling heights, triple glazing, well-proportioned reception rooms including an attractive wood burning stove, hand-crafted shaker style kitchens and luxurious bathrooms and en-suites.\\n\\nLucan has a wide variety of shops, cafes, restaurants, bars and retail outlets. Local sports clubs include golf at the Hermitage and Lucan golf clubs. For the shopping enthusiasts there is The Liffey Valley shopping centre. Local schools include Castleknock College, Kings Hospital and Mount Sackville.\\n\\nFor further information please visit www.rokebypark.ie\\n\\nBER: A2\\nCertificates can be viewed with agent\\nEPI range 39.44 - 49.67 kwh/m2/yr', 'Final 4 &amp; 5 Bedroom Homes for Sale\\n\\nOn View Saturday and Sunday from 12pm to 2pm\\n\\nPRICES FROM 495,000\\n\\nRegister your interest on www.whitepines.ie or with Sherry FitzGerald New Homes on 01 667 1888 or Dillon Marshall New Homes on 01 496 757\\n\\nWhite Pines is a contemporary new development built by Ardstone Homes, comprising of 3, 4 &amp; 5 bedroom family homes located along Stocking Avenue in the long established suburb of Rathfarnham. \\n\\nLocated at the foothills of the Dublin Mountains, White Pines is surrounded by beautiful scenery, and is close by to both Rathfarnham and Templeogue villages home to a host of local shops, restaurants and cafes. Numerous transport links, including the bus (15 &amp; 15b) and the M50 (Exit 12) just a short drive away, means that access to all parts of Dublin city are within easy reach. \\n\\nThose who enjoy the great outdoors will not be disappointed with a choice of beautiful parks to explore, from Marlay Park to St Enda s Park, along with the picturesque mountain walks at the Hellfire Club and Massy s Wood.\\n\\nFor the sporting enthusiast, White Pines is situated near a number of highly regarded sporting clubs, including Edmondstown, Rathfarnham and Grange golf clubs, Ballyboden St. Enda s GAA Club and Templeogue Tennis Club to name just a few. \\nAlso close by are host of South Dublin s best primary and secondary schools including Saint Colmcilles National and Secondary Schools, Terenure College, Beaufort and Our Lady s Templeogue.\\n\\nIn order to register your interest in these exciting A-rated homes, please visit www.whitepines.ie or call Sherry FitzGerald on 01 667 1888. \\n\\nBER: A3 (BER numbers can be viewed on request with the Agent)']\n",
            "\n",
            "\n",
            "facility\n",
            "[nan, nan, nan]\n",
            "\n",
            "\n",
            "features\n",
            "['None', 'None', 'None']\n"
          ]
        }
      ]
    },
    {
      "cell_type": "markdown",
      "metadata": {
        "id": "TfMpe5O6DmnL"
      },
      "source": [
        "Having looked at the '**features**, I have surmised that each feature is marked by a '\\n' new line. Similarly **facilities** are listed and separated by commas - ','.\n",
        "**description_block** has too much text to treat the same way"
      ]
    },
    {
      "cell_type": "code",
      "metadata": {
        "id": "FXo0x2u7T7-1",
        "colab": {
          "base_uri": "https://localhost:8080/",
          "height": 977
        },
        "outputId": "745d9f3b-3370-42b6-dd23-fbdafe1a5125"
      },
      "source": [
        "print(\"\\ntrain\")\n",
        "display(dftrain.describe())\n",
        "print(\"\\ntest\")\n",
        "display(dftest.describe())\n",
        "print(\"\\ncost\")\n",
        "display(dfcost.describe())"
      ],
      "execution_count": 584,
      "outputs": [
        {
          "output_type": "stream",
          "name": "stdout",
          "text": [
            "\n",
            "train\n"
          ]
        },
        {
          "output_type": "display_data",
          "data": {
            "text/html": [
              "<div>\n",
              "<style scoped>\n",
              "    .dataframe tbody tr th:only-of-type {\n",
              "        vertical-align: middle;\n",
              "    }\n",
              "\n",
              "    .dataframe tbody tr th {\n",
              "        vertical-align: top;\n",
              "    }\n",
              "\n",
              "    .dataframe thead th {\n",
              "        text-align: right;\n",
              "    }\n",
              "</style>\n",
              "<table border=\"1\" class=\"dataframe\">\n",
              "  <thead>\n",
              "    <tr style=\"text-align: right;\">\n",
              "      <th></th>\n",
              "      <th>ad_id</th>\n",
              "      <th>bathrooms</th>\n",
              "      <th>beds</th>\n",
              "      <th>latitude</th>\n",
              "      <th>longitude</th>\n",
              "      <th>no_of_units</th>\n",
              "      <th>price</th>\n",
              "      <th>surface</th>\n",
              "    </tr>\n",
              "  </thead>\n",
              "  <tbody>\n",
              "    <tr>\n",
              "      <th>count</th>\n",
              "      <td>2.982000e+03</td>\n",
              "      <td>2931.000000</td>\n",
              "      <td>2931.000000</td>\n",
              "      <td>2982.000000</td>\n",
              "      <td>2982.000000</td>\n",
              "      <td>59.000000</td>\n",
              "      <td>2.892000e+03</td>\n",
              "      <td>2431.000000</td>\n",
              "    </tr>\n",
              "    <tr>\n",
              "      <th>mean</th>\n",
              "      <td>1.224065e+07</td>\n",
              "      <td>1.998635</td>\n",
              "      <td>2.979188</td>\n",
              "      <td>53.355991</td>\n",
              "      <td>-6.257175</td>\n",
              "      <td>7.440678</td>\n",
              "      <td>5.323536e+05</td>\n",
              "      <td>318.851787</td>\n",
              "    </tr>\n",
              "    <tr>\n",
              "      <th>std</th>\n",
              "      <td>5.793037e+05</td>\n",
              "      <td>1.291875</td>\n",
              "      <td>1.468408</td>\n",
              "      <td>0.086748</td>\n",
              "      <td>0.141906</td>\n",
              "      <td>8.937081</td>\n",
              "      <td>5.678148e+05</td>\n",
              "      <td>4389.423136</td>\n",
              "    </tr>\n",
              "    <tr>\n",
              "      <th>min</th>\n",
              "      <td>9.968870e+05</td>\n",
              "      <td>0.000000</td>\n",
              "      <td>0.000000</td>\n",
              "      <td>51.458439</td>\n",
              "      <td>-6.521183</td>\n",
              "      <td>0.000000</td>\n",
              "      <td>1.999500e+04</td>\n",
              "      <td>3.400000</td>\n",
              "    </tr>\n",
              "    <tr>\n",
              "      <th>25%</th>\n",
              "      <td>1.226813e+07</td>\n",
              "      <td>1.000000</td>\n",
              "      <td>2.000000</td>\n",
              "      <td>53.298929</td>\n",
              "      <td>-6.314064</td>\n",
              "      <td>2.000000</td>\n",
              "      <td>2.800000e+05</td>\n",
              "      <td>74.100000</td>\n",
              "    </tr>\n",
              "    <tr>\n",
              "      <th>50%</th>\n",
              "      <td>1.237758e+07</td>\n",
              "      <td>2.000000</td>\n",
              "      <td>3.000000</td>\n",
              "      <td>53.345497</td>\n",
              "      <td>-6.252254</td>\n",
              "      <td>3.000000</td>\n",
              "      <td>3.800000e+05</td>\n",
              "      <td>100.000000</td>\n",
              "    </tr>\n",
              "    <tr>\n",
              "      <th>75%</th>\n",
              "      <td>1.240294e+07</td>\n",
              "      <td>3.000000</td>\n",
              "      <td>4.000000</td>\n",
              "      <td>53.388845</td>\n",
              "      <td>-6.196049</td>\n",
              "      <td>8.000000</td>\n",
              "      <td>5.750000e+05</td>\n",
              "      <td>142.000000</td>\n",
              "    </tr>\n",
              "    <tr>\n",
              "      <th>max</th>\n",
              "      <td>1.242836e+07</td>\n",
              "      <td>18.000000</td>\n",
              "      <td>27.000000</td>\n",
              "      <td>53.630588</td>\n",
              "      <td>-1.744995</td>\n",
              "      <td>36.000000</td>\n",
              "      <td>9.995000e+06</td>\n",
              "      <td>182108.539008</td>\n",
              "    </tr>\n",
              "  </tbody>\n",
              "</table>\n",
              "</div>"
            ],
            "text/plain": [
              "              ad_id    bathrooms  ...         price        surface\n",
              "count  2.982000e+03  2931.000000  ...  2.892000e+03    2431.000000\n",
              "mean   1.224065e+07     1.998635  ...  5.323536e+05     318.851787\n",
              "std    5.793037e+05     1.291875  ...  5.678148e+05    4389.423136\n",
              "min    9.968870e+05     0.000000  ...  1.999500e+04       3.400000\n",
              "25%    1.226813e+07     1.000000  ...  2.800000e+05      74.100000\n",
              "50%    1.237758e+07     2.000000  ...  3.800000e+05     100.000000\n",
              "75%    1.240294e+07     3.000000  ...  5.750000e+05     142.000000\n",
              "max    1.242836e+07    18.000000  ...  9.995000e+06  182108.539008\n",
              "\n",
              "[8 rows x 8 columns]"
            ]
          },
          "metadata": {}
        },
        {
          "output_type": "stream",
          "name": "stdout",
          "text": [
            "\n",
            "test\n"
          ]
        },
        {
          "output_type": "display_data",
          "data": {
            "text/html": [
              "<div>\n",
              "<style scoped>\n",
              "    .dataframe tbody tr th:only-of-type {\n",
              "        vertical-align: middle;\n",
              "    }\n",
              "\n",
              "    .dataframe tbody tr th {\n",
              "        vertical-align: top;\n",
              "    }\n",
              "\n",
              "    .dataframe thead th {\n",
              "        text-align: right;\n",
              "    }\n",
              "</style>\n",
              "<table border=\"1\" class=\"dataframe\">\n",
              "  <thead>\n",
              "    <tr style=\"text-align: right;\">\n",
              "      <th></th>\n",
              "      <th>ad_id</th>\n",
              "      <th>bathrooms</th>\n",
              "      <th>beds</th>\n",
              "      <th>latitude</th>\n",
              "      <th>longitude</th>\n",
              "      <th>no_of_units</th>\n",
              "      <th>surface</th>\n",
              "    </tr>\n",
              "  </thead>\n",
              "  <tbody>\n",
              "    <tr>\n",
              "      <th>count</th>\n",
              "      <td>5.000000e+02</td>\n",
              "      <td>500.000000</td>\n",
              "      <td>500.000000</td>\n",
              "      <td>500.000000</td>\n",
              "      <td>500.000000</td>\n",
              "      <td>0.0</td>\n",
              "      <td>500.000000</td>\n",
              "    </tr>\n",
              "    <tr>\n",
              "      <th>mean</th>\n",
              "      <td>1.231695e+07</td>\n",
              "      <td>1.994000</td>\n",
              "      <td>2.930000</td>\n",
              "      <td>53.356034</td>\n",
              "      <td>-6.247842</td>\n",
              "      <td>NaN</td>\n",
              "      <td>156.007671</td>\n",
              "    </tr>\n",
              "    <tr>\n",
              "      <th>std</th>\n",
              "      <td>1.485832e+05</td>\n",
              "      <td>1.106532</td>\n",
              "      <td>1.191612</td>\n",
              "      <td>0.081905</td>\n",
              "      <td>0.088552</td>\n",
              "      <td>NaN</td>\n",
              "      <td>344.497362</td>\n",
              "    </tr>\n",
              "    <tr>\n",
              "      <th>min</th>\n",
              "      <td>1.130615e+07</td>\n",
              "      <td>0.000000</td>\n",
              "      <td>0.000000</td>\n",
              "      <td>53.221348</td>\n",
              "      <td>-6.496987</td>\n",
              "      <td>NaN</td>\n",
              "      <td>33.500000</td>\n",
              "    </tr>\n",
              "    <tr>\n",
              "      <th>25%</th>\n",
              "      <td>1.228617e+07</td>\n",
              "      <td>1.000000</td>\n",
              "      <td>2.000000</td>\n",
              "      <td>53.297373</td>\n",
              "      <td>-6.296404</td>\n",
              "      <td>NaN</td>\n",
              "      <td>72.375000</td>\n",
              "    </tr>\n",
              "    <tr>\n",
              "      <th>50%</th>\n",
              "      <td>1.237964e+07</td>\n",
              "      <td>2.000000</td>\n",
              "      <td>3.000000</td>\n",
              "      <td>53.339547</td>\n",
              "      <td>-6.243572</td>\n",
              "      <td>NaN</td>\n",
              "      <td>98.000000</td>\n",
              "    </tr>\n",
              "    <tr>\n",
              "      <th>75%</th>\n",
              "      <td>1.240544e+07</td>\n",
              "      <td>3.000000</td>\n",
              "      <td>4.000000</td>\n",
              "      <td>53.381650</td>\n",
              "      <td>-6.185055</td>\n",
              "      <td>NaN</td>\n",
              "      <td>138.935000</td>\n",
              "    </tr>\n",
              "    <tr>\n",
              "      <th>max</th>\n",
              "      <td>1.242809e+07</td>\n",
              "      <td>8.000000</td>\n",
              "      <td>7.000000</td>\n",
              "      <td>53.619775</td>\n",
              "      <td>-6.064874</td>\n",
              "      <td>NaN</td>\n",
              "      <td>5746.536120</td>\n",
              "    </tr>\n",
              "  </tbody>\n",
              "</table>\n",
              "</div>"
            ],
            "text/plain": [
              "              ad_id   bathrooms  ...  no_of_units      surface\n",
              "count  5.000000e+02  500.000000  ...          0.0   500.000000\n",
              "mean   1.231695e+07    1.994000  ...          NaN   156.007671\n",
              "std    1.485832e+05    1.106532  ...          NaN   344.497362\n",
              "min    1.130615e+07    0.000000  ...          NaN    33.500000\n",
              "25%    1.228617e+07    1.000000  ...          NaN    72.375000\n",
              "50%    1.237964e+07    2.000000  ...          NaN    98.000000\n",
              "75%    1.240544e+07    3.000000  ...          NaN   138.935000\n",
              "max    1.242809e+07    8.000000  ...          NaN  5746.536120\n",
              "\n",
              "[8 rows x 7 columns]"
            ]
          },
          "metadata": {}
        },
        {
          "output_type": "stream",
          "name": "stdout",
          "text": [
            "\n",
            "cost\n"
          ]
        },
        {
          "output_type": "display_data",
          "data": {
            "text/html": [
              "<div>\n",
              "<style scoped>\n",
              "    .dataframe tbody tr th:only-of-type {\n",
              "        vertical-align: middle;\n",
              "    }\n",
              "\n",
              "    .dataframe tbody tr th {\n",
              "        vertical-align: top;\n",
              "    }\n",
              "\n",
              "    .dataframe thead th {\n",
              "        text-align: right;\n",
              "    }\n",
              "</style>\n",
              "<table border=\"1\" class=\"dataframe\">\n",
              "  <thead>\n",
              "    <tr style=\"text-align: right;\">\n",
              "      <th></th>\n",
              "      <th>Id</th>\n",
              "      <th>Expected</th>\n",
              "    </tr>\n",
              "  </thead>\n",
              "  <tbody>\n",
              "    <tr>\n",
              "      <th>count</th>\n",
              "      <td>5.000000e+02</td>\n",
              "      <td>5.000000e+02</td>\n",
              "    </tr>\n",
              "    <tr>\n",
              "      <th>mean</th>\n",
              "      <td>1.231695e+07</td>\n",
              "      <td>5.810356e+05</td>\n",
              "    </tr>\n",
              "    <tr>\n",
              "      <th>std</th>\n",
              "      <td>1.485832e+05</td>\n",
              "      <td>6.009194e+05</td>\n",
              "    </tr>\n",
              "    <tr>\n",
              "      <th>min</th>\n",
              "      <td>1.130615e+07</td>\n",
              "      <td>8.500000e+04</td>\n",
              "    </tr>\n",
              "    <tr>\n",
              "      <th>25%</th>\n",
              "      <td>1.228617e+07</td>\n",
              "      <td>2.950000e+05</td>\n",
              "    </tr>\n",
              "    <tr>\n",
              "      <th>50%</th>\n",
              "      <td>1.237964e+07</td>\n",
              "      <td>4.250000e+05</td>\n",
              "    </tr>\n",
              "    <tr>\n",
              "      <th>75%</th>\n",
              "      <td>1.240544e+07</td>\n",
              "      <td>5.950000e+05</td>\n",
              "    </tr>\n",
              "    <tr>\n",
              "      <th>max</th>\n",
              "      <td>1.242809e+07</td>\n",
              "      <td>5.750000e+06</td>\n",
              "    </tr>\n",
              "  </tbody>\n",
              "</table>\n",
              "</div>"
            ],
            "text/plain": [
              "                 Id      Expected\n",
              "count  5.000000e+02  5.000000e+02\n",
              "mean   1.231695e+07  5.810356e+05\n",
              "std    1.485832e+05  6.009194e+05\n",
              "min    1.130615e+07  8.500000e+04\n",
              "25%    1.228617e+07  2.950000e+05\n",
              "50%    1.237964e+07  4.250000e+05\n",
              "75%    1.240544e+07  5.950000e+05\n",
              "max    1.242809e+07  5.750000e+06"
            ]
          },
          "metadata": {}
        }
      ]
    },
    {
      "cell_type": "markdown",
      "metadata": {
        "id": "UjMH1CSEUA1A"
      },
      "source": [
        "### Expected Cost dataset"
      ]
    },
    {
      "cell_type": "markdown",
      "metadata": {
        "id": "fYUM6qtJ_iXV"
      },
      "source": [
        "### Data Encoding"
      ]
    },
    {
      "cell_type": "code",
      "metadata": {
        "id": "TPEvDexMAZNc"
      },
      "source": [
        "def col_to_colCount(df, col, divider):\n",
        "  #this is designed for features and facilities to convert it to a rough count\n",
        "  # of features, based on how they're typically listed in the df\n",
        "  df[col] = df[col].fillna(\"\")\n",
        "  df[col] = df[col].apply(lambda x: x.count(divider)+1)\n",
        "  return df\n",
        "\n",
        "ber_classification_mapper = {\n",
        "    #Thanks Nigel Portley\n",
        "    \"SINo666of2006exempt\": 1,\n",
        "    \"A1\": 2,\n",
        "    \"A2\": 3,\n",
        "    \"A3\": 4,\n",
        "    \"B1\": 5,\n",
        "    \"B2\": 6,\n",
        "    \"B3\": 7,\n",
        "    \"C1\": 8,\n",
        "    \"C2\": 9,\n",
        "    \"C3\": 10,\n",
        "    \"D1\": 11,\n",
        "    \"D2\": 12,\n",
        "    \"E1\": 13,\n",
        "    \"E2\": 14,\n",
        "    \"F\": 15,\n",
        "    \"G\": 16\n",
        "}\n",
        "\n",
        "property_type_mapper = {\n",
        "      #Thanks Nigel Portley\n",
        "    \"apartment\": 1,\n",
        "    \"bungalow\": 5,\n",
        "    \"detached\": 9,\n",
        "    \"duplex\": 2,\n",
        "    \"end-of-terrace\": 6,\n",
        "    \"semi-detached\": 8,\n",
        "    \"site\": 3,\n",
        "    \"studio\": 0,\n",
        "    \"terraced\": 4,\n",
        "    \"townhouse\": 7\n",
        "}\n",
        "\n",
        "property_category_mapper = {\n",
        "  \"new_development_parent\": 1,\n",
        "  \"sale\": 2,\n",
        "}\n",
        "\n",
        "def drop_cols(df, dropcols):\n",
        "  for col in dropcols:\n",
        "    df.drop(col, axis=1, inplace=True)\n",
        "  return df\n",
        "\n",
        "def onehotencode(df, col, drop_first=True):\n",
        "  return pd.get_dummies(df, columns=[col], \n",
        "                        dummy_na=True, \n",
        "                        drop_first=drop_first)\n",
        "\n",
        "def treat_data(df, dropcols = []):\n",
        "  #drops\n",
        "  try:\n",
        "    df.dropna(subset=['price'], inplace=True)\n",
        "  except:\n",
        "    pass\n",
        "  df = drop_cols(df, dropcols)\n",
        "  #fillna\n",
        "  df['surface'].fillna(df['surface'].median(), inplace=True)\n",
        "  df['bathrooms'].fillna(df['bathrooms'].median(), inplace=True)\n",
        "  df['beds'].fillna(df['beds'].median(), inplace=True)\n",
        "  df['property_category'].fillna(0, inplace=True)\n",
        "  #conversions\n",
        "  df = col_to_colCount(df, 'features' ,'\\n')\n",
        "  df = col_to_colCount(df, 'facility' ,',')\n",
        "  df = col_to_colCount(df, 'description_block' ,'\\n\\n')\n",
        "  df['ber_classification'] = df['ber_classification'].replace(ber_classification_mapper)\n",
        "  df['ber_classification'].fillna(df['ber_classification'].mean(), inplace=True)\n",
        "  df['property_type'] = df['property_type'].replace(property_type_mapper)\n",
        "  df['property_type'].fillna(df['property_type'].mean(), inplace=True)\n",
        "  df['property_category'] = df['property_category'].replace(property_category_mapper)\n",
        "  return df"
      ],
      "execution_count": 585,
      "outputs": []
    },
    {
      "cell_type": "code",
      "metadata": {
        "id": "xFD4TvCRVW7f"
      },
      "source": [
        "dftrain, dftest= treat_data(dftrain, dropcols), treat_data(dftest, dropcols)\n",
        "df = dftrain.append(dftest)"
      ],
      "execution_count": 586,
      "outputs": []
    },
    {
      "cell_type": "code",
      "metadata": {
        "colab": {
          "base_uri": "https://localhost:8080/",
          "height": 608
        },
        "id": "WbLOLw_uu303",
        "outputId": "e244b43f-c6d6-4b5d-fecd-1dbe05dd26cb"
      },
      "source": [
        "print(df.isna().sum())\n",
        "display(sns.heatmap(df.corr()))"
      ],
      "execution_count": 587,
      "outputs": [
        {
          "output_type": "stream",
          "name": "stdout",
          "text": [
            "bathrooms               0\n",
            "beds                    0\n",
            "ber_classification      0\n",
            "description_block       0\n",
            "facility                0\n",
            "features                0\n",
            "latitude                0\n",
            "longitude               0\n",
            "price                 500\n",
            "property_category       0\n",
            "property_type           0\n",
            "surface                 0\n",
            "dtype: int64\n"
          ]
        },
        {
          "output_type": "display_data",
          "data": {
            "text/plain": [
              "<matplotlib.axes._subplots.AxesSubplot at 0x7fde48e41e10>"
            ]
          },
          "metadata": {}
        },
        {
          "output_type": "display_data",
          "data": {
            "image/png": "[encoded data removed]",
            "text/plain": [
              "<Figure size 432x288 with 2 Axes>"
            ]
          },
          "metadata": {
            "needs_background": "light"
          }
        }
      ]
    },
    {
      "cell_type": "code",
      "metadata": {
        "colab": {
          "base_uri": "https://localhost:8080/",
          "height": 490
        },
        "id": "v9eJZMrWXPwE",
        "outputId": "cda876b6-404c-4d1d-abde-36e93355fd50"
      },
      "source": [
        "display(df.describe())\n",
        "display(df.head())"
      ],
      "execution_count": 588,
      "outputs": [
        {
          "output_type": "display_data",
          "data": {
            "text/html": [
              "<div>\n",
              "<style scoped>\n",
              "    .dataframe tbody tr th:only-of-type {\n",
              "        vertical-align: middle;\n",
              "    }\n",
              "\n",
              "    .dataframe tbody tr th {\n",
              "        vertical-align: top;\n",
              "    }\n",
              "\n",
              "    .dataframe thead th {\n",
              "        text-align: right;\n",
              "    }\n",
              "</style>\n",
              "<table border=\"1\" class=\"dataframe\">\n",
              "  <thead>\n",
              "    <tr style=\"text-align: right;\">\n",
              "      <th></th>\n",
              "      <th>bathrooms</th>\n",
              "      <th>beds</th>\n",
              "      <th>ber_classification</th>\n",
              "      <th>description_block</th>\n",
              "      <th>facility</th>\n",
              "      <th>features</th>\n",
              "      <th>latitude</th>\n",
              "      <th>longitude</th>\n",
              "      <th>price</th>\n",
              "      <th>property_category</th>\n",
              "      <th>property_type</th>\n",
              "      <th>surface</th>\n",
              "    </tr>\n",
              "  </thead>\n",
              "  <tbody>\n",
              "    <tr>\n",
              "      <th>count</th>\n",
              "      <td>3392.000000</td>\n",
              "      <td>3392.000000</td>\n",
              "      <td>3392.000000</td>\n",
              "      <td>3392.000000</td>\n",
              "      <td>3392.000000</td>\n",
              "      <td>3392.000000</td>\n",
              "      <td>3392.000000</td>\n",
              "      <td>3392.000000</td>\n",
              "      <td>2.892000e+03</td>\n",
              "      <td>3392.000000</td>\n",
              "      <td>3392.000000</td>\n",
              "      <td>3392.000000</td>\n",
              "    </tr>\n",
              "    <tr>\n",
              "      <th>mean</th>\n",
              "      <td>1.991745</td>\n",
              "      <td>2.968750</td>\n",
              "      <td>10.709017</td>\n",
              "      <td>11.179835</td>\n",
              "      <td>1.494693</td>\n",
              "      <td>5.998526</td>\n",
              "      <td>53.355646</td>\n",
              "      <td>-6.255968</td>\n",
              "      <td>5.323536e+05</td>\n",
              "      <td>1.997936</td>\n",
              "      <td>5.074882</td>\n",
              "      <td>260.501748</td>\n",
              "    </tr>\n",
              "    <tr>\n",
              "      <th>std</th>\n",
              "      <td>1.244009</td>\n",
              "      <td>1.416993</td>\n",
              "      <td>2.907140</td>\n",
              "      <td>7.729394</td>\n",
              "      <td>0.926032</td>\n",
              "      <td>3.780508</td>\n",
              "      <td>0.085779</td>\n",
              "      <td>0.136257</td>\n",
              "      <td>5.678148e+05</td>\n",
              "      <td>0.045388</td>\n",
              "      <td>3.044494</td>\n",
              "      <td>3718.045715</td>\n",
              "    </tr>\n",
              "    <tr>\n",
              "      <th>min</th>\n",
              "      <td>0.000000</td>\n",
              "      <td>0.000000</td>\n",
              "      <td>1.000000</td>\n",
              "      <td>1.000000</td>\n",
              "      <td>1.000000</td>\n",
              "      <td>1.000000</td>\n",
              "      <td>51.458439</td>\n",
              "      <td>-6.521183</td>\n",
              "      <td>1.999500e+04</td>\n",
              "      <td>1.000000</td>\n",
              "      <td>0.000000</td>\n",
              "      <td>3.400000</td>\n",
              "    </tr>\n",
              "    <tr>\n",
              "      <th>25%</th>\n",
              "      <td>1.000000</td>\n",
              "      <td>2.000000</td>\n",
              "      <td>9.000000</td>\n",
              "      <td>5.000000</td>\n",
              "      <td>1.000000</td>\n",
              "      <td>1.000000</td>\n",
              "      <td>53.298722</td>\n",
              "      <td>-6.311291</td>\n",
              "      <td>2.800000e+05</td>\n",
              "      <td>2.000000</td>\n",
              "      <td>1.000000</td>\n",
              "      <td>77.342500</td>\n",
              "    </tr>\n",
              "    <tr>\n",
              "      <th>50%</th>\n",
              "      <td>2.000000</td>\n",
              "      <td>3.000000</td>\n",
              "      <td>10.709720</td>\n",
              "      <td>10.000000</td>\n",
              "      <td>1.000000</td>\n",
              "      <td>7.000000</td>\n",
              "      <td>53.344214</td>\n",
              "      <td>-6.250773</td>\n",
              "      <td>3.800000e+05</td>\n",
              "      <td>2.000000</td>\n",
              "      <td>5.000000</td>\n",
              "      <td>99.000000</td>\n",
              "    </tr>\n",
              "    <tr>\n",
              "      <th>75%</th>\n",
              "      <td>3.000000</td>\n",
              "      <td>4.000000</td>\n",
              "      <td>12.000000</td>\n",
              "      <td>16.000000</td>\n",
              "      <td>2.000000</td>\n",
              "      <td>9.000000</td>\n",
              "      <td>53.387450</td>\n",
              "      <td>-6.195268</td>\n",
              "      <td>5.750000e+05</td>\n",
              "      <td>2.000000</td>\n",
              "      <td>8.000000</td>\n",
              "      <td>130.000000</td>\n",
              "    </tr>\n",
              "    <tr>\n",
              "      <th>max</th>\n",
              "      <td>18.000000</td>\n",
              "      <td>27.000000</td>\n",
              "      <td>16.000000</td>\n",
              "      <td>50.000000</td>\n",
              "      <td>5.000000</td>\n",
              "      <td>11.000000</td>\n",
              "      <td>53.630588</td>\n",
              "      <td>-1.744995</td>\n",
              "      <td>9.995000e+06</td>\n",
              "      <td>2.000000</td>\n",
              "      <td>9.000000</td>\n",
              "      <td>182108.539008</td>\n",
              "    </tr>\n",
              "  </tbody>\n",
              "</table>\n",
              "</div>"
            ],
            "text/plain": [
              "         bathrooms         beds  ...  property_type        surface\n",
              "count  3392.000000  3392.000000  ...    3392.000000    3392.000000\n",
              "mean      1.991745     2.968750  ...       5.074882     260.501748\n",
              "std       1.244009     1.416993  ...       3.044494    3718.045715\n",
              "min       0.000000     0.000000  ...       0.000000       3.400000\n",
              "25%       1.000000     2.000000  ...       1.000000      77.342500\n",
              "50%       2.000000     3.000000  ...       5.000000      99.000000\n",
              "75%       3.000000     4.000000  ...       8.000000     130.000000\n",
              "max      18.000000    27.000000  ...       9.000000  182108.539008\n",
              "\n",
              "[8 rows x 12 columns]"
            ]
          },
          "metadata": {}
        },
        {
          "output_type": "display_data",
          "data": {
            "text/html": [
              "<div>\n",
              "<style scoped>\n",
              "    .dataframe tbody tr th:only-of-type {\n",
              "        vertical-align: middle;\n",
              "    }\n",
              "\n",
              "    .dataframe tbody tr th {\n",
              "        vertical-align: top;\n",
              "    }\n",
              "\n",
              "    .dataframe thead th {\n",
              "        text-align: right;\n",
              "    }\n",
              "</style>\n",
              "<table border=\"1\" class=\"dataframe\">\n",
              "  <thead>\n",
              "    <tr style=\"text-align: right;\">\n",
              "      <th></th>\n",
              "      <th>bathrooms</th>\n",
              "      <th>beds</th>\n",
              "      <th>ber_classification</th>\n",
              "      <th>description_block</th>\n",
              "      <th>facility</th>\n",
              "      <th>features</th>\n",
              "      <th>latitude</th>\n",
              "      <th>longitude</th>\n",
              "      <th>price</th>\n",
              "      <th>property_category</th>\n",
              "      <th>property_type</th>\n",
              "      <th>surface</th>\n",
              "    </tr>\n",
              "  </thead>\n",
              "  <tbody>\n",
              "    <tr>\n",
              "      <th>15</th>\n",
              "      <td>3.0</td>\n",
              "      <td>5.0</td>\n",
              "      <td>4.0</td>\n",
              "      <td>7</td>\n",
              "      <td>1</td>\n",
              "      <td>1</td>\n",
              "      <td>53.400454</td>\n",
              "      <td>-6.445730</td>\n",
              "      <td>935000.0</td>\n",
              "      <td>1</td>\n",
              "      <td>9</td>\n",
              "      <td>321.0</td>\n",
              "    </tr>\n",
              "    <tr>\n",
              "      <th>26</th>\n",
              "      <td>4.0</td>\n",
              "      <td>4.0</td>\n",
              "      <td>4.0</td>\n",
              "      <td>9</td>\n",
              "      <td>1</td>\n",
              "      <td>1</td>\n",
              "      <td>53.316410</td>\n",
              "      <td>-6.385214</td>\n",
              "      <td>485000.0</td>\n",
              "      <td>1</td>\n",
              "      <td>8</td>\n",
              "      <td>144.0</td>\n",
              "    </tr>\n",
              "    <tr>\n",
              "      <th>27</th>\n",
              "      <td>3.0</td>\n",
              "      <td>5.0</td>\n",
              "      <td>4.0</td>\n",
              "      <td>3</td>\n",
              "      <td>1</td>\n",
              "      <td>1</td>\n",
              "      <td>53.401414</td>\n",
              "      <td>-6.446634</td>\n",
              "      <td>935000.0</td>\n",
              "      <td>1</td>\n",
              "      <td>9</td>\n",
              "      <td>321.0</td>\n",
              "    </tr>\n",
              "    <tr>\n",
              "      <th>35</th>\n",
              "      <td>5.0</td>\n",
              "      <td>5.0</td>\n",
              "      <td>3.0</td>\n",
              "      <td>11</td>\n",
              "      <td>1</td>\n",
              "      <td>1</td>\n",
              "      <td>53.375377</td>\n",
              "      <td>-6.056749</td>\n",
              "      <td>1475000.0</td>\n",
              "      <td>1</td>\n",
              "      <td>9</td>\n",
              "      <td>312.0</td>\n",
              "    </tr>\n",
              "    <tr>\n",
              "      <th>38</th>\n",
              "      <td>2.0</td>\n",
              "      <td>2.0</td>\n",
              "      <td>4.0</td>\n",
              "      <td>3</td>\n",
              "      <td>1</td>\n",
              "      <td>1</td>\n",
              "      <td>53.372130</td>\n",
              "      <td>-6.338466</td>\n",
              "      <td>410000.0</td>\n",
              "      <td>1</td>\n",
              "      <td>1</td>\n",
              "      <td>83.0</td>\n",
              "    </tr>\n",
              "  </tbody>\n",
              "</table>\n",
              "</div>"
            ],
            "text/plain": [
              "    bathrooms  beds  ...  property_type  surface\n",
              "15        3.0   5.0  ...              9    321.0\n",
              "26        4.0   4.0  ...              8    144.0\n",
              "27        3.0   5.0  ...              9    321.0\n",
              "35        5.0   5.0  ...              9    312.0\n",
              "38        2.0   2.0  ...              1     83.0\n",
              "\n",
              "[5 rows x 12 columns]"
            ]
          },
          "metadata": {}
        }
      ]
    },
    {
      "cell_type": "markdown",
      "metadata": {
        "id": "bJFJQxAS9HZK"
      },
      "source": [
        "# PIECEWISE REGRESSION"
      ]
    },
    {
      "cell_type": "markdown",
      "metadata": {
        "id": "uQ_1QsLToIDi"
      },
      "source": [
        "## Full Model"
      ]
    },
    {
      "cell_type": "code",
      "metadata": {
        "colab": {
          "base_uri": "https://localhost:8080/"
        },
        "id": "QcpXcQ1nxmzc",
        "outputId": "b48a0b7f-f536-4da9-a093-837601f12411"
      },
      "source": [
        "print('Number of nan in df_subset_train dataset: ',dftrain.isnull().sum().sum())\n",
        "print('Number of nan in df_subset_test dataset: ',dftest.isnull().sum().sum())"
      ],
      "execution_count": 589,
      "outputs": [
        {
          "output_type": "stream",
          "name": "stdout",
          "text": [
            "Number of nan in df_subset_train dataset:  0\n",
            "Number of nan in df_subset_test dataset:  0\n"
          ]
        }
      ]
    },
    {
      "cell_type": "code",
      "metadata": {
        "id": "kcRM50-WxuCt"
      },
      "source": [
        "# train set, input columns\n",
        "Xs_train = dftrain.iloc[:,0:-1].values \n",
        "# train set, output column, cost\n",
        "ys_train = dftrain.iloc[:,-1].values.reshape(-1,1)   \n",
        "\n",
        "# test set, input columns\n",
        "Xs_test = dftest.iloc[:,0:].values \n",
        "# test set, output column, cost\n",
        "y_test = dfcost.Expected.values"
      ],
      "execution_count": 590,
      "outputs": []
    },
    {
      "cell_type": "code",
      "metadata": {
        "id": "pyFpdqV6x2BD"
      },
      "source": [
        "# StandardScaler() will normalize the features i.e. each column of X, \n",
        "# so, each column/feature/variable will have μ = 0 and σ = 1\n",
        "sc = StandardScaler()\n",
        "\n",
        "Xss_train = np.hstack([Xs_train,Xs_train[:,[2]]**2])\n",
        "xscaler = sc.fit(Xss_train)\n",
        "Xn_train = xscaler.transform(Xss_train)\n",
        "\n",
        "Xss_test = np.hstack([Xs_test,Xs_test[:,[2]]**2])\n",
        "Xn_test = xscaler.transform(Xss_test)\n",
        "\n",
        "ylog = np.log(ys_train.astype('float'))\n",
        "yscaler = StandardScaler().fit(ylog)\n",
        "yn_train = yscaler.transform(ylog)"
      ],
      "execution_count": 591,
      "outputs": []
    },
    {
      "cell_type": "code",
      "metadata": {
        "id": "Yv5j1KzzMUnm"
      },
      "source": [
        "# # select some features columns just for the baseline model\n",
        "# # assume not all of the features are informative or useful\n",
        "# # in this exercise you could try all of them if possible\n",
        "\n",
        "# featrain = ['latitude', 'longitude', 'bathrooms', 'beds', 'surface']\n",
        "# # dropna: remove missing values\n",
        "# df_subset_train = dftrain[featrain].dropna(axis=0)\n",
        "\n",
        "# featest = featrain\n",
        "# df_subset_test  =  dftest[featest].dropna(axis=0)\n",
        "\n",
        "# # cost\n",
        "# dfcost = dfcost[dfcost.index.isin(df_subset_test.index)]"
      ],
      "execution_count": 592,
      "outputs": []
    },
    {
      "cell_type": "code",
      "metadata": {
        "id": "PZK2kfygoIDi",
        "colab": {
          "base_uri": "https://localhost:8080/",
          "height": 303
        },
        "outputId": "6a2bf942-4468-46a0-c78f-be5446e6ca80"
      },
      "source": [
        "# model\n",
        "with pm.Model() as model:\n",
        "    #prior over the parameters of linear regression\n",
        "    alpha = pm.Normal('alpha', mu=0, sigma=30)\n",
        "    #we have one beta for each column of Xn\n",
        "    beta = pm.Normal('beta', mu=0, sigma=30, shape=Xn_train.shape[1])\n",
        "    #prior over the variance of the noise\n",
        "    sigma = pm.HalfCauchy('sigma_n', 5)\n",
        "    #linear regression model in matrix form\n",
        "    mu = alpha + pm.math.dot(beta, Xn_train.T)\n",
        "    #likelihood, be sure that observed is a 1d vector\n",
        "    like = pm.Normal('like', mu=mu, sigma=sigma, observed=yn_train[:,0])\n",
        "\n",
        "    \n",
        "\n",
        "#number of iterations of the algorithms\n",
        "iter = 50000 \n",
        "\n",
        "# run the model\n",
        "with model:\n",
        "    approximation = pm.fit(iter,method='advi')\n",
        "    \n",
        "# check the convergence\n",
        "plt.plot(approximation.hist);    "
      ],
      "execution_count": 593,
      "outputs": [
        {
          "output_type": "display_data",
          "data": {
            "text/html": [
              "\n",
              "    <div>\n",
              "        <style>\n",
              "            /* Turns off some styling */\n",
              "            progress {\n",
              "                /* gets rid of default border in Firefox and Opera. */\n",
              "                border: none;\n",
              "                /* Needs to be in here for Safari polyfill so background images work as expected. */\n",
              "                background-size: auto;\n",
              "            }\n",
              "            .progress-bar-interrupted, .progress-bar-interrupted::-webkit-progress-bar {\n",
              "                background: #F44336;\n",
              "            }\n",
              "        </style>\n",
              "      <progress value='50000' class='' max='50000' style='width:300px; height:20px; vertical-align: middle;'></progress>\n",
              "      100.00% [50000/50000 00:11<00:00 Average Loss = 3,630.8]\n",
              "    </div>\n",
              "    "
            ],
            "text/plain": [
              "<IPython.core.display.HTML object>"
            ]
          },
          "metadata": {}
        },
        {
          "output_type": "stream",
          "name": "stderr",
          "text": [
            "Finished [100%]: Average Loss = 3,630.8\n"
          ]
        },
        {
          "output_type": "display_data",
          "data": {
            "image/png": "[encoded data removed]",
            "text/plain": [
              "<Figure size 432x288 with 1 Axes>"
            ]
          },
          "metadata": {
            "needs_background": "light"
          }
        }
      ]
    },
    {
      "cell_type": "code",
      "metadata": {
        "id": "cIskuS3ToIDk",
        "colab": {
          "base_uri": "https://localhost:8080/"
        },
        "outputId": "d5a29127-e85c-4eb8-f7c3-150005c5a5a4"
      },
      "source": [
        "# samples from the posterior\n",
        "posterior = approximation.sample(5000)\n",
        "\n",
        "# prediction\n",
        "ll=np.mean(posterior['alpha']) + np.dot(np.mean(posterior['beta'],axis=0), Xn_test.T)\n",
        "y_pred_BLR = np.exp(yscaler.inverse_transform(ll.reshape(-1,1)))[:,0]\n",
        "print(\"MAE = \",(np.mean(abs(y_pred_BLR - y_test))))\n",
        "print(\"MAPE = \",(np.mean(abs(y_pred_BLR - y_test) / y_test)))"
      ],
      "execution_count": 594,
      "outputs": [
        {
          "output_type": "stream",
          "name": "stdout",
          "text": [
            "MAE =  1.4753414670613245e+126\n",
            "MAPE =  1.967121956081766e+120\n"
          ]
        }
      ]
    },
    {
      "cell_type": "markdown",
      "metadata": {
        "id": "q_jBBKvtoIDk"
      },
      "source": [
        "## Clustering"
      ]
    },
    {
      "cell_type": "markdown",
      "metadata": {
        "id": "VYFvbgYDaEOS"
      },
      "source": [
        "### Full Model"
      ]
    },
    {
      "cell_type": "code",
      "metadata": {
        "id": "iphQ53UE0iVw",
        "colab": {
          "base_uri": "https://localhost:8080/",
          "height": 283
        },
        "outputId": "5a1e2e47-12bd-4bf9-bba2-76092cfbba65"
      },
      "source": [
        "# training gaussian mixture model \n",
        "from sklearn.mixture import GaussianMixture\n",
        "\n",
        "gmm = GaussianMixture(n_components=4)\n",
        "\n",
        "# training gaussian mixture model \n",
        "from sklearn.mixture import GaussianMixture\n",
        "\n",
        "gmm = GaussianMixture(n_components=4)\n",
        "# clustering by features 1, 2\n",
        "ind=[0,1]\n",
        "X_ind = np.vstack([Xn_train[:,ind],Xn_test[:,ind]])\n",
        "# Gaussian Mixture\n",
        "gmm.fit(X_ind)\n",
        "# plot blue dots\n",
        "plt.scatter(X_ind[:,0],X_ind[:,1])\n",
        "# centroids:  orange dots\n",
        "plt.scatter(gmm.means_[:,0],gmm.means_[:,1])"
      ],
      "execution_count": 595,
      "outputs": [
        {
          "output_type": "execute_result",
          "data": {
            "text/plain": [
              "<matplotlib.collections.PathCollection at 0x7fde47cb5650>"
            ]
          },
          "metadata": {},
          "execution_count": 595
        },
        {
          "output_type": "display_data",
          "data": {
            "image/png": "[encoded data removed]",
            "text/plain": [
              "<Figure size 432x288 with 1 Axes>"
            ]
          },
          "metadata": {
            "needs_background": "light"
          }
        }
      ]
    },
    {
      "cell_type": "code",
      "metadata": {
        "colab": {
          "base_uri": "https://localhost:8080/"
        },
        "id": "HO3FU9QXD_OH",
        "outputId": "8a033c5c-8bc4-4948-f948-f834662bb088"
      },
      "source": [
        "np.max(ys_train)"
      ],
      "execution_count": 596,
      "outputs": [
        {
          "output_type": "execute_result",
          "data": {
            "text/plain": [
              "182108.539008"
            ]
          },
          "metadata": {},
          "execution_count": 596
        }
      ]
    },
    {
      "cell_type": "markdown",
      "metadata": {
        "id": "h51OhBV5Z4tY"
      },
      "source": [
        "### Clusters"
      ]
    },
    {
      "cell_type": "code",
      "metadata": {
        "id": "vNvx_KxrLt90",
        "colab": {
          "base_uri": "https://localhost:8080/"
        },
        "outputId": "cab464fb-a80d-4b1d-db18-279597180d1c"
      },
      "source": [
        "# train clusters\n",
        "\n",
        "# train clusters\n",
        "clusters_train = gmm.predict(Xn_train[:,ind])\n",
        "unique_train, counts_train = np.unique(clusters_train, return_counts=True)\n",
        "dict(zip(unique_train, counts_train))"
      ],
      "execution_count": 597,
      "outputs": [
        {
          "output_type": "execute_result",
          "data": {
            "text/plain": [
              "{0: 1081, 1: 57, 2: 1003, 3: 751}"
            ]
          },
          "metadata": {},
          "execution_count": 597
        }
      ]
    },
    {
      "cell_type": "code",
      "metadata": {
        "id": "-wTT4220zFNx",
        "colab": {
          "base_uri": "https://localhost:8080/"
        },
        "outputId": "ccd62039-272b-43d2-db6c-3256f650f27b"
      },
      "source": [
        "# test clusters\n",
        "clusters_test = gmm.predict(Xn_test[:,ind])\n",
        "unique_test, counts_test = np.unique(clusters_test, return_counts=True)\n",
        "dict(zip(unique_test, counts_test))"
      ],
      "execution_count": 598,
      "outputs": [
        {
          "output_type": "execute_result",
          "data": {
            "text/plain": [
              "{0: 172, 1: 8, 2: 188, 3: 132}"
            ]
          },
          "metadata": {},
          "execution_count": 598
        }
      ]
    },
    {
      "cell_type": "code",
      "metadata": {
        "id": "wIdbOZQeEzRv"
      },
      "source": [
        "# cluster 0\n",
        "Xn0 = Xn_train[clusters_train==0,:]\n",
        "Xtestn0 = Xn_test[clusters_test==0,:]\n",
        "\n",
        "ylog0 = np.log(ys_train.astype('float')[clusters_train==0,:])\n",
        "yscaler0 = StandardScaler().fit(ylog0)\n",
        "yn0 = yscaler0.transform(ylog0)"
      ],
      "execution_count": 599,
      "outputs": []
    },
    {
      "cell_type": "code",
      "metadata": {
        "id": "IuQl5lk3EHVG"
      },
      "source": [
        "# cluster 1\n",
        "Xn1 = Xn_train[clusters_train==1,:]\n",
        "Xtestn1 = Xn_test[clusters_test==1,:]\n",
        "ylog1 = np.log(ys_train.astype('float')[clusters_train==1,:])\n",
        "yscaler1 = StandardScaler().fit(ylog1)\n",
        "yn1 = yscaler1.transform(ylog1)\n"
      ],
      "execution_count": 600,
      "outputs": []
    },
    {
      "cell_type": "code",
      "metadata": {
        "id": "kA5s3YseEHae"
      },
      "source": [
        "# cluster 2\n",
        "Xn2 = Xn_train[clusters_train==2,:]\n",
        "Xtestn2 = Xn_test[clusters_test==2,:]\n",
        "ylog2 = np.log(ys_train.astype('float')[clusters_train==2,:])\n",
        "yscaler2 = StandardScaler().fit(ylog2)\n",
        "yn2 = yscaler2.transform(ylog2)"
      ],
      "execution_count": 601,
      "outputs": []
    },
    {
      "cell_type": "code",
      "metadata": {
        "id": "H2nHtUPzEHfa"
      },
      "source": [
        "# cluster 3\n",
        "Xn3 = Xn_train[clusters_train==3,:]\n",
        "Xtestn3 = Xn_test[clusters_test==3,:]\n",
        "ylog3 = np.log(ys_train.astype('float')[clusters_train==3,:])\n",
        "yscaler3 = StandardScaler().fit(ylog3)\n",
        "yn3 = yscaler3.transform(ylog3)"
      ],
      "execution_count": 602,
      "outputs": []
    },
    {
      "cell_type": "markdown",
      "metadata": {
        "id": "dXF25ZDYoIDl"
      },
      "source": [
        "## Piecewise Model"
      ]
    },
    {
      "cell_type": "code",
      "metadata": {
        "id": "N1e-4ruvaJci",
        "colab": {
          "base_uri": "https://localhost:8080/",
          "height": 55
        },
        "outputId": "d70e0201-f9d4-4fe1-e5c1-d90e35a81978"
      },
      "source": [
        "# model_0\n",
        "with pm.Model() as model_0:\n",
        "  # prior over the parameters of linear regression\n",
        "  alpha = pm.Normal('alpha', mu=0, sigma=30)\n",
        "  # we have a beta for each column of Xn0\n",
        "  beta = pm.Normal('beta', mu=0, sigma=30, shape=Xn0.shape[1])\n",
        "  # prior over the variance of the noise\n",
        "  sigma = pm.HalfCauchy('sigma_n', 5)\n",
        "  # linear regression relationship\n",
        "  #linear regression model in matrix form\n",
        "  mu = alpha + pm.math.dot(beta, Xn0.T)\n",
        "  # likelihood, be sure that observed is a 1d vector\n",
        "  like = pm.Normal('like', mu=mu, sigma=sigma, observed=yn0[:,0])\n",
        "\n",
        "with model_0:\n",
        "  # iterations of the algorithm\n",
        "  approximation = pm.fit(40000,method='advi')\n",
        "\n",
        "# samples from the posterior   \n",
        "posterior0 = approximation.sample(5000)"
      ],
      "execution_count": 603,
      "outputs": [
        {
          "output_type": "display_data",
          "data": {
            "text/html": [
              "\n",
              "    <div>\n",
              "        <style>\n",
              "            /* Turns off some styling */\n",
              "            progress {\n",
              "                /* gets rid of default border in Firefox and Opera. */\n",
              "                border: none;\n",
              "                /* Needs to be in here for Safari polyfill so background images work as expected. */\n",
              "                background-size: auto;\n",
              "            }\n",
              "            .progress-bar-interrupted, .progress-bar-interrupted::-webkit-progress-bar {\n",
              "                background: #F44336;\n",
              "            }\n",
              "        </style>\n",
              "      <progress value='40000' class='' max='40000' style='width:300px; height:20px; vertical-align: middle;'></progress>\n",
              "      100.00% [40000/40000 00:07<00:00 Average Loss = 1,374.2]\n",
              "    </div>\n",
              "    "
            ],
            "text/plain": [
              "<IPython.core.display.HTML object>"
            ]
          },
          "metadata": {}
        },
        {
          "output_type": "stream",
          "name": "stderr",
          "text": [
            "Finished [100%]: Average Loss = 1,374.2\n"
          ]
        }
      ]
    },
    {
      "cell_type": "code",
      "metadata": {
        "colab": {
          "base_uri": "https://localhost:8080/",
          "height": 55
        },
        "id": "sG4YZfpNEeaO",
        "outputId": "46f4bf3d-38aa-4d64-adfd-01af4e9c5f32"
      },
      "source": [
        "# model_1\n",
        "with pm.Model() as model_1:\n",
        "  # prior over the parameters of linear regression\n",
        "  alpha = pm.Normal('alpha', mu=0, sigma=30)\n",
        "  # we have a beta for each column of Xn\n",
        "  beta = pm.Normal('beta', mu=0, sigma=30, shape=Xn1.shape[1])\n",
        "  # prior over the variance of the noise\n",
        "  sigma = pm.HalfCauchy('sigma_n', 5)\n",
        "  # linear regression relationship\n",
        "  #linear regression model in matrix form\n",
        "  mu = alpha + pm.math.dot(beta, Xn1.T)\n",
        "  # likelihood, # \n",
        "  like = pm.Normal('like', mu=mu, sigma=sigma, observed=yn1[:,0])\n",
        "  \n",
        "with model_1:\n",
        "  # iterations of the algorithm\n",
        "  approximation = pm.fit(40000,method='advi')\n",
        "\n",
        "# samples from the posterior    \n",
        "posterior1 = approximation.sample(5000)"
      ],
      "execution_count": 604,
      "outputs": [
        {
          "output_type": "display_data",
          "data": {
            "text/html": [
              "\n",
              "    <div>\n",
              "        <style>\n",
              "            /* Turns off some styling */\n",
              "            progress {\n",
              "                /* gets rid of default border in Firefox and Opera. */\n",
              "                border: none;\n",
              "                /* Needs to be in here for Safari polyfill so background images work as expected. */\n",
              "                background-size: auto;\n",
              "            }\n",
              "            .progress-bar-interrupted, .progress-bar-interrupted::-webkit-progress-bar {\n",
              "                background: #F44336;\n",
              "            }\n",
              "        </style>\n",
              "      <progress value='40000' class='' max='40000' style='width:300px; height:20px; vertical-align: middle;'></progress>\n",
              "      100.00% [40000/40000 00:03<00:00 Average Loss = 141.26]\n",
              "    </div>\n",
              "    "
            ],
            "text/plain": [
              "<IPython.core.display.HTML object>"
            ]
          },
          "metadata": {}
        },
        {
          "output_type": "stream",
          "name": "stderr",
          "text": [
            "Finished [100%]: Average Loss = 141.27\n"
          ]
        }
      ]
    },
    {
      "cell_type": "code",
      "metadata": {
        "colab": {
          "base_uri": "https://localhost:8080/",
          "height": 55
        },
        "id": "8SoH1TSvEel1",
        "outputId": "965c1b13-1f70-49be-d9c1-904c95d6d697"
      },
      "source": [
        "# model_2\n",
        "with pm.Model() as model_2:\n",
        "  # prior over the parameters of linear regression\n",
        "  alpha = pm.Normal('alpha', mu=0, sigma=30)\n",
        "  # we have a beta for each column of Xn\n",
        "  beta = pm.Normal('beta', mu=0, sigma=30, shape=Xn2.shape[1])\n",
        "  # prior over the variance of the noise\n",
        "  sigma = pm.HalfCauchy('sigma_n', 5)\n",
        "  # linear regression relationship\n",
        "  # linear regression model in matrix form\n",
        "  mu = alpha + pm.math.dot(beta, Xn2.T)\n",
        "  # likelihood, be sure that observed is a 1d vector\n",
        "  like = pm.Normal('like', mu=mu, sigma=sigma, observed=yn2[:,0])\n",
        "    \n",
        "with model_2:\n",
        "  # iterations of the algorithms\n",
        "  approximation = pm.fit(40000,method='advi')\n",
        "\n",
        "# samples from the posterior    \n",
        "posterior2 = approximation.sample(5000)"
      ],
      "execution_count": 605,
      "outputs": [
        {
          "output_type": "display_data",
          "data": {
            "text/html": [
              "\n",
              "    <div>\n",
              "        <style>\n",
              "            /* Turns off some styling */\n",
              "            progress {\n",
              "                /* gets rid of default border in Firefox and Opera. */\n",
              "                border: none;\n",
              "                /* Needs to be in here for Safari polyfill so background images work as expected. */\n",
              "                background-size: auto;\n",
              "            }\n",
              "            .progress-bar-interrupted, .progress-bar-interrupted::-webkit-progress-bar {\n",
              "                background: #F44336;\n",
              "            }\n",
              "        </style>\n",
              "      <progress value='40000' class='' max='40000' style='width:300px; height:20px; vertical-align: middle;'></progress>\n",
              "      100.00% [40000/40000 00:07<00:00 Average Loss = 1,267.7]\n",
              "    </div>\n",
              "    "
            ],
            "text/plain": [
              "<IPython.core.display.HTML object>"
            ]
          },
          "metadata": {}
        },
        {
          "output_type": "stream",
          "name": "stderr",
          "text": [
            "Finished [100%]: Average Loss = 1,267.7\n"
          ]
        }
      ]
    },
    {
      "cell_type": "code",
      "metadata": {
        "colab": {
          "base_uri": "https://localhost:8080/",
          "height": 55
        },
        "id": "u1I2R2EZEerW",
        "outputId": "558368d0-3605-4f2a-98fd-9190a8a74fc5"
      },
      "source": [
        "# model_3\n",
        "with pm.Model() as model3:\n",
        "  # prior over the parameters of linear regression\n",
        "  alpha = pm.Normal('alpha', mu=0, sigma=30)\n",
        "  # we have a beta for each column of Xn\n",
        "  beta = pm.Normal('beta', mu=0, sigma=30, shape=Xn3.shape[1])\n",
        "  # prior over the variance of the noise\n",
        "  sigma = pm.HalfCauchy('sigma_n', 5)\n",
        "  # linear regression relationship\n",
        "  mu = alpha + pm.math.dot(beta, Xn3.T)#linear regression model in matrix form\n",
        "  # likelihood, be sure that observed is a 1d vector\n",
        "  like = pm.Normal('like', mu=mu, sigma=sigma, observed=yn3[:,0])\n",
        "    \n",
        "with model3:\n",
        "  # number of iterations of the algorithms\n",
        "  approximation = pm.fit(40000,method='advi')\n",
        "\n",
        "# samples from the posterior     \n",
        "posterior3 = approximation.sample(5000)"
      ],
      "execution_count": 606,
      "outputs": [
        {
          "output_type": "display_data",
          "data": {
            "text/html": [
              "\n",
              "    <div>\n",
              "        <style>\n",
              "            /* Turns off some styling */\n",
              "            progress {\n",
              "                /* gets rid of default border in Firefox and Opera. */\n",
              "                border: none;\n",
              "                /* Needs to be in here for Safari polyfill so background images work as expected. */\n",
              "                background-size: auto;\n",
              "            }\n",
              "            .progress-bar-interrupted, .progress-bar-interrupted::-webkit-progress-bar {\n",
              "                background: #F44336;\n",
              "            }\n",
              "        </style>\n",
              "      <progress value='40000' class='' max='40000' style='width:300px; height:20px; vertical-align: middle;'></progress>\n",
              "      100.00% [40000/40000 00:04<00:00 Average Loss = 808.06]\n",
              "    </div>\n",
              "    "
            ],
            "text/plain": [
              "<IPython.core.display.HTML object>"
            ]
          },
          "metadata": {}
        },
        {
          "output_type": "stream",
          "name": "stderr",
          "text": [
            "Finished [100%]: Average Loss = 808.1\n"
          ]
        }
      ]
    },
    {
      "cell_type": "code",
      "metadata": {
        "id": "YU6Ky4q8EevB"
      },
      "source": [
        "# Posterior predictive checks (PPCs)\n",
        "def ppc(alpha,beta,sigma, X,  nsamples=500):\n",
        "    #we select nsamples random samples from the posterior\n",
        "    ind = np.random.randint(0,beta.shape[0],size=nsamples)\n",
        "    alphai = alpha[ind]\n",
        "    betai = beta[ind,:]\n",
        "    sigmai = sigma[ind]\n",
        "\n",
        "    Ypred = np.zeros((nsamples,X.shape[0]))\n",
        "    for i in range(X.shape[0]):\n",
        "        #we generate data from linear model\n",
        "        y_pred = alphai + np.dot(betai, X[i:i+1,:].T).T +np.random.randn(len(sigmai))*sigmai\n",
        "        Ypred[:,i]=y_pred[0,:]\n",
        "    return Ypred"
      ],
      "execution_count": 607,
      "outputs": []
    },
    {
      "cell_type": "code",
      "metadata": {
        "id": "MZwFLrYIEexY"
      },
      "source": [
        ""
      ],
      "execution_count": 607,
      "outputs": []
    },
    {
      "cell_type": "markdown",
      "metadata": {
        "id": "wHBgUe1pcZQQ"
      },
      "source": [
        "##Simulations"
      ]
    },
    {
      "cell_type": "markdown",
      "metadata": {
        "id": "bfSEdYAUoIDn"
      },
      "source": [
        "### Only Cluster {0..3}"
      ]
    },
    {
      "cell_type": "code",
      "metadata": {
        "colab": {
          "base_uri": "https://localhost:8080/",
          "height": 313
        },
        "id": "4culQ-jSElun",
        "outputId": "4b86269a-e483-4089-d3cb-9f5b43009cf0"
      },
      "source": [
        "#Simulation\n",
        "Ypred0 = yscaler0.inverse_transform(ppc(posterior0['alpha'],posterior0['beta'],posterior0['sigma_n'],Xn0,  nsamples=200))\n",
        "for i in range(Ypred0.shape[0]):\n",
        "    az.plot_dist( Ypred0[i,:],color='r',plot_kwargs={\"linewidth\": 0.2})\n",
        "az.plot_dist(Ypred0[i,:],color='r',plot_kwargs={\"linewidth\": 0.2}, label=\"prediction\")\n",
        "#plt.plot(np.linspace(-8,8,100),norm.pdf(np.linspace(-8,8,100),df=np.mean(posterior_1['nu'])))\n",
        "#plt.xlim([0,10e7])\n",
        "az.plot_dist(ylog0,label='true observations');\n",
        "plt.legend()\n",
        "plt.xlabel(\"log(y) - output variable\")\n",
        "plt.ylabel(\"density plot\");"
      ],
      "execution_count": 608,
      "outputs": [
        {
          "output_type": "display_data",
          "data": {
            "image/png": "[encoded data removed]",
            "text/plain": [
              "<Figure size 432x288 with 1 Axes>"
            ]
          },
          "metadata": {
            "needs_background": "light"
          }
        }
      ]
    },
    {
      "cell_type": "code",
      "metadata": {
        "colab": {
          "base_uri": "https://localhost:8080/",
          "height": 313
        },
        "id": "GBmWAvofElw1",
        "outputId": "c95a79b2-bef4-4b77-d3ed-573a28d7c5f0"
      },
      "source": [
        "#Simulation\n",
        "Ypred1 = yscaler1.inverse_transform(ppc(posterior1['alpha'],posterior1['beta'],posterior1['sigma_n'],Xn1,  nsamples=200))\n",
        "for i in range(Ypred1.shape[0]):\n",
        "    az.plot_dist( Ypred1[i,:],color='r',plot_kwargs={\"linewidth\": 0.2})\n",
        "az.plot_dist(Ypred1[i,:],color='r',plot_kwargs={\"linewidth\": 0.2}, label=\"prediction\")\n",
        "#plt.plot(np.linspace(-8,8,100),norm.pdf(np.linspace(-8,8,100),df=np.mean(posterior_1['nu'])))\n",
        "#plt.xlim([0,10e7])\n",
        "az.plot_dist(ylog1,label='true observations');\n",
        "plt.legend()\n",
        "plt.xlabel(\"log(y) - output variable\")\n",
        "plt.ylabel(\"density plot\");"
      ],
      "execution_count": 609,
      "outputs": [
        {
          "output_type": "display_data",
          "data": {
            "image/png": "[encoded data removed]",
            "text/plain": [
              "<Figure size 432x288 with 1 Axes>"
            ]
          },
          "metadata": {
            "needs_background": "light"
          }
        }
      ]
    },
    {
      "cell_type": "code",
      "metadata": {
        "colab": {
          "base_uri": "https://localhost:8080/",
          "height": 313
        },
        "id": "Q7p1e5v9Elzd",
        "outputId": "69af765e-af44-46e1-86dd-8a2ebdb10c35"
      },
      "source": [
        "#Simulation\n",
        "Ypred2 = yscaler2.inverse_transform(ppc(posterior2['alpha'],posterior2['beta'],posterior2['sigma_n'],Xn2,  nsamples=200))\n",
        "for i in range(Ypred2.shape[0]):\n",
        "    az.plot_dist( Ypred2[i,:],color='r',plot_kwargs={\"linewidth\": 0.2})\n",
        "az.plot_dist(Ypred2[i,:],color='r',plot_kwargs={\"linewidth\": 0.2}, label=\"prediction\")\n",
        "#plt.plot(np.linspace(-8,8,100),norm.pdf(np.linspace(-8,8,100),df=np.mean(posterior_1['nu'])))\n",
        "#plt.xlim([0,10e7])\n",
        "az.plot_dist(ylog2,label='true observations');\n",
        "plt.legend()\n",
        "plt.xlabel(\"log(y) - output variable\")\n",
        "plt.ylabel(\"density plot\");"
      ],
      "execution_count": 610,
      "outputs": [
        {
          "output_type": "display_data",
          "data": {
            "image/png": "[encoded data removed]",
            "text/plain": [
              "<Figure size 432x288 with 1 Axes>"
            ]
          },
          "metadata": {
            "needs_background": "light"
          }
        }
      ]
    },
    {
      "cell_type": "code",
      "metadata": {
        "colab": {
          "base_uri": "https://localhost:8080/",
          "height": 313
        },
        "id": "OGzoGrItEl12",
        "outputId": "0a5878a1-cd40-4374-9f22-38035d68d800"
      },
      "source": [
        "#Simulation\n",
        "Ypred3 = yscaler3.inverse_transform(ppc(posterior3['alpha'],posterior3['beta'],posterior3['sigma_n'],Xn3,  nsamples=200))\n",
        "for i in range(Ypred3.shape[0]):\n",
        "    az.plot_dist( Ypred3[i,:],color='r',plot_kwargs={\"linewidth\": 0.2})\n",
        "az.plot_dist(Ypred3[i,:],color='r',plot_kwargs={\"linewidth\": 0.2}, label=\"prediction\")\n",
        "#plt.plot(np.linspace(-8,8,100),norm.pdf(np.linspace(-8,8,100),df=np.mean(posterior_1['nu'])))\n",
        "#plt.xlim([0,10e7])\n",
        "az.plot_dist(ylog3,label='true observations');\n",
        "plt.legend()\n",
        "plt.xlabel(\"log(y) - output variable\")\n",
        "plt.ylabel(\"density plot\");"
      ],
      "execution_count": 611,
      "outputs": [
        {
          "output_type": "display_data",
          "data": {
            "image/png": "[encoded data removed]",
            "text/plain": [
              "<Figure size 432x288 with 1 Axes>"
            ]
          },
          "metadata": {
            "needs_background": "light"
          }
        }
      ]
    },
    {
      "cell_type": "markdown",
      "metadata": {
        "id": "qgMUwBO7oIDq"
      },
      "source": [
        "## Overall"
      ]
    },
    {
      "cell_type": "code",
      "metadata": {
        "colab": {
          "base_uri": "https://localhost:8080/",
          "height": 313
        },
        "id": "-ggGpgx5El4V",
        "outputId": "d20e9327-150f-4d80-d961-3eb7154bd92e"
      },
      "source": [
        "# posteriors\n",
        "Ypred0 = ppc(posterior0['alpha'],posterior0['beta'],posterior0['sigma_n'],Xn0,  nsamples=200)\n",
        "Ypred1 = ppc(posterior1['alpha'],posterior1['beta'],posterior1['sigma_n'],Xn1,  nsamples=200)\n",
        "Ypred2 = ppc(posterior2['alpha'],posterior2['beta'],posterior2['sigma_n'],Xn2,  nsamples=200)\n",
        "Ypred3 = ppc(posterior3['alpha'],posterior3['beta'],posterior3['sigma_n'],Xn3,  nsamples=200)\n",
        "\n",
        "# simulation\n",
        "Ypred = np.hstack([ yscaler0.inverse_transform(Ypred0),\n",
        "                 yscaler1.inverse_transform(Ypred1),\n",
        "                 yscaler2.inverse_transform(Ypred2),\n",
        "                 yscaler3.inverse_transform(Ypred3)])\n",
        "\n",
        "# prediction\n",
        "for i in range(Ypred.shape[0]):\n",
        "    az.plot_dist( Ypred[i,:],color='r',plot_kwargs={\"linewidth\": 0.2})\n",
        "\n",
        "# plot\n",
        "az.plot_dist(Ypred[i,:],color='r',plot_kwargs={\"linewidth\": 0.2}, label=\"prediction\")\n",
        "ylog=np.vstack([ylog0,ylog1,ylog2,ylog3])\n",
        "az.plot_dist(ylog,label='true observations');\n",
        "plt.legend()\n",
        "plt.xlabel(\"log(y) - output variable\")\n",
        "plt.ylabel(\"density plot\");"
      ],
      "execution_count": 612,
      "outputs": [
        {
          "output_type": "display_data",
          "data": {
            "image/png": "[encoded data removed]",
            "text/plain": [
              "<Figure size 432x288 with 1 Axes>"
            ]
          },
          "metadata": {
            "needs_background": "light"
          }
        }
      ]
    },
    {
      "cell_type": "markdown",
      "metadata": {
        "id": "QMY9rDvVoIDq"
      },
      "source": [
        "## Test set performance"
      ]
    },
    {
      "cell_type": "code",
      "metadata": {
        "colab": {
          "base_uri": "https://localhost:8080/"
        },
        "id": "nGjv9-plEl6Y",
        "outputId": "106fe4e1-eab6-4f34-8159-924a6257b877"
      },
      "source": [
        "# cluster 0\n",
        "y_pred_BLR0 = np.exp(yscaler0.inverse_transform(np.mean(posterior0['alpha']) \n",
        "              + np.dot(np.mean(posterior0['beta'],axis=0), Xtestn0.T)))\n",
        "print(\"Size Cluster0\", np.sum(clusters_test==0), \", MAE Cluster0=\",\n",
        "      (np.mean(abs(y_pred_BLR0 - y_test[clusters_test==0]))))\n",
        "\n",
        "# cluster 1\n",
        "y_pred_BLR1 = np.exp(yscaler1.inverse_transform(np.mean(posterior1['alpha']) \n",
        "              + np.dot(np.mean(posterior1['beta'],axis=0), Xtestn1.T)))\n",
        "print(\"Size Cluster1\", np.sum(clusters_test==1), \", MAE Cluster1=\",\n",
        "      (np.mean(abs(y_pred_BLR1 - y_test[clusters_test==1]))))\n",
        "\n",
        "# cluster 2\n",
        "y_pred_BLR2 = np.exp(yscaler2.inverse_transform(np.mean(posterior2['alpha']) \n",
        "              + np.dot(np.mean(posterior2['beta'],axis=0), Xtestn2.T)))\n",
        "print(\"Size Cluster2\", np.sum(clusters_test==2), \", MAE Cluster2=\",\n",
        "      (np.mean(abs(y_pred_BLR2 - y_test[clusters_test==2]))))\n",
        "\n",
        "# cluster 3\n",
        "y_pred_BLR3 = np.exp(yscaler3.inverse_transform(np.mean(posterior3['alpha']) \n",
        "              + np.dot(np.mean(posterior3['beta'],axis=0), Xtestn3.T)))\n",
        "print(\"Size Cluster3\", np.sum(clusters_test==3), \", MAE Cluster3=\",\n",
        "      (np.mean(abs(y_pred_BLR3 - y_test[clusters_test==3]))))\n",
        "\n",
        "# joint\n",
        "joint=np.hstack([abs(y_pred_BLR0 - y_test[clusters_test==0]),\n",
        "                 abs(y_pred_BLR1 - y_test[clusters_test==1]),\n",
        "                 abs(y_pred_BLR2 - y_test[clusters_test==2]),\n",
        "                 abs(y_pred_BLR3 - y_test[clusters_test==3])])\n",
        "\n",
        "# MAE\n",
        "print(\"MAE=\",np.mean(joint))"
      ],
      "execution_count": 613,
      "outputs": [
        {
          "output_type": "stream",
          "name": "stdout",
          "text": [
            "Size Cluster0 172 , MAE Cluster0= 8757539981.388876\n",
            "Size Cluster1 8 , MAE Cluster1= 1471868.6459382968\n",
            "Size Cluster2 188 , MAE Cluster2= 4.279865210358341e+176\n",
            "Size Cluster3 132 , MAE Cluster3= 5802722164.4659195\n",
            "MAE= 1.609229319094736e+176\n"
          ]
        }
      ]
    },
    {
      "cell_type": "markdown",
      "metadata": {
        "id": "YGmB9BNkoIDr"
      },
      "source": [
        "### PPC on the Test set\n",
        "\n"
      ]
    },
    {
      "cell_type": "code",
      "metadata": {
        "colab": {
          "base_uri": "https://localhost:8080/",
          "height": 313
        },
        "id": "WZIrr7pfFco-",
        "outputId": "fa0b53c1-95bd-4d0d-a560-a11108cccd5d"
      },
      "source": [
        "## Posterior predictive checks (PPCs)\n",
        "\n",
        "num_samples2 = 200\n",
        "Ypred0 = ppc(posterior0['alpha'],posterior0['beta'],posterior0['sigma_n'],Xtestn0, nsamples=num_samples2)\n",
        "Ypred1 = ppc(posterior1['alpha'],posterior1['beta'],posterior1['sigma_n'],Xtestn1, nsamples=num_samples2)\n",
        "Ypred2 = ppc(posterior2['alpha'],posterior2['beta'],posterior2['sigma_n'],Xtestn2, nsamples=num_samples2)\n",
        "Ypred3 = ppc(posterior3['alpha'],posterior3['beta'],posterior3['sigma_n'],Xtestn3, nsamples=num_samples2)\n",
        "\n",
        "# Stack arrays in sequence horizontally (column wise)\n",
        "Ypred = np.hstack([yscaler0.inverse_transform(Ypred0),\n",
        "                 yscaler1.inverse_transform(Ypred1),\n",
        "                 yscaler2.inverse_transform(Ypred2),\n",
        "                 yscaler3.inverse_transform(Ypred3)])\n",
        "\n",
        "# plot prediction shape\n",
        "for i in range(Ypred.shape[0]):\n",
        "    az.plot_dist( Ypred[i,:],color='r',plot_kwargs={\"linewidth\": 0.2})\n",
        "# label\n",
        "az.plot_dist(Ypred[i,:],color='r',plot_kwargs={\"linewidth\": 0.2}, label=\"prediction\")\n",
        "\n",
        "# true observations\n",
        "az.plot_dist(np.log(y_test),label='true observations');\n",
        "plt.legend()\n",
        "plt.xlabel(\"log(y) - output variable\")\n",
        "plt.ylabel(\"density plot\");"
      ],
      "execution_count": 614,
      "outputs": [
        {
          "output_type": "display_data",
          "data": {
            "image/png": "[encoded data removed]",
            "text/plain": [
              "<Figure size 432x288 with 1 Axes>"
            ]
          },
          "metadata": {
            "needs_background": "light"
          }
        }
      ]
    },
    {
      "cell_type": "markdown",
      "metadata": {
        "id": "f0GYCpwEM09T"
      },
      "source": [
        "# SUMMARY"
      ]
    }
  ]
}