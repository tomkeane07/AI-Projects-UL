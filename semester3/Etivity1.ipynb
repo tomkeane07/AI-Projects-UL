{
  "nbformat": 4,
  "nbformat_minor": 2,
  "metadata": {
    "colab": {
      "name": "Etivity_1_template.ipynb",
      "provenance": []
    },
    "kernelspec": {
      "name": "python3",
      "display_name": "Python 3.9.2 64-bit"
    },
    "language_info": {
      "name": "python",
      "version": "3.9.2",
      "mimetype": "text/x-python",
      "codemirror_mode": {
        "name": "ipython",
        "version": 3
      },
      "pygments_lexer": "ipython3",
      "nbconvert_exporter": "python",
      "file_extension": ".py"
    },
    "interpreter": {
      "hash": "63fd5069d213b44bf678585dea6b12cceca9941eaf7f819626cde1f2670de90d"
    }
  },
  "cells": [
    {
      "cell_type": "markdown",
      "source": [
        "<div>\n",
        "<img src=\"https://drive.google.com/uc?export=view&id=1vK33e_EqaHgBHcbRV_m38hx6IkG0blK_\" width=\"350\"/>\n",
        "</div> \n",
        "\n",
        "#**Artificial Intelligence - MSc**\n",
        "ET5003 - MACHINE LEARNING APPLICATIONS \n",
        "\n",
        "###Instructor: Enrique Naredo\n",
        "###ET5003_Etivity-1"
      ],
      "metadata": {
        "id": "jxK1_8f1dvrc"
      }
    },
    {
      "cell_type": "code",
      "execution_count": 1,
      "source": [
        "#@title Current Date\r\n",
        "Today = '2021-08-22' #@param {type:\"date\"}\r\n"
      ],
      "outputs": [],
      "metadata": {
        "id": "LqXD_IwUQuBF",
        "cellView": "form"
      }
    },
    {
      "cell_type": "code",
      "execution_count": 2,
      "source": [
        "#@markdown ---\r\n",
        "#@markdown ### Enter your details here:\r\n",
        "Student_ID = \"\" #@param {type:\"string\"}\r\n",
        "Student_full_name = \"\" #@param {type:\"string\"}\r\n",
        "#@markdown ---"
      ],
      "outputs": [],
      "metadata": {
        "id": "uzDKau31OjVO",
        "cellView": "form"
      }
    },
    {
      "cell_type": "code",
      "execution_count": 3,
      "source": [
        "#@title Notebook information\r\n",
        "Notebook_type = 'Example' #@param [\"Example\", \"Lab\", \"Practice\", \"Etivity\", \"Assignment\", \"Exam\"]\r\n",
        "Version = 'Draft' #@param [\"Draft\", \"Final\"] {type:\"raw\"}\r\n",
        "Submission = False #@param {type:\"boolean\"}"
      ],
      "outputs": [],
      "metadata": {
        "id": "r39xGZckTpKx",
        "cellView": "form"
      }
    },
    {
      "cell_type": "markdown",
      "source": [
        "## MNIST dataset"
      ],
      "metadata": {
        "id": "80m304lUefG4"
      }
    },
    {
      "cell_type": "markdown",
      "source": [
        "\n",
        "\n",
        "The MNIST database  is a dataset of handwritten digits that has been and is extensively used in machine learning. There are $10$ classes, each image is $28\\times28$ pixels and, therefore, each input is $x_i\\in\\mathbb{R}^{784}$. "
      ],
      "metadata": {
        "id": "Bs8mHGcidHSa"
      }
    },
    {
      "cell_type": "markdown",
      "source": [
        "## Task"
      ],
      "metadata": {
        "id": "ailycCq5epj2"
      }
    },
    {
      "cell_type": "markdown",
      "source": [
        "You have to extend the code to manage any arbitrary number of classes, in other words you have to implement a general-recipe multinomial logistic classifier and Bayesian multinomial logistic classifier.\n",
        "\n",
        "You must then select  3 digits at random and perform  the following task. \n",
        "\n",
        "1. Your goal is to use Bayesian multinomial logistic regression (as in the road-sign notebook) to solve this classification problem. \n",
        "\n",
        "2. You can downsize the training dataset (e.g., 40% training and 60%testing) if the computation of the posterior takes too much time in your computer.\n",
        "\n",
        "3. Use the posterior uncertainty to detect the instances (digits) in the test set that are hard to classify and remove them from the test-set.\n",
        "\n",
        "4. Then you need to compute again the accuracy of the general-recipe logistic regression on the remaining (non-difficult) instances and comment on the result.\n",
        "\n",
        "5. In practice, the task is to use uncertainty estimation to detect the difficult instances in the test-set. This is equivalent to refuse to classify all high-uncertainty instances or, in other words, when we are uncertain we say \"I don't know\" and we do not return any class. In this way, you will learn how uncertainty can be used to make safer decisions, by detecting the instances that are difficult to classify.\n"
      ],
      "metadata": {
        "id": "a-yNAxhUemjM"
      }
    },
    {
      "cell_type": "markdown",
      "source": [
        "## Libraries"
      ],
      "metadata": {
        "id": "nMRKRTQZe5fW"
      }
    },
    {
      "cell_type": "code",
      "execution_count": 4,
      "source": [
        "# Suppressing Warnings:\r\n",
        "import warnings\r\n",
        "warnings.filterwarnings(\"ignore\")"
      ],
      "outputs": [],
      "metadata": {
        "id": "IxusAui7AX_f"
      }
    },
    {
      "cell_type": "code",
      "execution_count": 5,
      "source": [
        "# Import libraries\r\n",
        "from sklearn.linear_model import LogisticRegression\r\n",
        "from sklearn.metrics import accuracy_score\r\n",
        "from sklearn.model_selection import train_test_split\r\n",
        "import scipy.optimize as optimize\r\n",
        "from scipy.special import erf\r\n",
        "import pandas as pd\r\n",
        "import numpy as np\r\n",
        "import seaborn as sns\r\n",
        "from tqdm import tqdm\r\n",
        "from skimage.io import imread, imshow\r\n",
        "import matplotlib.image as mpimg\r\n",
        "import matplotlib.pyplot as plt\r\n",
        "import matplotlib\r\n",
        "# %matplotlib inline\r\n",
        "import arviz as az\r\n",
        "from scipy.io import loadmat\r\n",
        "import pymc3 as pm\r\n",
        "import random\r\n",
        "from IPython.display import HTML\r\n",
        "import pickle\r\n",
        "import theano as tt\r\n",
        "import cv2\r\n",
        "from sklearn.utils import shuffle\r\n",
        "from skimage.color import rgb2gray"
      ],
      "outputs": [
        {
          "output_type": "error",
          "ename": "ModuleNotFoundError",
          "evalue": "No module named 'skimage'",
          "traceback": [
            "\u001b[1;31m---------------------------------------------------------------------------\u001b[0m",
            "\u001b[1;31mModuleNotFoundError\u001b[0m                       Traceback (most recent call last)",
            "\u001b[1;32m<ipython-input-5-454c68bd03f5>\u001b[0m in \u001b[0;36m<module>\u001b[1;34m\u001b[0m\n\u001b[0;32m      9\u001b[0m \u001b[1;32mimport\u001b[0m \u001b[0mseaborn\u001b[0m \u001b[1;32mas\u001b[0m \u001b[0msns\u001b[0m\u001b[1;33m\u001b[0m\u001b[1;33m\u001b[0m\u001b[0m\n\u001b[0;32m     10\u001b[0m \u001b[1;32mfrom\u001b[0m \u001b[0mtqdm\u001b[0m \u001b[1;32mimport\u001b[0m \u001b[0mtqdm\u001b[0m\u001b[1;33m\u001b[0m\u001b[1;33m\u001b[0m\u001b[0m\n\u001b[1;32m---> 11\u001b[1;33m \u001b[1;32mfrom\u001b[0m \u001b[0mskimage\u001b[0m\u001b[1;33m.\u001b[0m\u001b[0mio\u001b[0m \u001b[1;32mimport\u001b[0m \u001b[0mimread\u001b[0m\u001b[1;33m,\u001b[0m \u001b[0mimshow\u001b[0m\u001b[1;33m\u001b[0m\u001b[1;33m\u001b[0m\u001b[0m\n\u001b[0m\u001b[0;32m     12\u001b[0m \u001b[1;32mimport\u001b[0m \u001b[0mmatplotlib\u001b[0m\u001b[1;33m.\u001b[0m\u001b[0mimage\u001b[0m \u001b[1;32mas\u001b[0m \u001b[0mmpimg\u001b[0m\u001b[1;33m\u001b[0m\u001b[1;33m\u001b[0m\u001b[0m\n\u001b[0;32m     13\u001b[0m \u001b[1;32mimport\u001b[0m \u001b[0mmatplotlib\u001b[0m\u001b[1;33m.\u001b[0m\u001b[0mpyplot\u001b[0m \u001b[1;32mas\u001b[0m \u001b[0mplt\u001b[0m\u001b[1;33m\u001b[0m\u001b[1;33m\u001b[0m\u001b[0m\n",
            "\u001b[1;31mModuleNotFoundError\u001b[0m: No module named 'skimage'"
          ]
        }
      ],
      "metadata": {
        "id": "MQOfGMQpdHSb"
      }
    },
    {
      "cell_type": "code",
      "execution_count": null,
      "source": [
        "# Setting a seed:\r\n",
        "np.random.seed(123)"
      ],
      "outputs": [],
      "metadata": {
        "id": "P5-qMSjpAQ-9"
      }
    },
    {
      "cell_type": "markdown",
      "source": [
        "## Dataset"
      ],
      "metadata": {
        "id": "r4hSuwkUfVQb"
      }
    },
    {
      "cell_type": "markdown",
      "source": [
        "### Loading the MNIST dataset"
      ],
      "metadata": {
        "id": "w99Pc66YdHSd"
      }
    },
    {
      "cell_type": "code",
      "execution_count": null,
      "source": [
        "from google.colab import drive\r\n",
        "drive.mount('/content/drive')"
      ],
      "outputs": [
        {
          "output_type": "stream",
          "name": "stdout",
          "text": [
            "Mounted at /content/drive\n"
          ]
        }
      ],
      "metadata": {
        "colab": {
          "base_uri": "https://localhost:8080/"
        },
        "id": "CYFWAbXVzynp",
        "outputId": "a18b4283-3b97-4eb3-e0ed-d2f241176139"
      }
    },
    {
      "cell_type": "code",
      "execution_count": null,
      "source": [
        "# Path, copy the path from your Drive\r\n",
        "Path = '/content/drive/MyDrive/Colab Notebooks/Enrique/Data/'\r\n",
        "\r\n",
        "# MNIST Data\r\n",
        "train_data = Path + 'mnist_train.csv'\r\n",
        "test_data = Path + 'mnist_test.csv'\r\n",
        "\r\n",
        "# train data\r\n",
        "df_train = pd.read_csv(train_data)\r\n",
        "X_train = df_train.drop(\"label\",axis=1).values\r\n",
        "y_train = df_train.label.values\r\n",
        "print(X_train.shape)\r\n",
        "\r\n",
        "# test data\r\n",
        "df_test = pd.read_csv(test_data)\r\n",
        "X_test = df_test.drop(\"label\",axis=1).values\r\n",
        "y_test = df_test.label.values\r\n",
        "print(X_test.shape)"
      ],
      "outputs": [
        {
          "output_type": "stream",
          "name": "stdout",
          "text": [
            "(60000, 784)\n",
            "(10000, 784)\n"
          ]
        }
      ],
      "metadata": {
        "colab": {
          "base_uri": "https://localhost:8080/"
        },
        "id": "g4rCnS4vdHSd",
        "outputId": "87b5c3c5-8f1f-4133-f7c6-808adc4d73e2"
      }
    },
    {
      "cell_type": "code",
      "execution_count": null,
      "source": [
        "# Normalizing the Inputs:\r\n",
        "X_train = X_train/255\r\n",
        "X_test = X_test/255\r\n",
        "\r\n",
        "# Printing the new input range of values:\r\n",
        "minv = np.min(X_train)\r\n",
        "maxv = np.max(X_train)\r\n",
        "print(minv,maxv)"
      ],
      "outputs": [
        {
          "output_type": "stream",
          "name": "stdout",
          "text": [
            "0.0 1.0\n"
          ]
        }
      ],
      "metadata": {
        "colab": {
          "base_uri": "https://localhost:8080/"
        },
        "id": "O2ubJ_WoAqBh",
        "outputId": "d9445837-a9ea-4b7e-a2df-180748492c6b"
      }
    },
    {
      "cell_type": "markdown",
      "source": [
        "### Description of Data:"
      ],
      "metadata": {
        "id": "SR6HpkWndHSe"
      }
    },
    {
      "cell_type": "code",
      "execution_count": null,
      "source": [
        "# Number of examples\r\n",
        "n_train =  len(X_train)\r\n",
        "n_test =  len(X_test)\r\n",
        "\r\n",
        "# Shape of an traffic sign image\r\n",
        "image_shape = X_train.shape[1]\r\n",
        "\r\n",
        "# unique classes/labels in the training dataset.\r\n",
        "alltotal = set(y_train)\r\n",
        "n_classes = len(alltotal)\r\n",
        "\r\n",
        "print(\"Number of Training examples =\", n_train)\r\n",
        "print(\"Number of Test examples =\", n_test)\r\n",
        "print(\"Image input shape =\", image_shape)\r\n",
        "print(\"Number of classes =\", n_classes)"
      ],
      "outputs": [
        {
          "output_type": "stream",
          "name": "stdout",
          "text": [
            "Number of Training examples = 60000\n",
            "Number of Test examples = 10000\n",
            "Image input shape = 784\n",
            "Number of classes = 10\n"
          ]
        }
      ],
      "metadata": {
        "colab": {
          "base_uri": "https://localhost:8080/"
        },
        "id": "sibN1Vv1dHSf",
        "outputId": "1003de54-5653-47cf-a6ce-67e7abaa3768"
      }
    },
    {
      "cell_type": "markdown",
      "source": [
        "### Class Distribution:"
      ],
      "metadata": {
        "id": "6HQDSvrRKZF6"
      }
    },
    {
      "cell_type": "code",
      "execution_count": null,
      "source": [
        "fig, ax = plt.subplots()\r\n",
        "ind = np.arange(n_classes)\r\n",
        "\r\n",
        "n, bins, patches = ax.hist(y_train, n_classes)\r\n",
        "ax.set_xlabel('classes')\r\n",
        "ax.set_ylabel('counts')\r\n",
        "ax.set_title(r'Histogram of Digit images')\r\n",
        "plt.show()"
      ],
      "outputs": [],
      "metadata": {
        "id": "XG8GdlpBKdCt"
      }
    },
    {
      "cell_type": "markdown",
      "source": [
        "## Downsampling"
      ],
      "metadata": {
        "id": "EyLWw3nsLCtk"
      }
    },
    {
      "cell_type": "markdown",
      "source": [
        "### Randomly selecting 3 of the 10 Digit Classes"
      ],
      "metadata": {
        "id": "2U1lFEwhLKBf"
      }
    },
    {
      "cell_type": "code",
      "execution_count": null,
      "source": [
        "# We select the number of Classes we want:\r\n",
        "n_classes = 3\r\n",
        "\r\n",
        "# Empty list to append the random digit classes we select:\r\n",
        "classes = []\r\n",
        "\r\n",
        "# We select 3 digits at random and make sure they are unique:\r\n",
        "while len(classes) < 3:\r\n",
        "    \r\n",
        "    # Randomly drawing a digit from 0-9:\r\n",
        "    num2choose = np.random.randint(0,10)\r\n",
        "\r\n",
        "    # Append the digit if it's not already in our list of classes:\r\n",
        "    if label not in classes: \r\n",
        "        classes.append(num2choose)\r\n",
        "        \r\n",
        "        \r\n",
        "# Sorting the Classes smallest to largest    \r\n",
        "classes.___\r\n",
        "# print classes selected\r\n",
        "classes"
      ],
      "outputs": [],
      "metadata": {
        "id": "0EeRZZWdLRPT"
      }
    },
    {
      "cell_type": "code",
      "execution_count": null,
      "source": [
        "# The number of instances we'll keep for each of our 3 digits:\r\n",
        "inst_class = 3\r\n",
        "\r\n",
        "\r\n",
        "# Loop to randomly sample the instances for each digit:\r\n",
        "for r in classes:\r\n",
        "    imgs = X_train[np.where(y_train==r)[0],:]\r\n",
        "    inputs.append(imgs[np.random.permutation(imgs.shape[0]),:][0:inst_class,:])\r\n",
        "    labels.append(np.ones(inst_class)*r)\r\n",
        "    \r\n",
        "# Shaping inputs and labels in the right format    \r\n",
        "X_train = np.vstack(inputs).astype(np.float64)\r\n",
        "y_train = np.hstack(labels)"
      ],
      "outputs": [],
      "metadata": {
        "id": "2M8R5NqKMB_M"
      }
    },
    {
      "cell_type": "markdown",
      "source": [
        "New Classes Distribution"
      ],
      "metadata": {
        "id": "_6-YHrQQMicy"
      }
    },
    {
      "cell_type": "code",
      "execution_count": null,
      "source": [
        "# new histogram"
      ],
      "outputs": [],
      "metadata": {
        "id": "RA300COaMxWm"
      }
    },
    {
      "cell_type": "code",
      "execution_count": null,
      "source": [
        "# plot digits\r\n",
        "def plot_digits(instances, images_per_row=5, **options):\r\n",
        "    size = 28\r\n",
        "    images_per_row = min(len(instances), images_per_row)\r\n",
        "    images = [instance.reshape(size,size) for instance in instances]\r\n",
        "    n_rows = (len(instances) - 1) // images_per_row + 1\r\n",
        "    row_images = []\r\n",
        "    n_empty = n_rows * images_per_row - len(instances)\r\n",
        "    images.append(np.zeros((size, size * n_empty)))\r\n",
        "    for row in range(n_rows):\r\n",
        "        rimages = images[row * images_per_row : (row + 1) * images_per_row]\r\n",
        "        row_images.append(np.concatenate(rimages, axis=1))\r\n",
        "    image = np.concatenate(row_images, axis=0)\r\n",
        "    plt.imshow(image,  cmap='gist_yarg', **options)\r\n",
        "    plt.axis(\"off\")"
      ],
      "outputs": [],
      "metadata": {
        "id": "eFgP4xugMvJm"
      }
    },
    {
      "cell_type": "code",
      "execution_count": null,
      "source": [
        "# Show a few instances from each Digit:\r\n",
        "plt.figure(figsize=(8,8))\r\n",
        "\r\n",
        "# Selecting a few label indices from each of the 3 classes to show:\r\n",
        "\r\n",
        "\r\n",
        "# Plotting 'original' image\r\n",
        "plot_digits(X_train[label_indices,:],images_per_row=9)\r\n",
        "plt.title(\"Original\", fontsize=14)"
      ],
      "outputs": [],
      "metadata": {
        "id": "zeEG-LGOM4fJ"
      }
    },
    {
      "cell_type": "markdown",
      "source": [
        "###  Splitting the Training data into both Training and Validation Sets:\n",
        "\n",
        "- Although this is the Training set, we can still set aside some samples (for instance 20%) of the 1,500 instances we have for Model Validation purposes.\n",
        "\n",
        "\n",
        "- With that Validation Set, we can then select the amount of Uncertainty we are happy with from our Model to use out of sample on other unseen data.\n",
        "\n",
        "\n",
        "- We can then test out how well our decision performs on the Test Set that we put aside earlier."
      ],
      "metadata": {
        "id": "FsAOnOcNNG_V"
      }
    },
    {
      "cell_type": "code",
      "execution_count": null,
      "source": [
        "### Split tha dataset in training and validation sets\r\n",
        "# choose the fraction of your validation data from the training set\r\n",
        "w = 0.20\r\n",
        "X_train, X_val, y_train, y_val = train_test_split(X_train, y_train, test_size=w, random_state=0)\r\n",
        " \r\n",
        "# Shuffling the training instaces around to randomize the order of inputs to the model:\r\n",
        "X_train, y_train = shuffle(X_train, y_train)"
      ],
      "outputs": [],
      "metadata": {
        "id": "YdsmyVAtPXNn"
      }
    },
    {
      "cell_type": "code",
      "execution_count": null,
      "source": [
        "# print shape of your validation and training set\r\n",
        "\r\n",
        "\r\n"
      ],
      "outputs": [],
      "metadata": {
        "id": "qXwJwP0iPxhi"
      }
    },
    {
      "cell_type": "markdown",
      "source": [
        "### Encoding the Class labels for the Probabilistic ML Model:\n",
        "\n",
        "This is an example:\n",
        "\n",
        "- **[1,0,0]** for first digit\n",
        "- **[0,1,0]** for second digit\n",
        "- **[0,0,1]** for third digit"
      ],
      "metadata": {
        "id": "aOroY1QoP8DY"
      }
    },
    {
      "cell_type": "markdown",
      "source": [
        "### General-Recipe ML"
      ],
      "metadata": {
        "id": "rjUaqWTqQIcp"
      }
    },
    {
      "cell_type": "code",
      "execution_count": null,
      "source": [
        "# model\r\n",
        "model_log = 3\r\n",
        "\r\n",
        "# Classification:\r\n",
        "y_pred_log = 3\r\n",
        "y_pred_logi_prob = model_log.predict_proba(X_val)\r\n",
        "\r\n",
        "# Maybe taking the maximum probability \r\n",
        "# in any of the classes for each observation\r\n",
        "\r\n",
        "\r\n",
        "# Computing the Accuracy:\r\n",
        "accuracy_score(y_pred_log, y_val)"
      ],
      "outputs": [],
      "metadata": {
        "id": "QzgdivxfQNv5"
      }
    },
    {
      "cell_type": "markdown",
      "source": [
        "### Probabilistic Multinomial Logistic Regression:"
      ],
      "metadata": {
        "id": "3uQG6JsOQxH5"
      }
    },
    {
      "cell_type": "code",
      "execution_count": null,
      "source": [],
      "outputs": [],
      "metadata": {
        "id": "W3jzczJzRAtT"
      }
    },
    {
      "cell_type": "markdown",
      "source": [
        "The Multinomial Logistic Regression has some parameters:\n",
        "\n",
        "- $\\alpha$, which is the intercept term:\n",
        "\n",
        "- $\\beta$, which is a vector of coefficients which give a weighting to the importance of each input feature:\n"
      ],
      "metadata": {
        "id": "irlmUNw7Q5YL"
      }
    },
    {
      "cell_type": "code",
      "execution_count": null,
      "source": [],
      "outputs": [],
      "metadata": {
        "id": "1o7mbKWmRhz5"
      }
    },
    {
      "cell_type": "code",
      "execution_count": null,
      "source": [],
      "outputs": [],
      "metadata": {
        "id": "aj6Uzc05Rhtr"
      }
    },
    {
      "cell_type": "code",
      "execution_count": null,
      "source": [],
      "outputs": [],
      "metadata": {
        "id": "2MFH4gwlRhrB"
      }
    },
    {
      "cell_type": "code",
      "execution_count": null,
      "source": [],
      "outputs": [],
      "metadata": {
        "id": "WNmJvYc4Rho7"
      }
    },
    {
      "cell_type": "code",
      "execution_count": null,
      "source": [],
      "outputs": [],
      "metadata": {
        "id": "XXh5GXJsRhmr"
      }
    },
    {
      "cell_type": "markdown",
      "source": [
        "## Summary"
      ],
      "metadata": {
        "id": "NcshsLOGRPrk"
      }
    },
    {
      "cell_type": "markdown",
      "source": [
        "Populate this section with all of your findings and comments fron the discussion with your peers."
      ],
      "metadata": {
        "id": "XTc4pYKGRR60"
      }
    }
  ]
}