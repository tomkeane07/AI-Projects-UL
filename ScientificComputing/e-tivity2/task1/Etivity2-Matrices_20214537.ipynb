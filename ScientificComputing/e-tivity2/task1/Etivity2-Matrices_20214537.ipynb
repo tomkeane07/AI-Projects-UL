{
 "cells": [
  {
   "cell_type": "markdown",
   "metadata": {},
   "source": [
    "Student Name:Tom Keane"
   ]
  },
  {
   "cell_type": "markdown",
   "metadata": {},
   "source": [
    "Student ID:20214537"
   ]
  },
  {
   "cell_type": "code",
   "execution_count": 2,
   "metadata": {},
   "outputs": [],
   "source": [
    "import csv"
   ]
  },
  {
   "cell_type": "code",
   "execution_count": 3,
   "metadata": {},
   "outputs": [],
   "source": [
    "#   Matrix class has two variables;\n",
    "#        value is a nested tuple containing the matrix' values\n",
    "#        dimens is a string like so: \"mXn\" where m & n are the matrix  dimension values\n",
    "#         size gives the dimensions as a tuple\n",
    "\n",
    "# Generally, most basic operations use A & B as the operands and C as the result,\n",
    "#  ie. A + B = C"
   ]
  },
  {
   "cell_type": "code",
   "execution_count": 4,
   "metadata": {},
   "outputs": [],
   "source": [
    "class Matrix:\n",
    "    def __init__(self, value=None):\n",
    "        if not value == None:\n",
    "            self.value = value\n",
    "            self.size = ( (len(value)), (len(value[0])) )\n",
    "            self.dimens = str(self.size[0])+'X' + str(self.size[1])\n",
    "    \n",
    "\n",
    "    def __add__(self,other):\n",
    "        if self.dimens != other.dimens:\n",
    "            raise Exception(\"add error\")\n",
    "            return\n",
    "        A = self.value\n",
    "        B = other.value\n",
    "        C = []\n",
    "        for i in range(len(A)):\n",
    "            C_i = []\n",
    "            for j in range(len(A[i])):\n",
    "                C_i.append(A[i][j] + B[i][j])\n",
    "            C.append(tuple(C_i))\n",
    "        return Matrix(tuple(C))\n",
    "    \n",
    "    def __sub__(self,other):\n",
    "        if self.dimens != other.dimens:\n",
    "            raise Exception(\"sub error\")\n",
    "            return\n",
    "        A = self.value\n",
    "        B = other.value\n",
    "        C = []\n",
    "        for i in range(len(A)):\n",
    "            C_i = []\n",
    "            for j in range(len(A[i])):\n",
    "                C_i.append(A[i][j] - B[i][j])\n",
    "            C.append(tuple(C_i))\n",
    "        return Matrix(tuple(C))\n",
    "\n",
    "    def __mul__(self,other):\n",
    "        A = self.value\n",
    "        C = []\n",
    "        if not isinstance(other, Matrix):\n",
    "            return self.scalarMultiplication(other)\n",
    "        \n",
    "        if not self.canMultiply(other):\n",
    "            raise Exception(\"mul error\")\n",
    "            return\n",
    "        B = other.value\n",
    "        for i in range(len(A)):\n",
    "            C_i = []\n",
    "            row = A[i]\n",
    "            for j in range(len(B[0])):\n",
    "                col = []\n",
    "                for ii in range(len(B)):\n",
    "                    col.append(B[ii][j])\n",
    "                C_i.append(self.dot(row,col))\n",
    "            C.append(tuple(C_i))\n",
    "        return Matrix(tuple(C))\n",
    "    \n",
    "    def __truediv__(self, other):\n",
    "        return self * other.getInverse()\n",
    "    \n",
    "    def scalarMultiplication(self, other):\n",
    "        A = self.value\n",
    "        C = []\n",
    "        for i in range(len(A)):\n",
    "            C_i = []\n",
    "            for j in range(len(A[0])):\n",
    "                C_i.append(other*A[i][j])\n",
    "            C.append(C_i)\n",
    "        return Matrix(C)\n",
    "\n",
    "\n",
    "    def __str__(self):\n",
    "        A = self.value\n",
    "        MatrixString = \"\"\n",
    "        for i in range(len(A)):\n",
    "            row = \"|\"\n",
    "            for j in range(len(A[0])):\n",
    "                row += \" \"+str(A[i][j])+\" \"\n",
    "            MatrixString += row + \"|\\n\"\n",
    "        return MatrixString\n",
    "\n",
    "    def dot(self, row, col):\n",
    "        product = 0\n",
    "        for i in range(len(row)):\n",
    "            product += row[i]*col[i]\n",
    "        return product\n",
    "    \n",
    "    def canMultiply(self, other):\n",
    "        selfdimens = self.dimens.split(\"X\")\n",
    "        otherdimens = other.dimens.split(\"X\")\n",
    "        if(selfdimens[1]!=otherdimens[0]):\n",
    "            return False\n",
    "        else:\n",
    "            return True\n",
    "\n",
    "    def getDeterminant(self):\n",
    "        A = list(self.value)\n",
    "        determinant = 0\n",
    "        if self.dimens==\"2X2\":\n",
    "            determinant = self.get2x2Determinant(A)\n",
    "            return determinant\n",
    "\n",
    "        for focusColumn in list(range(len(A))):\n",
    "            subMatrix = self.createSubMatrix(A, focusColumn)\n",
    "            sign = (-1)**(focusColumn%2)\n",
    "            subDeterminant = subMatrix.getDeterminant()\n",
    "            determinant += sign * subDeterminant * A[0][focusColumn]\n",
    "        return determinant\n",
    "\n",
    "    def getInverse(self):\n",
    "        if self.dimens == \"2X2\":\n",
    "            return self.get2x2Inverse()\n",
    "        detInv = self.getDeterminant()**-1\n",
    "        C = self.getMatrixOfMinors().applyMatrixOfCofactors().getTranspose()* detInv\n",
    "        return C     \n",
    "    \n",
    "    def get2x2Inverse(self):\n",
    "        A = self.value\n",
    "        detInv = self.getDeterminant()**-1\n",
    "        return Matrix( ((A[1][1],-A[0][1]),(-A[1][0],A[0][0])) ) * detInv\n",
    "\n",
    "    def getMatrixOfMinors(self):\n",
    "        if self.dimens==\"2X2\":\n",
    "            return self\n",
    "        matrixMinors = []\n",
    "        for i in range(len(self.value)):\n",
    "            rowMinors = []\n",
    "            for j in range(len(self.value[i])):\n",
    "                matrixMinor = self.getMatrixMinor(i, j)\n",
    "                rowMinors.append(matrixMinor.getDeterminant())\n",
    "            matrixMinors.append(rowMinors)\n",
    "        return Matrix(matrixMinors)\n",
    "\n",
    "    def getMatrixMinor(self, i, j):\n",
    "        m = self.value\n",
    "        return Matrix(tuple([row[:j] + row[j+1:] for row in (m[:i]+m[i+1:])]))\n",
    "    \n",
    "    def applyMatrixOfCofactors(self):\n",
    "        A = list(self.value)\n",
    "        C = []\n",
    "        for i in range(len(A)):\n",
    "            Ci = []\n",
    "            for j in range(len(A[i])):\n",
    "                sign = ((-1)**i)*((-1)**j)\n",
    "                Ci.append(sign*A[i][j])\n",
    "            C.append(Ci)\n",
    "        return Matrix(tuple(C))\n",
    "\n",
    "    def get2x2Determinant(self, A):\n",
    "        if self.dimens != \"2X2\":\n",
    "            raise Exception(\"not 2x2 matrix\")\n",
    "        return A[0][0] * A[1][1] - A[1][0] * A[0][1]\n",
    "\n",
    "    def createSubMatrix(self, A, focusColumn):\n",
    "        AReduced = A[1:]\n",
    "        for i in range(len(AReduced)): \n",
    "            AReduced[i] = AReduced[i][0:focusColumn] + AReduced[i][focusColumn+1:]\n",
    "        return Matrix(AReduced)\n",
    "    \n",
    "    def getTranspose(self):\n",
    "        A = self.value\n",
    "        ATranspose = []\n",
    "        for i in range(len(A[0])):\n",
    "            ATRow = []\n",
    "            for j in range(len(A)):\n",
    "                ATRow.append(A[j][i])\n",
    "            ATranspose.append(ATRow)\n",
    "\n",
    "        return Matrix(ATranspose)\n",
    "    \n",
    "    def addMatrixToCsv(self):\n",
    "        M = self.value\n",
    "        with open('matrix.csv', mode='w') as matrix:\n",
    "            writer = csv.writer(matrix, quoting=csv.QUOTE_ALL, lineterminator = '\\n')\n",
    "            for row in M:\n",
    "                writer.writerow(row)\n",
    "    \n",
    "    def setMatrixFromCSV(self, csv_file_path):\n",
    "        M = []\n",
    "        with open(csv_file_path) as matrix:\n",
    "            reader = csv.reader(matrix, delimiter=\",\")\n",
    "            for row in reader:\n",
    "                MRow = []\n",
    "                for val in row:\n",
    "                    MRow.append(int(val))\n",
    "                M.append(MRow)\n",
    "        self.value = tuple(M)\n",
    "        return self"
   ]
  },
  {
   "cell_type": "code",
   "execution_count": 5,
   "metadata": {
    "tags": []
   },
   "outputs": [],
   "source": [
    "def TestGroupI2x2():\n",
    "    tuple2x2a = ((1,1),(1,1))\n",
    "    m2x2a = Matrix(tuple2x2a)\n",
    "    print(\"size:\"+str(m2x2a.size)+\"\\n\")\n",
    "    print(\"Arithmetic Tests\")\n",
    "\n",
    "    print(str(m2x2a)+\"  PLUS \\n\"+str(m2x2a)+\"  EQUALS \")\n",
    "    m2x2b = m2x2a + m2x2a\n",
    "    print(str(m2x2b))\n",
    "    print(\"\\n\")\n",
    "    \n",
    "    print(str(m2x2b)+\"  MINUS\\n\"+str(m2x2a)+\"  EQUALS\")\n",
    "    print(str(m2x2b - m2x2a))\n",
    "    print(\"\\n\\n\")\n",
    "\n",
    "    print(str(m2x2b)+\"  TIMES\\n\"+str(m2x2a)+\"  EQUALS\")\n",
    "    print(str(m2x2b * m2x2a))\n",
    "    print(\"\\n\\n\")\n",
    "\n",
    "    vector = Matrix(((2,),(2,)))\n",
    "    print(str(m2x2b)+\"  TIMES\\n\"+str(vector)+\"  EQUALS\")\n",
    "    print(str(m2x2b * vector))\n",
    "    print(\"\\n\\n\")\n",
    "\n",
    "    tuple2x2C = ((4,7),(2,6))\n",
    "    m2x2C = Matrix(tuple2x2C)\n",
    "    print(str(m2x2C)+\"  DIVIDED BY\\n\"+str(m2x2C)+\"  EQUALS\")\n",
    "    print(str(m2x2C / m2x2C))\n"
   ]
  },
  {
   "cell_type": "code",
   "execution_count": 6,
   "metadata": {
    "tags": []
   },
   "outputs": [
    {
     "output_type": "stream",
     "name": "stdout",
     "text": "size:(2, 2)\n\nArithmetic Tests\n| 1  1 |\n| 1  1 |\n  PLUS \n| 1  1 |\n| 1  1 |\n  EQUALS \n| 2  2 |\n| 2  2 |\n\n\n\n| 2  2 |\n| 2  2 |\n  MINUS\n| 1  1 |\n| 1  1 |\n  EQUALS\n| 1  1 |\n| 1  1 |\n\n\n\n\n| 2  2 |\n| 2  2 |\n  TIMES\n| 1  1 |\n| 1  1 |\n  EQUALS\n| 4  4 |\n| 4  4 |\n\n\n\n\n| 2  2 |\n| 2  2 |\n  TIMES\n| 2 |\n| 2 |\n  EQUALS\n| 8 |\n| 8 |\n\n\n\n\n| 4  7 |\n| 2  6 |\n  DIVIDED BY\n| 4  7 |\n| 2  6 |\n  EQUALS\n| 1.0000000000000002  0.0 |\n| 0.0  1.0000000000000002 |\n\n"
    }
   ],
   "source": [
    "TestGroupI2x2()"
   ]
  },
  {
   "cell_type": "code",
   "execution_count": 7,
   "metadata": {
    "tags": []
   },
   "outputs": [],
   "source": [
    "def testGroupI3x3():\n",
    "\n",
    "    tuple3x3a = ((1,1,1),(1,1,1),(1,1,1))\n",
    "    print(\"Arithmetic Tests\")\n",
    "    m3x3a = Matrix(tuple3x3a)\n",
    "\n",
    "    print(str(m3x3a)+\"  PLUS \\n\"+str(m3x3a)+\"  EQUALS \")\n",
    "    m3x3b = m3x3a + m3x3a\n",
    "    print(str(m3x3b))\n",
    "    print(\"\\n\\n\")\n",
    "    \n",
    "    print(str(m3x3b)+\"  MINUS\\n\"+str(m3x3a)+\"  EQUALS\")\n",
    "    print(str(m3x3b - m3x3a))\n",
    "    print(\"\\n\\n\")\n",
    "\n",
    "    print(str(m3x3b)+\"  TIMES\\n\"+str(m3x3a)+\"  EQUALS\")\n",
    "    print(str(m3x3b * m3x3a))\n",
    "    print(\"\\n\\n\")\n",
    "\n",
    "    vector = (Matrix(((2,),(2,),(2,))))\n",
    "    print(str(m3x3b)+\"  TIMES\\n\"+str(vector)+\"  EQUALS\")\n",
    "    print(str(m3x3b * vector)) \n",
    "    print(\"\\n\\n\")\n",
    "\n",
    "    tuple3x3c = ((3,0,2),(2,0,-2),(0,1,1))\n",
    "    m3x3c = Matrix(tuple3x3c)\n",
    "    print(str(m3x3c)+\"  DIVIDED BY\\n\"+str(m3x3c)+\"  EQUALS\")\n",
    "    print(str(m3x3c/m3x3c))\n",
    "    print(\"\\n\\n\")   "
   ]
  },
  {
   "cell_type": "code",
   "execution_count": 8,
   "metadata": {
    "tags": []
   },
   "outputs": [
    {
     "output_type": "stream",
     "name": "stdout",
     "text": "Arithmetic Tests\n| 1  1  1 |\n| 1  1  1 |\n| 1  1  1 |\n  PLUS \n| 1  1  1 |\n| 1  1  1 |\n| 1  1  1 |\n  EQUALS \n| 2  2  2 |\n| 2  2  2 |\n| 2  2  2 |\n\n\n\n\n| 2  2  2 |\n| 2  2  2 |\n| 2  2  2 |\n  MINUS\n| 1  1  1 |\n| 1  1  1 |\n| 1  1  1 |\n  EQUALS\n| 1  1  1 |\n| 1  1  1 |\n| 1  1  1 |\n\n\n\n\n| 2  2  2 |\n| 2  2  2 |\n| 2  2  2 |\n  TIMES\n| 1  1  1 |\n| 1  1  1 |\n| 1  1  1 |\n  EQUALS\n| 6  6  6 |\n| 6  6  6 |\n| 6  6  6 |\n\n\n\n\n| 2  2  2 |\n| 2  2  2 |\n| 2  2  2 |\n  TIMES\n| 2 |\n| 2 |\n| 2 |\n  EQUALS\n| 12 |\n| 12 |\n| 12 |\n\n\n\n\n| 3  0  2 |\n| 2  0  -2 |\n| 0  1  1 |\n  DIVIDED BY\n| 3  0  2 |\n| 2  0  -2 |\n| 0  1  1 |\n  EQUALS\n| 1.0  0.0  0.0 |\n| 0.0  1.0  0.0 |\n| 0.0  0.0  1.0 |\n\n\n\n\n"
    }
   ],
   "source": [
    "testGroupI3x3()"
   ]
  },
  {
   "cell_type": "code",
   "execution_count": 9,
   "metadata": {},
   "outputs": [],
   "source": [
    "def testGroupII2x2():\n",
    "    tuple2x2a = ((1,3),(-3,-1))\n",
    "    m2x2a = Matrix(tuple2x2a)\n",
    "\n",
    "    (\"COMPLEX MATRIX OPERATIONS\")\n",
    "    print(\"DET\\n\"+str(m2x2a)+\"  EQUALS\\n\")\n",
    "    print(str(m2x2a.getDeterminant()))\n",
    "    print(\"\\n\\n\")\n",
    "\n",
    "\n",
    "    tuple2x2b = ((4,7),(2,6))\n",
    "    m2x2b = Matrix(tuple2x2b)\n",
    "\n",
    "    print(\"ADJUGATE/ TRANSPOSE\\n\"+str(m2x2b)+\"  EQUALS\\n\")\n",
    "    m2x2c = m2x2b.getTranspose()\n",
    "    print(m2x2c)\n",
    "    \n",
    "    detm2x2b = m2x2b.getDeterminant()\n",
    "    print(\"DET OF\\n\"+str(m2x2b)+\"  EQUALS\")\n",
    "    print(detm2x2b)\n",
    "    print(\"\\n\")\n",
    "\n",
    "\n",
    "    print(\"INVERSE OF\\n\"+str(m2x2b)+\"  EQUALS\\n\")\n",
    "    m2x2c = m2x2b.getInverse()\n",
    "    print(m2x2c)\n",
    "    print(\"see eg. at\")\n",
    "    print(\"https://www.mathsisfun.com/algebra/matrix-inverse-minors-cofactors-adjugate.html\")\n",
    "    print(\"\\n\")\n"
   ]
  },
  {
   "cell_type": "code",
   "execution_count": 10,
   "metadata": {
    "tags": []
   },
   "outputs": [
    {
     "output_type": "stream",
     "name": "stdout",
     "text": "DET\n| 1  3 |\n| -3  -1 |\n  EQUALS\n\n8\n\n\n\nADJUGATE/ TRANSPOSE\n| 4  7 |\n| 2  6 |\n  EQUALS\n\n| 4  2 |\n| 7  6 |\n\nDET OF\n| 4  7 |\n| 2  6 |\n  EQUALS\n10\n\n\nINVERSE OF\n| 4  7 |\n| 2  6 |\n  EQUALS\n\n| 0.6000000000000001  -0.7000000000000001 |\n| -0.2  0.4 |\n\nsee eg. at\nhttps://www.mathsisfun.com/algebra/matrix-inverse-minors-cofactors-adjugate.html\n\n\n"
    }
   ],
   "source": [
    "testGroupII2x2()"
   ]
  },
  {
   "cell_type": "code",
   "execution_count": 11,
   "metadata": {
    "tags": []
   },
   "outputs": [],
   "source": [
    "def testGroupII3x3():\n",
    "    tuple3x3a = ((1,3,2),(-3,-1,-3),(2,3,1))\n",
    "    m3x3a = Matrix(tuple3x3a)\n",
    "\n",
    "    (\"COMPLEX MATRIX OPERATIONS\")\n",
    "    print(\"DET\\n\"+str(m3x3a)+\"  EQUALS\\n\")\n",
    "    print(str(m3x3a.getDeterminant()))\n",
    "    print(\"\\n\\n\")\n",
    "\n",
    "\n",
    "    tuple3x3b = ((3,0,2),(2,0,-2),(0,1,1))\n",
    "    m3x3b = Matrix(tuple3x3b)\n",
    "\n",
    "    print(\"finding inverse of\\n\"+str(m3x3b))\n",
    "    print(\"........................\\n\")\n",
    "\n",
    "    print(\"M OF MINORS\\n\")\n",
    "    m3x3c = m3x3b.getMatrixOfMinors()\n",
    "    print(m3x3c)\n",
    "\n",
    "    print(\"APPLY MATRIX OF COFACTORS\\n\")\n",
    "    m3x3c = m3x3c.applyMatrixOfCofactors()\n",
    "    print(str(m3x3c))\n",
    "\n",
    "    print(\"ADJUGATE/ TRANSPOSE\\n\")\n",
    "    m3x3c = m3x3c.getTranspose()\n",
    "    print(m3x3c)\n",
    "    \n",
    "    detm3x3b = m3x3b.getDeterminant()\n",
    "    print(\"DET OF\\n\"+str(m3x3b)+\"  EQUALS\")\n",
    "    print(detm3x3b)\n",
    "    print(\"\\n\")\n",
    "\n",
    "    print(str(m3x3c)+\"  DIVIDED BY\\n\"+  str(detm3x3b)+\"\\n  EQUALS\\n\")\n",
    "    m3x3c = m3x3c*(detm3x3b)**-1\n",
    "    print(m3x3c)\n",
    "    print(\"\\n\")\n",
    "    print(\"........................\\n\")\n",
    "\n",
    "    print(\"INVERSE OF\\n\"+str(m3x3b)+\"  EQUALS\\n\")\n",
    "    m3x3c = m3x3b.getInverse()\n",
    "    print(m3x3c)\n",
    "    print(\"see eg. at\")\n",
    "    print(\"https://www.mathsisfun.com/algebra/matrix-inverse-minors-cofactors-adjugate.html\")\n",
    "    print(\"\\n\")\n"
   ]
  },
  {
   "cell_type": "code",
   "execution_count": 12,
   "metadata": {
    "tags": []
   },
   "outputs": [
    {
     "output_type": "stream",
     "name": "stdout",
     "text": "DET\n| 1  3  2 |\n| -3  -1  -3 |\n| 2  3  1 |\n  EQUALS\n\n-15\n\n\n\nfinding inverse of\n| 3  0  2 |\n| 2  0  -2 |\n| 0  1  1 |\n\n........................\n\nM OF MINORS\n\n| 2  2  2 |\n| -2  3  3 |\n| 0  -10  0 |\n\nAPPLY MATRIX OF COFACTORS\n\n| 2  -2  2 |\n| 2  3  -3 |\n| 0  10  0 |\n\nADJUGATE/ TRANSPOSE\n\n| 2  2  0 |\n| -2  3  10 |\n| 2  -3  0 |\n\nDET OF\n| 3  0  2 |\n| 2  0  -2 |\n| 0  1  1 |\n  EQUALS\n10\n\n\n| 2  2  0 |\n| -2  3  10 |\n| 2  -3  0 |\n  DIVIDED BY\n10\n  EQUALS\n\n| 0.2  0.2  0.0 |\n| -0.2  0.30000000000000004  1.0 |\n| 0.2  -0.30000000000000004  0.0 |\n\n\n\n........................\n\nINVERSE OF\n| 3  0  2 |\n| 2  0  -2 |\n| 0  1  1 |\n  EQUALS\n\n| 0.2  0.2  0.0 |\n| -0.2  0.30000000000000004  1.0 |\n| 0.2  -0.30000000000000004  0.0 |\n\nsee eg. at\nhttps://www.mathsisfun.com/algebra/matrix-inverse-minors-cofactors-adjugate.html\n\n\n"
    }
   ],
   "source": [
    "testGroupII3x3()"
   ]
  },
  {
   "cell_type": "code",
   "execution_count": 13,
   "metadata": {},
   "outputs": [],
   "source": [
    "def testGroupIII():\n",
    "    tuple3x3a = ((1,1,1),(1,1,1),(1,1,1))\n",
    "    print(\"CSV TESTS\")\n",
    "    m3x3a = Matrix(tuple3x3a)\n",
    "\n",
    "    print(\"Writing CSV\")\n",
    "    m3x3a.addMatrixToCsv()\n",
    "    print('Reading CSV')\n",
    "    print(Matrix().setMatrixFromCSV('matrix.csv'))"
   ]
  },
  {
   "cell_type": "code",
   "execution_count": 14,
   "metadata": {
    "tags": []
   },
   "outputs": [
    {
     "output_type": "stream",
     "name": "stdout",
     "text": "CSV TESTS\nWriting CSV\nReading CSV\n| 1  1  1 |\n| 1  1  1 |\n| 1  1  1 |\n\n"
    }
   ],
   "source": [
    "testGroupIII()"
   ]
  },
  {
   "cell_type": "code",
   "execution_count": 15,
   "metadata": {
    "tags": []
   },
   "outputs": [
    {
     "output_type": "stream",
     "name": "stdout",
     "text": "| -17  -11  4 |\n| 0  -4  0 |\n| 25  -5  20 |\n\n"
    }
   ],
   "source": [
    "A = ((3,-1,-2),(-1,2,-2),(0,3,4))\n",
    "B = ((-2,-4,4),(3,-3,4),(4,1,2))\n",
    "a = Matrix(A)\n",
    "b = Matrix(B)\n",
    "print(a*b)"
   ]
  },
  {
   "cell_type": "code",
   "execution_count": null,
   "metadata": {},
   "outputs": [],
   "source": []
  }
 ],
 "metadata": {
  "kernelspec": {
   "name": "Python 3.8.0 32-bit",
   "display_name": "Python 3.8.0 32-bit",
   "metadata": {
    "interpreter": {
     "hash": "463e63e35f7cb34f5d88b04eaa9b3a16ac2b5692d43f0849e4b981ac2cc93bdc"
    }
   }
  },
  "language_info": {
   "codemirror_mode": {
    "name": "ipython",
    "version": 3
   },
   "file_extension": ".py",
   "mimetype": "text/x-python",
   "name": "python",
   "nbconvert_exporter": "python",
   "pygments_lexer": "ipython3",
   "version": "3.8.0-final"
  }
 },
 "nbformat": 4,
 "nbformat_minor": 2
}