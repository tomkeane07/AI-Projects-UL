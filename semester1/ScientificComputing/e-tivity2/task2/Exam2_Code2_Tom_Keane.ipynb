{
 "metadata": {
  "language_info": {
   "codemirror_mode": {
    "name": "ipython",
    "version": 3
   },
   "file_extension": ".py",
   "mimetype": "text/x-python",
   "name": "python",
   "nbconvert_exporter": "python",
   "pygments_lexer": "ipython3",
   "version": "3.8.0-final"
  },
  "orig_nbformat": 2,
  "kernelspec": {
   "name": "Python 3.8.0 32-bit",
   "display_name": "Python 3.8.0 32-bit",
   "metadata": {
    "interpreter": {
     "hash": "463e63e35f7cb34f5d88b04eaa9b3a16ac2b5692d43f0849e4b981ac2cc93bdc"
    }
   }
  }
 },
 "nbformat": 4,
 "nbformat_minor": 2,
 "cells": [
  {
   "cell_type": "code",
   "execution_count": 2,
   "metadata": {},
   "outputs": [],
   "source": [
    "def getCol(M, i):\n",
    "    if i > len(M[0]):\n",
    "        raise Exception(\"out of bounds\")\n",
    "    else:\n",
    "        C = []\n",
    "        for x in range(len(M)):\n",
    "            C.append(M[x][i])\n",
    "        return C"
   ]
  },
  {
   "cell_type": "code",
   "execution_count": 3,
   "metadata": {
    "tags": []
   },
   "outputs": [
    {
     "output_type": "stream",
     "name": "stdout",
     "text": "[2, 2, 2, 2]\n"
    }
   ],
   "source": [
    "mi = [1,2,3,4]\n",
    "M = [mi,mi,mi,mi]\n",
    "\n",
    "print(getCol(M,1))"
   ]
  },
  {
   "cell_type": "code",
   "execution_count": null,
   "metadata": {},
   "outputs": [],
   "source": []
  }
 ]
}