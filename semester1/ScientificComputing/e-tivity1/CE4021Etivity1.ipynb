{
 "cells": [
  {
   "cell_type": "markdown",
   "metadata": {},
   "source": [
    "Your name: Tom Keane"
   ]
  },
  {
   "cell_type": "markdown",
   "metadata": {},
   "source": [
    "Your ID number: 20215437"
   ]
  },
  {
   "cell_type": "code",
   "execution_count": 7,
   "metadata": {},
   "outputs": [],
   "source": [
    "def makePolyTermString(coefficient, exponent):\n",
    "    if coefficient == 0:\n",
    "        return \"\"\n",
    "    if exponent > 1:\n",
    "        return str(coefficient) + \"x^\" + str(exponent)\n",
    "    if exponent ==1:\n",
    "        return str(coefficient) + \"x\""
   ]
  },
  {
   "cell_type": "code",
   "execution_count": 8,
   "metadata": {},
   "outputs": [],
   "source": [
    "def makePolynomialPretty(polynomialAsList):\n",
    "    polynomialAsString = \"\"\n",
    "    coefficient = 0\n",
    "    degreeOfPolynomial = len(polynomialAsList)-1\n",
    "    for i in range(degreeOfPolynomial-1,-1,-1):\n",
    "        sign = \" + \" if coefficient>=0 else \" - \"\n",
    "        coefficient = polynomialAsList[i]\n",
    "        exponent = degreeOfPolynomial - i\n",
    "        if coefficient != 0:\n",
    "            polynomialAsString = makePolyTermString(abs(coefficient), exponent)+ sign + polynomialAsString\n",
    "\n",
    "    if polynomialAsList[-1]!=0:\n",
    "        polynomialAsString += str(polynomialAsList[-1])\n",
    "    else:\n",
    "        polynomialAsString = polynomialAsString[:-3]\n",
    "    if polynomialAsList[0]<0:\n",
    "        polynomialAsString = \"-\"+polynomialAsString\n",
    "    return polynomialAsString"
   ]
  },
  {
   "cell_type": "code",
   "execution_count": 9,
   "metadata": {},
   "outputs": [],
   "source": [
    "def differentiatePolynomial(polynomialAsList):\n",
    "    \"\"\"STEP 1: takes in polynomial as list, returns derivative as list\"\"\"\n",
    "    diffedPolynomialAsList = []\n",
    "    degreeOfPolynomial = len(polynomialAsList)-1\n",
    "    for i in range(degreeOfPolynomial,0,-1):\n",
    "        coeficient = polynomialAsList[degreeOfPolynomial-i]\n",
    "        power = i\n",
    "        diffedPolynomialAsList.append(coeficient*(power))\n",
    "    return diffedPolynomialAsList"
   ]
  },
  {
   "cell_type": "code",
   "execution_count": 10,
   "metadata": {},
   "outputs": [],
   "source": [
    "def getDerivative(polynomialAsList, value):\n",
    "    \"STEP 2: takes in polynomial as list, returns derivative for value\"\n",
    "    polynomialAsString = makePolynomialPretty(polynomialAsList)\n",
    "    \n",
    "    derivative = 0\n",
    "    diffedPolynomialAsList = differentiatePolynomial(polynomialAsList)\n",
    "    for i in range(len(diffedPolynomialAsList)):\n",
    "        coefficient = diffedPolynomialAsList[i]\n",
    "        power = len(diffedPolynomialAsList)-i-1\n",
    "        derivative += coefficient*value**power\n",
    "    return derivative\n"
   ]
  },
  {
   "cell_type": "code",
   "execution_count": 11,
   "metadata": {},
   "outputs": [],
   "source": [
    "def differentiatePolynomials(polysAsLists):\n",
    "    diffedPolys = []\n",
    "    for p in polysAsLists:\n",
    "        print(p)\n",
    "        pAsString = makePolynomialPretty(p)\n",
    "        print(\"calc [d/dx][\"+pAsString+\"] \\n...\")\n",
    "        \n",
    "        diffedPoly = differentiatePolynomial(p)\n",
    "        print(makePolynomialPretty(diffedPoly))\n",
    "        print(str(diffedPoly)+\"\\n\")\n",
    "        \n",
    "        diffedPolys += diffedPoly      \n",
    "    return diffedPolys\n",
    "\n",
    "def getDerivatives(polysAsLists, value):\n",
    "    derivatives = []\n",
    "    for p in polysAsLists:\n",
    "        print(p)\n",
    "        pAsString = makePolynomialPretty(p)\n",
    "        print(\"calc [d/dx][\"+pAsString+\"] at x=\"+str(value)+\"\\n...\")\n",
    "        \n",
    "        derivative = getDerivative(p, value)\n",
    "        print(str(derivative)+\"\\n\")\n",
    "        \n",
    "        derivatives.append(derivative)\n",
    "    return derivatives\n",
    "\n",
    "def RunTestCases():\n",
    "    polys = [\n",
    "        [2,1,0],\n",
    "        [-6,0,-50,-10,-11,5,0],\n",
    "        [1,0,1,0,1,0,1,0,1,0,1]\n",
    "    ]\n",
    "    \n",
    "    print(\"testing differentiatePolynomial\")\n",
    "    differentiatePolynomials(polys)\n",
    "    print(\"\\n\\ntesting getDerivative\")\n",
    "    getDerivatives(polys, 2)\n",
    "    print(\"\\n\\n\")"
   ]
  },
  {
   "cell_type": "code",
   "execution_count": 12,
   "metadata": {},
   "outputs": [
    {
     "output_type": "stream",
     "name": "stdout",
     "text": [
      "testing differentiatePolynomial\n[2, 1, 0]\ncalc [d/dx][2x^2 + 1x] \n...\n4x + 1\n[4, 1]\n\n[-6, 0, -50, -10, -11, 5, 0]\ncalc [d/dx][-6x^6 + 50x^4 - 10x^3 - 11x^2 + 5x] \n...\n-36x^5 + 200x^3 - 30x^2 - 22x + 5\n[-36, 0, -200, -30, -22, 5]\n\n[1, 0, 1, 0, 1, 0, 1, 0, 1, 0, 1]\ncalc [d/dx][1x^10 + 1x^8 + 1x^6 + 1x^4 + 1x^2 + 1] \n...\n10x^9 + 8x^7 + 6x^5 + 4x^3 + 2x\n[10, 0, 8, 0, 6, 0, 4, 0, 2, 0]\n\n\n\ntesting getDerivative\n[2, 1, 0]\ncalc [d/dx][2x^2 + 1x] at x=2\n...\n9\n\n[-6, 0, -50, -10, -11, 5, 0]\ncalc [d/dx][-6x^6 + 50x^4 - 10x^3 - 11x^2 + 5x] at x=2\n...\n-2911\n\n[1, 0, 1, 0, 1, 0, 1, 0, 1, 0, 1]\ncalc [d/dx][1x^10 + 1x^8 + 1x^6 + 1x^4 + 1x^2 + 1] at x=2\n...\n6372\n\n\n\n\n"
     ]
    }
   ],
   "source": [
    "RunTestCases()"
   ]
  },
  {
   "cell_type": "code",
   "execution_count": null,
   "metadata": {},
   "outputs": [],
   "source": []
  },
  {
   "cell_type": "code",
   "execution_count": null,
   "metadata": {},
   "outputs": [],
   "source": []
  }
 ],
 "metadata": {
  "kernelspec": {
   "display_name": "Python 3",
   "language": "python",
   "name": "python3"
  },
  "language_info": {
   "codemirror_mode": {
    "name": "ipython",
    "version": 3
   },
   "file_extension": ".py",
   "mimetype": "text/x-python",
   "name": "python",
   "nbconvert_exporter": "python",
   "pygments_lexer": "ipython3",
   "version": "3.8.6-final"
  }
 },
 "nbformat": 4,
 "nbformat_minor": 2
}